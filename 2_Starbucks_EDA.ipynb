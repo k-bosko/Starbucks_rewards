{
 "cells": [
  {
   "cell_type": "markdown",
   "metadata": {},
   "source": [
    "# Target Audience for Direct Marketing in Starbucks Rewards Mobile App"
   ]
  },
  {
   "cell_type": "markdown",
   "metadata": {},
   "source": [
    "This is part 2 of Starbucks capstone project. In this part, I perform exploratory data analysis (EDA).\n",
    "\n",
    "See `1_Starbucks_cleaning.ipynb` and `3_Starbucks_modeling.ipynb` for more information on other steps."
   ]
  },
  {
   "cell_type": "code",
   "execution_count": 1,
   "metadata": {},
   "outputs": [],
   "source": [
    "import pandas as pd\n",
    "import numpy as np\n",
    "import matplotlib.pyplot as plt\n",
    "import seaborn as sns\n",
    "from pandas.io.json import json_normalize\n",
    "%matplotlib inline\n",
    "\n",
    "from pandas.plotting import register_matplotlib_converters\n",
    "register_matplotlib_converters()"
   ]
  },
  {
   "cell_type": "code",
   "execution_count": 2,
   "metadata": {},
   "outputs": [],
   "source": [
    "customers = pd.read_csv('data/starbucks_customer_level.csv', sep=';', parse_dates=['became_member_on'])\n",
    "offers = pd.read_csv('data/starbucks_offer_level.csv', sep=';')\n",
    "transcript = pd.read_json('data/transcript.json', orient='records', lines=True)\n",
    "profile = pd.read_json('data/profile.json', orient='records', lines=True)\n",
    "profile.became_member_on = pd.to_datetime(profile.became_member_on.astype(str), format=\"%Y/%m/%d\")"
   ]
  },
  {
   "cell_type": "markdown",
   "metadata": {},
   "source": [
    "## Customer's Profile"
   ]
  },
  {
   "cell_type": "code",
   "execution_count": 3,
   "metadata": {},
   "outputs": [
    {
     "data": {
      "text/html": [
       "<div>\n",
       "<style scoped>\n",
       "    .dataframe tbody tr th:only-of-type {\n",
       "        vertical-align: middle;\n",
       "    }\n",
       "\n",
       "    .dataframe tbody tr th {\n",
       "        vertical-align: top;\n",
       "    }\n",
       "\n",
       "    .dataframe thead th {\n",
       "        text-align: right;\n",
       "    }\n",
       "</style>\n",
       "<table border=\"1\" class=\"dataframe\">\n",
       "  <thead>\n",
       "    <tr style=\"text-align: right;\">\n",
       "      <th></th>\n",
       "      <th>gender</th>\n",
       "      <th>age</th>\n",
       "      <th>person</th>\n",
       "      <th>became_member_on</th>\n",
       "      <th>income</th>\n",
       "      <th>total_amount</th>\n",
       "      <th>total_rewarded</th>\n",
       "      <th>transactions_num</th>\n",
       "      <th>offers_received</th>\n",
       "      <th>offers_viewed</th>\n",
       "      <th>...</th>\n",
       "      <th>avg_reward_size</th>\n",
       "      <th>avg_bogo_size</th>\n",
       "      <th>avg_discount_size</th>\n",
       "      <th>offers_rr</th>\n",
       "      <th>offers_cvr</th>\n",
       "      <th>bogo_rr</th>\n",
       "      <th>bogo_cvr</th>\n",
       "      <th>discount_rr</th>\n",
       "      <th>discount_cvr</th>\n",
       "      <th>informational_rr</th>\n",
       "    </tr>\n",
       "  </thead>\n",
       "  <tbody>\n",
       "    <tr>\n",
       "      <th>0</th>\n",
       "      <td>NaN</td>\n",
       "      <td>NaN</td>\n",
       "      <td>68be06ca386d4c31939f3a4f0e3dd783</td>\n",
       "      <td>2017-01-01</td>\n",
       "      <td>NaN</td>\n",
       "      <td>20.40</td>\n",
       "      <td>5.0</td>\n",
       "      <td>9</td>\n",
       "      <td>5.0</td>\n",
       "      <td>5.0</td>\n",
       "      <td>...</td>\n",
       "      <td>2.5</td>\n",
       "      <td>0.0</td>\n",
       "      <td>2.5</td>\n",
       "      <td>100.0</td>\n",
       "      <td>40.0</td>\n",
       "      <td>0.0</td>\n",
       "      <td>0.00</td>\n",
       "      <td>100.00</td>\n",
       "      <td>40.0</td>\n",
       "      <td>0.0</td>\n",
       "    </tr>\n",
       "    <tr>\n",
       "      <th>1</th>\n",
       "      <td>F</td>\n",
       "      <td>55.0</td>\n",
       "      <td>0610b486422d4921ae7d2bf64640c50b</td>\n",
       "      <td>2017-01-01</td>\n",
       "      <td>112000.0</td>\n",
       "      <td>77.01</td>\n",
       "      <td>0.0</td>\n",
       "      <td>3</td>\n",
       "      <td>2.0</td>\n",
       "      <td>0.0</td>\n",
       "      <td>...</td>\n",
       "      <td>0.0</td>\n",
       "      <td>0.0</td>\n",
       "      <td>0.0</td>\n",
       "      <td>0.0</td>\n",
       "      <td>0.0</td>\n",
       "      <td>0.0</td>\n",
       "      <td>0.00</td>\n",
       "      <td>0.00</td>\n",
       "      <td>0.0</td>\n",
       "      <td>0.0</td>\n",
       "    </tr>\n",
       "    <tr>\n",
       "      <th>2</th>\n",
       "      <td>NaN</td>\n",
       "      <td>NaN</td>\n",
       "      <td>38fe809add3b4fcf9315a9694bb96ff5</td>\n",
       "      <td>2018-01-01</td>\n",
       "      <td>NaN</td>\n",
       "      <td>14.30</td>\n",
       "      <td>0.0</td>\n",
       "      <td>6</td>\n",
       "      <td>2.0</td>\n",
       "      <td>1.0</td>\n",
       "      <td>...</td>\n",
       "      <td>0.0</td>\n",
       "      <td>0.0</td>\n",
       "      <td>0.0</td>\n",
       "      <td>50.0</td>\n",
       "      <td>0.0</td>\n",
       "      <td>100.0</td>\n",
       "      <td>0.00</td>\n",
       "      <td>0.00</td>\n",
       "      <td>0.0</td>\n",
       "      <td>0.0</td>\n",
       "    </tr>\n",
       "    <tr>\n",
       "      <th>3</th>\n",
       "      <td>F</td>\n",
       "      <td>75.0</td>\n",
       "      <td>78afa995795e4d85b5d9ceeca43f5fef</td>\n",
       "      <td>2017-01-01</td>\n",
       "      <td>100000.0</td>\n",
       "      <td>159.27</td>\n",
       "      <td>15.0</td>\n",
       "      <td>7</td>\n",
       "      <td>4.0</td>\n",
       "      <td>4.0</td>\n",
       "      <td>...</td>\n",
       "      <td>7.5</td>\n",
       "      <td>7.5</td>\n",
       "      <td>0.0</td>\n",
       "      <td>100.0</td>\n",
       "      <td>50.0</td>\n",
       "      <td>100.0</td>\n",
       "      <td>66.67</td>\n",
       "      <td>0.00</td>\n",
       "      <td>0.0</td>\n",
       "      <td>100.0</td>\n",
       "    </tr>\n",
       "    <tr>\n",
       "      <th>4</th>\n",
       "      <td>NaN</td>\n",
       "      <td>NaN</td>\n",
       "      <td>a03223e636434f42ac4c3df47e8bac43</td>\n",
       "      <td>2017-01-01</td>\n",
       "      <td>NaN</td>\n",
       "      <td>4.65</td>\n",
       "      <td>0.0</td>\n",
       "      <td>3</td>\n",
       "      <td>5.0</td>\n",
       "      <td>3.0</td>\n",
       "      <td>...</td>\n",
       "      <td>0.0</td>\n",
       "      <td>0.0</td>\n",
       "      <td>0.0</td>\n",
       "      <td>60.0</td>\n",
       "      <td>0.0</td>\n",
       "      <td>0.0</td>\n",
       "      <td>0.00</td>\n",
       "      <td>66.67</td>\n",
       "      <td>0.0</td>\n",
       "      <td>50.0</td>\n",
       "    </tr>\n",
       "  </tbody>\n",
       "</table>\n",
       "<p>5 rows × 32 columns</p>\n",
       "</div>"
      ],
      "text/plain": [
       "  gender   age                            person became_member_on    income  \\\n",
       "0    NaN   NaN  68be06ca386d4c31939f3a4f0e3dd783       2017-01-01       NaN   \n",
       "1      F  55.0  0610b486422d4921ae7d2bf64640c50b       2017-01-01  112000.0   \n",
       "2    NaN   NaN  38fe809add3b4fcf9315a9694bb96ff5       2018-01-01       NaN   \n",
       "3      F  75.0  78afa995795e4d85b5d9ceeca43f5fef       2017-01-01  100000.0   \n",
       "4    NaN   NaN  a03223e636434f42ac4c3df47e8bac43       2017-01-01       NaN   \n",
       "\n",
       "   total_amount  total_rewarded  transactions_num  offers_received  \\\n",
       "0         20.40             5.0                 9              5.0   \n",
       "1         77.01             0.0                 3              2.0   \n",
       "2         14.30             0.0                 6              2.0   \n",
       "3        159.27            15.0                 7              4.0   \n",
       "4          4.65             0.0                 3              5.0   \n",
       "\n",
       "   offers_viewed  ...  avg_reward_size  avg_bogo_size  avg_discount_size  \\\n",
       "0            5.0  ...              2.5            0.0                2.5   \n",
       "1            0.0  ...              0.0            0.0                0.0   \n",
       "2            1.0  ...              0.0            0.0                0.0   \n",
       "3            4.0  ...              7.5            7.5                0.0   \n",
       "4            3.0  ...              0.0            0.0                0.0   \n",
       "\n",
       "   offers_rr  offers_cvr  bogo_rr  bogo_cvr  discount_rr  discount_cvr  \\\n",
       "0      100.0        40.0      0.0      0.00       100.00          40.0   \n",
       "1        0.0         0.0      0.0      0.00         0.00           0.0   \n",
       "2       50.0         0.0    100.0      0.00         0.00           0.0   \n",
       "3      100.0        50.0    100.0     66.67         0.00           0.0   \n",
       "4       60.0         0.0      0.0      0.00        66.67           0.0   \n",
       "\n",
       "   informational_rr  \n",
       "0               0.0  \n",
       "1               0.0  \n",
       "2               0.0  \n",
       "3             100.0  \n",
       "4              50.0  \n",
       "\n",
       "[5 rows x 32 columns]"
      ]
     },
     "execution_count": 3,
     "metadata": {},
     "output_type": "execute_result"
    }
   ],
   "source": [
    "customers.head()"
   ]
  },
  {
   "cell_type": "markdown",
   "metadata": {},
   "source": [
    "Let's see distributions of age, gender and income. Note: NaNs values here are not included."
   ]
  },
  {
   "cell_type": "code",
   "execution_count": 4,
   "metadata": {},
   "outputs": [
    {
     "data": {
      "image/png": "[encoded data removed]",
      "text/plain": [
       "<Figure size 1440x288 with 4 Axes>"
      ]
     },
     "metadata": {
      "needs_background": "light"
     },
     "output_type": "display_data"
    }
   ],
   "source": [
    "plt.subplots(figsize=(20, 4));\n",
    "\n",
    "plt.subplot(1,4,1)\n",
    "profile.became_member_on.hist();\n",
    "plt.title(\"Distribution of Membership Duration\");\n",
    "plt.ylim(0, 9000);\n",
    "\n",
    "plt.subplot(1,4,2)\n",
    "plt.title(\"Age Distribution\")\n",
    "customers.age.hist();\n",
    "plt.ylim(0, 9000);\n",
    "\n",
    "plt.subplot(1,4,3)\n",
    "plt.title(\"Income Distribution\")\n",
    "customers.income.hist();\n",
    "plt.ylim(0, 9000);\n",
    "\n",
    "plt.subplot(1,4,4)\n",
    "plt.title(\"Distribution of Gender\")\n",
    "customers.gender.value_counts().plot.bar();\n",
    "for i, gender_num in enumerate(customers.gender.value_counts()):\n",
    "    #X position just after the end of the bar:\n",
    "    plt.text(i, gender_num, gender_num, ha = 'center', va='bottom');\n",
    "plt.ylim(0, 9000);"
   ]
  },
  {
   "cell_type": "code",
   "execution_count": 5,
   "metadata": {},
   "outputs": [
    {
     "name": "stdout",
     "output_type": "stream",
     "text": [
      "earliest member since: 2013-01-01 00:00:00, latest member since: 2018-01-01 00:00:00\n"
     ]
    }
   ],
   "source": [
    "print(f\"earliest member since: {customers.became_member_on.min()}, latest member since: {customers.became_member_on.max()}\")"
   ]
  },
  {
   "cell_type": "markdown",
   "metadata": {},
   "source": [
    "## Customers-Offers Interaction"
   ]
  },
  {
   "cell_type": "code",
   "execution_count": 6,
   "metadata": {},
   "outputs": [
    {
     "name": "stdout",
     "output_type": "stream",
     "text": [
      "16994 customers received offers, while 6 did not\n"
     ]
    }
   ],
   "source": [
    "print(f\"{(customers.offers_received != 0).sum()} customers received offers, while {(customers.offers_received == 0).sum()} did not\")"
   ]
  },
  {
   "cell_type": "code",
   "execution_count": 7,
   "metadata": {},
   "outputs": [
    {
     "name": "stdout",
     "output_type": "stream",
     "text": [
      "Out of those who received, 16735 customers viewed offers, while 259 did not\n"
     ]
    }
   ],
   "source": [
    "print(f\"Out of those who received, {((customers.offers_received != 0) & (customers.offers_viewed != 0)).sum()} customers viewed offers, while {((customers.offers_received != 0) & (customers.offers_viewed == 0)).sum()} did not\")"
   ]
  },
  {
   "cell_type": "code",
   "execution_count": 8,
   "metadata": {},
   "outputs": [
    {
     "name": "stdout",
     "output_type": "stream",
     "text": [
      "Out of those who received & viewed, 10640 customers completed the offers, while 6095 did not\n"
     ]
    }
   ],
   "source": [
    "print(f\"Out of those who received & viewed, {((customers.offers_received != 0) & (customers.offers_viewed != 0) & (customers.offers_completed != 0)).sum()} customers completed the offers, while {((customers.offers_received != 0) & (customers.offers_viewed != 0) & (customers.offers_completed == 0)).sum()} did not\")"
   ]
  },
  {
   "cell_type": "markdown",
   "metadata": {},
   "source": [
    "## Customer's Spending Habits"
   ]
  },
  {
   "cell_type": "code",
   "execution_count": 9,
   "metadata": {},
   "outputs": [
    {
     "data": {
      "text/html": [
       "<div>\n",
       "<style scoped>\n",
       "    .dataframe tbody tr th:only-of-type {\n",
       "        vertical-align: middle;\n",
       "    }\n",
       "\n",
       "    .dataframe tbody tr th {\n",
       "        vertical-align: top;\n",
       "    }\n",
       "\n",
       "    .dataframe thead th {\n",
       "        text-align: right;\n",
       "    }\n",
       "</style>\n",
       "<table border=\"1\" class=\"dataframe\">\n",
       "  <thead>\n",
       "    <tr style=\"text-align: right;\">\n",
       "      <th></th>\n",
       "      <th>count</th>\n",
       "      <th>mean</th>\n",
       "      <th>std</th>\n",
       "      <th>min</th>\n",
       "      <th>25%</th>\n",
       "      <th>50%</th>\n",
       "      <th>75%</th>\n",
       "      <th>max</th>\n",
       "    </tr>\n",
       "  </thead>\n",
       "  <tbody>\n",
       "    <tr>\n",
       "      <th>age</th>\n",
       "      <td>14825.0</td>\n",
       "      <td>54.393524</td>\n",
       "      <td>17.383705</td>\n",
       "      <td>18.0</td>\n",
       "      <td>42.00</td>\n",
       "      <td>55.000</td>\n",
       "      <td>66.0000</td>\n",
       "      <td>101.00</td>\n",
       "    </tr>\n",
       "    <tr>\n",
       "      <th>income</th>\n",
       "      <td>14825.0</td>\n",
       "      <td>65404.991568</td>\n",
       "      <td>21598.299410</td>\n",
       "      <td>30000.0</td>\n",
       "      <td>49000.00</td>\n",
       "      <td>64000.000</td>\n",
       "      <td>80000.0000</td>\n",
       "      <td>120000.00</td>\n",
       "    </tr>\n",
       "    <tr>\n",
       "      <th>total_amount</th>\n",
       "      <td>17000.0</td>\n",
       "      <td>104.438351</td>\n",
       "      <td>125.922619</td>\n",
       "      <td>0.0</td>\n",
       "      <td>21.82</td>\n",
       "      <td>69.405</td>\n",
       "      <td>148.7825</td>\n",
       "      <td>1608.69</td>\n",
       "    </tr>\n",
       "    <tr>\n",
       "      <th>total_rewarded</th>\n",
       "      <td>17000.0</td>\n",
       "      <td>5.581941</td>\n",
       "      <td>6.752801</td>\n",
       "      <td>0.0</td>\n",
       "      <td>0.00</td>\n",
       "      <td>3.000</td>\n",
       "      <td>10.0000</td>\n",
       "      <td>55.00</td>\n",
       "    </tr>\n",
       "    <tr>\n",
       "      <th>transactions_num</th>\n",
       "      <td>17000.0</td>\n",
       "      <td>8.173706</td>\n",
       "      <td>5.116250</td>\n",
       "      <td>0.0</td>\n",
       "      <td>4.00</td>\n",
       "      <td>7.000</td>\n",
       "      <td>11.0000</td>\n",
       "      <td>36.00</td>\n",
       "    </tr>\n",
       "    <tr>\n",
       "      <th>offers_received</th>\n",
       "      <td>17000.0</td>\n",
       "      <td>4.486882</td>\n",
       "      <td>1.076165</td>\n",
       "      <td>0.0</td>\n",
       "      <td>4.00</td>\n",
       "      <td>5.000</td>\n",
       "      <td>5.0000</td>\n",
       "      <td>6.00</td>\n",
       "    </tr>\n",
       "    <tr>\n",
       "      <th>offers_viewed</th>\n",
       "      <td>17000.0</td>\n",
       "      <td>3.266706</td>\n",
       "      <td>1.354569</td>\n",
       "      <td>0.0</td>\n",
       "      <td>2.00</td>\n",
       "      <td>3.000</td>\n",
       "      <td>4.0000</td>\n",
       "      <td>6.00</td>\n",
       "    </tr>\n",
       "    <tr>\n",
       "      <th>offers_completed</th>\n",
       "      <td>17000.0</td>\n",
       "      <td>1.156235</td>\n",
       "      <td>1.170933</td>\n",
       "      <td>0.0</td>\n",
       "      <td>0.00</td>\n",
       "      <td>1.000</td>\n",
       "      <td>2.0000</td>\n",
       "      <td>6.00</td>\n",
       "    </tr>\n",
       "    <tr>\n",
       "      <th>bogo_received</th>\n",
       "      <td>17000.0</td>\n",
       "      <td>1.794059</td>\n",
       "      <td>1.120485</td>\n",
       "      <td>0.0</td>\n",
       "      <td>1.00</td>\n",
       "      <td>2.000</td>\n",
       "      <td>3.0000</td>\n",
       "      <td>6.00</td>\n",
       "    </tr>\n",
       "    <tr>\n",
       "      <th>bogo_viewed</th>\n",
       "      <td>17000.0</td>\n",
       "      <td>1.465059</td>\n",
       "      <td>1.059699</td>\n",
       "      <td>0.0</td>\n",
       "      <td>1.00</td>\n",
       "      <td>1.000</td>\n",
       "      <td>2.0000</td>\n",
       "      <td>6.00</td>\n",
       "    </tr>\n",
       "    <tr>\n",
       "      <th>bogo_completed</th>\n",
       "      <td>17000.0</td>\n",
       "      <td>0.520176</td>\n",
       "      <td>0.776632</td>\n",
       "      <td>0.0</td>\n",
       "      <td>0.00</td>\n",
       "      <td>0.000</td>\n",
       "      <td>1.0000</td>\n",
       "      <td>5.00</td>\n",
       "    </tr>\n",
       "    <tr>\n",
       "      <th>discount_received</th>\n",
       "      <td>17000.0</td>\n",
       "      <td>1.796647</td>\n",
       "      <td>1.131248</td>\n",
       "      <td>0.0</td>\n",
       "      <td>1.00</td>\n",
       "      <td>2.000</td>\n",
       "      <td>3.0000</td>\n",
       "      <td>6.00</td>\n",
       "    </tr>\n",
       "    <tr>\n",
       "      <th>discount_viewed</th>\n",
       "      <td>17000.0</td>\n",
       "      <td>1.239706</td>\n",
       "      <td>1.028684</td>\n",
       "      <td>0.0</td>\n",
       "      <td>0.00</td>\n",
       "      <td>1.000</td>\n",
       "      <td>2.0000</td>\n",
       "      <td>6.00</td>\n",
       "    </tr>\n",
       "    <tr>\n",
       "      <th>discount_completed</th>\n",
       "      <td>17000.0</td>\n",
       "      <td>0.636059</td>\n",
       "      <td>0.824121</td>\n",
       "      <td>0.0</td>\n",
       "      <td>0.00</td>\n",
       "      <td>0.000</td>\n",
       "      <td>1.0000</td>\n",
       "      <td>5.00</td>\n",
       "    </tr>\n",
       "    <tr>\n",
       "      <th>informational_received</th>\n",
       "      <td>17000.0</td>\n",
       "      <td>0.896176</td>\n",
       "      <td>0.874963</td>\n",
       "      <td>0.0</td>\n",
       "      <td>0.00</td>\n",
       "      <td>1.000</td>\n",
       "      <td>1.0000</td>\n",
       "      <td>5.00</td>\n",
       "    </tr>\n",
       "    <tr>\n",
       "      <th>informational_viewed</th>\n",
       "      <td>17000.0</td>\n",
       "      <td>0.561941</td>\n",
       "      <td>0.735380</td>\n",
       "      <td>0.0</td>\n",
       "      <td>0.00</td>\n",
       "      <td>0.000</td>\n",
       "      <td>1.0000</td>\n",
       "      <td>5.00</td>\n",
       "    </tr>\n",
       "    <tr>\n",
       "      <th>total_bogo</th>\n",
       "      <td>17000.0</td>\n",
       "      <td>3.882647</td>\n",
       "      <td>6.144766</td>\n",
       "      <td>0.0</td>\n",
       "      <td>0.00</td>\n",
       "      <td>0.000</td>\n",
       "      <td>5.0000</td>\n",
       "      <td>50.00</td>\n",
       "    </tr>\n",
       "    <tr>\n",
       "      <th>total_discount</th>\n",
       "      <td>17000.0</td>\n",
       "      <td>1.699294</td>\n",
       "      <td>2.351574</td>\n",
       "      <td>0.0</td>\n",
       "      <td>0.00</td>\n",
       "      <td>0.000</td>\n",
       "      <td>3.0000</td>\n",
       "      <td>19.00</td>\n",
       "    </tr>\n",
       "    <tr>\n",
       "      <th>avg_order_size</th>\n",
       "      <td>17000.0</td>\n",
       "      <td>13.340649</td>\n",
       "      <td>15.998453</td>\n",
       "      <td>0.0</td>\n",
       "      <td>3.04</td>\n",
       "      <td>11.410</td>\n",
       "      <td>20.2400</td>\n",
       "      <td>451.47</td>\n",
       "    </tr>\n",
       "    <tr>\n",
       "      <th>avg_reward_size</th>\n",
       "      <td>17000.0</td>\n",
       "      <td>2.951226</td>\n",
       "      <td>3.002326</td>\n",
       "      <td>0.0</td>\n",
       "      <td>0.00</td>\n",
       "      <td>2.500</td>\n",
       "      <td>5.0000</td>\n",
       "      <td>10.00</td>\n",
       "    </tr>\n",
       "    <tr>\n",
       "      <th>avg_bogo_size</th>\n",
       "      <td>17000.0</td>\n",
       "      <td>2.786979</td>\n",
       "      <td>3.855307</td>\n",
       "      <td>0.0</td>\n",
       "      <td>0.00</td>\n",
       "      <td>0.000</td>\n",
       "      <td>5.0000</td>\n",
       "      <td>10.00</td>\n",
       "    </tr>\n",
       "    <tr>\n",
       "      <th>avg_discount_size</th>\n",
       "      <td>17000.0</td>\n",
       "      <td>1.205397</td>\n",
       "      <td>1.433173</td>\n",
       "      <td>0.0</td>\n",
       "      <td>0.00</td>\n",
       "      <td>0.000</td>\n",
       "      <td>2.0000</td>\n",
       "      <td>5.00</td>\n",
       "    </tr>\n",
       "    <tr>\n",
       "      <th>offers_rr</th>\n",
       "      <td>17000.0</td>\n",
       "      <td>73.068568</td>\n",
       "      <td>25.465248</td>\n",
       "      <td>0.0</td>\n",
       "      <td>50.00</td>\n",
       "      <td>75.000</td>\n",
       "      <td>100.0000</td>\n",
       "      <td>100.00</td>\n",
       "    </tr>\n",
       "    <tr>\n",
       "      <th>offers_cvr</th>\n",
       "      <td>17000.0</td>\n",
       "      <td>34.452880</td>\n",
       "      <td>32.993342</td>\n",
       "      <td>0.0</td>\n",
       "      <td>0.00</td>\n",
       "      <td>33.330</td>\n",
       "      <td>60.0000</td>\n",
       "      <td>100.00</td>\n",
       "    </tr>\n",
       "    <tr>\n",
       "      <th>bogo_rr</th>\n",
       "      <td>17000.0</td>\n",
       "      <td>72.503930</td>\n",
       "      <td>39.292697</td>\n",
       "      <td>0.0</td>\n",
       "      <td>50.00</td>\n",
       "      <td>100.000</td>\n",
       "      <td>100.0000</td>\n",
       "      <td>100.00</td>\n",
       "    </tr>\n",
       "    <tr>\n",
       "      <th>bogo_cvr</th>\n",
       "      <td>17000.0</td>\n",
       "      <td>28.781861</td>\n",
       "      <td>40.440557</td>\n",
       "      <td>0.0</td>\n",
       "      <td>0.00</td>\n",
       "      <td>0.000</td>\n",
       "      <td>50.0000</td>\n",
       "      <td>100.00</td>\n",
       "    </tr>\n",
       "    <tr>\n",
       "      <th>discount_rr</th>\n",
       "      <td>17000.0</td>\n",
       "      <td>61.110842</td>\n",
       "      <td>42.101023</td>\n",
       "      <td>0.0</td>\n",
       "      <td>0.00</td>\n",
       "      <td>66.670</td>\n",
       "      <td>100.0000</td>\n",
       "      <td>100.00</td>\n",
       "    </tr>\n",
       "    <tr>\n",
       "      <th>discount_cvr</th>\n",
       "      <td>17000.0</td>\n",
       "      <td>38.222179</td>\n",
       "      <td>44.886484</td>\n",
       "      <td>0.0</td>\n",
       "      <td>0.00</td>\n",
       "      <td>0.000</td>\n",
       "      <td>100.0000</td>\n",
       "      <td>100.00</td>\n",
       "    </tr>\n",
       "    <tr>\n",
       "      <th>informational_rr</th>\n",
       "      <td>17000.0</td>\n",
       "      <td>39.309119</td>\n",
       "      <td>46.689329</td>\n",
       "      <td>0.0</td>\n",
       "      <td>0.00</td>\n",
       "      <td>0.000</td>\n",
       "      <td>100.0000</td>\n",
       "      <td>100.00</td>\n",
       "    </tr>\n",
       "  </tbody>\n",
       "</table>\n",
       "</div>"
      ],
      "text/plain": [
       "                          count          mean           std      min  \\\n",
       "age                     14825.0     54.393524     17.383705     18.0   \n",
       "income                  14825.0  65404.991568  21598.299410  30000.0   \n",
       "total_amount            17000.0    104.438351    125.922619      0.0   \n",
       "total_rewarded          17000.0      5.581941      6.752801      0.0   \n",
       "transactions_num        17000.0      8.173706      5.116250      0.0   \n",
       "offers_received         17000.0      4.486882      1.076165      0.0   \n",
       "offers_viewed           17000.0      3.266706      1.354569      0.0   \n",
       "offers_completed        17000.0      1.156235      1.170933      0.0   \n",
       "bogo_received           17000.0      1.794059      1.120485      0.0   \n",
       "bogo_viewed             17000.0      1.465059      1.059699      0.0   \n",
       "bogo_completed          17000.0      0.520176      0.776632      0.0   \n",
       "discount_received       17000.0      1.796647      1.131248      0.0   \n",
       "discount_viewed         17000.0      1.239706      1.028684      0.0   \n",
       "discount_completed      17000.0      0.636059      0.824121      0.0   \n",
       "informational_received  17000.0      0.896176      0.874963      0.0   \n",
       "informational_viewed    17000.0      0.561941      0.735380      0.0   \n",
       "total_bogo              17000.0      3.882647      6.144766      0.0   \n",
       "total_discount          17000.0      1.699294      2.351574      0.0   \n",
       "avg_order_size          17000.0     13.340649     15.998453      0.0   \n",
       "avg_reward_size         17000.0      2.951226      3.002326      0.0   \n",
       "avg_bogo_size           17000.0      2.786979      3.855307      0.0   \n",
       "avg_discount_size       17000.0      1.205397      1.433173      0.0   \n",
       "offers_rr               17000.0     73.068568     25.465248      0.0   \n",
       "offers_cvr              17000.0     34.452880     32.993342      0.0   \n",
       "bogo_rr                 17000.0     72.503930     39.292697      0.0   \n",
       "bogo_cvr                17000.0     28.781861     40.440557      0.0   \n",
       "discount_rr             17000.0     61.110842     42.101023      0.0   \n",
       "discount_cvr            17000.0     38.222179     44.886484      0.0   \n",
       "informational_rr        17000.0     39.309119     46.689329      0.0   \n",
       "\n",
       "                             25%        50%         75%        max  \n",
       "age                        42.00     55.000     66.0000     101.00  \n",
       "income                  49000.00  64000.000  80000.0000  120000.00  \n",
       "total_amount               21.82     69.405    148.7825    1608.69  \n",
       "total_rewarded              0.00      3.000     10.0000      55.00  \n",
       "transactions_num            4.00      7.000     11.0000      36.00  \n",
       "offers_received             4.00      5.000      5.0000       6.00  \n",
       "offers_viewed               2.00      3.000      4.0000       6.00  \n",
       "offers_completed            0.00      1.000      2.0000       6.00  \n",
       "bogo_received               1.00      2.000      3.0000       6.00  \n",
       "bogo_viewed                 1.00      1.000      2.0000       6.00  \n",
       "bogo_completed              0.00      0.000      1.0000       5.00  \n",
       "discount_received           1.00      2.000      3.0000       6.00  \n",
       "discount_viewed             0.00      1.000      2.0000       6.00  \n",
       "discount_completed          0.00      0.000      1.0000       5.00  \n",
       "informational_received      0.00      1.000      1.0000       5.00  \n",
       "informational_viewed        0.00      0.000      1.0000       5.00  \n",
       "total_bogo                  0.00      0.000      5.0000      50.00  \n",
       "total_discount              0.00      0.000      3.0000      19.00  \n",
       "avg_order_size              3.04     11.410     20.2400     451.47  \n",
       "avg_reward_size             0.00      2.500      5.0000      10.00  \n",
       "avg_bogo_size               0.00      0.000      5.0000      10.00  \n",
       "avg_discount_size           0.00      0.000      2.0000       5.00  \n",
       "offers_rr                  50.00     75.000    100.0000     100.00  \n",
       "offers_cvr                  0.00     33.330     60.0000     100.00  \n",
       "bogo_rr                    50.00    100.000    100.0000     100.00  \n",
       "bogo_cvr                    0.00      0.000     50.0000     100.00  \n",
       "discount_rr                 0.00     66.670    100.0000     100.00  \n",
       "discount_cvr                0.00      0.000    100.0000     100.00  \n",
       "informational_rr            0.00      0.000    100.0000     100.00  "
      ]
     },
     "execution_count": 9,
     "metadata": {},
     "output_type": "execute_result"
    }
   ],
   "source": [
    "customers.describe().T"
   ]
  },
  {
   "cell_type": "markdown",
   "metadata": {},
   "source": [
    "**Note:** \n",
    " - **Customers**: the typical Stabucks mobile app customer is middle-aged (median - 55 years) and has income of about \\\\$64000). During the experiment, the customers spent on average \\\\$104.44 (min - \\\\$0, max - \\\\$1608.7) and got \\\\$5.6 (min - \\\\$0, max - \\\\$55) rewarded. Furthermore, customers would make on average 8 transactions with the average order size being \\\\$13.34.\n",
    " \n",
    " \n",
    " - **Offers**: Customers would receive on average 4-5 offers, would view about 3 offers and would complete about 1 offer. The average return on bogo offers is higher than on discount offers - \\\\$3.8 vs $1.7. Each customer viewed on average 73% of offers he/she received (Response Rate), with bogo offers being viewed more often (73%) than discounts (61%) or informational offers (39%). Each customer reacted upon (CVR) about 34% of offers he/she viewed, with CVR for discounts being higher (38%) than for bogo (29%)."
   ]
  },
  {
   "cell_type": "markdown",
   "metadata": {},
   "source": [
    "## Offers - received, viewed, completed"
   ]
  },
  {
   "cell_type": "code",
   "execution_count": 10,
   "metadata": {},
   "outputs": [
    {
     "data": {
      "image/png": "[encoded data removed]",
      "text/plain": [
       "<Figure size 720x288 with 2 Axes>"
      ]
     },
     "metadata": {
      "needs_background": "light"
     },
     "output_type": "display_data"
    }
   ],
   "source": [
    "plt.figure(figsize=(10, 4));\n",
    "plt.title(\"Frequency of each Event\");\n",
    "\n",
    "plt.subplot(1,2,1)\n",
    "transcript.event.value_counts()[1:].plot.bar();\n",
    "plt.title(\"Original\")\n",
    "for i, event_num in enumerate(transcript.event.value_counts()[1:]):\n",
    "    #X position just after the end of the bar:\n",
    "    plt.text(i, event_num, event_num, ha = 'center', va = 'bottom');\n",
    "    \n",
    "plt.subplot(1,2,2)\n",
    "frequency = customers[['offers_received','offers_viewed', 'offers_completed']].sum().astype(int)\n",
    "frequency.plot.bar(color='orange');\n",
    "plt.title(\"After Correction\");\n",
    "for i, event_num in enumerate(frequency):\n",
    "    #X position just after the end of the bar:\n",
    "    plt.text(i, event_num, event_num, ha = 'center', va = 'bottom');"
   ]
  },
  {
   "cell_type": "code",
   "execution_count": 11,
   "metadata": {},
   "outputs": [
    {
     "data": {
      "image/png": "[encoded data removed]",
      "text/plain": [
       "<Figure size 1440x288 with 3 Axes>"
      ]
     },
     "metadata": {
      "needs_background": "light"
     },
     "output_type": "display_data"
    }
   ],
   "source": [
    "plt.subplots(figsize=(20, 4));\n",
    "\n",
    "plt.subplot(1,3,1)\n",
    "received_by_offer_type = offers['offer_type'].value_counts()\n",
    "received_by_offer_type.plot.bar();\n",
    "plt.title(\"Received Offers\");\n",
    "for i, event_num in enumerate(received_by_offer_type):\n",
    "    #X position just after the end of the bar:\n",
    "    plt.text(i, event_num, event_num, ha = 'center', va = 'bottom');\n",
    "plt.ylim(0, 33000);\n",
    "\n",
    "plt.subplot(1,3,2)\n",
    "viewed_by_offer_type = offers[offers.viewed_on_time == 1].groupby('offer_type').viewed_on_time.count()\n",
    "viewed_by_offer_type.plot.bar();\n",
    "plt.title(\"Viewed Offers\");\n",
    "for i, event_num in enumerate(viewed_by_offer_type):\n",
    "    #X position just after the end of the bar:\n",
    "    plt.text(i, event_num, event_num, ha = 'center', va = 'bottom');\n",
    "plt.xlabel(\"\");\n",
    "plt.ylim(0, 33000);\n",
    "\n",
    "plt.subplot(1,3,3)\n",
    "completed_by_offer_type = offers[offers.completed_after_viewing == 1].groupby('offer_type').completed_after_viewing.count()\n",
    "completed_by_offer_type.plot.bar();\n",
    "plt.title(\"Completed Offers\");\n",
    "for i, event_num in enumerate(completed_by_offer_type):\n",
    "    #X position just after the end of the bar:\n",
    "    plt.text(i, event_num, event_num, ha = 'center', va = 'bottom');\n",
    "plt.xlabel(\"\");\n",
    "plt.ylim(0, 33000);"
   ]
  },
  {
   "cell_type": "code",
   "execution_count": 12,
   "metadata": {},
   "outputs": [
    {
     "data": {
      "image/png": "[encoded data removed]",
      "text/plain": [
       "<Figure size 432x288 with 1 Axes>"
      ]
     },
     "metadata": {
      "needs_background": "light"
     },
     "output_type": "display_data"
    }
   ],
   "source": [
    "rewards = offers[offers.completed_after_viewing == 1].groupby(['offer_type'])['reward'].sum()\n",
    "plt.title(\"Total Amount Rewarded by Offer Type, $\");\n",
    "rewards.plot.bar();\n",
    "for i, event_num in enumerate(rewards):\n",
    "    #X position just after the end of the bar:\n",
    "    plt.text(i, event_num, event_num, ha = 'center', va = 'bottom');\n",
    "plt.xlabel(\"\");"
   ]
  },
  {
   "cell_type": "markdown",
   "metadata": {},
   "source": [
    "# Customers Engagement with Offers - RR and CVR"
   ]
  },
  {
   "cell_type": "code",
   "execution_count": 13,
   "metadata": {},
   "outputs": [
    {
     "data": {
      "image/png": "[encoded data removed]",
      "text/plain": [
       "<Figure size 1080x360 with 7 Axes>"
      ]
     },
     "metadata": {
      "needs_background": "light"
     },
     "output_type": "display_data"
    }
   ],
   "source": [
    "cols = ['offers_rr', 'bogo_rr', 'discount_rr', 'informational_rr', 'offers_cvr', 'bogo_cvr', 'discount_cvr',]\n",
    "plt.figure(figsize=(15, 5));\n",
    "\n",
    "for i, each in enumerate(customers[cols]):\n",
    "    plt.subplot(2,4,i+1)\n",
    "    customers[each].hist();\n",
    "    plt.title(f\"{each}, %\");\n",
    "    plt.ylim(0, 12000);\n",
    "    plt.tight_layout();"
   ]
  },
  {
   "cell_type": "markdown",
   "metadata": {},
   "source": [
    "Note: people view offers much more often than complete. Bogos viewed ofter than discounts or informational. However, customers complete discount offers more often than bogos."
   ]
  },
  {
   "cell_type": "code",
   "execution_count": 14,
   "metadata": {},
   "outputs": [
    {
     "data": {
      "image/png": "[encoded data removed]",
      "text/plain": [
       "<Figure size 432x288 with 2 Axes>"
      ]
     },
     "metadata": {
      "needs_background": "light"
     },
     "output_type": "display_data"
    }
   ],
   "source": [
    "cols = ['became_member_on', 'age', 'income', 'total_amount', 'avg_order_size', 'transactions_num', 'offers_cvr', 'bogo_cvr', 'discount_cvr']\n",
    "sns.heatmap(customers[cols].corr(), cmap = 'rocket_r', annot = True, fmt = '.2f');"
   ]
  },
  {
   "cell_type": "markdown",
   "metadata": {},
   "source": [
    "Note: not profile, but spending habits (like number of transactions and total amount) seem to correlate more with the conversion rates"
   ]
  },
  {
   "cell_type": "markdown",
   "metadata": {},
   "source": [
    "### Viewing Rate"
   ]
  },
  {
   "cell_type": "code",
   "execution_count": 15,
   "metadata": {},
   "outputs": [
    {
     "name": "stdout",
     "output_type": "stream",
     "text": [
      "98.4% of customers viewed offers on time\n"
     ]
    }
   ],
   "source": [
    "# total viewing rate - % customers who viewed the offers on time\n",
    "viewing_rate = (customers.offers_viewed > 0).sum()\n",
    "print(f\"{viewing_rate/customers.shape[0]*100:.1f}% of customers viewed offers on time\")"
   ]
  },
  {
   "cell_type": "markdown",
   "metadata": {},
   "source": [
    "### Rewarded Rate"
   ]
  },
  {
   "cell_type": "code",
   "execution_count": 16,
   "metadata": {},
   "outputs": [
    {
     "name": "stdout",
     "output_type": "stream",
     "text": [
      "62.6% of customers completed offers after viewing\n"
     ]
    }
   ],
   "source": [
    "# total rewarded rate - % customers who completed the offers \n",
    "rewarded_rate = (customers.offers_completed > 0).sum()\n",
    "print(f\"{rewarded_rate/customers.shape[0]*100:.1f}% of customers completed offers after viewing\")"
   ]
  },
  {
   "cell_type": "markdown",
   "metadata": {},
   "source": [
    "## Revenue, Campaign Cost"
   ]
  },
  {
   "cell_type": "code",
   "execution_count": 17,
   "metadata": {},
   "outputs": [],
   "source": [
    "def normalize_json_in_transcript_dataset(transcript):\n",
    "    '''\n",
    "    Input:\n",
    "        transcript: original transcript dataset \n",
    "    Output:\n",
    "        transcript_clean: normalized transcript dataset\n",
    "    '''    \n",
    "    # normalize json in value column\n",
    "    value_normalized = json_normalize(transcript['value'])\n",
    "    # merging the two columns 'offer id' and 'offer_id' into new one 'id'\n",
    "    value_normalized['id'] = value_normalized['offer id'].fillna(value_normalized['offer_id'])\n",
    "    # dropping the redundant columns 'offer id', 'offer_id'\n",
    "    value_normalized = value_normalized.drop(['offer id', 'offer_id'], axis=1)\n",
    "    #rename the column 'reward' to 'rewarded'\n",
    "    value_normalized.rename(columns={value_normalized.columns[1]:'rewarded'}, inplace=True)\n",
    "    # join value_normalized with transcript \n",
    "    transcript_clean = transcript.join(value_normalized)    \n",
    "    # dropping 'value', 'event' columns\n",
    "    transcript_clean = transcript_clean.drop(['value'], axis=1)\n",
    "    \n",
    "    return transcript_clean"
   ]
  },
  {
   "cell_type": "code",
   "execution_count": 18,
   "metadata": {},
   "outputs": [],
   "source": [
    "transcript_clean = normalize_json_in_transcript_dataset(transcript)"
   ]
  },
  {
   "cell_type": "code",
   "execution_count": 19,
   "metadata": {},
   "outputs": [
    {
     "name": "stdout",
     "output_type": "stream",
     "text": [
      "total revenue during test period - $1775451.97\n",
      "campaign cost based on true customer behavior - $94893.0\n",
      "actual campaign cost - $164676.0\n"
     ]
    }
   ],
   "source": [
    "revenue = customers.total_amount.sum()\n",
    "print(f\"total revenue during test period - ${revenue:.2f}\")\n",
    "true_campaign_cost = customers.total_rewarded.sum()\n",
    "actual_campaign_cost = transcript_clean.rewarded.sum()\n",
    "print(f\"campaign cost based on true customer behavior - ${true_campaign_cost}\")\n",
    "print(f\"actual campaign cost - ${actual_campaign_cost}\")"
   ]
  },
  {
   "cell_type": "markdown",
   "metadata": {},
   "source": [
    "Cost per Acquisition (CPA) -  \"also known as cost per order or lead – tells you how much each new customer cost to obtain.\""
   ]
  },
  {
   "cell_type": "code",
   "execution_count": 20,
   "metadata": {},
   "outputs": [
    {
     "name": "stdout",
     "output_type": "stream",
     "text": [
      "actual cost per acquisition - $1.19\n",
      "cost per acquisition based on true customer behavior - $0.68\n"
     ]
    }
   ],
   "source": [
    "# campaign cost per transaction\n",
    "actual_cost_per_acquisition = actual_campaign_cost/customers.transactions_num.sum()\n",
    "true_cost_per_acquisition = true_campaign_cost/customers.transactions_num.sum()\n",
    "print(f\"actual cost per acquisition - ${actual_cost_per_acquisition:.2f}\")\n",
    "print(f\"cost per acquisition based on true customer behavior - ${true_cost_per_acquisition:.2f}\")"
   ]
  },
  {
   "cell_type": "markdown",
   "metadata": {},
   "source": [
    "Average Order Size "
   ]
  },
  {
   "cell_type": "code",
   "execution_count": 21,
   "metadata": {},
   "outputs": [
    {
     "name": "stdout",
     "output_type": "stream",
     "text": [
      "average order size - $12.78\n"
     ]
    }
   ],
   "source": [
    "# revenue per transaction\n",
    "average_order_size = revenue/customers.transactions_num.sum()\n",
    "print(f\"average order size - ${average_order_size:.2f}\")"
   ]
  },
  {
   "cell_type": "markdown",
   "metadata": {},
   "source": [
    "Revenue per Order - how much profit the company made from each order on average"
   ]
  },
  {
   "cell_type": "code",
   "execution_count": 22,
   "metadata": {},
   "outputs": [
    {
     "name": "stdout",
     "output_type": "stream",
     "text": [
      "actual revenue per order - $11.59\n",
      "true revenue per order - $12.09\n"
     ]
    }
   ],
   "source": [
    "actual_revenue_per_order = average_order_size-actual_cost_per_acquisition\n",
    "true_revenue_per_order = average_order_size-true_cost_per_acquisition\n",
    "print(f\"actual revenue per order - ${actual_revenue_per_order:.2f}\")\n",
    "print(f\"true revenue per order - ${true_revenue_per_order:.2f}\")"
   ]
  },
  {
   "cell_type": "markdown",
   "metadata": {},
   "source": [
    "Return on Investment (ROI), %"
   ]
  },
  {
   "cell_type": "code",
   "execution_count": 23,
   "metadata": {},
   "outputs": [
    {
     "name": "stdout",
     "output_type": "stream",
     "text": [
      "actual ROI - 978%\n",
      "correct ROI - 1771%\n"
     ]
    }
   ],
   "source": [
    "actual_roi = (revenue-actual_campaign_cost)/actual_campaign_cost * 100\n",
    "true_roi = (revenue-true_campaign_cost)/true_campaign_cost * 100\n",
    "print(f\"actual ROI - {actual_roi:.0f}%\")\n",
    "print(f\"correct ROI - {true_roi:.0f}%\")"
   ]
  }
 ],
 "metadata": {
  "kernelspec": {
   "display_name": "Python 3",
   "language": "python",
   "name": "python3"
  },
  "language_info": {
   "codemirror_mode": {
    "name": "ipython",
    "version": 3
   },
   "file_extension": ".py",
   "mimetype": "text/x-python",
   "name": "python",
   "nbconvert_exporter": "python",
   "pygments_lexer": "ipython3",
   "version": "3.7.3"
  }
 },
 "nbformat": 4,
 "nbformat_minor": 2
}
