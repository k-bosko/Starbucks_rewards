{
 "cells": [
  {
   "cell_type": "code",
   "execution_count": 1,
   "metadata": {},
   "outputs": [],
   "source": [
    "import pandas as pd\n",
    "import numpy as np\n",
    "import math\n",
    "import json\n",
    "import matplotlib.pyplot as plt\n",
    "import seaborn as sns\n",
    "\n",
    "from pandas.io.json import json_normalize\n",
    "\n",
    "from sklearn.impute import SimpleImputer\n",
    "from sklearn.preprocessing import StandardScaler\n",
    "from sklearn.decomposition import PCA\n",
    "from sklearn.cluster import KMeans\n",
    "\n",
    "%matplotlib inline\n",
    "\n",
    "# read in the json files\n",
    "portfolio = pd.read_json('data/portfolio.json', orient='records', lines=True)\n",
    "profile = pd.read_json('data/profile.json', orient='records', lines=True)\n",
    "transcript = pd.read_json('data/transcript.json', orient='records', lines=True)"
   ]
  },
  {
   "cell_type": "markdown",
   "metadata": {},
   "source": [
    "## 1.1. Portfolio"
   ]
  },
  {
   "cell_type": "code",
   "execution_count": 2,
   "metadata": {},
   "outputs": [
    {
     "data": {
      "text/html": [
       "<div>\n",
       "<style scoped>\n",
       "    .dataframe tbody tr th:only-of-type {\n",
       "        vertical-align: middle;\n",
       "    }\n",
       "\n",
       "    .dataframe tbody tr th {\n",
       "        vertical-align: top;\n",
       "    }\n",
       "\n",
       "    .dataframe thead th {\n",
       "        text-align: right;\n",
       "    }\n",
       "</style>\n",
       "<table border=\"1\" class=\"dataframe\">\n",
       "  <thead>\n",
       "    <tr style=\"text-align: right;\">\n",
       "      <th></th>\n",
       "      <th>reward</th>\n",
       "      <th>channels</th>\n",
       "      <th>difficulty</th>\n",
       "      <th>duration</th>\n",
       "      <th>offer_type</th>\n",
       "      <th>id</th>\n",
       "    </tr>\n",
       "  </thead>\n",
       "  <tbody>\n",
       "    <tr>\n",
       "      <th>0</th>\n",
       "      <td>10</td>\n",
       "      <td>[email, mobile, social]</td>\n",
       "      <td>10</td>\n",
       "      <td>7</td>\n",
       "      <td>bogo</td>\n",
       "      <td>ae264e3637204a6fb9bb56bc8210ddfd</td>\n",
       "    </tr>\n",
       "    <tr>\n",
       "      <th>1</th>\n",
       "      <td>10</td>\n",
       "      <td>[web, email, mobile, social]</td>\n",
       "      <td>10</td>\n",
       "      <td>5</td>\n",
       "      <td>bogo</td>\n",
       "      <td>4d5c57ea9a6940dd891ad53e9dbe8da0</td>\n",
       "    </tr>\n",
       "    <tr>\n",
       "      <th>2</th>\n",
       "      <td>0</td>\n",
       "      <td>[web, email, mobile]</td>\n",
       "      <td>0</td>\n",
       "      <td>4</td>\n",
       "      <td>informational</td>\n",
       "      <td>3f207df678b143eea3cee63160fa8bed</td>\n",
       "    </tr>\n",
       "    <tr>\n",
       "      <th>3</th>\n",
       "      <td>5</td>\n",
       "      <td>[web, email, mobile]</td>\n",
       "      <td>5</td>\n",
       "      <td>7</td>\n",
       "      <td>bogo</td>\n",
       "      <td>9b98b8c7a33c4b65b9aebfe6a799e6d9</td>\n",
       "    </tr>\n",
       "    <tr>\n",
       "      <th>4</th>\n",
       "      <td>5</td>\n",
       "      <td>[web, email]</td>\n",
       "      <td>20</td>\n",
       "      <td>10</td>\n",
       "      <td>discount</td>\n",
       "      <td>0b1e1539f2cc45b7b9fa7c272da2e1d7</td>\n",
       "    </tr>\n",
       "    <tr>\n",
       "      <th>5</th>\n",
       "      <td>3</td>\n",
       "      <td>[web, email, mobile, social]</td>\n",
       "      <td>7</td>\n",
       "      <td>7</td>\n",
       "      <td>discount</td>\n",
       "      <td>2298d6c36e964ae4a3e7e9706d1fb8c2</td>\n",
       "    </tr>\n",
       "    <tr>\n",
       "      <th>6</th>\n",
       "      <td>2</td>\n",
       "      <td>[web, email, mobile, social]</td>\n",
       "      <td>10</td>\n",
       "      <td>10</td>\n",
       "      <td>discount</td>\n",
       "      <td>fafdcd668e3743c1bb461111dcafc2a4</td>\n",
       "    </tr>\n",
       "    <tr>\n",
       "      <th>7</th>\n",
       "      <td>0</td>\n",
       "      <td>[email, mobile, social]</td>\n",
       "      <td>0</td>\n",
       "      <td>3</td>\n",
       "      <td>informational</td>\n",
       "      <td>5a8bc65990b245e5a138643cd4eb9837</td>\n",
       "    </tr>\n",
       "    <tr>\n",
       "      <th>8</th>\n",
       "      <td>5</td>\n",
       "      <td>[web, email, mobile, social]</td>\n",
       "      <td>5</td>\n",
       "      <td>5</td>\n",
       "      <td>bogo</td>\n",
       "      <td>f19421c1d4aa40978ebb69ca19b0e20d</td>\n",
       "    </tr>\n",
       "    <tr>\n",
       "      <th>9</th>\n",
       "      <td>2</td>\n",
       "      <td>[web, email, mobile]</td>\n",
       "      <td>10</td>\n",
       "      <td>7</td>\n",
       "      <td>discount</td>\n",
       "      <td>2906b810c7d4411798c6938adc9daaa5</td>\n",
       "    </tr>\n",
       "  </tbody>\n",
       "</table>\n",
       "</div>"
      ],
      "text/plain": [
       "   reward                      channels  difficulty  duration     offer_type  \\\n",
       "0      10       [email, mobile, social]          10         7           bogo   \n",
       "1      10  [web, email, mobile, social]          10         5           bogo   \n",
       "2       0          [web, email, mobile]           0         4  informational   \n",
       "3       5          [web, email, mobile]           5         7           bogo   \n",
       "4       5                  [web, email]          20        10       discount   \n",
       "5       3  [web, email, mobile, social]           7         7       discount   \n",
       "6       2  [web, email, mobile, social]          10        10       discount   \n",
       "7       0       [email, mobile, social]           0         3  informational   \n",
       "8       5  [web, email, mobile, social]           5         5           bogo   \n",
       "9       2          [web, email, mobile]          10         7       discount   \n",
       "\n",
       "                                 id  \n",
       "0  ae264e3637204a6fb9bb56bc8210ddfd  \n",
       "1  4d5c57ea9a6940dd891ad53e9dbe8da0  \n",
       "2  3f207df678b143eea3cee63160fa8bed  \n",
       "3  9b98b8c7a33c4b65b9aebfe6a799e6d9  \n",
       "4  0b1e1539f2cc45b7b9fa7c272da2e1d7  \n",
       "5  2298d6c36e964ae4a3e7e9706d1fb8c2  \n",
       "6  fafdcd668e3743c1bb461111dcafc2a4  \n",
       "7  5a8bc65990b245e5a138643cd4eb9837  \n",
       "8  f19421c1d4aa40978ebb69ca19b0e20d  \n",
       "9  2906b810c7d4411798c6938adc9daaa5  "
      ]
     },
     "execution_count": 2,
     "metadata": {},
     "output_type": "execute_result"
    }
   ],
   "source": [
    "portfolio"
   ]
  },
  {
   "cell_type": "code",
   "execution_count": 3,
   "metadata": {},
   "outputs": [],
   "source": [
    "# I will concentrate solely on 3 major offer types \n",
    "portfolio_clean = portfolio[['id', 'offer_type']]"
   ]
  },
  {
   "cell_type": "markdown",
   "metadata": {},
   "source": [
    "## 1.2. Profile"
   ]
  },
  {
   "cell_type": "code",
   "execution_count": 4,
   "metadata": {},
   "outputs": [
    {
     "data": {
      "text/html": [
       "<div>\n",
       "<style scoped>\n",
       "    .dataframe tbody tr th:only-of-type {\n",
       "        vertical-align: middle;\n",
       "    }\n",
       "\n",
       "    .dataframe tbody tr th {\n",
       "        vertical-align: top;\n",
       "    }\n",
       "\n",
       "    .dataframe thead th {\n",
       "        text-align: right;\n",
       "    }\n",
       "</style>\n",
       "<table border=\"1\" class=\"dataframe\">\n",
       "  <thead>\n",
       "    <tr style=\"text-align: right;\">\n",
       "      <th></th>\n",
       "      <th>gender</th>\n",
       "      <th>age</th>\n",
       "      <th>id</th>\n",
       "      <th>became_member_on</th>\n",
       "      <th>income</th>\n",
       "    </tr>\n",
       "  </thead>\n",
       "  <tbody>\n",
       "    <tr>\n",
       "      <th>0</th>\n",
       "      <td>None</td>\n",
       "      <td>118</td>\n",
       "      <td>68be06ca386d4c31939f3a4f0e3dd783</td>\n",
       "      <td>20170212</td>\n",
       "      <td>NaN</td>\n",
       "    </tr>\n",
       "    <tr>\n",
       "      <th>1</th>\n",
       "      <td>F</td>\n",
       "      <td>55</td>\n",
       "      <td>0610b486422d4921ae7d2bf64640c50b</td>\n",
       "      <td>20170715</td>\n",
       "      <td>112000.0</td>\n",
       "    </tr>\n",
       "    <tr>\n",
       "      <th>2</th>\n",
       "      <td>None</td>\n",
       "      <td>118</td>\n",
       "      <td>38fe809add3b4fcf9315a9694bb96ff5</td>\n",
       "      <td>20180712</td>\n",
       "      <td>NaN</td>\n",
       "    </tr>\n",
       "    <tr>\n",
       "      <th>3</th>\n",
       "      <td>F</td>\n",
       "      <td>75</td>\n",
       "      <td>78afa995795e4d85b5d9ceeca43f5fef</td>\n",
       "      <td>20170509</td>\n",
       "      <td>100000.0</td>\n",
       "    </tr>\n",
       "    <tr>\n",
       "      <th>4</th>\n",
       "      <td>None</td>\n",
       "      <td>118</td>\n",
       "      <td>a03223e636434f42ac4c3df47e8bac43</td>\n",
       "      <td>20170804</td>\n",
       "      <td>NaN</td>\n",
       "    </tr>\n",
       "  </tbody>\n",
       "</table>\n",
       "</div>"
      ],
      "text/plain": [
       "  gender  age                                id  became_member_on    income\n",
       "0   None  118  68be06ca386d4c31939f3a4f0e3dd783          20170212       NaN\n",
       "1      F   55  0610b486422d4921ae7d2bf64640c50b          20170715  112000.0\n",
       "2   None  118  38fe809add3b4fcf9315a9694bb96ff5          20180712       NaN\n",
       "3      F   75  78afa995795e4d85b5d9ceeca43f5fef          20170509  100000.0\n",
       "4   None  118  a03223e636434f42ac4c3df47e8bac43          20170804       NaN"
      ]
     },
     "execution_count": 4,
     "metadata": {},
     "output_type": "execute_result"
    }
   ],
   "source": [
    "profile.head()"
   ]
  },
  {
   "cell_type": "code",
   "execution_count": 5,
   "metadata": {},
   "outputs": [
    {
     "name": "stdout",
     "output_type": "stream",
     "text": [
      "profile's ids are all unique\n"
     ]
    }
   ],
   "source": [
    "if (profile.id.value_counts() > 1).sum() == 0:\n",
    "    print(\"profile's ids are all unique\")"
   ]
  },
  {
   "cell_type": "code",
   "execution_count": 6,
   "metadata": {},
   "outputs": [
    {
     "name": "stdout",
     "output_type": "stream",
     "text": [
      "there are 17000 customers in profile\n"
     ]
    }
   ],
   "source": [
    "print(f\"there are {profile.shape[0]} customers in profile\")"
   ]
  },
  {
   "cell_type": "code",
   "execution_count": 7,
   "metadata": {},
   "outputs": [],
   "source": [
    "# renaming 'id' column to 'person' in profile dataset so that we can later merge it with transcript dataset\n",
    "profile.rename(columns={profile.columns[2]:'person'}, inplace=True)"
   ]
  },
  {
   "cell_type": "code",
   "execution_count": 8,
   "metadata": {},
   "outputs": [
    {
     "data": {
      "text/html": [
       "<div>\n",
       "<style scoped>\n",
       "    .dataframe tbody tr th:only-of-type {\n",
       "        vertical-align: middle;\n",
       "    }\n",
       "\n",
       "    .dataframe tbody tr th {\n",
       "        vertical-align: top;\n",
       "    }\n",
       "\n",
       "    .dataframe thead th {\n",
       "        text-align: right;\n",
       "    }\n",
       "</style>\n",
       "<table border=\"1\" class=\"dataframe\">\n",
       "  <thead>\n",
       "    <tr style=\"text-align: right;\">\n",
       "      <th></th>\n",
       "      <th>gender</th>\n",
       "      <th>age</th>\n",
       "      <th>person</th>\n",
       "      <th>became_member_on</th>\n",
       "      <th>income</th>\n",
       "    </tr>\n",
       "  </thead>\n",
       "  <tbody>\n",
       "    <tr>\n",
       "      <th>0</th>\n",
       "      <td>None</td>\n",
       "      <td>118</td>\n",
       "      <td>68be06ca386d4c31939f3a4f0e3dd783</td>\n",
       "      <td>20170212</td>\n",
       "      <td>NaN</td>\n",
       "    </tr>\n",
       "    <tr>\n",
       "      <th>1</th>\n",
       "      <td>F</td>\n",
       "      <td>55</td>\n",
       "      <td>0610b486422d4921ae7d2bf64640c50b</td>\n",
       "      <td>20170715</td>\n",
       "      <td>112000.0</td>\n",
       "    </tr>\n",
       "    <tr>\n",
       "      <th>2</th>\n",
       "      <td>None</td>\n",
       "      <td>118</td>\n",
       "      <td>38fe809add3b4fcf9315a9694bb96ff5</td>\n",
       "      <td>20180712</td>\n",
       "      <td>NaN</td>\n",
       "    </tr>\n",
       "    <tr>\n",
       "      <th>3</th>\n",
       "      <td>F</td>\n",
       "      <td>75</td>\n",
       "      <td>78afa995795e4d85b5d9ceeca43f5fef</td>\n",
       "      <td>20170509</td>\n",
       "      <td>100000.0</td>\n",
       "    </tr>\n",
       "    <tr>\n",
       "      <th>4</th>\n",
       "      <td>None</td>\n",
       "      <td>118</td>\n",
       "      <td>a03223e636434f42ac4c3df47e8bac43</td>\n",
       "      <td>20170804</td>\n",
       "      <td>NaN</td>\n",
       "    </tr>\n",
       "  </tbody>\n",
       "</table>\n",
       "</div>"
      ],
      "text/plain": [
       "  gender  age                            person  became_member_on    income\n",
       "0   None  118  68be06ca386d4c31939f3a4f0e3dd783          20170212       NaN\n",
       "1      F   55  0610b486422d4921ae7d2bf64640c50b          20170715  112000.0\n",
       "2   None  118  38fe809add3b4fcf9315a9694bb96ff5          20180712       NaN\n",
       "3      F   75  78afa995795e4d85b5d9ceeca43f5fef          20170509  100000.0\n",
       "4   None  118  a03223e636434f42ac4c3df47e8bac43          20170804       NaN"
      ]
     },
     "execution_count": 8,
     "metadata": {},
     "output_type": "execute_result"
    }
   ],
   "source": [
    "profile.head()"
   ]
  },
  {
   "cell_type": "code",
   "execution_count": 9,
   "metadata": {},
   "outputs": [],
   "source": [
    "#Change type of 'became_member_on' column from int to time:\n",
    "profile.became_member_on = pd.to_datetime(profile.became_member_on.astype(str), format=\"%Y/%m/%d\")"
   ]
  },
  {
   "cell_type": "markdown",
   "metadata": {},
   "source": [
    "Dealing with missing values in Profile:"
   ]
  },
  {
   "cell_type": "code",
   "execution_count": 10,
   "metadata": {},
   "outputs": [
    {
     "name": "stdout",
     "output_type": "stream",
     "text": [
      "<class 'pandas.core.frame.DataFrame'>\n",
      "RangeIndex: 17000 entries, 0 to 16999\n",
      "Data columns (total 5 columns):\n",
      "gender              14825 non-null object\n",
      "age                 17000 non-null int64\n",
      "person              17000 non-null object\n",
      "became_member_on    17000 non-null datetime64[ns]\n",
      "income              14825 non-null float64\n",
      "dtypes: datetime64[ns](1), float64(1), int64(1), object(2)\n",
      "memory usage: 664.2+ KB\n"
     ]
    }
   ],
   "source": [
    "profile.info()"
   ]
  },
  {
   "cell_type": "markdown",
   "metadata": {},
   "source": [
    "Note: There are missing values in gender, age and income. Age missing values are encoded 118. "
   ]
  },
  {
   "cell_type": "code",
   "execution_count": 11,
   "metadata": {},
   "outputs": [
    {
     "data": {
      "text/plain": [
       "(NoneType, numpy.float64)"
      ]
     },
     "execution_count": 11,
     "metadata": {},
     "output_type": "execute_result"
    }
   ],
   "source": [
    "# Missing values in 'gender' column are recorded as NoneType, in 'income' column - as NaNs. \n",
    "type(profile.gender[0]), type(profile.income[0])"
   ]
  },
  {
   "cell_type": "code",
   "execution_count": 12,
   "metadata": {},
   "outputs": [],
   "source": [
    "# Replace NoneType with Nans in gender column\n",
    "profile.gender.fillna(value=np.nan, inplace=True)"
   ]
  },
  {
   "cell_type": "code",
   "execution_count": 13,
   "metadata": {},
   "outputs": [
    {
     "data": {
      "text/plain": [
       "(float, numpy.float64)"
      ]
     },
     "execution_count": 13,
     "metadata": {},
     "output_type": "execute_result"
    }
   ],
   "source": [
    "#checking the result of transformation\n",
    "type(profile.gender[0]), type(profile.income[0])"
   ]
  },
  {
   "cell_type": "code",
   "execution_count": 14,
   "metadata": {},
   "outputs": [],
   "source": [
    "# Replace 118 with Nans in age column:\n",
    "profile.age.replace(118, np.nan, inplace=True)"
   ]
  },
  {
   "cell_type": "code",
   "execution_count": 15,
   "metadata": {},
   "outputs": [],
   "source": [
    "#reorganize the columns order\n",
    "profile = profile[['person', 'became_member_on', 'gender', 'age', 'income']]"
   ]
  },
  {
   "cell_type": "code",
   "execution_count": 16,
   "metadata": {},
   "outputs": [
    {
     "data": {
      "text/html": [
       "<div>\n",
       "<style scoped>\n",
       "    .dataframe tbody tr th:only-of-type {\n",
       "        vertical-align: middle;\n",
       "    }\n",
       "\n",
       "    .dataframe tbody tr th {\n",
       "        vertical-align: top;\n",
       "    }\n",
       "\n",
       "    .dataframe thead th {\n",
       "        text-align: right;\n",
       "    }\n",
       "</style>\n",
       "<table border=\"1\" class=\"dataframe\">\n",
       "  <thead>\n",
       "    <tr style=\"text-align: right;\">\n",
       "      <th></th>\n",
       "      <th>person</th>\n",
       "      <th>became_member_on</th>\n",
       "      <th>gender</th>\n",
       "      <th>age</th>\n",
       "      <th>income</th>\n",
       "    </tr>\n",
       "  </thead>\n",
       "  <tbody>\n",
       "    <tr>\n",
       "      <th>0</th>\n",
       "      <td>68be06ca386d4c31939f3a4f0e3dd783</td>\n",
       "      <td>2017-02-12</td>\n",
       "      <td>NaN</td>\n",
       "      <td>NaN</td>\n",
       "      <td>NaN</td>\n",
       "    </tr>\n",
       "    <tr>\n",
       "      <th>1</th>\n",
       "      <td>0610b486422d4921ae7d2bf64640c50b</td>\n",
       "      <td>2017-07-15</td>\n",
       "      <td>F</td>\n",
       "      <td>55.0</td>\n",
       "      <td>112000.0</td>\n",
       "    </tr>\n",
       "    <tr>\n",
       "      <th>2</th>\n",
       "      <td>38fe809add3b4fcf9315a9694bb96ff5</td>\n",
       "      <td>2018-07-12</td>\n",
       "      <td>NaN</td>\n",
       "      <td>NaN</td>\n",
       "      <td>NaN</td>\n",
       "    </tr>\n",
       "    <tr>\n",
       "      <th>3</th>\n",
       "      <td>78afa995795e4d85b5d9ceeca43f5fef</td>\n",
       "      <td>2017-05-09</td>\n",
       "      <td>F</td>\n",
       "      <td>75.0</td>\n",
       "      <td>100000.0</td>\n",
       "    </tr>\n",
       "    <tr>\n",
       "      <th>4</th>\n",
       "      <td>a03223e636434f42ac4c3df47e8bac43</td>\n",
       "      <td>2017-08-04</td>\n",
       "      <td>NaN</td>\n",
       "      <td>NaN</td>\n",
       "      <td>NaN</td>\n",
       "    </tr>\n",
       "  </tbody>\n",
       "</table>\n",
       "</div>"
      ],
      "text/plain": [
       "                             person became_member_on gender   age    income\n",
       "0  68be06ca386d4c31939f3a4f0e3dd783       2017-02-12    NaN   NaN       NaN\n",
       "1  0610b486422d4921ae7d2bf64640c50b       2017-07-15      F  55.0  112000.0\n",
       "2  38fe809add3b4fcf9315a9694bb96ff5       2018-07-12    NaN   NaN       NaN\n",
       "3  78afa995795e4d85b5d9ceeca43f5fef       2017-05-09      F  75.0  100000.0\n",
       "4  a03223e636434f42ac4c3df47e8bac43       2017-08-04    NaN   NaN       NaN"
      ]
     },
     "execution_count": 16,
     "metadata": {},
     "output_type": "execute_result"
    }
   ],
   "source": [
    "profile.head()"
   ]
  },
  {
   "cell_type": "markdown",
   "metadata": {},
   "source": [
    "## 1.3 Transcript"
   ]
  },
  {
   "cell_type": "code",
   "execution_count": 17,
   "metadata": {},
   "outputs": [
    {
     "data": {
      "text/html": [
       "<div>\n",
       "<style scoped>\n",
       "    .dataframe tbody tr th:only-of-type {\n",
       "        vertical-align: middle;\n",
       "    }\n",
       "\n",
       "    .dataframe tbody tr th {\n",
       "        vertical-align: top;\n",
       "    }\n",
       "\n",
       "    .dataframe thead th {\n",
       "        text-align: right;\n",
       "    }\n",
       "</style>\n",
       "<table border=\"1\" class=\"dataframe\">\n",
       "  <thead>\n",
       "    <tr style=\"text-align: right;\">\n",
       "      <th></th>\n",
       "      <th>person</th>\n",
       "      <th>event</th>\n",
       "      <th>value</th>\n",
       "      <th>time</th>\n",
       "    </tr>\n",
       "  </thead>\n",
       "  <tbody>\n",
       "    <tr>\n",
       "      <th>0</th>\n",
       "      <td>78afa995795e4d85b5d9ceeca43f5fef</td>\n",
       "      <td>offer received</td>\n",
       "      <td>{'offer id': '9b98b8c7a33c4b65b9aebfe6a799e6d9'}</td>\n",
       "      <td>0</td>\n",
       "    </tr>\n",
       "    <tr>\n",
       "      <th>1</th>\n",
       "      <td>a03223e636434f42ac4c3df47e8bac43</td>\n",
       "      <td>offer received</td>\n",
       "      <td>{'offer id': '0b1e1539f2cc45b7b9fa7c272da2e1d7'}</td>\n",
       "      <td>0</td>\n",
       "    </tr>\n",
       "    <tr>\n",
       "      <th>2</th>\n",
       "      <td>e2127556f4f64592b11af22de27a7932</td>\n",
       "      <td>offer received</td>\n",
       "      <td>{'offer id': '2906b810c7d4411798c6938adc9daaa5'}</td>\n",
       "      <td>0</td>\n",
       "    </tr>\n",
       "    <tr>\n",
       "      <th>3</th>\n",
       "      <td>8ec6ce2a7e7949b1bf142def7d0e0586</td>\n",
       "      <td>offer received</td>\n",
       "      <td>{'offer id': 'fafdcd668e3743c1bb461111dcafc2a4'}</td>\n",
       "      <td>0</td>\n",
       "    </tr>\n",
       "    <tr>\n",
       "      <th>4</th>\n",
       "      <td>68617ca6246f4fbc85e91a2a49552598</td>\n",
       "      <td>offer received</td>\n",
       "      <td>{'offer id': '4d5c57ea9a6940dd891ad53e9dbe8da0'}</td>\n",
       "      <td>0</td>\n",
       "    </tr>\n",
       "  </tbody>\n",
       "</table>\n",
       "</div>"
      ],
      "text/plain": [
       "                             person           event  \\\n",
       "0  78afa995795e4d85b5d9ceeca43f5fef  offer received   \n",
       "1  a03223e636434f42ac4c3df47e8bac43  offer received   \n",
       "2  e2127556f4f64592b11af22de27a7932  offer received   \n",
       "3  8ec6ce2a7e7949b1bf142def7d0e0586  offer received   \n",
       "4  68617ca6246f4fbc85e91a2a49552598  offer received   \n",
       "\n",
       "                                              value  time  \n",
       "0  {'offer id': '9b98b8c7a33c4b65b9aebfe6a799e6d9'}     0  \n",
       "1  {'offer id': '0b1e1539f2cc45b7b9fa7c272da2e1d7'}     0  \n",
       "2  {'offer id': '2906b810c7d4411798c6938adc9daaa5'}     0  \n",
       "3  {'offer id': 'fafdcd668e3743c1bb461111dcafc2a4'}     0  \n",
       "4  {'offer id': '4d5c57ea9a6940dd891ad53e9dbe8da0'}     0  "
      ]
     },
     "execution_count": 17,
     "metadata": {},
     "output_type": "execute_result"
    }
   ],
   "source": [
    "transcript.head()"
   ]
  },
  {
   "cell_type": "code",
   "execution_count": 18,
   "metadata": {},
   "outputs": [
    {
     "data": {
      "text/plain": [
       "(306534, 4)"
      ]
     },
     "execution_count": 18,
     "metadata": {},
     "output_type": "execute_result"
    }
   ],
   "source": [
    "transcript.shape"
   ]
  },
  {
   "cell_type": "code",
   "execution_count": 19,
   "metadata": {},
   "outputs": [
    {
     "name": "stdout",
     "output_type": "stream",
     "text": [
      "experiment lasted for max 29.75 days\n"
     ]
    }
   ],
   "source": [
    "print(f\"experiment lasted for max {transcript.time.max()/24} days\")"
   ]
  },
  {
   "cell_type": "markdown",
   "metadata": {},
   "source": [
    "Let's see the typical transaction record for one person:"
   ]
  },
  {
   "cell_type": "code",
   "execution_count": 20,
   "metadata": {},
   "outputs": [
    {
     "data": {
      "text/html": [
       "<div>\n",
       "<style scoped>\n",
       "    .dataframe tbody tr th:only-of-type {\n",
       "        vertical-align: middle;\n",
       "    }\n",
       "\n",
       "    .dataframe tbody tr th {\n",
       "        vertical-align: top;\n",
       "    }\n",
       "\n",
       "    .dataframe thead th {\n",
       "        text-align: right;\n",
       "    }\n",
       "</style>\n",
       "<table border=\"1\" class=\"dataframe\">\n",
       "  <thead>\n",
       "    <tr style=\"text-align: right;\">\n",
       "      <th></th>\n",
       "      <th>person</th>\n",
       "      <th>event</th>\n",
       "      <th>value</th>\n",
       "      <th>time</th>\n",
       "    </tr>\n",
       "  </thead>\n",
       "  <tbody>\n",
       "    <tr>\n",
       "      <th>0</th>\n",
       "      <td>78afa995795e4d85b5d9ceeca43f5fef</td>\n",
       "      <td>offer received</td>\n",
       "      <td>{'offer id': '9b98b8c7a33c4b65b9aebfe6a799e6d9'}</td>\n",
       "      <td>0</td>\n",
       "    </tr>\n",
       "    <tr>\n",
       "      <th>15561</th>\n",
       "      <td>78afa995795e4d85b5d9ceeca43f5fef</td>\n",
       "      <td>offer viewed</td>\n",
       "      <td>{'offer id': '9b98b8c7a33c4b65b9aebfe6a799e6d9'}</td>\n",
       "      <td>6</td>\n",
       "    </tr>\n",
       "    <tr>\n",
       "      <th>47582</th>\n",
       "      <td>78afa995795e4d85b5d9ceeca43f5fef</td>\n",
       "      <td>transaction</td>\n",
       "      <td>{'amount': 19.89}</td>\n",
       "      <td>132</td>\n",
       "    </tr>\n",
       "    <tr>\n",
       "      <th>47583</th>\n",
       "      <td>78afa995795e4d85b5d9ceeca43f5fef</td>\n",
       "      <td>offer completed</td>\n",
       "      <td>{'offer_id': '9b98b8c7a33c4b65b9aebfe6a799e6d9...</td>\n",
       "      <td>132</td>\n",
       "    </tr>\n",
       "    <tr>\n",
       "      <th>49502</th>\n",
       "      <td>78afa995795e4d85b5d9ceeca43f5fef</td>\n",
       "      <td>transaction</td>\n",
       "      <td>{'amount': 17.78}</td>\n",
       "      <td>144</td>\n",
       "    </tr>\n",
       "    <tr>\n",
       "      <th>53176</th>\n",
       "      <td>78afa995795e4d85b5d9ceeca43f5fef</td>\n",
       "      <td>offer received</td>\n",
       "      <td>{'offer id': '5a8bc65990b245e5a138643cd4eb9837'}</td>\n",
       "      <td>168</td>\n",
       "    </tr>\n",
       "    <tr>\n",
       "      <th>85291</th>\n",
       "      <td>78afa995795e4d85b5d9ceeca43f5fef</td>\n",
       "      <td>offer viewed</td>\n",
       "      <td>{'offer id': '5a8bc65990b245e5a138643cd4eb9837'}</td>\n",
       "      <td>216</td>\n",
       "    </tr>\n",
       "    <tr>\n",
       "      <th>87134</th>\n",
       "      <td>78afa995795e4d85b5d9ceeca43f5fef</td>\n",
       "      <td>transaction</td>\n",
       "      <td>{'amount': 19.67}</td>\n",
       "      <td>222</td>\n",
       "    </tr>\n",
       "    <tr>\n",
       "      <th>92104</th>\n",
       "      <td>78afa995795e4d85b5d9ceeca43f5fef</td>\n",
       "      <td>transaction</td>\n",
       "      <td>{'amount': 29.72}</td>\n",
       "      <td>240</td>\n",
       "    </tr>\n",
       "    <tr>\n",
       "      <th>141566</th>\n",
       "      <td>78afa995795e4d85b5d9ceeca43f5fef</td>\n",
       "      <td>transaction</td>\n",
       "      <td>{'amount': 23.93}</td>\n",
       "      <td>378</td>\n",
       "    </tr>\n",
       "    <tr>\n",
       "      <th>150598</th>\n",
       "      <td>78afa995795e4d85b5d9ceeca43f5fef</td>\n",
       "      <td>offer received</td>\n",
       "      <td>{'offer id': 'ae264e3637204a6fb9bb56bc8210ddfd'}</td>\n",
       "      <td>408</td>\n",
       "    </tr>\n",
       "    <tr>\n",
       "      <th>163375</th>\n",
       "      <td>78afa995795e4d85b5d9ceeca43f5fef</td>\n",
       "      <td>offer viewed</td>\n",
       "      <td>{'offer id': 'ae264e3637204a6fb9bb56bc8210ddfd'}</td>\n",
       "      <td>408</td>\n",
       "    </tr>\n",
       "    <tr>\n",
       "      <th>201572</th>\n",
       "      <td>78afa995795e4d85b5d9ceeca43f5fef</td>\n",
       "      <td>offer received</td>\n",
       "      <td>{'offer id': 'f19421c1d4aa40978ebb69ca19b0e20d'}</td>\n",
       "      <td>504</td>\n",
       "    </tr>\n",
       "    <tr>\n",
       "      <th>218393</th>\n",
       "      <td>78afa995795e4d85b5d9ceeca43f5fef</td>\n",
       "      <td>transaction</td>\n",
       "      <td>{'amount': 21.72}</td>\n",
       "      <td>510</td>\n",
       "    </tr>\n",
       "    <tr>\n",
       "      <th>218394</th>\n",
       "      <td>78afa995795e4d85b5d9ceeca43f5fef</td>\n",
       "      <td>offer completed</td>\n",
       "      <td>{'offer_id': 'ae264e3637204a6fb9bb56bc8210ddfd...</td>\n",
       "      <td>510</td>\n",
       "    </tr>\n",
       "    <tr>\n",
       "      <th>218395</th>\n",
       "      <td>78afa995795e4d85b5d9ceeca43f5fef</td>\n",
       "      <td>offer completed</td>\n",
       "      <td>{'offer_id': 'f19421c1d4aa40978ebb69ca19b0e20d...</td>\n",
       "      <td>510</td>\n",
       "    </tr>\n",
       "    <tr>\n",
       "      <th>230412</th>\n",
       "      <td>78afa995795e4d85b5d9ceeca43f5fef</td>\n",
       "      <td>transaction</td>\n",
       "      <td>{'amount': 26.56}</td>\n",
       "      <td>534</td>\n",
       "    </tr>\n",
       "    <tr>\n",
       "      <th>262138</th>\n",
       "      <td>78afa995795e4d85b5d9ceeca43f5fef</td>\n",
       "      <td>offer viewed</td>\n",
       "      <td>{'offer id': 'f19421c1d4aa40978ebb69ca19b0e20d'}</td>\n",
       "      <td>582</td>\n",
       "    </tr>\n",
       "  </tbody>\n",
       "</table>\n",
       "</div>"
      ],
      "text/plain": [
       "                                  person            event  \\\n",
       "0       78afa995795e4d85b5d9ceeca43f5fef   offer received   \n",
       "15561   78afa995795e4d85b5d9ceeca43f5fef     offer viewed   \n",
       "47582   78afa995795e4d85b5d9ceeca43f5fef      transaction   \n",
       "47583   78afa995795e4d85b5d9ceeca43f5fef  offer completed   \n",
       "49502   78afa995795e4d85b5d9ceeca43f5fef      transaction   \n",
       "53176   78afa995795e4d85b5d9ceeca43f5fef   offer received   \n",
       "85291   78afa995795e4d85b5d9ceeca43f5fef     offer viewed   \n",
       "87134   78afa995795e4d85b5d9ceeca43f5fef      transaction   \n",
       "92104   78afa995795e4d85b5d9ceeca43f5fef      transaction   \n",
       "141566  78afa995795e4d85b5d9ceeca43f5fef      transaction   \n",
       "150598  78afa995795e4d85b5d9ceeca43f5fef   offer received   \n",
       "163375  78afa995795e4d85b5d9ceeca43f5fef     offer viewed   \n",
       "201572  78afa995795e4d85b5d9ceeca43f5fef   offer received   \n",
       "218393  78afa995795e4d85b5d9ceeca43f5fef      transaction   \n",
       "218394  78afa995795e4d85b5d9ceeca43f5fef  offer completed   \n",
       "218395  78afa995795e4d85b5d9ceeca43f5fef  offer completed   \n",
       "230412  78afa995795e4d85b5d9ceeca43f5fef      transaction   \n",
       "262138  78afa995795e4d85b5d9ceeca43f5fef     offer viewed   \n",
       "\n",
       "                                                    value  time  \n",
       "0        {'offer id': '9b98b8c7a33c4b65b9aebfe6a799e6d9'}     0  \n",
       "15561    {'offer id': '9b98b8c7a33c4b65b9aebfe6a799e6d9'}     6  \n",
       "47582                                   {'amount': 19.89}   132  \n",
       "47583   {'offer_id': '9b98b8c7a33c4b65b9aebfe6a799e6d9...   132  \n",
       "49502                                   {'amount': 17.78}   144  \n",
       "53176    {'offer id': '5a8bc65990b245e5a138643cd4eb9837'}   168  \n",
       "85291    {'offer id': '5a8bc65990b245e5a138643cd4eb9837'}   216  \n",
       "87134                                   {'amount': 19.67}   222  \n",
       "92104                                   {'amount': 29.72}   240  \n",
       "141566                                  {'amount': 23.93}   378  \n",
       "150598   {'offer id': 'ae264e3637204a6fb9bb56bc8210ddfd'}   408  \n",
       "163375   {'offer id': 'ae264e3637204a6fb9bb56bc8210ddfd'}   408  \n",
       "201572   {'offer id': 'f19421c1d4aa40978ebb69ca19b0e20d'}   504  \n",
       "218393                                  {'amount': 21.72}   510  \n",
       "218394  {'offer_id': 'ae264e3637204a6fb9bb56bc8210ddfd...   510  \n",
       "218395  {'offer_id': 'f19421c1d4aa40978ebb69ca19b0e20d...   510  \n",
       "230412                                  {'amount': 26.56}   534  \n",
       "262138   {'offer id': 'f19421c1d4aa40978ebb69ca19b0e20d'}   582  "
      ]
     },
     "execution_count": 20,
     "metadata": {},
     "output_type": "execute_result"
    }
   ],
   "source": [
    "transcript[transcript.person == '78afa995795e4d85b5d9ceeca43f5fef']"
   ]
  },
  {
   "cell_type": "markdown",
   "metadata": {},
   "source": [
    "Note: We have many records for one person that are organized chronologically. 'Value' column is currently a json format with either 'offer_id' for offers completed, 'amount' of transactions and 'offer id' for offers received and offers viewed."
   ]
  },
  {
   "cell_type": "code",
   "execution_count": 21,
   "metadata": {},
   "outputs": [],
   "source": [
    "# normalize json in value column\n",
    "value_normalized = json_normalize(transcript['value'])"
   ]
  },
  {
   "cell_type": "code",
   "execution_count": 22,
   "metadata": {},
   "outputs": [
    {
     "data": {
      "text/html": [
       "<div>\n",
       "<style scoped>\n",
       "    .dataframe tbody tr th:only-of-type {\n",
       "        vertical-align: middle;\n",
       "    }\n",
       "\n",
       "    .dataframe tbody tr th {\n",
       "        vertical-align: top;\n",
       "    }\n",
       "\n",
       "    .dataframe thead th {\n",
       "        text-align: right;\n",
       "    }\n",
       "</style>\n",
       "<table border=\"1\" class=\"dataframe\">\n",
       "  <thead>\n",
       "    <tr style=\"text-align: right;\">\n",
       "      <th></th>\n",
       "      <th>offer id</th>\n",
       "      <th>amount</th>\n",
       "      <th>offer_id</th>\n",
       "      <th>reward</th>\n",
       "    </tr>\n",
       "  </thead>\n",
       "  <tbody>\n",
       "    <tr>\n",
       "      <th>0</th>\n",
       "      <td>9b98b8c7a33c4b65b9aebfe6a799e6d9</td>\n",
       "      <td>NaN</td>\n",
       "      <td>NaN</td>\n",
       "      <td>NaN</td>\n",
       "    </tr>\n",
       "    <tr>\n",
       "      <th>1</th>\n",
       "      <td>0b1e1539f2cc45b7b9fa7c272da2e1d7</td>\n",
       "      <td>NaN</td>\n",
       "      <td>NaN</td>\n",
       "      <td>NaN</td>\n",
       "    </tr>\n",
       "    <tr>\n",
       "      <th>2</th>\n",
       "      <td>2906b810c7d4411798c6938adc9daaa5</td>\n",
       "      <td>NaN</td>\n",
       "      <td>NaN</td>\n",
       "      <td>NaN</td>\n",
       "    </tr>\n",
       "    <tr>\n",
       "      <th>3</th>\n",
       "      <td>fafdcd668e3743c1bb461111dcafc2a4</td>\n",
       "      <td>NaN</td>\n",
       "      <td>NaN</td>\n",
       "      <td>NaN</td>\n",
       "    </tr>\n",
       "    <tr>\n",
       "      <th>4</th>\n",
       "      <td>4d5c57ea9a6940dd891ad53e9dbe8da0</td>\n",
       "      <td>NaN</td>\n",
       "      <td>NaN</td>\n",
       "      <td>NaN</td>\n",
       "    </tr>\n",
       "  </tbody>\n",
       "</table>\n",
       "</div>"
      ],
      "text/plain": [
       "                           offer id  amount offer_id  reward\n",
       "0  9b98b8c7a33c4b65b9aebfe6a799e6d9     NaN      NaN     NaN\n",
       "1  0b1e1539f2cc45b7b9fa7c272da2e1d7     NaN      NaN     NaN\n",
       "2  2906b810c7d4411798c6938adc9daaa5     NaN      NaN     NaN\n",
       "3  fafdcd668e3743c1bb461111dcafc2a4     NaN      NaN     NaN\n",
       "4  4d5c57ea9a6940dd891ad53e9dbe8da0     NaN      NaN     NaN"
      ]
     },
     "execution_count": 22,
     "metadata": {},
     "output_type": "execute_result"
    }
   ],
   "source": [
    "value_normalized.head()"
   ]
  },
  {
   "cell_type": "code",
   "execution_count": 23,
   "metadata": {},
   "outputs": [],
   "source": [
    "# merging the two columns 'offer id' and 'offer_id' into new one 'id'\n",
    "value_normalized['id'] = value_normalized['offer id'].fillna(value_normalized['offer_id'])"
   ]
  },
  {
   "cell_type": "code",
   "execution_count": 24,
   "metadata": {},
   "outputs": [],
   "source": [
    "# dropping the redundant columns 'offer id', 'offer_id'\n",
    "value_normalized = value_normalized.drop(['offer id', 'offer_id'], axis=1)"
   ]
  },
  {
   "cell_type": "code",
   "execution_count": 25,
   "metadata": {},
   "outputs": [],
   "source": [
    "#rename the column 'reward' to 'rewarded'\n",
    "value_normalized.rename(columns={value_normalized.columns[1]:'rewarded'}, inplace=True)"
   ]
  },
  {
   "cell_type": "code",
   "execution_count": 26,
   "metadata": {},
   "outputs": [
    {
     "data": {
      "text/html": [
       "<div>\n",
       "<style scoped>\n",
       "    .dataframe tbody tr th:only-of-type {\n",
       "        vertical-align: middle;\n",
       "    }\n",
       "\n",
       "    .dataframe tbody tr th {\n",
       "        vertical-align: top;\n",
       "    }\n",
       "\n",
       "    .dataframe thead th {\n",
       "        text-align: right;\n",
       "    }\n",
       "</style>\n",
       "<table border=\"1\" class=\"dataframe\">\n",
       "  <thead>\n",
       "    <tr style=\"text-align: right;\">\n",
       "      <th></th>\n",
       "      <th>amount</th>\n",
       "      <th>rewarded</th>\n",
       "      <th>id</th>\n",
       "    </tr>\n",
       "  </thead>\n",
       "  <tbody>\n",
       "    <tr>\n",
       "      <th>0</th>\n",
       "      <td>NaN</td>\n",
       "      <td>NaN</td>\n",
       "      <td>9b98b8c7a33c4b65b9aebfe6a799e6d9</td>\n",
       "    </tr>\n",
       "    <tr>\n",
       "      <th>1</th>\n",
       "      <td>NaN</td>\n",
       "      <td>NaN</td>\n",
       "      <td>0b1e1539f2cc45b7b9fa7c272da2e1d7</td>\n",
       "    </tr>\n",
       "    <tr>\n",
       "      <th>2</th>\n",
       "      <td>NaN</td>\n",
       "      <td>NaN</td>\n",
       "      <td>2906b810c7d4411798c6938adc9daaa5</td>\n",
       "    </tr>\n",
       "    <tr>\n",
       "      <th>3</th>\n",
       "      <td>NaN</td>\n",
       "      <td>NaN</td>\n",
       "      <td>fafdcd668e3743c1bb461111dcafc2a4</td>\n",
       "    </tr>\n",
       "    <tr>\n",
       "      <th>4</th>\n",
       "      <td>NaN</td>\n",
       "      <td>NaN</td>\n",
       "      <td>4d5c57ea9a6940dd891ad53e9dbe8da0</td>\n",
       "    </tr>\n",
       "  </tbody>\n",
       "</table>\n",
       "</div>"
      ],
      "text/plain": [
       "   amount  rewarded                                id\n",
       "0     NaN       NaN  9b98b8c7a33c4b65b9aebfe6a799e6d9\n",
       "1     NaN       NaN  0b1e1539f2cc45b7b9fa7c272da2e1d7\n",
       "2     NaN       NaN  2906b810c7d4411798c6938adc9daaa5\n",
       "3     NaN       NaN  fafdcd668e3743c1bb461111dcafc2a4\n",
       "4     NaN       NaN  4d5c57ea9a6940dd891ad53e9dbe8da0"
      ]
     },
     "execution_count": 26,
     "metadata": {},
     "output_type": "execute_result"
    }
   ],
   "source": [
    "value_normalized.head()"
   ]
  },
  {
   "cell_type": "code",
   "execution_count": 27,
   "metadata": {},
   "outputs": [],
   "source": [
    "# join value_normalized with transcript \n",
    "transcript_clean = transcript.join(value_normalized)"
   ]
  },
  {
   "cell_type": "code",
   "execution_count": 28,
   "metadata": {},
   "outputs": [],
   "source": [
    "# dropping 'value', 'event' columns\n",
    "transcript_clean = transcript_clean.drop(['value'], axis=1)"
   ]
  },
  {
   "cell_type": "code",
   "execution_count": 29,
   "metadata": {},
   "outputs": [],
   "source": [
    "# reorganize the order of columns\n",
    "transcript_clean = transcript_clean[['person', 'id', 'event', 'amount', 'rewarded', 'time']]"
   ]
  },
  {
   "cell_type": "code",
   "execution_count": 30,
   "metadata": {},
   "outputs": [
    {
     "data": {
      "text/html": [
       "<div>\n",
       "<style scoped>\n",
       "    .dataframe tbody tr th:only-of-type {\n",
       "        vertical-align: middle;\n",
       "    }\n",
       "\n",
       "    .dataframe tbody tr th {\n",
       "        vertical-align: top;\n",
       "    }\n",
       "\n",
       "    .dataframe thead th {\n",
       "        text-align: right;\n",
       "    }\n",
       "</style>\n",
       "<table border=\"1\" class=\"dataframe\">\n",
       "  <thead>\n",
       "    <tr style=\"text-align: right;\">\n",
       "      <th></th>\n",
       "      <th>person</th>\n",
       "      <th>id</th>\n",
       "      <th>event</th>\n",
       "      <th>amount</th>\n",
       "      <th>rewarded</th>\n",
       "      <th>time</th>\n",
       "    </tr>\n",
       "  </thead>\n",
       "  <tbody>\n",
       "    <tr>\n",
       "      <th>0</th>\n",
       "      <td>78afa995795e4d85b5d9ceeca43f5fef</td>\n",
       "      <td>9b98b8c7a33c4b65b9aebfe6a799e6d9</td>\n",
       "      <td>offer received</td>\n",
       "      <td>NaN</td>\n",
       "      <td>NaN</td>\n",
       "      <td>0</td>\n",
       "    </tr>\n",
       "    <tr>\n",
       "      <th>1</th>\n",
       "      <td>a03223e636434f42ac4c3df47e8bac43</td>\n",
       "      <td>0b1e1539f2cc45b7b9fa7c272da2e1d7</td>\n",
       "      <td>offer received</td>\n",
       "      <td>NaN</td>\n",
       "      <td>NaN</td>\n",
       "      <td>0</td>\n",
       "    </tr>\n",
       "    <tr>\n",
       "      <th>2</th>\n",
       "      <td>e2127556f4f64592b11af22de27a7932</td>\n",
       "      <td>2906b810c7d4411798c6938adc9daaa5</td>\n",
       "      <td>offer received</td>\n",
       "      <td>NaN</td>\n",
       "      <td>NaN</td>\n",
       "      <td>0</td>\n",
       "    </tr>\n",
       "    <tr>\n",
       "      <th>3</th>\n",
       "      <td>8ec6ce2a7e7949b1bf142def7d0e0586</td>\n",
       "      <td>fafdcd668e3743c1bb461111dcafc2a4</td>\n",
       "      <td>offer received</td>\n",
       "      <td>NaN</td>\n",
       "      <td>NaN</td>\n",
       "      <td>0</td>\n",
       "    </tr>\n",
       "    <tr>\n",
       "      <th>4</th>\n",
       "      <td>68617ca6246f4fbc85e91a2a49552598</td>\n",
       "      <td>4d5c57ea9a6940dd891ad53e9dbe8da0</td>\n",
       "      <td>offer received</td>\n",
       "      <td>NaN</td>\n",
       "      <td>NaN</td>\n",
       "      <td>0</td>\n",
       "    </tr>\n",
       "  </tbody>\n",
       "</table>\n",
       "</div>"
      ],
      "text/plain": [
       "                             person                                id  \\\n",
       "0  78afa995795e4d85b5d9ceeca43f5fef  9b98b8c7a33c4b65b9aebfe6a799e6d9   \n",
       "1  a03223e636434f42ac4c3df47e8bac43  0b1e1539f2cc45b7b9fa7c272da2e1d7   \n",
       "2  e2127556f4f64592b11af22de27a7932  2906b810c7d4411798c6938adc9daaa5   \n",
       "3  8ec6ce2a7e7949b1bf142def7d0e0586  fafdcd668e3743c1bb461111dcafc2a4   \n",
       "4  68617ca6246f4fbc85e91a2a49552598  4d5c57ea9a6940dd891ad53e9dbe8da0   \n",
       "\n",
       "            event  amount  rewarded  time  \n",
       "0  offer received     NaN       NaN     0  \n",
       "1  offer received     NaN       NaN     0  \n",
       "2  offer received     NaN       NaN     0  \n",
       "3  offer received     NaN       NaN     0  \n",
       "4  offer received     NaN       NaN     0  "
      ]
     },
     "execution_count": 30,
     "metadata": {},
     "output_type": "execute_result"
    }
   ],
   "source": [
    "transcript_clean.head()"
   ]
  },
  {
   "cell_type": "markdown",
   "metadata": {},
   "source": [
    "## Combining datasets\n",
    "\n",
    "1.1. Merging Profile and Transcript datasets on customer ids:"
   ]
  },
  {
   "cell_type": "code",
   "execution_count": 31,
   "metadata": {},
   "outputs": [
    {
     "data": {
      "text/plain": [
       "((17000, 5), (306534, 4))"
      ]
     },
     "execution_count": 31,
     "metadata": {},
     "output_type": "execute_result"
    }
   ],
   "source": [
    "# checking the number of rows in the datasets\n",
    "profile.shape, transcript.shape"
   ]
  },
  {
   "cell_type": "code",
   "execution_count": 32,
   "metadata": {},
   "outputs": [],
   "source": [
    "# because transcipt has more rows, we will do the right join\n",
    "df = profile.merge(transcript_clean, on='person', how='right')"
   ]
  },
  {
   "cell_type": "code",
   "execution_count": 33,
   "metadata": {},
   "outputs": [
    {
     "data": {
      "text/plain": [
       "(306534, 10)"
      ]
     },
     "execution_count": 33,
     "metadata": {},
     "output_type": "execute_result"
    }
   ],
   "source": [
    "df.shape"
   ]
  },
  {
   "cell_type": "markdown",
   "metadata": {},
   "source": [
    "1.2. Merging with Portfolio dataset"
   ]
  },
  {
   "cell_type": "code",
   "execution_count": 34,
   "metadata": {},
   "outputs": [],
   "source": [
    "starbucks = df.merge(portfolio, on='id', how='left')"
   ]
  },
  {
   "cell_type": "code",
   "execution_count": 35,
   "metadata": {},
   "outputs": [
    {
     "data": {
      "text/html": [
       "<div>\n",
       "<style scoped>\n",
       "    .dataframe tbody tr th:only-of-type {\n",
       "        vertical-align: middle;\n",
       "    }\n",
       "\n",
       "    .dataframe tbody tr th {\n",
       "        vertical-align: top;\n",
       "    }\n",
       "\n",
       "    .dataframe thead th {\n",
       "        text-align: right;\n",
       "    }\n",
       "</style>\n",
       "<table border=\"1\" class=\"dataframe\">\n",
       "  <thead>\n",
       "    <tr style=\"text-align: right;\">\n",
       "      <th></th>\n",
       "      <th>person</th>\n",
       "      <th>became_member_on</th>\n",
       "      <th>gender</th>\n",
       "      <th>age</th>\n",
       "      <th>income</th>\n",
       "      <th>id</th>\n",
       "      <th>event</th>\n",
       "      <th>amount</th>\n",
       "      <th>rewarded</th>\n",
       "      <th>time</th>\n",
       "      <th>reward</th>\n",
       "      <th>channels</th>\n",
       "      <th>difficulty</th>\n",
       "      <th>duration</th>\n",
       "      <th>offer_type</th>\n",
       "    </tr>\n",
       "  </thead>\n",
       "  <tbody>\n",
       "    <tr>\n",
       "      <th>0</th>\n",
       "      <td>68be06ca386d4c31939f3a4f0e3dd783</td>\n",
       "      <td>2017-02-12</td>\n",
       "      <td>NaN</td>\n",
       "      <td>NaN</td>\n",
       "      <td>NaN</td>\n",
       "      <td>2906b810c7d4411798c6938adc9daaa5</td>\n",
       "      <td>offer received</td>\n",
       "      <td>NaN</td>\n",
       "      <td>NaN</td>\n",
       "      <td>168</td>\n",
       "      <td>2.0</td>\n",
       "      <td>[web, email, mobile]</td>\n",
       "      <td>10.0</td>\n",
       "      <td>7.0</td>\n",
       "      <td>discount</td>\n",
       "    </tr>\n",
       "    <tr>\n",
       "      <th>1</th>\n",
       "      <td>68be06ca386d4c31939f3a4f0e3dd783</td>\n",
       "      <td>2017-02-12</td>\n",
       "      <td>NaN</td>\n",
       "      <td>NaN</td>\n",
       "      <td>NaN</td>\n",
       "      <td>2906b810c7d4411798c6938adc9daaa5</td>\n",
       "      <td>offer viewed</td>\n",
       "      <td>NaN</td>\n",
       "      <td>NaN</td>\n",
       "      <td>216</td>\n",
       "      <td>2.0</td>\n",
       "      <td>[web, email, mobile]</td>\n",
       "      <td>10.0</td>\n",
       "      <td>7.0</td>\n",
       "      <td>discount</td>\n",
       "    </tr>\n",
       "    <tr>\n",
       "      <th>2</th>\n",
       "      <td>68be06ca386d4c31939f3a4f0e3dd783</td>\n",
       "      <td>2017-02-12</td>\n",
       "      <td>NaN</td>\n",
       "      <td>NaN</td>\n",
       "      <td>NaN</td>\n",
       "      <td>0b1e1539f2cc45b7b9fa7c272da2e1d7</td>\n",
       "      <td>offer received</td>\n",
       "      <td>NaN</td>\n",
       "      <td>NaN</td>\n",
       "      <td>336</td>\n",
       "      <td>5.0</td>\n",
       "      <td>[web, email]</td>\n",
       "      <td>20.0</td>\n",
       "      <td>10.0</td>\n",
       "      <td>discount</td>\n",
       "    </tr>\n",
       "    <tr>\n",
       "      <th>3</th>\n",
       "      <td>68be06ca386d4c31939f3a4f0e3dd783</td>\n",
       "      <td>2017-02-12</td>\n",
       "      <td>NaN</td>\n",
       "      <td>NaN</td>\n",
       "      <td>NaN</td>\n",
       "      <td>0b1e1539f2cc45b7b9fa7c272da2e1d7</td>\n",
       "      <td>offer viewed</td>\n",
       "      <td>NaN</td>\n",
       "      <td>NaN</td>\n",
       "      <td>348</td>\n",
       "      <td>5.0</td>\n",
       "      <td>[web, email]</td>\n",
       "      <td>20.0</td>\n",
       "      <td>10.0</td>\n",
       "      <td>discount</td>\n",
       "    </tr>\n",
       "    <tr>\n",
       "      <th>4</th>\n",
       "      <td>68be06ca386d4c31939f3a4f0e3dd783</td>\n",
       "      <td>2017-02-12</td>\n",
       "      <td>NaN</td>\n",
       "      <td>NaN</td>\n",
       "      <td>NaN</td>\n",
       "      <td>NaN</td>\n",
       "      <td>transaction</td>\n",
       "      <td>0.35</td>\n",
       "      <td>NaN</td>\n",
       "      <td>360</td>\n",
       "      <td>NaN</td>\n",
       "      <td>NaN</td>\n",
       "      <td>NaN</td>\n",
       "      <td>NaN</td>\n",
       "      <td>NaN</td>\n",
       "    </tr>\n",
       "  </tbody>\n",
       "</table>\n",
       "</div>"
      ],
      "text/plain": [
       "                             person became_member_on gender  age  income  \\\n",
       "0  68be06ca386d4c31939f3a4f0e3dd783       2017-02-12    NaN  NaN     NaN   \n",
       "1  68be06ca386d4c31939f3a4f0e3dd783       2017-02-12    NaN  NaN     NaN   \n",
       "2  68be06ca386d4c31939f3a4f0e3dd783       2017-02-12    NaN  NaN     NaN   \n",
       "3  68be06ca386d4c31939f3a4f0e3dd783       2017-02-12    NaN  NaN     NaN   \n",
       "4  68be06ca386d4c31939f3a4f0e3dd783       2017-02-12    NaN  NaN     NaN   \n",
       "\n",
       "                                 id           event  amount  rewarded  time  \\\n",
       "0  2906b810c7d4411798c6938adc9daaa5  offer received     NaN       NaN   168   \n",
       "1  2906b810c7d4411798c6938adc9daaa5    offer viewed     NaN       NaN   216   \n",
       "2  0b1e1539f2cc45b7b9fa7c272da2e1d7  offer received     NaN       NaN   336   \n",
       "3  0b1e1539f2cc45b7b9fa7c272da2e1d7    offer viewed     NaN       NaN   348   \n",
       "4                               NaN     transaction    0.35       NaN   360   \n",
       "\n",
       "   reward              channels  difficulty  duration offer_type  \n",
       "0     2.0  [web, email, mobile]        10.0       7.0   discount  \n",
       "1     2.0  [web, email, mobile]        10.0       7.0   discount  \n",
       "2     5.0          [web, email]        20.0      10.0   discount  \n",
       "3     5.0          [web, email]        20.0      10.0   discount  \n",
       "4     NaN                   NaN         NaN       NaN        NaN  "
      ]
     },
     "execution_count": 35,
     "metadata": {},
     "output_type": "execute_result"
    }
   ],
   "source": [
    "starbucks.head()"
   ]
  },
  {
   "cell_type": "code",
   "execution_count": 36,
   "metadata": {},
   "outputs": [
    {
     "data": {
      "text/plain": [
       "(306534, 15)"
      ]
     },
     "execution_count": 36,
     "metadata": {},
     "output_type": "execute_result"
    }
   ],
   "source": [
    "starbucks.shape"
   ]
  },
  {
   "cell_type": "markdown",
   "metadata": {},
   "source": [
    "## One-hot encoding"
   ]
  },
  {
   "cell_type": "code",
   "execution_count": 37,
   "metadata": {},
   "outputs": [
    {
     "name": "stdout",
     "output_type": "stream",
     "text": [
      "<class 'pandas.core.frame.DataFrame'>\n",
      "Int64Index: 306534 entries, 0 to 306533\n",
      "Data columns (total 15 columns):\n",
      "person              306534 non-null object\n",
      "became_member_on    306534 non-null datetime64[ns]\n",
      "gender              272762 non-null object\n",
      "age                 272762 non-null float64\n",
      "income              272762 non-null float64\n",
      "id                  167581 non-null object\n",
      "event               306534 non-null object\n",
      "amount              138953 non-null float64\n",
      "rewarded            33579 non-null float64\n",
      "time                306534 non-null int64\n",
      "reward              167581 non-null float64\n",
      "channels            167581 non-null object\n",
      "difficulty          167581 non-null float64\n",
      "duration            167581 non-null float64\n",
      "offer_type          167581 non-null object\n",
      "dtypes: datetime64[ns](1), float64(7), int64(1), object(6)\n",
      "memory usage: 37.4+ MB\n"
     ]
    }
   ],
   "source": [
    "starbucks.info()"
   ]
  },
  {
   "cell_type": "markdown",
   "metadata": {},
   "source": [
    "Note: there are few columns that are categorical and need to be reencoded as dummies - event, offer_type, offer_subtype"
   ]
  },
  {
   "cell_type": "code",
   "execution_count": 38,
   "metadata": {},
   "outputs": [],
   "source": [
    "starbucks_fin = pd.get_dummies(starbucks, columns=['event', 'offer_type'])"
   ]
  },
  {
   "cell_type": "code",
   "execution_count": 39,
   "metadata": {},
   "outputs": [
    {
     "data": {
      "text/plain": [
       "Index(['person', 'became_member_on', 'gender', 'age', 'income', 'id', 'amount',\n",
       "       'rewarded', 'time', 'reward', 'channels', 'difficulty', 'duration',\n",
       "       'event_offer completed', 'event_offer received', 'event_offer viewed',\n",
       "       'event_transaction', 'offer_type_bogo', 'offer_type_discount',\n",
       "       'offer_type_informational'],\n",
       "      dtype='object')"
      ]
     },
     "execution_count": 39,
     "metadata": {},
     "output_type": "execute_result"
    }
   ],
   "source": [
    "starbucks_fin.columns"
   ]
  },
  {
   "cell_type": "code",
   "execution_count": 40,
   "metadata": {},
   "outputs": [],
   "source": [
    "# reordering the columns\n",
    "starbucks_fin = starbucks_fin[['person', 'became_member_on', 'age', 'income',\n",
    "                               'id', 'amount','rewarded', 'time', \n",
    "                               'event_offer completed', 'event_offer received', 'event_offer viewed',\n",
    "                               'event_transaction', 'offer_type_bogo', 'offer_type_discount',\n",
    "                               'offer_type_informational']]"
   ]
  },
  {
   "cell_type": "code",
   "execution_count": 41,
   "metadata": {},
   "outputs": [],
   "source": [
    "# renaming the columns\n",
    "starbucks_fin.columns = ['person', 'became_member_on', 'age', 'income', \n",
    "                         'id', 'amount','rewarded', 'time',\n",
    "                         'offer_completed', 'offer_received', 'offer_viewed',\n",
    "                         'transaction', 'bogo', 'discount', 'informational']"
   ]
  },
  {
   "cell_type": "code",
   "execution_count": 42,
   "metadata": {},
   "outputs": [
    {
     "data": {
      "text/html": [
       "<div>\n",
       "<style scoped>\n",
       "    .dataframe tbody tr th:only-of-type {\n",
       "        vertical-align: middle;\n",
       "    }\n",
       "\n",
       "    .dataframe tbody tr th {\n",
       "        vertical-align: top;\n",
       "    }\n",
       "\n",
       "    .dataframe thead th {\n",
       "        text-align: right;\n",
       "    }\n",
       "</style>\n",
       "<table border=\"1\" class=\"dataframe\">\n",
       "  <thead>\n",
       "    <tr style=\"text-align: right;\">\n",
       "      <th></th>\n",
       "      <th>person</th>\n",
       "      <th>became_member_on</th>\n",
       "      <th>age</th>\n",
       "      <th>income</th>\n",
       "      <th>id</th>\n",
       "      <th>amount</th>\n",
       "      <th>rewarded</th>\n",
       "      <th>time</th>\n",
       "      <th>offer_completed</th>\n",
       "      <th>offer_received</th>\n",
       "      <th>offer_viewed</th>\n",
       "      <th>transaction</th>\n",
       "      <th>bogo</th>\n",
       "      <th>discount</th>\n",
       "      <th>informational</th>\n",
       "    </tr>\n",
       "  </thead>\n",
       "  <tbody>\n",
       "    <tr>\n",
       "      <th>0</th>\n",
       "      <td>68be06ca386d4c31939f3a4f0e3dd783</td>\n",
       "      <td>2017-02-12</td>\n",
       "      <td>NaN</td>\n",
       "      <td>NaN</td>\n",
       "      <td>2906b810c7d4411798c6938adc9daaa5</td>\n",
       "      <td>NaN</td>\n",
       "      <td>NaN</td>\n",
       "      <td>168</td>\n",
       "      <td>0</td>\n",
       "      <td>1</td>\n",
       "      <td>0</td>\n",
       "      <td>0</td>\n",
       "      <td>0</td>\n",
       "      <td>1</td>\n",
       "      <td>0</td>\n",
       "    </tr>\n",
       "    <tr>\n",
       "      <th>1</th>\n",
       "      <td>68be06ca386d4c31939f3a4f0e3dd783</td>\n",
       "      <td>2017-02-12</td>\n",
       "      <td>NaN</td>\n",
       "      <td>NaN</td>\n",
       "      <td>2906b810c7d4411798c6938adc9daaa5</td>\n",
       "      <td>NaN</td>\n",
       "      <td>NaN</td>\n",
       "      <td>216</td>\n",
       "      <td>0</td>\n",
       "      <td>0</td>\n",
       "      <td>1</td>\n",
       "      <td>0</td>\n",
       "      <td>0</td>\n",
       "      <td>1</td>\n",
       "      <td>0</td>\n",
       "    </tr>\n",
       "    <tr>\n",
       "      <th>2</th>\n",
       "      <td>68be06ca386d4c31939f3a4f0e3dd783</td>\n",
       "      <td>2017-02-12</td>\n",
       "      <td>NaN</td>\n",
       "      <td>NaN</td>\n",
       "      <td>0b1e1539f2cc45b7b9fa7c272da2e1d7</td>\n",
       "      <td>NaN</td>\n",
       "      <td>NaN</td>\n",
       "      <td>336</td>\n",
       "      <td>0</td>\n",
       "      <td>1</td>\n",
       "      <td>0</td>\n",
       "      <td>0</td>\n",
       "      <td>0</td>\n",
       "      <td>1</td>\n",
       "      <td>0</td>\n",
       "    </tr>\n",
       "    <tr>\n",
       "      <th>3</th>\n",
       "      <td>68be06ca386d4c31939f3a4f0e3dd783</td>\n",
       "      <td>2017-02-12</td>\n",
       "      <td>NaN</td>\n",
       "      <td>NaN</td>\n",
       "      <td>0b1e1539f2cc45b7b9fa7c272da2e1d7</td>\n",
       "      <td>NaN</td>\n",
       "      <td>NaN</td>\n",
       "      <td>348</td>\n",
       "      <td>0</td>\n",
       "      <td>0</td>\n",
       "      <td>1</td>\n",
       "      <td>0</td>\n",
       "      <td>0</td>\n",
       "      <td>1</td>\n",
       "      <td>0</td>\n",
       "    </tr>\n",
       "    <tr>\n",
       "      <th>4</th>\n",
       "      <td>68be06ca386d4c31939f3a4f0e3dd783</td>\n",
       "      <td>2017-02-12</td>\n",
       "      <td>NaN</td>\n",
       "      <td>NaN</td>\n",
       "      <td>NaN</td>\n",
       "      <td>0.35</td>\n",
       "      <td>NaN</td>\n",
       "      <td>360</td>\n",
       "      <td>0</td>\n",
       "      <td>0</td>\n",
       "      <td>0</td>\n",
       "      <td>1</td>\n",
       "      <td>0</td>\n",
       "      <td>0</td>\n",
       "      <td>0</td>\n",
       "    </tr>\n",
       "  </tbody>\n",
       "</table>\n",
       "</div>"
      ],
      "text/plain": [
       "                             person became_member_on  age  income  \\\n",
       "0  68be06ca386d4c31939f3a4f0e3dd783       2017-02-12  NaN     NaN   \n",
       "1  68be06ca386d4c31939f3a4f0e3dd783       2017-02-12  NaN     NaN   \n",
       "2  68be06ca386d4c31939f3a4f0e3dd783       2017-02-12  NaN     NaN   \n",
       "3  68be06ca386d4c31939f3a4f0e3dd783       2017-02-12  NaN     NaN   \n",
       "4  68be06ca386d4c31939f3a4f0e3dd783       2017-02-12  NaN     NaN   \n",
       "\n",
       "                                 id  amount  rewarded  time  offer_completed  \\\n",
       "0  2906b810c7d4411798c6938adc9daaa5     NaN       NaN   168                0   \n",
       "1  2906b810c7d4411798c6938adc9daaa5     NaN       NaN   216                0   \n",
       "2  0b1e1539f2cc45b7b9fa7c272da2e1d7     NaN       NaN   336                0   \n",
       "3  0b1e1539f2cc45b7b9fa7c272da2e1d7     NaN       NaN   348                0   \n",
       "4                               NaN    0.35       NaN   360                0   \n",
       "\n",
       "   offer_received  offer_viewed  transaction  bogo  discount  informational  \n",
       "0               1             0            0     0         1              0  \n",
       "1               0             1            0     0         1              0  \n",
       "2               1             0            0     0         1              0  \n",
       "3               0             1            0     0         1              0  \n",
       "4               0             0            1     0         0              0  "
      ]
     },
     "execution_count": 42,
     "metadata": {},
     "output_type": "execute_result"
    }
   ],
   "source": [
    "starbucks_fin.head()"
   ]
  },
  {
   "cell_type": "code",
   "execution_count": 43,
   "metadata": {},
   "outputs": [
    {
     "data": {
      "text/plain": [
       "(306534, 15)"
      ]
     },
     "execution_count": 43,
     "metadata": {},
     "output_type": "execute_result"
    }
   ],
   "source": [
    "starbucks_fin.shape"
   ]
  },
  {
   "cell_type": "markdown",
   "metadata": {},
   "source": [
    "## Aggregation\n",
    "\n",
    "1.  at person level - total_amount, total_rewarded, offers_received, offers_viewed, offers_completed\n"
   ]
  },
  {
   "cell_type": "code",
   "execution_count": 199,
   "metadata": {},
   "outputs": [],
   "source": [
    "aggr_by_person = pd.DataFrame(starbucks_fin.groupby('person')['amount', 'rewarded', 'transaction', 'offer_received', 'offer_viewed', 'offer_completed'].sum()).reset_index()"
   ]
  },
  {
   "cell_type": "code",
   "execution_count": 200,
   "metadata": {},
   "outputs": [],
   "source": [
    "#rename columns\n",
    "aggr_by_person.columns = ['person','total_amount', 'total_rewarded', 'transactions_num', 'offers_received', 'offers_viewed', 'offers_completed']"
   ]
  },
  {
   "cell_type": "code",
   "execution_count": 201,
   "metadata": {},
   "outputs": [
    {
     "data": {
      "text/html": [
       "<div>\n",
       "<style scoped>\n",
       "    .dataframe tbody tr th:only-of-type {\n",
       "        vertical-align: middle;\n",
       "    }\n",
       "\n",
       "    .dataframe tbody tr th {\n",
       "        vertical-align: top;\n",
       "    }\n",
       "\n",
       "    .dataframe thead th {\n",
       "        text-align: right;\n",
       "    }\n",
       "</style>\n",
       "<table border=\"1\" class=\"dataframe\">\n",
       "  <thead>\n",
       "    <tr style=\"text-align: right;\">\n",
       "      <th></th>\n",
       "      <th>person</th>\n",
       "      <th>total_amount</th>\n",
       "      <th>total_rewarded</th>\n",
       "      <th>transactions_num</th>\n",
       "      <th>offers_received</th>\n",
       "      <th>offers_viewed</th>\n",
       "      <th>offers_completed</th>\n",
       "    </tr>\n",
       "  </thead>\n",
       "  <tbody>\n",
       "    <tr>\n",
       "      <th>0</th>\n",
       "      <td>0009655768c64bdeb2e877511632db8f</td>\n",
       "      <td>127.60</td>\n",
       "      <td>9.0</td>\n",
       "      <td>8</td>\n",
       "      <td>5</td>\n",
       "      <td>4</td>\n",
       "      <td>3</td>\n",
       "    </tr>\n",
       "    <tr>\n",
       "      <th>1</th>\n",
       "      <td>00116118485d4dfda04fdbaba9a87b5c</td>\n",
       "      <td>4.09</td>\n",
       "      <td>0.0</td>\n",
       "      <td>3</td>\n",
       "      <td>2</td>\n",
       "      <td>2</td>\n",
       "      <td>0</td>\n",
       "    </tr>\n",
       "    <tr>\n",
       "      <th>2</th>\n",
       "      <td>0011e0d4e6b944f998e987f904e8c1e5</td>\n",
       "      <td>79.46</td>\n",
       "      <td>13.0</td>\n",
       "      <td>5</td>\n",
       "      <td>5</td>\n",
       "      <td>5</td>\n",
       "      <td>3</td>\n",
       "    </tr>\n",
       "    <tr>\n",
       "      <th>3</th>\n",
       "      <td>0020c2b971eb4e9188eac86d93036a77</td>\n",
       "      <td>196.86</td>\n",
       "      <td>14.0</td>\n",
       "      <td>8</td>\n",
       "      <td>5</td>\n",
       "      <td>3</td>\n",
       "      <td>3</td>\n",
       "    </tr>\n",
       "    <tr>\n",
       "      <th>4</th>\n",
       "      <td>0020ccbbb6d84e358d3414a3ff76cffd</td>\n",
       "      <td>154.05</td>\n",
       "      <td>13.0</td>\n",
       "      <td>12</td>\n",
       "      <td>4</td>\n",
       "      <td>4</td>\n",
       "      <td>3</td>\n",
       "    </tr>\n",
       "  </tbody>\n",
       "</table>\n",
       "</div>"
      ],
      "text/plain": [
       "                             person  total_amount  total_rewarded  \\\n",
       "0  0009655768c64bdeb2e877511632db8f        127.60             9.0   \n",
       "1  00116118485d4dfda04fdbaba9a87b5c          4.09             0.0   \n",
       "2  0011e0d4e6b944f998e987f904e8c1e5         79.46            13.0   \n",
       "3  0020c2b971eb4e9188eac86d93036a77        196.86            14.0   \n",
       "4  0020ccbbb6d84e358d3414a3ff76cffd        154.05            13.0   \n",
       "\n",
       "   transactions_num  offers_received  offers_viewed  offers_completed  \n",
       "0                 8                5              4                 3  \n",
       "1                 3                2              2                 0  \n",
       "2                 5                5              5                 3  \n",
       "3                 8                5              3                 3  \n",
       "4                12                4              4                 3  "
      ]
     },
     "execution_count": 201,
     "metadata": {},
     "output_type": "execute_result"
    }
   ],
   "source": [
    "aggr_by_person.head()"
   ]
  },
  {
   "cell_type": "code",
   "execution_count": 202,
   "metadata": {},
   "outputs": [
    {
     "data": {
      "text/plain": [
       "(17000, 7)"
      ]
     },
     "execution_count": 202,
     "metadata": {},
     "output_type": "execute_result"
    }
   ],
   "source": [
    "aggr_by_person.shape"
   ]
  },
  {
   "cell_type": "markdown",
   "metadata": {},
   "source": [
    "2. at personal level - number of offer types "
   ]
  },
  {
   "cell_type": "code",
   "execution_count": 203,
   "metadata": {},
   "outputs": [],
   "source": [
    "aggr = aggr_by_person.copy()\n",
    "for offer_type in ['bogo', 'discount', 'informational']:\n",
    "    for event in ['offer_received', 'offer_viewed', 'offer_completed']:\n",
    "        total = pd.DataFrame(starbucks_fin.groupby(['person', offer_type])[event].sum()).reset_index()\n",
    "        total = total[total[offer_type] == 1]\n",
    "        total = total.drop(offer_type, axis=1)\n",
    "        new_col_title = offer_type + '_' + event.split('_')[1]\n",
    "        total.columns = ['person', new_col_title]\n",
    "        aggr = aggr.merge(total, on='person', how='left')\n",
    "        \n",
    "aggr.drop(['informational_completed'], axis=1, inplace=True)"
   ]
  },
  {
   "cell_type": "code",
   "execution_count": 204,
   "metadata": {},
   "outputs": [
    {
     "data": {
      "text/html": [
       "<div>\n",
       "<style scoped>\n",
       "    .dataframe tbody tr th:only-of-type {\n",
       "        vertical-align: middle;\n",
       "    }\n",
       "\n",
       "    .dataframe tbody tr th {\n",
       "        vertical-align: top;\n",
       "    }\n",
       "\n",
       "    .dataframe thead th {\n",
       "        text-align: right;\n",
       "    }\n",
       "</style>\n",
       "<table border=\"1\" class=\"dataframe\">\n",
       "  <thead>\n",
       "    <tr style=\"text-align: right;\">\n",
       "      <th></th>\n",
       "      <th>person</th>\n",
       "      <th>total_amount</th>\n",
       "      <th>total_rewarded</th>\n",
       "      <th>transactions_num</th>\n",
       "      <th>offers_received</th>\n",
       "      <th>offers_viewed</th>\n",
       "      <th>offers_completed</th>\n",
       "      <th>bogo_received</th>\n",
       "      <th>bogo_viewed</th>\n",
       "      <th>bogo_completed</th>\n",
       "      <th>discount_received</th>\n",
       "      <th>discount_viewed</th>\n",
       "      <th>discount_completed</th>\n",
       "      <th>informational_received</th>\n",
       "      <th>informational_viewed</th>\n",
       "    </tr>\n",
       "  </thead>\n",
       "  <tbody>\n",
       "    <tr>\n",
       "      <th>0</th>\n",
       "      <td>0009655768c64bdeb2e877511632db8f</td>\n",
       "      <td>127.60</td>\n",
       "      <td>9.0</td>\n",
       "      <td>8</td>\n",
       "      <td>5</td>\n",
       "      <td>4</td>\n",
       "      <td>3</td>\n",
       "      <td>1.0</td>\n",
       "      <td>1.0</td>\n",
       "      <td>1.0</td>\n",
       "      <td>2.0</td>\n",
       "      <td>1.0</td>\n",
       "      <td>2.0</td>\n",
       "      <td>2.0</td>\n",
       "      <td>2.0</td>\n",
       "    </tr>\n",
       "    <tr>\n",
       "      <th>1</th>\n",
       "      <td>00116118485d4dfda04fdbaba9a87b5c</td>\n",
       "      <td>4.09</td>\n",
       "      <td>0.0</td>\n",
       "      <td>3</td>\n",
       "      <td>2</td>\n",
       "      <td>2</td>\n",
       "      <td>0</td>\n",
       "      <td>2.0</td>\n",
       "      <td>2.0</td>\n",
       "      <td>0.0</td>\n",
       "      <td>NaN</td>\n",
       "      <td>NaN</td>\n",
       "      <td>NaN</td>\n",
       "      <td>NaN</td>\n",
       "      <td>NaN</td>\n",
       "    </tr>\n",
       "    <tr>\n",
       "      <th>2</th>\n",
       "      <td>0011e0d4e6b944f998e987f904e8c1e5</td>\n",
       "      <td>79.46</td>\n",
       "      <td>13.0</td>\n",
       "      <td>5</td>\n",
       "      <td>5</td>\n",
       "      <td>5</td>\n",
       "      <td>3</td>\n",
       "      <td>1.0</td>\n",
       "      <td>1.0</td>\n",
       "      <td>1.0</td>\n",
       "      <td>2.0</td>\n",
       "      <td>2.0</td>\n",
       "      <td>2.0</td>\n",
       "      <td>2.0</td>\n",
       "      <td>2.0</td>\n",
       "    </tr>\n",
       "    <tr>\n",
       "      <th>3</th>\n",
       "      <td>0020c2b971eb4e9188eac86d93036a77</td>\n",
       "      <td>196.86</td>\n",
       "      <td>14.0</td>\n",
       "      <td>8</td>\n",
       "      <td>5</td>\n",
       "      <td>3</td>\n",
       "      <td>3</td>\n",
       "      <td>2.0</td>\n",
       "      <td>1.0</td>\n",
       "      <td>1.0</td>\n",
       "      <td>2.0</td>\n",
       "      <td>1.0</td>\n",
       "      <td>2.0</td>\n",
       "      <td>1.0</td>\n",
       "      <td>1.0</td>\n",
       "    </tr>\n",
       "    <tr>\n",
       "      <th>4</th>\n",
       "      <td>0020ccbbb6d84e358d3414a3ff76cffd</td>\n",
       "      <td>154.05</td>\n",
       "      <td>13.0</td>\n",
       "      <td>12</td>\n",
       "      <td>4</td>\n",
       "      <td>4</td>\n",
       "      <td>3</td>\n",
       "      <td>2.0</td>\n",
       "      <td>2.0</td>\n",
       "      <td>2.0</td>\n",
       "      <td>1.0</td>\n",
       "      <td>1.0</td>\n",
       "      <td>1.0</td>\n",
       "      <td>1.0</td>\n",
       "      <td>1.0</td>\n",
       "    </tr>\n",
       "  </tbody>\n",
       "</table>\n",
       "</div>"
      ],
      "text/plain": [
       "                             person  total_amount  total_rewarded  \\\n",
       "0  0009655768c64bdeb2e877511632db8f        127.60             9.0   \n",
       "1  00116118485d4dfda04fdbaba9a87b5c          4.09             0.0   \n",
       "2  0011e0d4e6b944f998e987f904e8c1e5         79.46            13.0   \n",
       "3  0020c2b971eb4e9188eac86d93036a77        196.86            14.0   \n",
       "4  0020ccbbb6d84e358d3414a3ff76cffd        154.05            13.0   \n",
       "\n",
       "   transactions_num  offers_received  offers_viewed  offers_completed  \\\n",
       "0                 8                5              4                 3   \n",
       "1                 3                2              2                 0   \n",
       "2                 5                5              5                 3   \n",
       "3                 8                5              3                 3   \n",
       "4                12                4              4                 3   \n",
       "\n",
       "   bogo_received  bogo_viewed  bogo_completed  discount_received  \\\n",
       "0            1.0          1.0             1.0                2.0   \n",
       "1            2.0          2.0             0.0                NaN   \n",
       "2            1.0          1.0             1.0                2.0   \n",
       "3            2.0          1.0             1.0                2.0   \n",
       "4            2.0          2.0             2.0                1.0   \n",
       "\n",
       "   discount_viewed  discount_completed  informational_received  \\\n",
       "0              1.0                 2.0                     2.0   \n",
       "1              NaN                 NaN                     NaN   \n",
       "2              2.0                 2.0                     2.0   \n",
       "3              1.0                 2.0                     1.0   \n",
       "4              1.0                 1.0                     1.0   \n",
       "\n",
       "   informational_viewed  \n",
       "0                   2.0  \n",
       "1                   NaN  \n",
       "2                   2.0  \n",
       "3                   1.0  \n",
       "4                   1.0  "
      ]
     },
     "execution_count": 204,
     "metadata": {},
     "output_type": "execute_result"
    }
   ],
   "source": [
    "aggr.head()"
   ]
  },
  {
   "cell_type": "markdown",
   "metadata": {},
   "source": [
    "Note: NaNs in bogo_received, bogo_viewed, bogo_completed mean that no bogos were received.\n",
    "the same is true about other offer types."
   ]
  },
  {
   "cell_type": "code",
   "execution_count": 205,
   "metadata": {},
   "outputs": [
    {
     "data": {
      "text/plain": [
       "(17000, 15)"
      ]
     },
     "execution_count": 205,
     "metadata": {},
     "output_type": "execute_result"
    }
   ],
   "source": [
    "aggr.shape"
   ]
  },
  {
   "cell_type": "code",
   "execution_count": 206,
   "metadata": {},
   "outputs": [],
   "source": [
    "#merge with demographic info\n",
    "starbucks_aggr = profile.merge(aggr, on='person')"
   ]
  },
  {
   "cell_type": "code",
   "execution_count": 207,
   "metadata": {},
   "outputs": [
    {
     "data": {
      "text/plain": [
       "(17000, 19)"
      ]
     },
     "execution_count": 207,
     "metadata": {},
     "output_type": "execute_result"
    }
   ],
   "source": [
    "starbucks_aggr.shape"
   ]
  },
  {
   "cell_type": "code",
   "execution_count": 208,
   "metadata": {},
   "outputs": [
    {
     "data": {
      "text/html": [
       "<div>\n",
       "<style scoped>\n",
       "    .dataframe tbody tr th:only-of-type {\n",
       "        vertical-align: middle;\n",
       "    }\n",
       "\n",
       "    .dataframe tbody tr th {\n",
       "        vertical-align: top;\n",
       "    }\n",
       "\n",
       "    .dataframe thead th {\n",
       "        text-align: right;\n",
       "    }\n",
       "</style>\n",
       "<table border=\"1\" class=\"dataframe\">\n",
       "  <thead>\n",
       "    <tr style=\"text-align: right;\">\n",
       "      <th></th>\n",
       "      <th>person</th>\n",
       "      <th>became_member_on</th>\n",
       "      <th>gender</th>\n",
       "      <th>age</th>\n",
       "      <th>income</th>\n",
       "      <th>total_amount</th>\n",
       "      <th>total_rewarded</th>\n",
       "      <th>transactions_num</th>\n",
       "      <th>offers_received</th>\n",
       "      <th>offers_viewed</th>\n",
       "      <th>offers_completed</th>\n",
       "      <th>bogo_received</th>\n",
       "      <th>bogo_viewed</th>\n",
       "      <th>bogo_completed</th>\n",
       "      <th>discount_received</th>\n",
       "      <th>discount_viewed</th>\n",
       "      <th>discount_completed</th>\n",
       "      <th>informational_received</th>\n",
       "      <th>informational_viewed</th>\n",
       "    </tr>\n",
       "  </thead>\n",
       "  <tbody>\n",
       "    <tr>\n",
       "      <th>0</th>\n",
       "      <td>68be06ca386d4c31939f3a4f0e3dd783</td>\n",
       "      <td>2017-02-12</td>\n",
       "      <td>NaN</td>\n",
       "      <td>NaN</td>\n",
       "      <td>NaN</td>\n",
       "      <td>20.40</td>\n",
       "      <td>5.0</td>\n",
       "      <td>9</td>\n",
       "      <td>5</td>\n",
       "      <td>5</td>\n",
       "      <td>2</td>\n",
       "      <td>NaN</td>\n",
       "      <td>NaN</td>\n",
       "      <td>NaN</td>\n",
       "      <td>5.0</td>\n",
       "      <td>5.0</td>\n",
       "      <td>2.0</td>\n",
       "      <td>NaN</td>\n",
       "      <td>NaN</td>\n",
       "    </tr>\n",
       "    <tr>\n",
       "      <th>1</th>\n",
       "      <td>0610b486422d4921ae7d2bf64640c50b</td>\n",
       "      <td>2017-07-15</td>\n",
       "      <td>F</td>\n",
       "      <td>55.0</td>\n",
       "      <td>112000.0</td>\n",
       "      <td>77.01</td>\n",
       "      <td>5.0</td>\n",
       "      <td>3</td>\n",
       "      <td>2</td>\n",
       "      <td>0</td>\n",
       "      <td>1</td>\n",
       "      <td>1.0</td>\n",
       "      <td>0.0</td>\n",
       "      <td>1.0</td>\n",
       "      <td>NaN</td>\n",
       "      <td>NaN</td>\n",
       "      <td>NaN</td>\n",
       "      <td>1.0</td>\n",
       "      <td>0.0</td>\n",
       "    </tr>\n",
       "    <tr>\n",
       "      <th>2</th>\n",
       "      <td>38fe809add3b4fcf9315a9694bb96ff5</td>\n",
       "      <td>2018-07-12</td>\n",
       "      <td>NaN</td>\n",
       "      <td>NaN</td>\n",
       "      <td>NaN</td>\n",
       "      <td>14.30</td>\n",
       "      <td>0.0</td>\n",
       "      <td>6</td>\n",
       "      <td>2</td>\n",
       "      <td>2</td>\n",
       "      <td>0</td>\n",
       "      <td>1.0</td>\n",
       "      <td>1.0</td>\n",
       "      <td>0.0</td>\n",
       "      <td>NaN</td>\n",
       "      <td>NaN</td>\n",
       "      <td>NaN</td>\n",
       "      <td>1.0</td>\n",
       "      <td>1.0</td>\n",
       "    </tr>\n",
       "    <tr>\n",
       "      <th>3</th>\n",
       "      <td>78afa995795e4d85b5d9ceeca43f5fef</td>\n",
       "      <td>2017-05-09</td>\n",
       "      <td>F</td>\n",
       "      <td>75.0</td>\n",
       "      <td>100000.0</td>\n",
       "      <td>159.27</td>\n",
       "      <td>20.0</td>\n",
       "      <td>7</td>\n",
       "      <td>4</td>\n",
       "      <td>4</td>\n",
       "      <td>3</td>\n",
       "      <td>3.0</td>\n",
       "      <td>3.0</td>\n",
       "      <td>3.0</td>\n",
       "      <td>NaN</td>\n",
       "      <td>NaN</td>\n",
       "      <td>NaN</td>\n",
       "      <td>1.0</td>\n",
       "      <td>1.0</td>\n",
       "    </tr>\n",
       "    <tr>\n",
       "      <th>4</th>\n",
       "      <td>a03223e636434f42ac4c3df47e8bac43</td>\n",
       "      <td>2017-08-04</td>\n",
       "      <td>NaN</td>\n",
       "      <td>NaN</td>\n",
       "      <td>NaN</td>\n",
       "      <td>4.65</td>\n",
       "      <td>0.0</td>\n",
       "      <td>3</td>\n",
       "      <td>5</td>\n",
       "      <td>3</td>\n",
       "      <td>0</td>\n",
       "      <td>NaN</td>\n",
       "      <td>NaN</td>\n",
       "      <td>NaN</td>\n",
       "      <td>3.0</td>\n",
       "      <td>2.0</td>\n",
       "      <td>0.0</td>\n",
       "      <td>2.0</td>\n",
       "      <td>1.0</td>\n",
       "    </tr>\n",
       "    <tr>\n",
       "      <th>5</th>\n",
       "      <td>e2127556f4f64592b11af22de27a7932</td>\n",
       "      <td>2018-04-26</td>\n",
       "      <td>M</td>\n",
       "      <td>68.0</td>\n",
       "      <td>70000.0</td>\n",
       "      <td>57.73</td>\n",
       "      <td>7.0</td>\n",
       "      <td>3</td>\n",
       "      <td>4</td>\n",
       "      <td>3</td>\n",
       "      <td>2</td>\n",
       "      <td>1.0</td>\n",
       "      <td>1.0</td>\n",
       "      <td>1.0</td>\n",
       "      <td>2.0</td>\n",
       "      <td>2.0</td>\n",
       "      <td>1.0</td>\n",
       "      <td>1.0</td>\n",
       "      <td>0.0</td>\n",
       "    </tr>\n",
       "    <tr>\n",
       "      <th>6</th>\n",
       "      <td>8ec6ce2a7e7949b1bf142def7d0e0586</td>\n",
       "      <td>2017-09-25</td>\n",
       "      <td>NaN</td>\n",
       "      <td>NaN</td>\n",
       "      <td>NaN</td>\n",
       "      <td>0.00</td>\n",
       "      <td>0.0</td>\n",
       "      <td>0</td>\n",
       "      <td>5</td>\n",
       "      <td>5</td>\n",
       "      <td>0</td>\n",
       "      <td>1.0</td>\n",
       "      <td>1.0</td>\n",
       "      <td>0.0</td>\n",
       "      <td>3.0</td>\n",
       "      <td>3.0</td>\n",
       "      <td>0.0</td>\n",
       "      <td>1.0</td>\n",
       "      <td>1.0</td>\n",
       "    </tr>\n",
       "    <tr>\n",
       "      <th>7</th>\n",
       "      <td>68617ca6246f4fbc85e91a2a49552598</td>\n",
       "      <td>2017-10-02</td>\n",
       "      <td>NaN</td>\n",
       "      <td>NaN</td>\n",
       "      <td>NaN</td>\n",
       "      <td>0.24</td>\n",
       "      <td>0.0</td>\n",
       "      <td>2</td>\n",
       "      <td>5</td>\n",
       "      <td>4</td>\n",
       "      <td>0</td>\n",
       "      <td>3.0</td>\n",
       "      <td>2.0</td>\n",
       "      <td>0.0</td>\n",
       "      <td>2.0</td>\n",
       "      <td>2.0</td>\n",
       "      <td>0.0</td>\n",
       "      <td>NaN</td>\n",
       "      <td>NaN</td>\n",
       "    </tr>\n",
       "    <tr>\n",
       "      <th>8</th>\n",
       "      <td>389bc3fa690240e798340f5a15918d5c</td>\n",
       "      <td>2018-02-09</td>\n",
       "      <td>M</td>\n",
       "      <td>65.0</td>\n",
       "      <td>53000.0</td>\n",
       "      <td>36.43</td>\n",
       "      <td>19.0</td>\n",
       "      <td>3</td>\n",
       "      <td>6</td>\n",
       "      <td>6</td>\n",
       "      <td>5</td>\n",
       "      <td>4.0</td>\n",
       "      <td>4.0</td>\n",
       "      <td>3.0</td>\n",
       "      <td>2.0</td>\n",
       "      <td>2.0</td>\n",
       "      <td>2.0</td>\n",
       "      <td>NaN</td>\n",
       "      <td>NaN</td>\n",
       "    </tr>\n",
       "    <tr>\n",
       "      <th>9</th>\n",
       "      <td>8974fc5686fe429db53ddde067b88302</td>\n",
       "      <td>2016-11-22</td>\n",
       "      <td>NaN</td>\n",
       "      <td>NaN</td>\n",
       "      <td>NaN</td>\n",
       "      <td>15.62</td>\n",
       "      <td>5.0</td>\n",
       "      <td>6</td>\n",
       "      <td>4</td>\n",
       "      <td>3</td>\n",
       "      <td>1</td>\n",
       "      <td>3.0</td>\n",
       "      <td>2.0</td>\n",
       "      <td>1.0</td>\n",
       "      <td>NaN</td>\n",
       "      <td>NaN</td>\n",
       "      <td>NaN</td>\n",
       "      <td>1.0</td>\n",
       "      <td>1.0</td>\n",
       "    </tr>\n",
       "  </tbody>\n",
       "</table>\n",
       "</div>"
      ],
      "text/plain": [
       "                             person became_member_on gender   age    income  \\\n",
       "0  68be06ca386d4c31939f3a4f0e3dd783       2017-02-12    NaN   NaN       NaN   \n",
       "1  0610b486422d4921ae7d2bf64640c50b       2017-07-15      F  55.0  112000.0   \n",
       "2  38fe809add3b4fcf9315a9694bb96ff5       2018-07-12    NaN   NaN       NaN   \n",
       "3  78afa995795e4d85b5d9ceeca43f5fef       2017-05-09      F  75.0  100000.0   \n",
       "4  a03223e636434f42ac4c3df47e8bac43       2017-08-04    NaN   NaN       NaN   \n",
       "5  e2127556f4f64592b11af22de27a7932       2018-04-26      M  68.0   70000.0   \n",
       "6  8ec6ce2a7e7949b1bf142def7d0e0586       2017-09-25    NaN   NaN       NaN   \n",
       "7  68617ca6246f4fbc85e91a2a49552598       2017-10-02    NaN   NaN       NaN   \n",
       "8  389bc3fa690240e798340f5a15918d5c       2018-02-09      M  65.0   53000.0   \n",
       "9  8974fc5686fe429db53ddde067b88302       2016-11-22    NaN   NaN       NaN   \n",
       "\n",
       "   total_amount  total_rewarded  transactions_num  offers_received  \\\n",
       "0         20.40             5.0                 9                5   \n",
       "1         77.01             5.0                 3                2   \n",
       "2         14.30             0.0                 6                2   \n",
       "3        159.27            20.0                 7                4   \n",
       "4          4.65             0.0                 3                5   \n",
       "5         57.73             7.0                 3                4   \n",
       "6          0.00             0.0                 0                5   \n",
       "7          0.24             0.0                 2                5   \n",
       "8         36.43            19.0                 3                6   \n",
       "9         15.62             5.0                 6                4   \n",
       "\n",
       "   offers_viewed  offers_completed  bogo_received  bogo_viewed  \\\n",
       "0              5                 2            NaN          NaN   \n",
       "1              0                 1            1.0          0.0   \n",
       "2              2                 0            1.0          1.0   \n",
       "3              4                 3            3.0          3.0   \n",
       "4              3                 0            NaN          NaN   \n",
       "5              3                 2            1.0          1.0   \n",
       "6              5                 0            1.0          1.0   \n",
       "7              4                 0            3.0          2.0   \n",
       "8              6                 5            4.0          4.0   \n",
       "9              3                 1            3.0          2.0   \n",
       "\n",
       "   bogo_completed  discount_received  discount_viewed  discount_completed  \\\n",
       "0             NaN                5.0              5.0                 2.0   \n",
       "1             1.0                NaN              NaN                 NaN   \n",
       "2             0.0                NaN              NaN                 NaN   \n",
       "3             3.0                NaN              NaN                 NaN   \n",
       "4             NaN                3.0              2.0                 0.0   \n",
       "5             1.0                2.0              2.0                 1.0   \n",
       "6             0.0                3.0              3.0                 0.0   \n",
       "7             0.0                2.0              2.0                 0.0   \n",
       "8             3.0                2.0              2.0                 2.0   \n",
       "9             1.0                NaN              NaN                 NaN   \n",
       "\n",
       "   informational_received  informational_viewed  \n",
       "0                     NaN                   NaN  \n",
       "1                     1.0                   0.0  \n",
       "2                     1.0                   1.0  \n",
       "3                     1.0                   1.0  \n",
       "4                     2.0                   1.0  \n",
       "5                     1.0                   0.0  \n",
       "6                     1.0                   1.0  \n",
       "7                     NaN                   NaN  \n",
       "8                     NaN                   NaN  \n",
       "9                     1.0                   1.0  "
      ]
     },
     "execution_count": 208,
     "metadata": {},
     "output_type": "execute_result"
    }
   ],
   "source": [
    "starbucks_aggr.head(10)"
   ]
  },
  {
   "cell_type": "markdown",
   "metadata": {},
   "source": [
    "3. at personal level - total_bogo, total_discount in \\\\$"
   ]
  },
  {
   "cell_type": "code",
   "execution_count": 209,
   "metadata": {},
   "outputs": [],
   "source": [
    "aggr2 = aggr_by_person.copy()[['person']]\n",
    "for offer_type in ['bogo', 'discount']:\n",
    "    total = pd.DataFrame(starbucks_fin.groupby(['person', offer_type, 'offer_completed'])['rewarded'].sum()).reset_index()\n",
    "    total = total[(total[offer_type] == 1) & (total['offer_completed'] == 1)]\n",
    "    total = total.drop([offer_type, 'offer_completed'], axis=1)\n",
    "    new_col_title = 'total_'+ offer_type\n",
    "    total.columns = ['person', new_col_title]\n",
    "    aggr2 = aggr2.merge(total, on='person', how='left')"
   ]
  },
  {
   "cell_type": "code",
   "execution_count": 210,
   "metadata": {},
   "outputs": [
    {
     "data": {
      "text/html": [
       "<div>\n",
       "<style scoped>\n",
       "    .dataframe tbody tr th:only-of-type {\n",
       "        vertical-align: middle;\n",
       "    }\n",
       "\n",
       "    .dataframe tbody tr th {\n",
       "        vertical-align: top;\n",
       "    }\n",
       "\n",
       "    .dataframe thead th {\n",
       "        text-align: right;\n",
       "    }\n",
       "</style>\n",
       "<table border=\"1\" class=\"dataframe\">\n",
       "  <thead>\n",
       "    <tr style=\"text-align: right;\">\n",
       "      <th></th>\n",
       "      <th>person</th>\n",
       "      <th>total_bogo</th>\n",
       "      <th>total_discount</th>\n",
       "    </tr>\n",
       "  </thead>\n",
       "  <tbody>\n",
       "    <tr>\n",
       "      <th>0</th>\n",
       "      <td>0009655768c64bdeb2e877511632db8f</td>\n",
       "      <td>5.0</td>\n",
       "      <td>4.0</td>\n",
       "    </tr>\n",
       "    <tr>\n",
       "      <th>1</th>\n",
       "      <td>00116118485d4dfda04fdbaba9a87b5c</td>\n",
       "      <td>NaN</td>\n",
       "      <td>NaN</td>\n",
       "    </tr>\n",
       "    <tr>\n",
       "      <th>2</th>\n",
       "      <td>0011e0d4e6b944f998e987f904e8c1e5</td>\n",
       "      <td>5.0</td>\n",
       "      <td>8.0</td>\n",
       "    </tr>\n",
       "    <tr>\n",
       "      <th>3</th>\n",
       "      <td>0020c2b971eb4e9188eac86d93036a77</td>\n",
       "      <td>10.0</td>\n",
       "      <td>4.0</td>\n",
       "    </tr>\n",
       "    <tr>\n",
       "      <th>4</th>\n",
       "      <td>0020ccbbb6d84e358d3414a3ff76cffd</td>\n",
       "      <td>10.0</td>\n",
       "      <td>3.0</td>\n",
       "    </tr>\n",
       "  </tbody>\n",
       "</table>\n",
       "</div>"
      ],
      "text/plain": [
       "                             person  total_bogo  total_discount\n",
       "0  0009655768c64bdeb2e877511632db8f         5.0             4.0\n",
       "1  00116118485d4dfda04fdbaba9a87b5c         NaN             NaN\n",
       "2  0011e0d4e6b944f998e987f904e8c1e5         5.0             8.0\n",
       "3  0020c2b971eb4e9188eac86d93036a77        10.0             4.0\n",
       "4  0020ccbbb6d84e358d3414a3ff76cffd        10.0             3.0"
      ]
     },
     "execution_count": 210,
     "metadata": {},
     "output_type": "execute_result"
    }
   ],
   "source": [
    "aggr2.head()"
   ]
  },
  {
   "cell_type": "code",
   "execution_count": 211,
   "metadata": {},
   "outputs": [
    {
     "data": {
      "text/plain": [
       "(17000, 3)"
      ]
     },
     "execution_count": 211,
     "metadata": {},
     "output_type": "execute_result"
    }
   ],
   "source": [
    "aggr2.shape"
   ]
  },
  {
   "cell_type": "code",
   "execution_count": 212,
   "metadata": {},
   "outputs": [],
   "source": [
    "#merge with demographic info\n",
    "starbucks_aggr = starbucks_aggr.merge(aggr2, on='person')"
   ]
  },
  {
   "cell_type": "code",
   "execution_count": 213,
   "metadata": {},
   "outputs": [
    {
     "data": {
      "text/html": [
       "<div>\n",
       "<style scoped>\n",
       "    .dataframe tbody tr th:only-of-type {\n",
       "        vertical-align: middle;\n",
       "    }\n",
       "\n",
       "    .dataframe tbody tr th {\n",
       "        vertical-align: top;\n",
       "    }\n",
       "\n",
       "    .dataframe thead th {\n",
       "        text-align: right;\n",
       "    }\n",
       "</style>\n",
       "<table border=\"1\" class=\"dataframe\">\n",
       "  <thead>\n",
       "    <tr style=\"text-align: right;\">\n",
       "      <th></th>\n",
       "      <th>person</th>\n",
       "      <th>became_member_on</th>\n",
       "      <th>gender</th>\n",
       "      <th>age</th>\n",
       "      <th>income</th>\n",
       "      <th>total_amount</th>\n",
       "      <th>total_rewarded</th>\n",
       "      <th>transactions_num</th>\n",
       "      <th>offers_received</th>\n",
       "      <th>offers_viewed</th>\n",
       "      <th>...</th>\n",
       "      <th>bogo_received</th>\n",
       "      <th>bogo_viewed</th>\n",
       "      <th>bogo_completed</th>\n",
       "      <th>discount_received</th>\n",
       "      <th>discount_viewed</th>\n",
       "      <th>discount_completed</th>\n",
       "      <th>informational_received</th>\n",
       "      <th>informational_viewed</th>\n",
       "      <th>total_bogo</th>\n",
       "      <th>total_discount</th>\n",
       "    </tr>\n",
       "  </thead>\n",
       "  <tbody>\n",
       "    <tr>\n",
       "      <th>0</th>\n",
       "      <td>68be06ca386d4c31939f3a4f0e3dd783</td>\n",
       "      <td>2017-02-12</td>\n",
       "      <td>NaN</td>\n",
       "      <td>NaN</td>\n",
       "      <td>NaN</td>\n",
       "      <td>20.40</td>\n",
       "      <td>5.0</td>\n",
       "      <td>9</td>\n",
       "      <td>5</td>\n",
       "      <td>5</td>\n",
       "      <td>...</td>\n",
       "      <td>NaN</td>\n",
       "      <td>NaN</td>\n",
       "      <td>NaN</td>\n",
       "      <td>5.0</td>\n",
       "      <td>5.0</td>\n",
       "      <td>2.0</td>\n",
       "      <td>NaN</td>\n",
       "      <td>NaN</td>\n",
       "      <td>NaN</td>\n",
       "      <td>5.0</td>\n",
       "    </tr>\n",
       "    <tr>\n",
       "      <th>1</th>\n",
       "      <td>0610b486422d4921ae7d2bf64640c50b</td>\n",
       "      <td>2017-07-15</td>\n",
       "      <td>F</td>\n",
       "      <td>55.0</td>\n",
       "      <td>112000.0</td>\n",
       "      <td>77.01</td>\n",
       "      <td>5.0</td>\n",
       "      <td>3</td>\n",
       "      <td>2</td>\n",
       "      <td>0</td>\n",
       "      <td>...</td>\n",
       "      <td>1.0</td>\n",
       "      <td>0.0</td>\n",
       "      <td>1.0</td>\n",
       "      <td>NaN</td>\n",
       "      <td>NaN</td>\n",
       "      <td>NaN</td>\n",
       "      <td>1.0</td>\n",
       "      <td>0.0</td>\n",
       "      <td>5.0</td>\n",
       "      <td>NaN</td>\n",
       "    </tr>\n",
       "    <tr>\n",
       "      <th>2</th>\n",
       "      <td>38fe809add3b4fcf9315a9694bb96ff5</td>\n",
       "      <td>2018-07-12</td>\n",
       "      <td>NaN</td>\n",
       "      <td>NaN</td>\n",
       "      <td>NaN</td>\n",
       "      <td>14.30</td>\n",
       "      <td>0.0</td>\n",
       "      <td>6</td>\n",
       "      <td>2</td>\n",
       "      <td>2</td>\n",
       "      <td>...</td>\n",
       "      <td>1.0</td>\n",
       "      <td>1.0</td>\n",
       "      <td>0.0</td>\n",
       "      <td>NaN</td>\n",
       "      <td>NaN</td>\n",
       "      <td>NaN</td>\n",
       "      <td>1.0</td>\n",
       "      <td>1.0</td>\n",
       "      <td>NaN</td>\n",
       "      <td>NaN</td>\n",
       "    </tr>\n",
       "    <tr>\n",
       "      <th>3</th>\n",
       "      <td>78afa995795e4d85b5d9ceeca43f5fef</td>\n",
       "      <td>2017-05-09</td>\n",
       "      <td>F</td>\n",
       "      <td>75.0</td>\n",
       "      <td>100000.0</td>\n",
       "      <td>159.27</td>\n",
       "      <td>20.0</td>\n",
       "      <td>7</td>\n",
       "      <td>4</td>\n",
       "      <td>4</td>\n",
       "      <td>...</td>\n",
       "      <td>3.0</td>\n",
       "      <td>3.0</td>\n",
       "      <td>3.0</td>\n",
       "      <td>NaN</td>\n",
       "      <td>NaN</td>\n",
       "      <td>NaN</td>\n",
       "      <td>1.0</td>\n",
       "      <td>1.0</td>\n",
       "      <td>20.0</td>\n",
       "      <td>NaN</td>\n",
       "    </tr>\n",
       "    <tr>\n",
       "      <th>4</th>\n",
       "      <td>a03223e636434f42ac4c3df47e8bac43</td>\n",
       "      <td>2017-08-04</td>\n",
       "      <td>NaN</td>\n",
       "      <td>NaN</td>\n",
       "      <td>NaN</td>\n",
       "      <td>4.65</td>\n",
       "      <td>0.0</td>\n",
       "      <td>3</td>\n",
       "      <td>5</td>\n",
       "      <td>3</td>\n",
       "      <td>...</td>\n",
       "      <td>NaN</td>\n",
       "      <td>NaN</td>\n",
       "      <td>NaN</td>\n",
       "      <td>3.0</td>\n",
       "      <td>2.0</td>\n",
       "      <td>0.0</td>\n",
       "      <td>2.0</td>\n",
       "      <td>1.0</td>\n",
       "      <td>NaN</td>\n",
       "      <td>NaN</td>\n",
       "    </tr>\n",
       "  </tbody>\n",
       "</table>\n",
       "<p>5 rows × 21 columns</p>\n",
       "</div>"
      ],
      "text/plain": [
       "                             person became_member_on gender   age    income  \\\n",
       "0  68be06ca386d4c31939f3a4f0e3dd783       2017-02-12    NaN   NaN       NaN   \n",
       "1  0610b486422d4921ae7d2bf64640c50b       2017-07-15      F  55.0  112000.0   \n",
       "2  38fe809add3b4fcf9315a9694bb96ff5       2018-07-12    NaN   NaN       NaN   \n",
       "3  78afa995795e4d85b5d9ceeca43f5fef       2017-05-09      F  75.0  100000.0   \n",
       "4  a03223e636434f42ac4c3df47e8bac43       2017-08-04    NaN   NaN       NaN   \n",
       "\n",
       "   total_amount  total_rewarded  transactions_num  offers_received  \\\n",
       "0         20.40             5.0                 9                5   \n",
       "1         77.01             5.0                 3                2   \n",
       "2         14.30             0.0                 6                2   \n",
       "3        159.27            20.0                 7                4   \n",
       "4          4.65             0.0                 3                5   \n",
       "\n",
       "   offers_viewed  ...  bogo_received  bogo_viewed  bogo_completed  \\\n",
       "0              5  ...            NaN          NaN             NaN   \n",
       "1              0  ...            1.0          0.0             1.0   \n",
       "2              2  ...            1.0          1.0             0.0   \n",
       "3              4  ...            3.0          3.0             3.0   \n",
       "4              3  ...            NaN          NaN             NaN   \n",
       "\n",
       "   discount_received  discount_viewed  discount_completed  \\\n",
       "0                5.0              5.0                 2.0   \n",
       "1                NaN              NaN                 NaN   \n",
       "2                NaN              NaN                 NaN   \n",
       "3                NaN              NaN                 NaN   \n",
       "4                3.0              2.0                 0.0   \n",
       "\n",
       "   informational_received  informational_viewed  total_bogo  total_discount  \n",
       "0                     NaN                   NaN         NaN             5.0  \n",
       "1                     1.0                   0.0         5.0             NaN  \n",
       "2                     1.0                   1.0         NaN             NaN  \n",
       "3                     1.0                   1.0        20.0             NaN  \n",
       "4                     2.0                   1.0         NaN             NaN  \n",
       "\n",
       "[5 rows x 21 columns]"
      ]
     },
     "execution_count": 213,
     "metadata": {},
     "output_type": "execute_result"
    }
   ],
   "source": [
    "starbucks_aggr.head()"
   ]
  },
  {
   "cell_type": "markdown",
   "metadata": {},
   "source": [
    "# Data Preprocessing"
   ]
  },
  {
   "cell_type": "markdown",
   "metadata": {},
   "source": [
    "### Dealing with Missing values"
   ]
  },
  {
   "cell_type": "code",
   "execution_count": 214,
   "metadata": {},
   "outputs": [
    {
     "data": {
      "text/plain": [
       "(2175, 2175, 2175)"
      ]
     },
     "execution_count": 214,
     "metadata": {},
     "output_type": "execute_result"
    }
   ],
   "source": [
    "# checking how many missing values are in gender and age columns\n",
    "starbucks_aggr.gender.isna().sum(), starbucks_aggr.age.isna().sum(), starbucks_aggr.income.isna().sum()"
   ]
  },
  {
   "cell_type": "code",
   "execution_count": 215,
   "metadata": {},
   "outputs": [
    {
     "name": "stdout",
     "output_type": "stream",
     "text": [
      "there are 2175 customers that have missing values in gender, age and income columns\n"
     ]
    }
   ],
   "source": [
    "# checking if missing values are in both columns\n",
    "assert starbucks_aggr[(starbucks_aggr.gender.isna()) & (starbucks_aggr.age.isna()) & (starbucks_aggr.income.isna())].shape[0] == starbucks_aggr.gender.isna().sum()\n",
    "print(f\"there are {starbucks_aggr.gender.isna().sum()} customers that have missing values in gender, age and income columns\")"
   ]
  },
  {
   "cell_type": "code",
   "execution_count": 216,
   "metadata": {},
   "outputs": [
    {
     "name": "stdout",
     "output_type": "stream",
     "text": [
      "<class 'pandas.core.frame.DataFrame'>\n",
      "Int64Index: 17000 entries, 0 to 16999\n",
      "Data columns (total 21 columns):\n",
      "person                    17000 non-null object\n",
      "became_member_on          17000 non-null datetime64[ns]\n",
      "gender                    14825 non-null object\n",
      "age                       14825 non-null float64\n",
      "income                    14825 non-null float64\n",
      "total_amount              17000 non-null float64\n",
      "total_rewarded            17000 non-null float64\n",
      "transactions_num          17000 non-null uint8\n",
      "offers_received           17000 non-null uint8\n",
      "offers_viewed             17000 non-null uint8\n",
      "offers_completed          17000 non-null uint8\n",
      "bogo_received             14992 non-null float64\n",
      "bogo_viewed               14992 non-null float64\n",
      "bogo_completed            14992 non-null float64\n",
      "discount_received         14945 non-null float64\n",
      "discount_viewed           14945 non-null float64\n",
      "discount_completed        14945 non-null float64\n",
      "informational_received    10547 non-null float64\n",
      "informational_viewed      10547 non-null float64\n",
      "total_bogo                9263 non-null float64\n",
      "total_discount            10289 non-null float64\n",
      "dtypes: datetime64[ns](1), float64(14), object(2), uint8(4)\n",
      "memory usage: 2.4+ MB\n"
     ]
    }
   ],
   "source": [
    "starbucks_aggr.info()"
   ]
  },
  {
   "cell_type": "markdown",
   "metadata": {},
   "source": [
    "Impute missing values with median values (to avoid impact of outliers if we took mean values + most_frequent values are usually used for ordinal data, our data is ratio."
   ]
  },
  {
   "cell_type": "code",
   "execution_count": 401,
   "metadata": {},
   "outputs": [],
   "source": [
    "starbucks_imputed = starbucks_aggr.copy()"
   ]
  },
  {
   "cell_type": "code",
   "execution_count": 402,
   "metadata": {},
   "outputs": [],
   "source": [
    "imputer = SimpleImputer(strategy='median')\n",
    "imputed = imputer.fit_transform(starbucks_aggr[['age', 'income']])"
   ]
  },
  {
   "cell_type": "code",
   "execution_count": 403,
   "metadata": {},
   "outputs": [],
   "source": [
    "starbucks_imputed[['age', 'income']] = pd.DataFrame(imputed, columns=['age', 'income'])"
   ]
  },
  {
   "cell_type": "code",
   "execution_count": 404,
   "metadata": {},
   "outputs": [
    {
     "data": {
      "text/html": [
       "<div>\n",
       "<style scoped>\n",
       "    .dataframe tbody tr th:only-of-type {\n",
       "        vertical-align: middle;\n",
       "    }\n",
       "\n",
       "    .dataframe tbody tr th {\n",
       "        vertical-align: top;\n",
       "    }\n",
       "\n",
       "    .dataframe thead th {\n",
       "        text-align: right;\n",
       "    }\n",
       "</style>\n",
       "<table border=\"1\" class=\"dataframe\">\n",
       "  <thead>\n",
       "    <tr style=\"text-align: right;\">\n",
       "      <th></th>\n",
       "      <th>age</th>\n",
       "      <th>income</th>\n",
       "    </tr>\n",
       "  </thead>\n",
       "  <tbody>\n",
       "    <tr>\n",
       "      <th>0</th>\n",
       "      <td>55.0</td>\n",
       "      <td>64000.0</td>\n",
       "    </tr>\n",
       "  </tbody>\n",
       "</table>\n",
       "</div>"
      ],
      "text/plain": [
       "    age   income\n",
       "0  55.0  64000.0"
      ]
     },
     "execution_count": 404,
     "metadata": {},
     "output_type": "execute_result"
    }
   ],
   "source": [
    "#checking results of imputation for age and income columns\n",
    "starbucks_imputed[starbucks_aggr.gender.isna()][['age','income']].head(1)"
   ]
  },
  {
   "cell_type": "markdown",
   "metadata": {},
   "source": [
    "Impute missing values for categorical data - gender - with most frequent data:"
   ]
  },
  {
   "cell_type": "code",
   "execution_count": 405,
   "metadata": {},
   "outputs": [],
   "source": [
    "values = {'gender': starbucks_aggr.gender.mode()[0]}\n",
    "starbucks_imputed.fillna(value=values, inplace=True)"
   ]
  },
  {
   "cell_type": "code",
   "execution_count": 406,
   "metadata": {},
   "outputs": [
    {
     "data": {
      "text/plain": [
       "0    M\n",
       "Name: gender, dtype: object"
      ]
     },
     "execution_count": 406,
     "metadata": {},
     "output_type": "execute_result"
    }
   ],
   "source": [
    "#checking results of imputation of categorical data\n",
    "starbucks_imputed[starbucks_aggr.gender.isna()]['gender'].head(1)"
   ]
  },
  {
   "cell_type": "markdown",
   "metadata": {},
   "source": [
    "Replace NaNs with 0s for these columns:\n",
    "- not all customers received particular offer type. These were filled with NaNs when columns 'bogo_received', 'discount_received' or 'infromational_received' were created. Then the missing values were propagated to 'bogo_viewed', discount_viewed', 'informational_viewed' and to 'bogo_completed', 'discount_completed' columns.\n",
    "- if no discount or no bogo were completed, then 'total_bogo', 'total_discount', 'avg_bogo_size', 'avg_discount_size' could be calculated and were filled with NaNs.\n",
    "- if customer made no transactions or had no offers completed, then columns 'avg_order_size' and 'avg_reward_size' were filled with NaNs.\n",
    "- if customer didn't view any offers, then these produced NaNs for all CVR columns (div by 'viewed' metrics)\n",
    "- if customer didn't receive particular offer type, then these produced NaNs in all response rate columns  (div by 'received' metrics)"
   ]
  },
  {
   "cell_type": "code",
   "execution_count": 407,
   "metadata": {},
   "outputs": [],
   "source": [
    "cols = ['bogo_received', 'bogo_viewed', 'bogo_completed', \n",
    "        'discount_received', 'discount_viewed', 'discount_completed', \n",
    "        'informational_received', 'informational_viewed',\n",
    "        'total_bogo', 'total_discount']\n",
    "starbucks_imputed[cols] = starbucks_imputed[cols].replace(np.nan, 0)"
   ]
  },
  {
   "cell_type": "code",
   "execution_count": 408,
   "metadata": {},
   "outputs": [
    {
     "name": "stdout",
     "output_type": "stream",
     "text": [
      "<class 'pandas.core.frame.DataFrame'>\n",
      "Int64Index: 17000 entries, 0 to 16999\n",
      "Data columns (total 22 columns):\n",
      "person                    17000 non-null object\n",
      "became_member_on          17000 non-null datetime64[ns]\n",
      "gender                    17000 non-null object\n",
      "age                       17000 non-null float64\n",
      "income                    17000 non-null float64\n",
      "total_amount              17000 non-null float64\n",
      "total_rewarded            17000 non-null float64\n",
      "transactions_num          17000 non-null uint8\n",
      "offers_received           17000 non-null uint8\n",
      "offers_viewed             17000 non-null uint8\n",
      "offers_completed          17000 non-null uint8\n",
      "bogo_received             17000 non-null float64\n",
      "bogo_viewed               17000 non-null float64\n",
      "bogo_completed            17000 non-null float64\n",
      "discount_received         17000 non-null float64\n",
      "discount_viewed           17000 non-null float64\n",
      "discount_completed        17000 non-null float64\n",
      "informational_received    17000 non-null float64\n",
      "informational_viewed      17000 non-null float64\n",
      "total_bogo                17000 non-null float64\n",
      "total_discount            17000 non-null float64\n",
      "income_binned             14737 non-null category\n",
      "dtypes: category(1), datetime64[ns](1), float64(14), object(2), uint8(4)\n",
      "memory usage: 2.4+ MB\n"
     ]
    }
   ],
   "source": [
    "starbucks_imputed.info()"
   ]
  },
  {
   "cell_type": "markdown",
   "metadata": {},
   "source": [
    "## Feature Engineering"
   ]
  },
  {
   "cell_type": "code",
   "execution_count": 409,
   "metadata": {},
   "outputs": [],
   "source": [
    "# reencode became_member_on as membership by years in str format (categorical)\n",
    "starbucks_imputed['became_member_on'] = starbucks_imputed.became_member_on.apply(lambda x: str(x.year))"
   ]
  },
  {
   "cell_type": "code",
   "execution_count": 410,
   "metadata": {},
   "outputs": [
    {
     "name": "stdout",
     "output_type": "stream",
     "text": [
      "bins: [0, 45.0, 55.0, 65.0, 102.0]\n",
      "bins: [0, 51000.0, 64000.0, 76000.0, 120001.0]\n"
     ]
    }
   ],
   "source": [
    "# create new columns with income and age binned into quartiles\n",
    "for each in ['age', 'income']:\n",
    "    if each == 'income':\n",
    "        labels = ['low_income','middle_low_income', 'middle_high_income', 'high_income']\n",
    "    elif each == 'age':\n",
    "        labels = ['young', 'middle-aged', 'senior', 'old']\n",
    "    \n",
    "    bins = pd.qcut(starbucks_imputed[each], 4)  \n",
    "    bin_df = starbucks_imputed[each].groupby(bins).agg(['count', 'min', 'max'])\n",
    "    bins_size =  [0, round(bin_df.iloc[0][2]), round(bin_df.iloc[1][2]), round(bin_df.iloc[2][2]),  round(bin_df.iloc[3][2])+1]\n",
    "    print(f\"bins: {bins_size}\")\n",
    "    starbucks_imputed[each+'_binned'] = pd.cut(starbucks_imputed[each], bins_size, labels=labels)"
   ]
  },
  {
   "cell_type": "code",
   "execution_count": 411,
   "metadata": {},
   "outputs": [],
   "source": [
    "# create 4 new columns:\n",
    "\n",
    "starbucks_imputed['avg_order_size'] = round(starbucks_imputed['total_amount']/starbucks_imputed['transactions_num'], 2)\n",
    "# when there were no transactions, avg_order_size was converted to NaNs, replace these with 0:\n",
    "starbucks_imputed['avg_order_size'] = starbucks_imputed['avg_order_size'].replace(np.nan, 0)\n",
    "\n",
    "starbucks_imputed['avg_reward_size'] = round(starbucks_imputed['total_rewarded']/starbucks_imputed['offers_completed'], 2)\n",
    "# when there were no offers completed, avg_reward_size was converted to NaNs, replace these with 0:\n",
    "starbucks_imputed['avg_reward_size'] = starbucks_imputed['avg_reward_size'].replace(np.nan, 0)\n",
    "\n",
    "# average bogo size and average discount size\n",
    "for each in ['bogo', 'discount']:\n",
    "    starbucks_imputed['avg_'+each+'_size'] = round(starbucks_imputed['total_'+each]/starbucks_imputed[each+'_completed'], 2)\n",
    "    starbucks_imputed['avg_'+each+'_size'] = starbucks_imputed['avg_'+each+'_size'].replace(np.nan, 0)"
   ]
  },
  {
   "cell_type": "code",
   "execution_count": 412,
   "metadata": {},
   "outputs": [
    {
     "data": {
      "text/html": [
       "<div>\n",
       "<style scoped>\n",
       "    .dataframe tbody tr th:only-of-type {\n",
       "        vertical-align: middle;\n",
       "    }\n",
       "\n",
       "    .dataframe tbody tr th {\n",
       "        vertical-align: top;\n",
       "    }\n",
       "\n",
       "    .dataframe thead th {\n",
       "        text-align: right;\n",
       "    }\n",
       "</style>\n",
       "<table border=\"1\" class=\"dataframe\">\n",
       "  <thead>\n",
       "    <tr style=\"text-align: right;\">\n",
       "      <th></th>\n",
       "      <th>person</th>\n",
       "      <th>became_member_on</th>\n",
       "      <th>gender</th>\n",
       "      <th>age</th>\n",
       "      <th>income</th>\n",
       "      <th>total_amount</th>\n",
       "      <th>total_rewarded</th>\n",
       "      <th>transactions_num</th>\n",
       "      <th>offers_received</th>\n",
       "      <th>offers_viewed</th>\n",
       "      <th>...</th>\n",
       "      <th>informational_received</th>\n",
       "      <th>informational_viewed</th>\n",
       "      <th>total_bogo</th>\n",
       "      <th>total_discount</th>\n",
       "      <th>income_binned</th>\n",
       "      <th>age_binned</th>\n",
       "      <th>avg_order_size</th>\n",
       "      <th>avg_reward_size</th>\n",
       "      <th>avg_bogo_size</th>\n",
       "      <th>avg_discount_size</th>\n",
       "    </tr>\n",
       "  </thead>\n",
       "  <tbody>\n",
       "    <tr>\n",
       "      <th>0</th>\n",
       "      <td>68be06ca386d4c31939f3a4f0e3dd783</td>\n",
       "      <td>2017</td>\n",
       "      <td>M</td>\n",
       "      <td>55.0</td>\n",
       "      <td>64000.0</td>\n",
       "      <td>20.40</td>\n",
       "      <td>5.0</td>\n",
       "      <td>9</td>\n",
       "      <td>5</td>\n",
       "      <td>5</td>\n",
       "      <td>...</td>\n",
       "      <td>0.0</td>\n",
       "      <td>0.0</td>\n",
       "      <td>0.0</td>\n",
       "      <td>5.0</td>\n",
       "      <td>middle_low_income</td>\n",
       "      <td>middle-aged</td>\n",
       "      <td>2.27</td>\n",
       "      <td>2.50</td>\n",
       "      <td>0.00</td>\n",
       "      <td>2.5</td>\n",
       "    </tr>\n",
       "    <tr>\n",
       "      <th>1</th>\n",
       "      <td>0610b486422d4921ae7d2bf64640c50b</td>\n",
       "      <td>2017</td>\n",
       "      <td>F</td>\n",
       "      <td>55.0</td>\n",
       "      <td>112000.0</td>\n",
       "      <td>77.01</td>\n",
       "      <td>5.0</td>\n",
       "      <td>3</td>\n",
       "      <td>2</td>\n",
       "      <td>0</td>\n",
       "      <td>...</td>\n",
       "      <td>1.0</td>\n",
       "      <td>0.0</td>\n",
       "      <td>5.0</td>\n",
       "      <td>0.0</td>\n",
       "      <td>high_income</td>\n",
       "      <td>middle-aged</td>\n",
       "      <td>25.67</td>\n",
       "      <td>5.00</td>\n",
       "      <td>5.00</td>\n",
       "      <td>0.0</td>\n",
       "    </tr>\n",
       "    <tr>\n",
       "      <th>2</th>\n",
       "      <td>38fe809add3b4fcf9315a9694bb96ff5</td>\n",
       "      <td>2018</td>\n",
       "      <td>M</td>\n",
       "      <td>55.0</td>\n",
       "      <td>64000.0</td>\n",
       "      <td>14.30</td>\n",
       "      <td>0.0</td>\n",
       "      <td>6</td>\n",
       "      <td>2</td>\n",
       "      <td>2</td>\n",
       "      <td>...</td>\n",
       "      <td>1.0</td>\n",
       "      <td>1.0</td>\n",
       "      <td>0.0</td>\n",
       "      <td>0.0</td>\n",
       "      <td>middle_low_income</td>\n",
       "      <td>middle-aged</td>\n",
       "      <td>2.38</td>\n",
       "      <td>0.00</td>\n",
       "      <td>0.00</td>\n",
       "      <td>0.0</td>\n",
       "    </tr>\n",
       "    <tr>\n",
       "      <th>3</th>\n",
       "      <td>78afa995795e4d85b5d9ceeca43f5fef</td>\n",
       "      <td>2017</td>\n",
       "      <td>F</td>\n",
       "      <td>75.0</td>\n",
       "      <td>100000.0</td>\n",
       "      <td>159.27</td>\n",
       "      <td>20.0</td>\n",
       "      <td>7</td>\n",
       "      <td>4</td>\n",
       "      <td>4</td>\n",
       "      <td>...</td>\n",
       "      <td>1.0</td>\n",
       "      <td>1.0</td>\n",
       "      <td>20.0</td>\n",
       "      <td>0.0</td>\n",
       "      <td>high_income</td>\n",
       "      <td>old</td>\n",
       "      <td>22.75</td>\n",
       "      <td>6.67</td>\n",
       "      <td>6.67</td>\n",
       "      <td>0.0</td>\n",
       "    </tr>\n",
       "    <tr>\n",
       "      <th>4</th>\n",
       "      <td>a03223e636434f42ac4c3df47e8bac43</td>\n",
       "      <td>2017</td>\n",
       "      <td>M</td>\n",
       "      <td>55.0</td>\n",
       "      <td>64000.0</td>\n",
       "      <td>4.65</td>\n",
       "      <td>0.0</td>\n",
       "      <td>3</td>\n",
       "      <td>5</td>\n",
       "      <td>3</td>\n",
       "      <td>...</td>\n",
       "      <td>2.0</td>\n",
       "      <td>1.0</td>\n",
       "      <td>0.0</td>\n",
       "      <td>0.0</td>\n",
       "      <td>middle_low_income</td>\n",
       "      <td>middle-aged</td>\n",
       "      <td>1.55</td>\n",
       "      <td>0.00</td>\n",
       "      <td>0.00</td>\n",
       "      <td>0.0</td>\n",
       "    </tr>\n",
       "  </tbody>\n",
       "</table>\n",
       "<p>5 rows × 27 columns</p>\n",
       "</div>"
      ],
      "text/plain": [
       "                             person became_member_on gender   age    income  \\\n",
       "0  68be06ca386d4c31939f3a4f0e3dd783             2017      M  55.0   64000.0   \n",
       "1  0610b486422d4921ae7d2bf64640c50b             2017      F  55.0  112000.0   \n",
       "2  38fe809add3b4fcf9315a9694bb96ff5             2018      M  55.0   64000.0   \n",
       "3  78afa995795e4d85b5d9ceeca43f5fef             2017      F  75.0  100000.0   \n",
       "4  a03223e636434f42ac4c3df47e8bac43             2017      M  55.0   64000.0   \n",
       "\n",
       "   total_amount  total_rewarded  transactions_num  offers_received  \\\n",
       "0         20.40             5.0                 9                5   \n",
       "1         77.01             5.0                 3                2   \n",
       "2         14.30             0.0                 6                2   \n",
       "3        159.27            20.0                 7                4   \n",
       "4          4.65             0.0                 3                5   \n",
       "\n",
       "   offers_viewed  ...  informational_received  informational_viewed  \\\n",
       "0              5  ...                     0.0                   0.0   \n",
       "1              0  ...                     1.0                   0.0   \n",
       "2              2  ...                     1.0                   1.0   \n",
       "3              4  ...                     1.0                   1.0   \n",
       "4              3  ...                     2.0                   1.0   \n",
       "\n",
       "   total_bogo  total_discount      income_binned   age_binned  avg_order_size  \\\n",
       "0         0.0             5.0  middle_low_income  middle-aged            2.27   \n",
       "1         5.0             0.0        high_income  middle-aged           25.67   \n",
       "2         0.0             0.0  middle_low_income  middle-aged            2.38   \n",
       "3        20.0             0.0        high_income          old           22.75   \n",
       "4         0.0             0.0  middle_low_income  middle-aged            1.55   \n",
       "\n",
       "   avg_reward_size  avg_bogo_size  avg_discount_size  \n",
       "0             2.50           0.00                2.5  \n",
       "1             5.00           5.00                0.0  \n",
       "2             0.00           0.00                0.0  \n",
       "3             6.67           6.67                0.0  \n",
       "4             0.00           0.00                0.0  \n",
       "\n",
       "[5 rows x 27 columns]"
      ]
     },
     "execution_count": 412,
     "metadata": {},
     "output_type": "execute_result"
    }
   ],
   "source": [
    "starbucks_imputed.head()"
   ]
  },
  {
   "cell_type": "code",
   "execution_count": 413,
   "metadata": {},
   "outputs": [
    {
     "name": "stdout",
     "output_type": "stream",
     "text": [
      "bins total_amount: [-1, 0.01, 32.0, 120.0, 1610.0]\n",
      "bins total_rewarded: [-1, 0.01, 3.0, 13.0, 56.0]\n",
      "bins transactions_num: [-1, 0.01, 5, 10, 37]\n",
      "bins avg_order_size: [-1, 0.01, 4.0, 17.0, 452.0]\n",
      "bins avg_reward_size: [-1, 0.01, 2.0, 5.0, 11.0]\n"
     ]
    }
   ],
   "source": [
    "# create new columns with avg_order_size, avg_reward_size, total_amount binned into 3\n",
    "for each in ['total_amount', 'total_rewarded' , 'transactions_num', 'avg_order_size', 'avg_reward_size']:    \n",
    "    bins = pd.qcut(starbucks_imputed[each], 3, labels=['Q1', 'Q2', 'Q3'])  \n",
    "    bin_df = starbucks_imputed[each].groupby(bins).agg(['count', 'min', 'max'])\n",
    "    bins_size =  [-1, 0.01, round(bin_df.iloc[0][2]), round(bin_df.iloc[1][2]), round(bin_df.iloc[2][2])+1]\n",
    "    print(f\"bins {each}: {bins_size}\")\n",
    "    if (each == 'avg_reward_size') | (each == 'total_rewarded'):\n",
    "        labels = ['not_rewarded', 'small', 'medium', 'large']\n",
    "    else:\n",
    "        labels = ['no_transactions', 'small', 'medium', 'large']\n",
    "        \n",
    "    starbucks_imputed[each+'_binned'] = pd.cut(starbucks_imputed[each], bins_size, labels=labels)"
   ]
  },
  {
   "cell_type": "code",
   "execution_count": 414,
   "metadata": {},
   "outputs": [
    {
     "name": "stdout",
     "output_type": "stream",
     "text": [
      "possible savings on bogo in total {0.0, 35.0, 5.0, 40.0, 10.0, 45.0, 15.0, 50.0, 20.0, 25.0, 30.0}\n",
      "possible savings on discounts in total {0.0, 2.0, 3.0, 4.0, 5.0, 6.0, 7.0, 8.0, 9.0, 10.0, 11.0, 12.0, 13.0, 14.0, 15.0, 16.0, 17.0, 18.0, 19.0, 20.0}\n"
     ]
    }
   ],
   "source": [
    "print(f\"possible savings on bogo in total {set(starbucks_imputed['total_bogo'])}\")\n",
    "print(f\"possible savings on discounts in total {set(starbucks_imputed['total_discount'])}\")"
   ]
  },
  {
   "cell_type": "code",
   "execution_count": 415,
   "metadata": {},
   "outputs": [],
   "source": [
    "# create new columns with total_bogo and total_discount binned into quartiles + no savings\n",
    "for each in ['total_bogo','total_discount']:\n",
    "    maxim = starbucks_imputed[each].max()\n",
    "    bins = [-1, 0.01, 1/3*maxim, 2/3*maxim, maxim+1]\n",
    "    labels = ['no_'+each, 'small', 'medium', 'large']\n",
    "    starbucks_imputed[each+'_binned'] = pd.cut(starbucks_imputed[each], bins=bins, labels=labels)"
   ]
  },
  {
   "cell_type": "code",
   "execution_count": 416,
   "metadata": {},
   "outputs": [],
   "source": [
    "# create new columns with CVR and RR for each offer type\n",
    "for each in ['offers', 'bogo', 'discount', 'informational']:\n",
    "    # reponse rate, % offers viewed to offers received\n",
    "    starbucks_imputed[each+'_rr'] = round(starbucks_imputed[each+'_viewed']/starbucks_imputed[each+'_received'] * 100, 2)\n",
    "    # replace div by 0 - if no offers received, then rr = 0\n",
    "    starbucks_imputed[each+'_rr'] = starbucks_imputed[each+'_rr'].replace(np.nan, 0).replace(np.inf, 0)\n",
    "    \n",
    "    # conversion rate, % offers completed to offers viewed\n",
    "    if each != 'informational':\n",
    "        starbucks_imputed[each+'_cvr'] = round(starbucks_imputed[each+'_completed']/starbucks_imputed[each+'_viewed'] * 100, 2)\n",
    "        # replace div by 0 - if no offers viewed, then cvr = 0\n",
    "        starbucks_imputed[each+'_cvr'] = starbucks_imputed[each+'_cvr'].replace(np.inf, 0).replace(np.nan, 0)"
   ]
  },
  {
   "cell_type": "code",
   "execution_count": 417,
   "metadata": {},
   "outputs": [
    {
     "data": {
      "text/html": [
       "<div>\n",
       "<style scoped>\n",
       "    .dataframe tbody tr th:only-of-type {\n",
       "        vertical-align: middle;\n",
       "    }\n",
       "\n",
       "    .dataframe tbody tr th {\n",
       "        vertical-align: top;\n",
       "    }\n",
       "\n",
       "    .dataframe thead th {\n",
       "        text-align: right;\n",
       "    }\n",
       "</style>\n",
       "<table border=\"1\" class=\"dataframe\">\n",
       "  <thead>\n",
       "    <tr style=\"text-align: right;\">\n",
       "      <th></th>\n",
       "      <th>person</th>\n",
       "      <th>became_member_on</th>\n",
       "      <th>gender</th>\n",
       "      <th>age</th>\n",
       "      <th>income</th>\n",
       "      <th>total_amount</th>\n",
       "      <th>total_rewarded</th>\n",
       "      <th>transactions_num</th>\n",
       "      <th>offers_received</th>\n",
       "      <th>offers_viewed</th>\n",
       "      <th>...</th>\n",
       "      <th>avg_reward_size_binned</th>\n",
       "      <th>total_bogo_binned</th>\n",
       "      <th>total_discount_binned</th>\n",
       "      <th>offers_rr</th>\n",
       "      <th>offers_cvr</th>\n",
       "      <th>bogo_rr</th>\n",
       "      <th>bogo_cvr</th>\n",
       "      <th>discount_rr</th>\n",
       "      <th>discount_cvr</th>\n",
       "      <th>informational_rr</th>\n",
       "    </tr>\n",
       "  </thead>\n",
       "  <tbody>\n",
       "    <tr>\n",
       "      <th>0</th>\n",
       "      <td>68be06ca386d4c31939f3a4f0e3dd783</td>\n",
       "      <td>2017</td>\n",
       "      <td>M</td>\n",
       "      <td>55.0</td>\n",
       "      <td>64000.0</td>\n",
       "      <td>20.40</td>\n",
       "      <td>5.0</td>\n",
       "      <td>9</td>\n",
       "      <td>5</td>\n",
       "      <td>5</td>\n",
       "      <td>...</td>\n",
       "      <td>medium</td>\n",
       "      <td>no_total_bogo</td>\n",
       "      <td>small</td>\n",
       "      <td>100.0</td>\n",
       "      <td>40.0</td>\n",
       "      <td>0.0</td>\n",
       "      <td>0.0</td>\n",
       "      <td>100.00</td>\n",
       "      <td>40.0</td>\n",
       "      <td>0.0</td>\n",
       "    </tr>\n",
       "    <tr>\n",
       "      <th>1</th>\n",
       "      <td>0610b486422d4921ae7d2bf64640c50b</td>\n",
       "      <td>2017</td>\n",
       "      <td>F</td>\n",
       "      <td>55.0</td>\n",
       "      <td>112000.0</td>\n",
       "      <td>77.01</td>\n",
       "      <td>5.0</td>\n",
       "      <td>3</td>\n",
       "      <td>2</td>\n",
       "      <td>0</td>\n",
       "      <td>...</td>\n",
       "      <td>medium</td>\n",
       "      <td>small</td>\n",
       "      <td>no_total_discount</td>\n",
       "      <td>0.0</td>\n",
       "      <td>0.0</td>\n",
       "      <td>0.0</td>\n",
       "      <td>0.0</td>\n",
       "      <td>0.00</td>\n",
       "      <td>0.0</td>\n",
       "      <td>0.0</td>\n",
       "    </tr>\n",
       "    <tr>\n",
       "      <th>2</th>\n",
       "      <td>38fe809add3b4fcf9315a9694bb96ff5</td>\n",
       "      <td>2018</td>\n",
       "      <td>M</td>\n",
       "      <td>55.0</td>\n",
       "      <td>64000.0</td>\n",
       "      <td>14.30</td>\n",
       "      <td>0.0</td>\n",
       "      <td>6</td>\n",
       "      <td>2</td>\n",
       "      <td>2</td>\n",
       "      <td>...</td>\n",
       "      <td>not_rewarded</td>\n",
       "      <td>no_total_bogo</td>\n",
       "      <td>no_total_discount</td>\n",
       "      <td>100.0</td>\n",
       "      <td>0.0</td>\n",
       "      <td>100.0</td>\n",
       "      <td>0.0</td>\n",
       "      <td>0.00</td>\n",
       "      <td>0.0</td>\n",
       "      <td>100.0</td>\n",
       "    </tr>\n",
       "    <tr>\n",
       "      <th>3</th>\n",
       "      <td>78afa995795e4d85b5d9ceeca43f5fef</td>\n",
       "      <td>2017</td>\n",
       "      <td>F</td>\n",
       "      <td>75.0</td>\n",
       "      <td>100000.0</td>\n",
       "      <td>159.27</td>\n",
       "      <td>20.0</td>\n",
       "      <td>7</td>\n",
       "      <td>4</td>\n",
       "      <td>4</td>\n",
       "      <td>...</td>\n",
       "      <td>large</td>\n",
       "      <td>medium</td>\n",
       "      <td>no_total_discount</td>\n",
       "      <td>100.0</td>\n",
       "      <td>75.0</td>\n",
       "      <td>100.0</td>\n",
       "      <td>100.0</td>\n",
       "      <td>0.00</td>\n",
       "      <td>0.0</td>\n",
       "      <td>100.0</td>\n",
       "    </tr>\n",
       "    <tr>\n",
       "      <th>4</th>\n",
       "      <td>a03223e636434f42ac4c3df47e8bac43</td>\n",
       "      <td>2017</td>\n",
       "      <td>M</td>\n",
       "      <td>55.0</td>\n",
       "      <td>64000.0</td>\n",
       "      <td>4.65</td>\n",
       "      <td>0.0</td>\n",
       "      <td>3</td>\n",
       "      <td>5</td>\n",
       "      <td>3</td>\n",
       "      <td>...</td>\n",
       "      <td>not_rewarded</td>\n",
       "      <td>no_total_bogo</td>\n",
       "      <td>no_total_discount</td>\n",
       "      <td>60.0</td>\n",
       "      <td>0.0</td>\n",
       "      <td>0.0</td>\n",
       "      <td>0.0</td>\n",
       "      <td>66.67</td>\n",
       "      <td>0.0</td>\n",
       "      <td>50.0</td>\n",
       "    </tr>\n",
       "  </tbody>\n",
       "</table>\n",
       "<p>5 rows × 41 columns</p>\n",
       "</div>"
      ],
      "text/plain": [
       "                             person became_member_on gender   age    income  \\\n",
       "0  68be06ca386d4c31939f3a4f0e3dd783             2017      M  55.0   64000.0   \n",
       "1  0610b486422d4921ae7d2bf64640c50b             2017      F  55.0  112000.0   \n",
       "2  38fe809add3b4fcf9315a9694bb96ff5             2018      M  55.0   64000.0   \n",
       "3  78afa995795e4d85b5d9ceeca43f5fef             2017      F  75.0  100000.0   \n",
       "4  a03223e636434f42ac4c3df47e8bac43             2017      M  55.0   64000.0   \n",
       "\n",
       "   total_amount  total_rewarded  transactions_num  offers_received  \\\n",
       "0         20.40             5.0                 9                5   \n",
       "1         77.01             5.0                 3                2   \n",
       "2         14.30             0.0                 6                2   \n",
       "3        159.27            20.0                 7                4   \n",
       "4          4.65             0.0                 3                5   \n",
       "\n",
       "   offers_viewed  ...  avg_reward_size_binned  total_bogo_binned  \\\n",
       "0              5  ...                  medium      no_total_bogo   \n",
       "1              0  ...                  medium              small   \n",
       "2              2  ...            not_rewarded      no_total_bogo   \n",
       "3              4  ...                   large             medium   \n",
       "4              3  ...            not_rewarded      no_total_bogo   \n",
       "\n",
       "   total_discount_binned  offers_rr  offers_cvr  bogo_rr  bogo_cvr  \\\n",
       "0                  small      100.0        40.0      0.0       0.0   \n",
       "1      no_total_discount        0.0         0.0      0.0       0.0   \n",
       "2      no_total_discount      100.0         0.0    100.0       0.0   \n",
       "3      no_total_discount      100.0        75.0    100.0     100.0   \n",
       "4      no_total_discount       60.0         0.0      0.0       0.0   \n",
       "\n",
       "   discount_rr  discount_cvr  informational_rr  \n",
       "0       100.00          40.0               0.0  \n",
       "1         0.00           0.0               0.0  \n",
       "2         0.00           0.0             100.0  \n",
       "3         0.00           0.0             100.0  \n",
       "4        66.67           0.0              50.0  \n",
       "\n",
       "[5 rows x 41 columns]"
      ]
     },
     "execution_count": 417,
     "metadata": {},
     "output_type": "execute_result"
    }
   ],
   "source": [
    "starbucks_imputed.head()"
   ]
  },
  {
   "cell_type": "code",
   "execution_count": 418,
   "metadata": {},
   "outputs": [
    {
     "data": {
      "text/plain": [
       "Index(['person', 'became_member_on', 'gender', 'age', 'income', 'total_amount',\n",
       "       'total_rewarded', 'transactions_num', 'offers_received',\n",
       "       'offers_viewed', 'offers_completed', 'bogo_received', 'bogo_viewed',\n",
       "       'bogo_completed', 'discount_received', 'discount_viewed',\n",
       "       'discount_completed', 'informational_received', 'informational_viewed',\n",
       "       'total_bogo', 'total_discount', 'income_binned', 'age_binned',\n",
       "       'avg_order_size', 'avg_reward_size', 'avg_bogo_size',\n",
       "       'avg_discount_size', 'total_amount_binned', 'total_rewarded_binned',\n",
       "       'transactions_num_binned', 'avg_order_size_binned',\n",
       "       'avg_reward_size_binned', 'total_bogo_binned', 'total_discount_binned',\n",
       "       'offers_rr', 'offers_cvr', 'bogo_rr', 'bogo_cvr', 'discount_rr',\n",
       "       'discount_cvr', 'informational_rr'],\n",
       "      dtype='object')"
      ]
     },
     "execution_count": 418,
     "metadata": {},
     "output_type": "execute_result"
    }
   ],
   "source": [
    "starbucks_imputed.columns"
   ]
  },
  {
   "cell_type": "code",
   "execution_count": 423,
   "metadata": {},
   "outputs": [],
   "source": [
    "# drop ratio columns, leave only categorical (binned) ones\n",
    "starbucks_binned = starbucks_imputed[['person', 'became_member_on', 'gender', 'age_binned', 'income_binned',\n",
    "                                   'total_amount_binned', 'total_rewarded_binned',\n",
    "                                   'transactions_num_binned', 'avg_order_size_binned',\n",
    "                                   'avg_reward_size_binned', 'total_bogo_binned', 'total_discount_binned',\n",
    "                                   'offers_rr', 'offers_cvr', 'bogo_rr', 'bogo_cvr', 'discount_rr',\n",
    "                                   'discount_cvr', 'informational_rr']]"
   ]
  },
  {
   "cell_type": "code",
   "execution_count": 424,
   "metadata": {},
   "outputs": [
    {
     "data": {
      "text/html": [
       "<div>\n",
       "<style scoped>\n",
       "    .dataframe tbody tr th:only-of-type {\n",
       "        vertical-align: middle;\n",
       "    }\n",
       "\n",
       "    .dataframe tbody tr th {\n",
       "        vertical-align: top;\n",
       "    }\n",
       "\n",
       "    .dataframe thead th {\n",
       "        text-align: right;\n",
       "    }\n",
       "</style>\n",
       "<table border=\"1\" class=\"dataframe\">\n",
       "  <thead>\n",
       "    <tr style=\"text-align: right;\">\n",
       "      <th></th>\n",
       "      <th>person</th>\n",
       "      <th>became_member_on</th>\n",
       "      <th>gender</th>\n",
       "      <th>age_binned</th>\n",
       "      <th>income_binned</th>\n",
       "      <th>total_amount_binned</th>\n",
       "      <th>total_rewarded_binned</th>\n",
       "      <th>transactions_num_binned</th>\n",
       "      <th>avg_order_size_binned</th>\n",
       "      <th>avg_reward_size_binned</th>\n",
       "      <th>total_bogo_binned</th>\n",
       "      <th>total_discount_binned</th>\n",
       "      <th>offers_rr</th>\n",
       "      <th>offers_cvr</th>\n",
       "      <th>bogo_rr</th>\n",
       "      <th>bogo_cvr</th>\n",
       "      <th>discount_rr</th>\n",
       "      <th>discount_cvr</th>\n",
       "      <th>informational_rr</th>\n",
       "    </tr>\n",
       "  </thead>\n",
       "  <tbody>\n",
       "    <tr>\n",
       "      <th>0</th>\n",
       "      <td>68be06ca386d4c31939f3a4f0e3dd783</td>\n",
       "      <td>2017</td>\n",
       "      <td>M</td>\n",
       "      <td>middle-aged</td>\n",
       "      <td>middle_low_income</td>\n",
       "      <td>small</td>\n",
       "      <td>medium</td>\n",
       "      <td>medium</td>\n",
       "      <td>small</td>\n",
       "      <td>medium</td>\n",
       "      <td>no_total_bogo</td>\n",
       "      <td>small</td>\n",
       "      <td>100.0</td>\n",
       "      <td>40.0</td>\n",
       "      <td>0.0</td>\n",
       "      <td>0.0</td>\n",
       "      <td>100.00</td>\n",
       "      <td>40.0</td>\n",
       "      <td>0.0</td>\n",
       "    </tr>\n",
       "    <tr>\n",
       "      <th>1</th>\n",
       "      <td>0610b486422d4921ae7d2bf64640c50b</td>\n",
       "      <td>2017</td>\n",
       "      <td>F</td>\n",
       "      <td>middle-aged</td>\n",
       "      <td>high_income</td>\n",
       "      <td>medium</td>\n",
       "      <td>medium</td>\n",
       "      <td>small</td>\n",
       "      <td>large</td>\n",
       "      <td>medium</td>\n",
       "      <td>small</td>\n",
       "      <td>no_total_discount</td>\n",
       "      <td>0.0</td>\n",
       "      <td>0.0</td>\n",
       "      <td>0.0</td>\n",
       "      <td>0.0</td>\n",
       "      <td>0.00</td>\n",
       "      <td>0.0</td>\n",
       "      <td>0.0</td>\n",
       "    </tr>\n",
       "    <tr>\n",
       "      <th>2</th>\n",
       "      <td>38fe809add3b4fcf9315a9694bb96ff5</td>\n",
       "      <td>2018</td>\n",
       "      <td>M</td>\n",
       "      <td>middle-aged</td>\n",
       "      <td>middle_low_income</td>\n",
       "      <td>small</td>\n",
       "      <td>not_rewarded</td>\n",
       "      <td>medium</td>\n",
       "      <td>small</td>\n",
       "      <td>not_rewarded</td>\n",
       "      <td>no_total_bogo</td>\n",
       "      <td>no_total_discount</td>\n",
       "      <td>100.0</td>\n",
       "      <td>0.0</td>\n",
       "      <td>100.0</td>\n",
       "      <td>0.0</td>\n",
       "      <td>0.00</td>\n",
       "      <td>0.0</td>\n",
       "      <td>100.0</td>\n",
       "    </tr>\n",
       "    <tr>\n",
       "      <th>3</th>\n",
       "      <td>78afa995795e4d85b5d9ceeca43f5fef</td>\n",
       "      <td>2017</td>\n",
       "      <td>F</td>\n",
       "      <td>old</td>\n",
       "      <td>high_income</td>\n",
       "      <td>large</td>\n",
       "      <td>large</td>\n",
       "      <td>medium</td>\n",
       "      <td>large</td>\n",
       "      <td>large</td>\n",
       "      <td>medium</td>\n",
       "      <td>no_total_discount</td>\n",
       "      <td>100.0</td>\n",
       "      <td>75.0</td>\n",
       "      <td>100.0</td>\n",
       "      <td>100.0</td>\n",
       "      <td>0.00</td>\n",
       "      <td>0.0</td>\n",
       "      <td>100.0</td>\n",
       "    </tr>\n",
       "    <tr>\n",
       "      <th>4</th>\n",
       "      <td>a03223e636434f42ac4c3df47e8bac43</td>\n",
       "      <td>2017</td>\n",
       "      <td>M</td>\n",
       "      <td>middle-aged</td>\n",
       "      <td>middle_low_income</td>\n",
       "      <td>small</td>\n",
       "      <td>not_rewarded</td>\n",
       "      <td>small</td>\n",
       "      <td>small</td>\n",
       "      <td>not_rewarded</td>\n",
       "      <td>no_total_bogo</td>\n",
       "      <td>no_total_discount</td>\n",
       "      <td>60.0</td>\n",
       "      <td>0.0</td>\n",
       "      <td>0.0</td>\n",
       "      <td>0.0</td>\n",
       "      <td>66.67</td>\n",
       "      <td>0.0</td>\n",
       "      <td>50.0</td>\n",
       "    </tr>\n",
       "  </tbody>\n",
       "</table>\n",
       "</div>"
      ],
      "text/plain": [
       "                             person became_member_on gender   age_binned  \\\n",
       "0  68be06ca386d4c31939f3a4f0e3dd783             2017      M  middle-aged   \n",
       "1  0610b486422d4921ae7d2bf64640c50b             2017      F  middle-aged   \n",
       "2  38fe809add3b4fcf9315a9694bb96ff5             2018      M  middle-aged   \n",
       "3  78afa995795e4d85b5d9ceeca43f5fef             2017      F          old   \n",
       "4  a03223e636434f42ac4c3df47e8bac43             2017      M  middle-aged   \n",
       "\n",
       "       income_binned total_amount_binned total_rewarded_binned  \\\n",
       "0  middle_low_income               small                medium   \n",
       "1        high_income              medium                medium   \n",
       "2  middle_low_income               small          not_rewarded   \n",
       "3        high_income               large                 large   \n",
       "4  middle_low_income               small          not_rewarded   \n",
       "\n",
       "  transactions_num_binned avg_order_size_binned avg_reward_size_binned  \\\n",
       "0                  medium                 small                 medium   \n",
       "1                   small                 large                 medium   \n",
       "2                  medium                 small           not_rewarded   \n",
       "3                  medium                 large                  large   \n",
       "4                   small                 small           not_rewarded   \n",
       "\n",
       "  total_bogo_binned total_discount_binned  offers_rr  offers_cvr  bogo_rr  \\\n",
       "0     no_total_bogo                 small      100.0        40.0      0.0   \n",
       "1             small     no_total_discount        0.0         0.0      0.0   \n",
       "2     no_total_bogo     no_total_discount      100.0         0.0    100.0   \n",
       "3            medium     no_total_discount      100.0        75.0    100.0   \n",
       "4     no_total_bogo     no_total_discount       60.0         0.0      0.0   \n",
       "\n",
       "   bogo_cvr  discount_rr  discount_cvr  informational_rr  \n",
       "0       0.0       100.00          40.0               0.0  \n",
       "1       0.0         0.00           0.0               0.0  \n",
       "2       0.0         0.00           0.0             100.0  \n",
       "3     100.0         0.00           0.0             100.0  \n",
       "4       0.0        66.67           0.0              50.0  "
      ]
     },
     "execution_count": 424,
     "metadata": {},
     "output_type": "execute_result"
    }
   ],
   "source": [
    "starbucks_binned.head()"
   ]
  },
  {
   "cell_type": "code",
   "execution_count": 421,
   "metadata": {},
   "outputs": [
    {
     "data": {
      "text/plain": [
       "(17000, 19)"
      ]
     },
     "execution_count": 421,
     "metadata": {},
     "output_type": "execute_result"
    }
   ],
   "source": [
    "starbucks_fin.shape"
   ]
  },
  {
   "cell_type": "markdown",
   "metadata": {},
   "source": [
    "## EDA"
   ]
  },
  {
   "cell_type": "code",
   "execution_count": 422,
   "metadata": {},
   "outputs": [
    {
     "data": {
      "text/html": [
       "<div>\n",
       "<style scoped>\n",
       "    .dataframe tbody tr th:only-of-type {\n",
       "        vertical-align: middle;\n",
       "    }\n",
       "\n",
       "    .dataframe tbody tr th {\n",
       "        vertical-align: top;\n",
       "    }\n",
       "\n",
       "    .dataframe thead th {\n",
       "        text-align: right;\n",
       "    }\n",
       "</style>\n",
       "<table border=\"1\" class=\"dataframe\">\n",
       "  <thead>\n",
       "    <tr style=\"text-align: right;\">\n",
       "      <th></th>\n",
       "      <th>count</th>\n",
       "      <th>mean</th>\n",
       "      <th>std</th>\n",
       "      <th>min</th>\n",
       "      <th>25%</th>\n",
       "      <th>50%</th>\n",
       "      <th>75%</th>\n",
       "      <th>max</th>\n",
       "    </tr>\n",
       "  </thead>\n",
       "  <tbody>\n",
       "    <tr>\n",
       "      <th>age</th>\n",
       "      <td>17000.0</td>\n",
       "      <td>54.471118</td>\n",
       "      <td>16.234809</td>\n",
       "      <td>18.0</td>\n",
       "      <td>45.00</td>\n",
       "      <td>55.000</td>\n",
       "      <td>65.0000</td>\n",
       "      <td>101.00</td>\n",
       "    </tr>\n",
       "    <tr>\n",
       "      <th>income</th>\n",
       "      <td>17000.0</td>\n",
       "      <td>65225.235294</td>\n",
       "      <td>20174.747749</td>\n",
       "      <td>30000.0</td>\n",
       "      <td>51000.00</td>\n",
       "      <td>64000.000</td>\n",
       "      <td>76000.0000</td>\n",
       "      <td>120000.00</td>\n",
       "    </tr>\n",
       "    <tr>\n",
       "      <th>total_amount</th>\n",
       "      <td>17000.0</td>\n",
       "      <td>104.438351</td>\n",
       "      <td>125.922619</td>\n",
       "      <td>0.0</td>\n",
       "      <td>21.82</td>\n",
       "      <td>69.405</td>\n",
       "      <td>148.7825</td>\n",
       "      <td>1608.69</td>\n",
       "    </tr>\n",
       "    <tr>\n",
       "      <th>total_rewarded</th>\n",
       "      <td>17000.0</td>\n",
       "      <td>9.686824</td>\n",
       "      <td>9.243217</td>\n",
       "      <td>0.0</td>\n",
       "      <td>2.00</td>\n",
       "      <td>7.000</td>\n",
       "      <td>15.0000</td>\n",
       "      <td>55.00</td>\n",
       "    </tr>\n",
       "    <tr>\n",
       "      <th>transactions_num</th>\n",
       "      <td>17000.0</td>\n",
       "      <td>8.173706</td>\n",
       "      <td>5.116250</td>\n",
       "      <td>0.0</td>\n",
       "      <td>4.00</td>\n",
       "      <td>7.000</td>\n",
       "      <td>11.0000</td>\n",
       "      <td>36.00</td>\n",
       "    </tr>\n",
       "    <tr>\n",
       "      <th>offers_received</th>\n",
       "      <td>17000.0</td>\n",
       "      <td>4.486882</td>\n",
       "      <td>1.076165</td>\n",
       "      <td>0.0</td>\n",
       "      <td>4.00</td>\n",
       "      <td>5.000</td>\n",
       "      <td>5.0000</td>\n",
       "      <td>6.00</td>\n",
       "    </tr>\n",
       "    <tr>\n",
       "      <th>offers_viewed</th>\n",
       "      <td>17000.0</td>\n",
       "      <td>3.395588</td>\n",
       "      <td>1.297653</td>\n",
       "      <td>0.0</td>\n",
       "      <td>2.75</td>\n",
       "      <td>3.000</td>\n",
       "      <td>4.0000</td>\n",
       "      <td>6.00</td>\n",
       "    </tr>\n",
       "    <tr>\n",
       "      <th>offers_completed</th>\n",
       "      <td>17000.0</td>\n",
       "      <td>1.975235</td>\n",
       "      <td>1.605563</td>\n",
       "      <td>0.0</td>\n",
       "      <td>1.00</td>\n",
       "      <td>2.000</td>\n",
       "      <td>3.0000</td>\n",
       "      <td>6.00</td>\n",
       "    </tr>\n",
       "    <tr>\n",
       "      <th>bogo_received</th>\n",
       "      <td>17000.0</td>\n",
       "      <td>1.794059</td>\n",
       "      <td>1.120485</td>\n",
       "      <td>0.0</td>\n",
       "      <td>1.00</td>\n",
       "      <td>2.000</td>\n",
       "      <td>3.0000</td>\n",
       "      <td>6.00</td>\n",
       "    </tr>\n",
       "    <tr>\n",
       "      <th>bogo_viewed</th>\n",
       "      <td>17000.0</td>\n",
       "      <td>1.497000</td>\n",
       "      <td>1.057326</td>\n",
       "      <td>0.0</td>\n",
       "      <td>1.00</td>\n",
       "      <td>1.000</td>\n",
       "      <td>2.0000</td>\n",
       "      <td>6.00</td>\n",
       "    </tr>\n",
       "    <tr>\n",
       "      <th>bogo_completed</th>\n",
       "      <td>17000.0</td>\n",
       "      <td>0.921706</td>\n",
       "      <td>1.053786</td>\n",
       "      <td>0.0</td>\n",
       "      <td>0.00</td>\n",
       "      <td>1.000</td>\n",
       "      <td>2.0000</td>\n",
       "      <td>6.00</td>\n",
       "    </tr>\n",
       "    <tr>\n",
       "      <th>discount_received</th>\n",
       "      <td>17000.0</td>\n",
       "      <td>1.796647</td>\n",
       "      <td>1.131248</td>\n",
       "      <td>0.0</td>\n",
       "      <td>1.00</td>\n",
       "      <td>2.000</td>\n",
       "      <td>3.0000</td>\n",
       "      <td>6.00</td>\n",
       "    </tr>\n",
       "    <tr>\n",
       "      <th>discount_viewed</th>\n",
       "      <td>17000.0</td>\n",
       "      <td>1.261471</td>\n",
       "      <td>1.028186</td>\n",
       "      <td>0.0</td>\n",
       "      <td>0.00</td>\n",
       "      <td>1.000</td>\n",
       "      <td>2.0000</td>\n",
       "      <td>6.00</td>\n",
       "    </tr>\n",
       "    <tr>\n",
       "      <th>discount_completed</th>\n",
       "      <td>17000.0</td>\n",
       "      <td>1.053529</td>\n",
       "      <td>1.090507</td>\n",
       "      <td>0.0</td>\n",
       "      <td>0.00</td>\n",
       "      <td>1.000</td>\n",
       "      <td>2.0000</td>\n",
       "      <td>6.00</td>\n",
       "    </tr>\n",
       "    <tr>\n",
       "      <th>informational_received</th>\n",
       "      <td>17000.0</td>\n",
       "      <td>0.896176</td>\n",
       "      <td>0.874963</td>\n",
       "      <td>0.0</td>\n",
       "      <td>0.00</td>\n",
       "      <td>1.000</td>\n",
       "      <td>1.0000</td>\n",
       "      <td>5.00</td>\n",
       "    </tr>\n",
       "    <tr>\n",
       "      <th>informational_viewed</th>\n",
       "      <td>17000.0</td>\n",
       "      <td>0.637118</td>\n",
       "      <td>0.765620</td>\n",
       "      <td>0.0</td>\n",
       "      <td>0.00</td>\n",
       "      <td>0.000</td>\n",
       "      <td>1.0000</td>\n",
       "      <td>5.00</td>\n",
       "    </tr>\n",
       "    <tr>\n",
       "      <th>total_bogo</th>\n",
       "      <td>17000.0</td>\n",
       "      <td>6.672941</td>\n",
       "      <td>8.164623</td>\n",
       "      <td>0.0</td>\n",
       "      <td>0.00</td>\n",
       "      <td>5.000</td>\n",
       "      <td>10.0000</td>\n",
       "      <td>50.00</td>\n",
       "    </tr>\n",
       "    <tr>\n",
       "      <th>total_discount</th>\n",
       "      <td>17000.0</td>\n",
       "      <td>3.013882</td>\n",
       "      <td>3.369012</td>\n",
       "      <td>0.0</td>\n",
       "      <td>0.00</td>\n",
       "      <td>2.000</td>\n",
       "      <td>5.0000</td>\n",
       "      <td>20.00</td>\n",
       "    </tr>\n",
       "    <tr>\n",
       "      <th>avg_order_size</th>\n",
       "      <td>17000.0</td>\n",
       "      <td>13.340649</td>\n",
       "      <td>15.998453</td>\n",
       "      <td>0.0</td>\n",
       "      <td>3.04</td>\n",
       "      <td>11.410</td>\n",
       "      <td>20.2400</td>\n",
       "      <td>451.47</td>\n",
       "    </tr>\n",
       "    <tr>\n",
       "      <th>avg_reward_size</th>\n",
       "      <td>17000.0</td>\n",
       "      <td>3.572101</td>\n",
       "      <td>2.685717</td>\n",
       "      <td>0.0</td>\n",
       "      <td>2.00</td>\n",
       "      <td>3.500</td>\n",
       "      <td>5.0000</td>\n",
       "      <td>10.00</td>\n",
       "    </tr>\n",
       "    <tr>\n",
       "      <th>avg_bogo_size</th>\n",
       "      <td>17000.0</td>\n",
       "      <td>3.890805</td>\n",
       "      <td>3.885316</td>\n",
       "      <td>0.0</td>\n",
       "      <td>0.00</td>\n",
       "      <td>5.000</td>\n",
       "      <td>7.5000</td>\n",
       "      <td>10.00</td>\n",
       "    </tr>\n",
       "    <tr>\n",
       "      <th>avg_discount_size</th>\n",
       "      <td>17000.0</td>\n",
       "      <td>1.715102</td>\n",
       "      <td>1.555947</td>\n",
       "      <td>0.0</td>\n",
       "      <td>0.00</td>\n",
       "      <td>2.000</td>\n",
       "      <td>3.0000</td>\n",
       "      <td>5.00</td>\n",
       "    </tr>\n",
       "    <tr>\n",
       "      <th>offers_rr</th>\n",
       "      <td>17000.0</td>\n",
       "      <td>76.011529</td>\n",
       "      <td>23.617505</td>\n",
       "      <td>0.0</td>\n",
       "      <td>60.00</td>\n",
       "      <td>80.000</td>\n",
       "      <td>100.0000</td>\n",
       "      <td>100.00</td>\n",
       "    </tr>\n",
       "    <tr>\n",
       "      <th>offers_cvr</th>\n",
       "      <td>17000.0</td>\n",
       "      <td>61.005754</td>\n",
       "      <td>54.646986</td>\n",
       "      <td>0.0</td>\n",
       "      <td>0.00</td>\n",
       "      <td>50.000</td>\n",
       "      <td>100.0000</td>\n",
       "      <td>500.00</td>\n",
       "    </tr>\n",
       "    <tr>\n",
       "      <th>bogo_rr</th>\n",
       "      <td>17000.0</td>\n",
       "      <td>73.872598</td>\n",
       "      <td>38.414873</td>\n",
       "      <td>0.0</td>\n",
       "      <td>50.00</td>\n",
       "      <td>100.000</td>\n",
       "      <td>100.0000</td>\n",
       "      <td>100.00</td>\n",
       "    </tr>\n",
       "    <tr>\n",
       "      <th>bogo_cvr</th>\n",
       "      <td>17000.0</td>\n",
       "      <td>50.454695</td>\n",
       "      <td>56.970971</td>\n",
       "      <td>0.0</td>\n",
       "      <td>0.00</td>\n",
       "      <td>33.330</td>\n",
       "      <td>100.0000</td>\n",
       "      <td>400.00</td>\n",
       "    </tr>\n",
       "    <tr>\n",
       "      <th>discount_rr</th>\n",
       "      <td>17000.0</td>\n",
       "      <td>61.974391</td>\n",
       "      <td>41.663425</td>\n",
       "      <td>0.0</td>\n",
       "      <td>0.00</td>\n",
       "      <td>66.670</td>\n",
       "      <td>100.0000</td>\n",
       "      <td>100.00</td>\n",
       "    </tr>\n",
       "    <tr>\n",
       "      <th>discount_cvr</th>\n",
       "      <td>17000.0</td>\n",
       "      <td>61.027736</td>\n",
       "      <td>65.648262</td>\n",
       "      <td>0.0</td>\n",
       "      <td>0.00</td>\n",
       "      <td>50.000</td>\n",
       "      <td>100.0000</td>\n",
       "      <td>500.00</td>\n",
       "    </tr>\n",
       "    <tr>\n",
       "      <th>informational_rr</th>\n",
       "      <td>17000.0</td>\n",
       "      <td>44.138354</td>\n",
       "      <td>47.407240</td>\n",
       "      <td>0.0</td>\n",
       "      <td>0.00</td>\n",
       "      <td>0.000</td>\n",
       "      <td>100.0000</td>\n",
       "      <td>100.00</td>\n",
       "    </tr>\n",
       "  </tbody>\n",
       "</table>\n",
       "</div>"
      ],
      "text/plain": [
       "                          count          mean           std      min  \\\n",
       "age                     17000.0     54.471118     16.234809     18.0   \n",
       "income                  17000.0  65225.235294  20174.747749  30000.0   \n",
       "total_amount            17000.0    104.438351    125.922619      0.0   \n",
       "total_rewarded          17000.0      9.686824      9.243217      0.0   \n",
       "transactions_num        17000.0      8.173706      5.116250      0.0   \n",
       "offers_received         17000.0      4.486882      1.076165      0.0   \n",
       "offers_viewed           17000.0      3.395588      1.297653      0.0   \n",
       "offers_completed        17000.0      1.975235      1.605563      0.0   \n",
       "bogo_received           17000.0      1.794059      1.120485      0.0   \n",
       "bogo_viewed             17000.0      1.497000      1.057326      0.0   \n",
       "bogo_completed          17000.0      0.921706      1.053786      0.0   \n",
       "discount_received       17000.0      1.796647      1.131248      0.0   \n",
       "discount_viewed         17000.0      1.261471      1.028186      0.0   \n",
       "discount_completed      17000.0      1.053529      1.090507      0.0   \n",
       "informational_received  17000.0      0.896176      0.874963      0.0   \n",
       "informational_viewed    17000.0      0.637118      0.765620      0.0   \n",
       "total_bogo              17000.0      6.672941      8.164623      0.0   \n",
       "total_discount          17000.0      3.013882      3.369012      0.0   \n",
       "avg_order_size          17000.0     13.340649     15.998453      0.0   \n",
       "avg_reward_size         17000.0      3.572101      2.685717      0.0   \n",
       "avg_bogo_size           17000.0      3.890805      3.885316      0.0   \n",
       "avg_discount_size       17000.0      1.715102      1.555947      0.0   \n",
       "offers_rr               17000.0     76.011529     23.617505      0.0   \n",
       "offers_cvr              17000.0     61.005754     54.646986      0.0   \n",
       "bogo_rr                 17000.0     73.872598     38.414873      0.0   \n",
       "bogo_cvr                17000.0     50.454695     56.970971      0.0   \n",
       "discount_rr             17000.0     61.974391     41.663425      0.0   \n",
       "discount_cvr            17000.0     61.027736     65.648262      0.0   \n",
       "informational_rr        17000.0     44.138354     47.407240      0.0   \n",
       "\n",
       "                             25%        50%         75%        max  \n",
       "age                        45.00     55.000     65.0000     101.00  \n",
       "income                  51000.00  64000.000  76000.0000  120000.00  \n",
       "total_amount               21.82     69.405    148.7825    1608.69  \n",
       "total_rewarded              2.00      7.000     15.0000      55.00  \n",
       "transactions_num            4.00      7.000     11.0000      36.00  \n",
       "offers_received             4.00      5.000      5.0000       6.00  \n",
       "offers_viewed               2.75      3.000      4.0000       6.00  \n",
       "offers_completed            1.00      2.000      3.0000       6.00  \n",
       "bogo_received               1.00      2.000      3.0000       6.00  \n",
       "bogo_viewed                 1.00      1.000      2.0000       6.00  \n",
       "bogo_completed              0.00      1.000      2.0000       6.00  \n",
       "discount_received           1.00      2.000      3.0000       6.00  \n",
       "discount_viewed             0.00      1.000      2.0000       6.00  \n",
       "discount_completed          0.00      1.000      2.0000       6.00  \n",
       "informational_received      0.00      1.000      1.0000       5.00  \n",
       "informational_viewed        0.00      0.000      1.0000       5.00  \n",
       "total_bogo                  0.00      5.000     10.0000      50.00  \n",
       "total_discount              0.00      2.000      5.0000      20.00  \n",
       "avg_order_size              3.04     11.410     20.2400     451.47  \n",
       "avg_reward_size             2.00      3.500      5.0000      10.00  \n",
       "avg_bogo_size               0.00      5.000      7.5000      10.00  \n",
       "avg_discount_size           0.00      2.000      3.0000       5.00  \n",
       "offers_rr                  60.00     80.000    100.0000     100.00  \n",
       "offers_cvr                  0.00     50.000    100.0000     500.00  \n",
       "bogo_rr                    50.00    100.000    100.0000     100.00  \n",
       "bogo_cvr                    0.00     33.330    100.0000     400.00  \n",
       "discount_rr                 0.00     66.670    100.0000     100.00  \n",
       "discount_cvr                0.00     50.000    100.0000     500.00  \n",
       "informational_rr            0.00      0.000    100.0000     100.00  "
      ]
     },
     "execution_count": 422,
     "metadata": {},
     "output_type": "execute_result"
    }
   ],
   "source": [
    "starbucks_imputed.describe().T"
   ]
  },
  {
   "cell_type": "markdown",
   "metadata": {},
   "source": [
    "**Note:** \n",
    " - **Customers**: the typical Stabucks mobile app customer is middle-aged (median - 55 years), has middle-high income (median - \\\\$64000) and has been a member for about a year (median - 358 days). During the experiment, the customers spent on average \\\\$104.44 (min - \\\\$0, max - \\\\$1608.7) and got \\\\$9.68 (min - \\\\$0, max - \\\\$55) rewarded. Furthermore, customers would make on average 8 transactions with the average order size being \\\\$13.65.\n",
    " \n",
    " \n",
    " - **Offers**: Customers would receive on average 4-5 offers, would view about 3 offers and would complete about 2 offers. The average return on bogo offers is higher than on discount offers - \\\\$12 vs $5. Each customer viewed on average 76% of offers he/she received (Response Rate), with bogo offers being viewed more often (83%) than discounts (70%) or informational offers (71%). Each customer reacted upon (CVR) about 61% of offers he/she viewed, with CVR for discounts being higher (76.5%) than for bogo (60%). It should be noted, however, that the actual CVR per customer should be lower because as it is now it also includes customers that didn't interact with the offer, but got rewarded.\n"
   ]
  },
  {
   "cell_type": "code",
   "execution_count": 425,
   "metadata": {},
   "outputs": [
    {
     "data": {
      "image/png": "[encoded data removed]",
      "text/plain": [
       "<Figure size 720x720 with 7 Axes>"
      ]
     },
     "metadata": {
      "needs_background": "light"
     },
     "output_type": "display_data"
    }
   ],
   "source": [
    "# if cvr > 100, it means more offers completed than offers viewed - waste of money\n",
    "cols = ['offers_rr', 'offers_cvr','bogo_rr', 'bogo_cvr', 'discount_rr', 'discount_cvr','informational_rr']\n",
    "plt.figure(figsize=(10, 10));\n",
    "\n",
    "for i, each in enumerate(starbucks_imputed[cols]):\n",
    "    plt.subplot(4,2,i+1)\n",
    "    starbucks_imputed[each].hist();\n",
    "    plt.title(f\"{each}, %\");\n",
    "    plt.tight_layout();"
   ]
  },
  {
   "cell_type": "code",
   "execution_count": 426,
   "metadata": {},
   "outputs": [
    {
     "data": {
      "image/png": "[encoded data removed]",
      "text/plain": [
       "<Figure size 720x504 with 7 Axes>"
      ]
     },
     "metadata": {
      "needs_background": "light"
     },
     "output_type": "display_data"
    }
   ],
   "source": [
    "# if cvr > 100, it means more offers completed than offers viewed - waste of money\n",
    "cols = ['offers_rr', 'offers_cvr','bogo_rr', 'bogo_cvr', 'discount_rr', 'discount_cvr','informational_rr']\n",
    "plt.figure(figsize=(10, 7));\n",
    "\n",
    "for i, each in enumerate(starbucks_imputed[cols]):\n",
    "    plt.subplot(4,2,i+1)\n",
    "    sns.boxplot(starbucks_imputed[each]);\n",
    "    plt.title(f\"{each}, %\");\n",
    "    plt.tight_layout();"
   ]
  },
  {
   "cell_type": "code",
   "execution_count": 427,
   "metadata": {},
   "outputs": [
    {
     "data": {
      "image/png": "[encoded data removed]",
      "text/plain": [
       "<Figure size 720x360 with 4 Axes>"
      ]
     },
     "metadata": {
      "needs_background": "light"
     },
     "output_type": "display_data"
    }
   ],
   "source": [
    "plt.figure(figsize=(10, 5));\n",
    "\n",
    "for i, each in enumerate(starbucks_imputed[['total_bogo', 'total_amount', 'total_amount', 'total_rewarded']]):\n",
    "    plt.subplot(2,2,i+1)\n",
    "    sns.boxplot(starbucks_imputed[each]);\n",
    "    plt.title(f\"{each}, $\");\n",
    "    plt.tight_layout();"
   ]
  },
  {
   "cell_type": "code",
   "execution_count": 428,
   "metadata": {},
   "outputs": [
    {
     "data": {
      "image/png": "[encoded data removed]",
      "text/plain": [
       "<Figure size 720x360 with 4 Axes>"
      ]
     },
     "metadata": {
      "needs_background": "light"
     },
     "output_type": "display_data"
    }
   ],
   "source": [
    "plt.figure(figsize=(10, 5));\n",
    "\n",
    "for i, each in enumerate(starbucks_imputed[['avg_order_size', 'avg_reward_size','avg_bogo_size', 'avg_discount_size']]):\n",
    "    plt.subplot(2,2,i+1)\n",
    "    sns.boxplot(starbucks_imputed[each]);\n",
    "    plt.title(f\"{each}, $\");\n",
    "    plt.tight_layout();"
   ]
  },
  {
   "cell_type": "code",
   "execution_count": 429,
   "metadata": {},
   "outputs": [
    {
     "data": {
      "image/png": "[encoded data removed]",
      "text/plain": [
       "<Figure size 720x720 with 12 Axes>"
      ]
     },
     "metadata": {
      "needs_background": "light"
     },
     "output_type": "display_data"
    }
   ],
   "source": [
    "cols = ['offers_received','offers_viewed', 'offers_completed', \n",
    "        'bogo_received', 'bogo_viewed','bogo_completed', \n",
    "        'discount_received', 'discount_viewed','discount_completed', \n",
    "        'informational_received', 'informational_viewed', 'transactions_num']\n",
    "    \n",
    "plt.figure(figsize=(10, 10));\n",
    "\n",
    "for i, each in enumerate(starbucks_imputed[cols]):\n",
    "    plt.subplot(4,3,i+1)\n",
    "    sns.boxplot(y=starbucks_imputed[each]);\n",
    "    plt.title(f\"{each}\");\n",
    "    plt.tight_layout();"
   ]
  },
  {
   "cell_type": "code",
   "execution_count": 430,
   "metadata": {},
   "outputs": [
    {
     "data": {
      "image/png": "[encoded data removed]",
      "text/plain": [
       "<Figure size 720x720 with 7 Axes>"
      ]
     },
     "metadata": {
      "needs_background": "light"
     },
     "output_type": "display_data"
    }
   ],
   "source": [
    "cols = ['offers_rr', 'offers_cvr','bogo_rr', 'bogo_cvr','discount_rr', 'discount_cvr','informational_rr']\n",
    "\n",
    "\n",
    "plt.figure(figsize=(10, 10));\n",
    "\n",
    "for i, each in enumerate(starbucks_imputed[cols]):\n",
    "    plt.subplot(4,3,i+1)\n",
    "    sns.boxplot(y=each, x='gender', data=starbucks_imputed);\n",
    "    plt.title(f\"{each}\");\n",
    "    plt.tight_layout();"
   ]
  },
  {
   "cell_type": "code",
   "execution_count": 431,
   "metadata": {},
   "outputs": [
    {
     "data": {
      "image/png": "[encoded data removed]",
      "text/plain": [
       "<Figure size 720x720 with 7 Axes>"
      ]
     },
     "metadata": {
      "needs_background": "light"
     },
     "output_type": "display_data"
    }
   ],
   "source": [
    "cols = ['offers_rr', 'offers_cvr','bogo_rr', 'bogo_cvr','discount_rr', 'discount_cvr','informational_rr']\n",
    "\n",
    "\n",
    "plt.figure(figsize=(10, 10));\n",
    "\n",
    "for i, each in enumerate(starbucks_imputed[cols]):\n",
    "    plt.subplot(4,3,i+1)\n",
    "    sns.boxplot(y=each, x='age_binned', data=starbucks_imputed);\n",
    "    plt.title(f\"{each}\");\n",
    "    plt.tight_layout();"
   ]
  },
  {
   "cell_type": "code",
   "execution_count": 434,
   "metadata": {},
   "outputs": [
    {
     "data": {
      "image/png": "[encoded data removed]",
      "text/plain": [
       "<Figure size 432x288 with 2 Axes>"
      ]
     },
     "metadata": {
      "needs_background": "light"
     },
     "output_type": "display_data"
    }
   ],
   "source": [
    "cols = ['became_member_on', 'age', 'income', 'total_amount', 'avg_order_size', 'transactions_num', 'offers_cvr']\n",
    "sns.heatmap(starbucks_imputed[cols].corr(), cmap = 'rocket_r', annot = True, fmt = '.2f');"
   ]
  },
  {
   "cell_type": "markdown",
   "metadata": {},
   "source": [
    "## Metrics"
   ]
  },
  {
   "cell_type": "markdown",
   "metadata": {},
   "source": [
    "Promotional Effectiveness Metrics & Email Capture Benchmarks Across 10 Ecommerce Industries [2019 Report], https://www.bigcommerce.com/blog/promotional-marketing/#what-is-promotional-marketing"
   ]
  },
  {
   "cell_type": "code",
   "execution_count": 435,
   "metadata": {},
   "outputs": [
    {
     "name": "stdout",
     "output_type": "stream",
     "text": [
      "16994 customers received offers, while 6 did not\n"
     ]
    }
   ],
   "source": [
    "print(f\"{(starbucks_aggr.offers_received != 0).sum()} customers received offers, while {(starbucks_aggr.offers_received == 0).sum()} did not\")"
   ]
  },
  {
   "cell_type": "code",
   "execution_count": 83,
   "metadata": {},
   "outputs": [
    {
     "name": "stdout",
     "output_type": "stream",
     "text": [
      "Out of those who received, 16834 customers viewed offers, while 160 did not\n"
     ]
    }
   ],
   "source": [
    "print(f\"Out of those who received, {((starbucks_aggr.offers_received != 0) & (starbucks_aggr.offers_viewed != 0)).sum()} customers viewed offers, while {((starbucks_aggr.offers_received != 0) & (starbucks_aggr.offers_viewed == 0)).sum()} did not\")"
   ]
  },
  {
   "cell_type": "code",
   "execution_count": 84,
   "metadata": {},
   "outputs": [
    {
     "name": "stdout",
     "output_type": "stream",
     "text": [
      "Out of those who received & viewed, 12701 customers completed the offers, while 4133 did not\n"
     ]
    }
   ],
   "source": [
    "print(f\"Out of those who received & viewed, {((starbucks_aggr.offers_received != 0) & (starbucks_aggr.offers_viewed != 0) & (starbucks_aggr.offers_completed != 0)).sum()} customers completed the offers, while {((starbucks_aggr.offers_received != 0) & (starbucks_aggr.offers_viewed != 0) & (starbucks_aggr.offers_completed == 0)).sum()} did not\")"
   ]
  },
  {
   "cell_type": "markdown",
   "metadata": {},
   "source": [
    " ### Viewing Rate"
   ]
  },
  {
   "cell_type": "code",
   "execution_count": 85,
   "metadata": {},
   "outputs": [
    {
     "data": {
      "text/plain": [
       "99.02"
      ]
     },
     "execution_count": 85,
     "metadata": {},
     "output_type": "execute_result"
    }
   ],
   "source": [
    "# total viewing rate - % customers who viewed the offers\n",
    "viewing_rate = (starbucks_aggr.offers_viewed > 0).sum()\n",
    "round(viewing_rate/starbucks_aggr.shape[0]*100, 2)"
   ]
  },
  {
   "cell_type": "markdown",
   "metadata": {},
   "source": [
    "### Rewarded Rate"
   ]
  },
  {
   "cell_type": "code",
   "execution_count": 86,
   "metadata": {},
   "outputs": [
    {
     "name": "stdout",
     "output_type": "stream",
     "text": [
      "rewarded rate is 75.14%. Right now this number also includes customers that did not interact with the offers but got rewarded.\n"
     ]
    }
   ],
   "source": [
    "# total rewarded rate - % customers who completed the offers \n",
    "rewarded_rate = (starbucks_aggr.offers_completed > 0).sum()\n",
    "print(f\"rewarded rate is {rewarded_rate/starbucks_aggr.shape[0]*100:.2f}%. Right now this number also includes customers that did not interact with the offers but got rewarded.\")"
   ]
  },
  {
   "cell_type": "markdown",
   "metadata": {},
   "source": [
    "Let's find misattributed customers who should not have been rewarded (those that did not interact with offers but completed offers) and calculate the waisted sum. I do it in two steps:\n",
    "- first, I find those that did not interact with any of the offers and still got rewarded; \n",
    "- second, I find those that got more offers completed than they actually viewed."
   ]
  },
  {
   "cell_type": "markdown",
   "metadata": {},
   "source": [
    "**not engaged Conversion rate (CVR)** - % who DID NOT interact with the offers and still got rewarded."
   ]
  },
  {
   "cell_type": "code",
   "execution_count": 87,
   "metadata": {},
   "outputs": [
    {
     "name": "stdout",
     "output_type": "stream",
     "text": [
      "there are 0.43% of customers who did not interact with the offers, but still got rewarded in total of $718.0\n",
      "Starbucks could have saved $362.5 on bogos and $355.5 on discounts\n"
     ]
    }
   ],
   "source": [
    "no_views_cvr = starbucks_aggr[(starbucks_aggr.offers_viewed == 0) & (starbucks_aggr.offers_completed > 0)]\n",
    "cvr_noviews_num = no_views_cvr.shape[0]\n",
    "cvr_noviews_bogo_total = (no_views_cvr.bogo_received * no_views_cvr.avg_bogo_size).sum()\n",
    "cvg_noviews_discount_total = (no_views_cvr.discount_received * no_views_cvr.avg_discount_size).sum()\n",
    "cvr_noviews_total = cvr_noviews_bogo_total + cvg_noviews_discount_total\n",
    "\n",
    "print(f\"there are {round(cvr_noviews_num/starbucks_aggr.shape[0]*100, 2)}% of customers who did not interact with the offers, but still got rewarded in total of ${cvr_noviews_total}\")\n",
    "print(f\"Starbucks could have saved ${cvr_noviews_bogo_total} on bogos and ${cvg_noviews_discount_total} on discounts\")"
   ]
  },
  {
   "cell_type": "markdown",
   "metadata": {},
   "source": [
    "**bad CVR** - more offers completed than viewed"
   ]
  },
  {
   "cell_type": "code",
   "execution_count": 88,
   "metadata": {},
   "outputs": [
    {
     "name": "stdout",
     "output_type": "stream",
     "text": [
      "there are 11.44% who got more offers completed than actually viewed\n",
      "This means that these customers made transactions regardless of offers they received and thus Starbucks overpaid about $15515.01 or 9.42% of its total marketing cost\n",
      "More specifically, Starbucks could have saved on bogos: $8444.45 and on discounts: $ 7070.56\n"
     ]
    }
   ],
   "source": [
    "morethanviewed_cvr = starbucks_aggr[starbucks_aggr.offers_cvr > 100]\n",
    "cvr_morethanviewed_num = morethanviewed_cvr.shape[0]\n",
    "\n",
    "#calculating the overpaid amount - num incorrectly attributed offers (bogo or discount) * average offer size\n",
    "bogo_overpaid = (morethanviewed_cvr.bogo_received - morethanviewed_cvr.bogo_viewed)*morethanviewed_cvr.avg_bogo_size\n",
    "bogo_overpaid_total = bogo_overpaid.sum()\n",
    "discount_overpaid = (morethanviewed_cvr.discount_received - morethanviewed_cvr.discount_viewed)*morethanviewed_cvr.avg_discount_size\n",
    "discount_overpaid_total = discount_overpaid.sum()\n",
    "morethanviewed_cvr_amount = bogo_overpaid_total + discount_overpaid_total\n",
    "\n",
    "print(f\"there are {round(cvr_morethanviewed_num/starbucks_aggr.shape[0]*100, 2)}% who got more offers completed than actually viewed\")\n",
    "print(f\"This means that these customers made transactions regardless of offers they received and thus Starbucks overpaid about ${morethanviewed_cvr_amount} or {morethanviewed_cvr_amount/starbucks_aggr.total_rewarded.sum()*100:.2f}% of its total marketing cost\")\n",
    "print(f\"More specifically, Starbucks could have saved on bogos: ${bogo_overpaid_total} and on discounts: ${discount_overpaid_total: .2f}\")"
   ]
  },
  {
   "cell_type": "markdown",
   "metadata": {},
   "source": [
    "**Note:** About 12% of all customers completed offers even though they did not interact with them. As a result, about \\\\$16233 or almost 10% of the marketing cost got waisted.\n",
    "\n",
    "Only correctly secured campaigns should be a source of relevant data. "
   ]
  },
  {
   "cell_type": "code",
   "execution_count": 89,
   "metadata": {},
   "outputs": [],
   "source": [
    "# TODO: maybe replace those with cvr>100 with cvr=100 \n",
    "# --> replace bogo_completed with bogo_viewed + discount_completed with discount_viewed"
   ]
  },
  {
   "cell_type": "markdown",
   "metadata": {},
   "source": [
    "**Engaged conversion rate (CVR)** - number of those who interacted with the offers and got rewarded."
   ]
  },
  {
   "cell_type": "code",
   "execution_count": 90,
   "metadata": {},
   "outputs": [
    {
     "name": "stdout",
     "output_type": "stream",
     "text": [
      "there are 74.71% of customers received and viewed the offers and got rewarded in total of $164137.0\n"
     ]
    }
   ],
   "source": [
    "engaged_cvr = ((starbucks_aggr.offers_received != 0) & (starbucks_aggr.offers_viewed > 0) & (starbucks_aggr.offers_completed > 0)).sum()\n",
    "print(f\"there are {round(engaged_cvr/starbucks_aggr.shape[0]*100, 2)}% of customers received and viewed the offers and got rewarded in total of ${starbucks_aggr[((starbucks_aggr.offers_received != 0) & (starbucks_aggr.offers_viewed > 0) & (starbucks_aggr.offers_completed > 0))].total_rewarded.sum()}\")"
   ]
  },
  {
   "cell_type": "markdown",
   "metadata": {},
   "source": [
    "## Predict engaged CVR"
   ]
  },
  {
   "cell_type": "code",
   "execution_count": 91,
   "metadata": {},
   "outputs": [],
   "source": [
    "starbucks_engaged = starbucks_aggr.copy().iloc[:, 1:11]"
   ]
  },
  {
   "cell_type": "code",
   "execution_count": 92,
   "metadata": {},
   "outputs": [
    {
     "data": {
      "text/html": [
       "<div>\n",
       "<style scoped>\n",
       "    .dataframe tbody tr th:only-of-type {\n",
       "        vertical-align: middle;\n",
       "    }\n",
       "\n",
       "    .dataframe tbody tr th {\n",
       "        vertical-align: top;\n",
       "    }\n",
       "\n",
       "    .dataframe thead th {\n",
       "        text-align: right;\n",
       "    }\n",
       "</style>\n",
       "<table border=\"1\" class=\"dataframe\">\n",
       "  <thead>\n",
       "    <tr style=\"text-align: right;\">\n",
       "      <th></th>\n",
       "      <th>membership_days</th>\n",
       "      <th>gender</th>\n",
       "      <th>age</th>\n",
       "      <th>age_binned</th>\n",
       "      <th>income</th>\n",
       "      <th>income_binned</th>\n",
       "      <th>total_amount</th>\n",
       "      <th>total_rewarded</th>\n",
       "      <th>transactions_num</th>\n",
       "      <th>offers_received</th>\n",
       "    </tr>\n",
       "  </thead>\n",
       "  <tbody>\n",
       "    <tr>\n",
       "      <th>0</th>\n",
       "      <td>529</td>\n",
       "      <td>NaN</td>\n",
       "      <td>NaN</td>\n",
       "      <td>NaN</td>\n",
       "      <td>NaN</td>\n",
       "      <td>NaN</td>\n",
       "      <td>20.40</td>\n",
       "      <td>5.0</td>\n",
       "      <td>9</td>\n",
       "      <td>5</td>\n",
       "    </tr>\n",
       "    <tr>\n",
       "      <th>1</th>\n",
       "      <td>376</td>\n",
       "      <td>F</td>\n",
       "      <td>55.0</td>\n",
       "      <td>middle-aged</td>\n",
       "      <td>112000.0</td>\n",
       "      <td>high_income</td>\n",
       "      <td>77.01</td>\n",
       "      <td>5.0</td>\n",
       "      <td>3</td>\n",
       "      <td>2</td>\n",
       "    </tr>\n",
       "    <tr>\n",
       "      <th>2</th>\n",
       "      <td>14</td>\n",
       "      <td>NaN</td>\n",
       "      <td>NaN</td>\n",
       "      <td>NaN</td>\n",
       "      <td>NaN</td>\n",
       "      <td>NaN</td>\n",
       "      <td>14.30</td>\n",
       "      <td>0.0</td>\n",
       "      <td>6</td>\n",
       "      <td>2</td>\n",
       "    </tr>\n",
       "    <tr>\n",
       "      <th>3</th>\n",
       "      <td>443</td>\n",
       "      <td>F</td>\n",
       "      <td>75.0</td>\n",
       "      <td>old</td>\n",
       "      <td>100000.0</td>\n",
       "      <td>high_income</td>\n",
       "      <td>159.27</td>\n",
       "      <td>20.0</td>\n",
       "      <td>7</td>\n",
       "      <td>4</td>\n",
       "    </tr>\n",
       "    <tr>\n",
       "      <th>4</th>\n",
       "      <td>356</td>\n",
       "      <td>NaN</td>\n",
       "      <td>NaN</td>\n",
       "      <td>NaN</td>\n",
       "      <td>NaN</td>\n",
       "      <td>NaN</td>\n",
       "      <td>4.65</td>\n",
       "      <td>0.0</td>\n",
       "      <td>3</td>\n",
       "      <td>5</td>\n",
       "    </tr>\n",
       "  </tbody>\n",
       "</table>\n",
       "</div>"
      ],
      "text/plain": [
       "   membership_days gender   age   age_binned    income income_binned  \\\n",
       "0              529    NaN   NaN          NaN       NaN           NaN   \n",
       "1              376      F  55.0  middle-aged  112000.0   high_income   \n",
       "2               14    NaN   NaN          NaN       NaN           NaN   \n",
       "3              443      F  75.0          old  100000.0   high_income   \n",
       "4              356    NaN   NaN          NaN       NaN           NaN   \n",
       "\n",
       "   total_amount  total_rewarded  transactions_num  offers_received  \n",
       "0         20.40             5.0                 9                5  \n",
       "1         77.01             5.0                 3                2  \n",
       "2         14.30             0.0                 6                2  \n",
       "3        159.27            20.0                 7                4  \n",
       "4          4.65             0.0                 3                5  "
      ]
     },
     "execution_count": 92,
     "metadata": {},
     "output_type": "execute_result"
    }
   ],
   "source": [
    "starbucks_engaged.head()"
   ]
  },
  {
   "cell_type": "code",
   "execution_count": 93,
   "metadata": {},
   "outputs": [],
   "source": [
    "# create a column 'conversion' => 1 if received & viewed & completed, 0 if not\n",
    "starbucks_engaged['conversion'] = ((starbucks_aggr.offers_received != 0) & (starbucks_aggr.offers_viewed > 0) & (starbucks_aggr.offers_completed > 0))\n",
    "starbucks_engaged['conversion'] = starbucks_engaged['conversion'].apply(lambda x: 1 if x == True else 0)"
   ]
  },
  {
   "cell_type": "code",
   "execution_count": 94,
   "metadata": {},
   "outputs": [
    {
     "data": {
      "text/html": [
       "<div>\n",
       "<style scoped>\n",
       "    .dataframe tbody tr th:only-of-type {\n",
       "        vertical-align: middle;\n",
       "    }\n",
       "\n",
       "    .dataframe tbody tr th {\n",
       "        vertical-align: top;\n",
       "    }\n",
       "\n",
       "    .dataframe thead th {\n",
       "        text-align: right;\n",
       "    }\n",
       "</style>\n",
       "<table border=\"1\" class=\"dataframe\">\n",
       "  <thead>\n",
       "    <tr style=\"text-align: right;\">\n",
       "      <th></th>\n",
       "      <th>membership_days</th>\n",
       "      <th>gender</th>\n",
       "      <th>age</th>\n",
       "      <th>age_binned</th>\n",
       "      <th>income</th>\n",
       "      <th>income_binned</th>\n",
       "      <th>total_amount</th>\n",
       "      <th>total_rewarded</th>\n",
       "      <th>transactions_num</th>\n",
       "      <th>offers_received</th>\n",
       "      <th>conversion</th>\n",
       "    </tr>\n",
       "  </thead>\n",
       "  <tbody>\n",
       "    <tr>\n",
       "      <th>0</th>\n",
       "      <td>529</td>\n",
       "      <td>NaN</td>\n",
       "      <td>NaN</td>\n",
       "      <td>NaN</td>\n",
       "      <td>NaN</td>\n",
       "      <td>NaN</td>\n",
       "      <td>20.40</td>\n",
       "      <td>5.0</td>\n",
       "      <td>9</td>\n",
       "      <td>5</td>\n",
       "      <td>1</td>\n",
       "    </tr>\n",
       "    <tr>\n",
       "      <th>1</th>\n",
       "      <td>376</td>\n",
       "      <td>F</td>\n",
       "      <td>55.0</td>\n",
       "      <td>middle-aged</td>\n",
       "      <td>112000.0</td>\n",
       "      <td>high_income</td>\n",
       "      <td>77.01</td>\n",
       "      <td>5.0</td>\n",
       "      <td>3</td>\n",
       "      <td>2</td>\n",
       "      <td>0</td>\n",
       "    </tr>\n",
       "    <tr>\n",
       "      <th>2</th>\n",
       "      <td>14</td>\n",
       "      <td>NaN</td>\n",
       "      <td>NaN</td>\n",
       "      <td>NaN</td>\n",
       "      <td>NaN</td>\n",
       "      <td>NaN</td>\n",
       "      <td>14.30</td>\n",
       "      <td>0.0</td>\n",
       "      <td>6</td>\n",
       "      <td>2</td>\n",
       "      <td>0</td>\n",
       "    </tr>\n",
       "    <tr>\n",
       "      <th>3</th>\n",
       "      <td>443</td>\n",
       "      <td>F</td>\n",
       "      <td>75.0</td>\n",
       "      <td>old</td>\n",
       "      <td>100000.0</td>\n",
       "      <td>high_income</td>\n",
       "      <td>159.27</td>\n",
       "      <td>20.0</td>\n",
       "      <td>7</td>\n",
       "      <td>4</td>\n",
       "      <td>1</td>\n",
       "    </tr>\n",
       "    <tr>\n",
       "      <th>4</th>\n",
       "      <td>356</td>\n",
       "      <td>NaN</td>\n",
       "      <td>NaN</td>\n",
       "      <td>NaN</td>\n",
       "      <td>NaN</td>\n",
       "      <td>NaN</td>\n",
       "      <td>4.65</td>\n",
       "      <td>0.0</td>\n",
       "      <td>3</td>\n",
       "      <td>5</td>\n",
       "      <td>0</td>\n",
       "    </tr>\n",
       "  </tbody>\n",
       "</table>\n",
       "</div>"
      ],
      "text/plain": [
       "   membership_days gender   age   age_binned    income income_binned  \\\n",
       "0              529    NaN   NaN          NaN       NaN           NaN   \n",
       "1              376      F  55.0  middle-aged  112000.0   high_income   \n",
       "2               14    NaN   NaN          NaN       NaN           NaN   \n",
       "3              443      F  75.0          old  100000.0   high_income   \n",
       "4              356    NaN   NaN          NaN       NaN           NaN   \n",
       "\n",
       "   total_amount  total_rewarded  transactions_num  offers_received  conversion  \n",
       "0         20.40             5.0                 9                5           1  \n",
       "1         77.01             5.0                 3                2           0  \n",
       "2         14.30             0.0                 6                2           0  \n",
       "3        159.27            20.0                 7                4           1  \n",
       "4          4.65             0.0                 3                5           0  "
      ]
     },
     "execution_count": 94,
     "metadata": {},
     "output_type": "execute_result"
    }
   ],
   "source": [
    "starbucks_engaged.head()"
   ]
  },
  {
   "cell_type": "markdown",
   "metadata": {},
   "source": [
    "https://www.themailshark.com/resources/guides/how-to-track-measure-direct-mail/\n",
    "https://nscpolteksby.ac.id/ebook/files/Ebook/Business%20Administration/Marketing%20Metrics%20(2006)/10.%20Chapter%208%20-%20PROMOTION.pdf"
   ]
  },
  {
   "cell_type": "markdown",
   "metadata": {},
   "source": [
    "Revenue "
   ]
  },
  {
   "cell_type": "code",
   "execution_count": 95,
   "metadata": {},
   "outputs": [
    {
     "data": {
      "text/plain": [
       "1775451.9699999997"
      ]
     },
     "execution_count": 95,
     "metadata": {},
     "output_type": "execute_result"
    }
   ],
   "source": [
    "revenue = starbucks_aggr.total_amount.sum()\n",
    "revenue"
   ]
  },
  {
   "cell_type": "markdown",
   "metadata": {},
   "source": [
    "Campaign cost"
   ]
  },
  {
   "cell_type": "code",
   "execution_count": 96,
   "metadata": {},
   "outputs": [
    {
     "data": {
      "text/plain": [
       "164676.0"
      ]
     },
     "execution_count": 96,
     "metadata": {},
     "output_type": "execute_result"
    }
   ],
   "source": [
    "campaign_cost = starbucks_aggr.total_rewarded.sum()\n",
    "campaign_cost"
   ]
  },
  {
   "cell_type": "markdown",
   "metadata": {},
   "source": [
    "Cost per Acquisition (CPA) -  \"also known as cost per order or lead – tells you how much each new customer cost to obtain.\""
   ]
  },
  {
   "cell_type": "code",
   "execution_count": 97,
   "metadata": {},
   "outputs": [
    {
     "data": {
      "text/plain": [
       "1.1851201485394343"
      ]
     },
     "execution_count": 97,
     "metadata": {},
     "output_type": "execute_result"
    }
   ],
   "source": [
    "# campaign cost per transaction\n",
    "cost_per_acquisition = campaign_cost/starbucks_aggr.transactions_num.sum()\n",
    "cost_per_acquisition"
   ]
  },
  {
   "cell_type": "markdown",
   "metadata": {},
   "source": [
    "Average Order Size "
   ]
  },
  {
   "cell_type": "code",
   "execution_count": 98,
   "metadata": {},
   "outputs": [
    {
     "data": {
      "text/plain": [
       "12.777356156398204"
      ]
     },
     "execution_count": 98,
     "metadata": {},
     "output_type": "execute_result"
    }
   ],
   "source": [
    "# revenue per transaction\n",
    "average_order_size = revenue/starbucks_aggr.transactions_num.sum()\n",
    "average_order_size"
   ]
  },
  {
   "cell_type": "markdown",
   "metadata": {},
   "source": [
    "Revenue per Order - how much profit you made from each order on average"
   ]
  },
  {
   "cell_type": "code",
   "execution_count": 99,
   "metadata": {},
   "outputs": [
    {
     "data": {
      "text/plain": [
       "11.59223600785877"
      ]
     },
     "execution_count": 99,
     "metadata": {},
     "output_type": "execute_result"
    }
   ],
   "source": [
    "revenue_per_order = average_order_size-cost_per_acquisition\n",
    "revenue_per_order"
   ]
  },
  {
   "cell_type": "markdown",
   "metadata": {},
   "source": [
    "Return on Investment (ROI), %"
   ]
  },
  {
   "cell_type": "code",
   "execution_count": 100,
   "metadata": {},
   "outputs": [
    {
     "data": {
      "text/plain": [
       "978.1485887439576"
      ]
     },
     "execution_count": 100,
     "metadata": {},
     "output_type": "execute_result"
    }
   ],
   "source": [
    "roi = (revenue-campaign_cost)/campaign_cost * 100\n",
    "roi"
   ]
  },
  {
   "cell_type": "markdown",
   "metadata": {},
   "source": [
    "# Data Preprocessing"
   ]
  },
  {
   "cell_type": "markdown",
   "metadata": {},
   "source": [
    "### One-Hot Encoding categorical data"
   ]
  },
  {
   "cell_type": "code",
   "execution_count": 439,
   "metadata": {},
   "outputs": [],
   "source": [
    "# drop person id from further analysis\n",
    "starbucks_ohe = starbucks_binned.copy()\n",
    "\n",
    "starbucks_ohe.drop('person', axis=1, inplace=True)"
   ]
  },
  {
   "cell_type": "code",
   "execution_count": 442,
   "metadata": {},
   "outputs": [
    {
     "data": {
      "text/plain": [
       "Index(['became_member_on', 'gender', 'age_binned', 'income_binned',\n",
       "       'total_amount_binned', 'total_rewarded_binned',\n",
       "       'transactions_num_binned', 'avg_order_size_binned',\n",
       "       'avg_reward_size_binned', 'total_bogo_binned', 'total_discount_binned'],\n",
       "      dtype='object')"
      ]
     },
     "execution_count": 442,
     "metadata": {},
     "output_type": "execute_result"
    }
   ],
   "source": [
    "categorical_col = starbucks_ohe.columns[(starbucks_ohe.dtypes == 'category') | (starbucks_ohe.dtypes == 'object')]\n",
    "categorical_col"
   ]
  },
  {
   "cell_type": "code",
   "execution_count": 443,
   "metadata": {},
   "outputs": [],
   "source": [
    "# TODO: try OneHotEncoder \n",
    "starbucks_ohe = pd.get_dummies(starbucks_ohe, columns=categorical_col)"
   ]
  },
  {
   "cell_type": "code",
   "execution_count": 444,
   "metadata": {},
   "outputs": [
    {
     "data": {
      "text/html": [
       "<div>\n",
       "<style scoped>\n",
       "    .dataframe tbody tr th:only-of-type {\n",
       "        vertical-align: middle;\n",
       "    }\n",
       "\n",
       "    .dataframe tbody tr th {\n",
       "        vertical-align: top;\n",
       "    }\n",
       "\n",
       "    .dataframe thead th {\n",
       "        text-align: right;\n",
       "    }\n",
       "</style>\n",
       "<table border=\"1\" class=\"dataframe\">\n",
       "  <thead>\n",
       "    <tr style=\"text-align: right;\">\n",
       "      <th></th>\n",
       "      <th>offers_rr</th>\n",
       "      <th>offers_cvr</th>\n",
       "      <th>bogo_rr</th>\n",
       "      <th>bogo_cvr</th>\n",
       "      <th>discount_rr</th>\n",
       "      <th>discount_cvr</th>\n",
       "      <th>informational_rr</th>\n",
       "      <th>became_member_on_2013</th>\n",
       "      <th>became_member_on_2014</th>\n",
       "      <th>became_member_on_2015</th>\n",
       "      <th>...</th>\n",
       "      <th>avg_reward_size_binned_medium</th>\n",
       "      <th>avg_reward_size_binned_large</th>\n",
       "      <th>total_bogo_binned_no_total_bogo</th>\n",
       "      <th>total_bogo_binned_small</th>\n",
       "      <th>total_bogo_binned_medium</th>\n",
       "      <th>total_bogo_binned_large</th>\n",
       "      <th>total_discount_binned_no_total_discount</th>\n",
       "      <th>total_discount_binned_small</th>\n",
       "      <th>total_discount_binned_medium</th>\n",
       "      <th>total_discount_binned_large</th>\n",
       "    </tr>\n",
       "  </thead>\n",
       "  <tbody>\n",
       "    <tr>\n",
       "      <th>0</th>\n",
       "      <td>100.0</td>\n",
       "      <td>40.0</td>\n",
       "      <td>0.0</td>\n",
       "      <td>0.0</td>\n",
       "      <td>100.00</td>\n",
       "      <td>40.0</td>\n",
       "      <td>0.0</td>\n",
       "      <td>0</td>\n",
       "      <td>0</td>\n",
       "      <td>0</td>\n",
       "      <td>...</td>\n",
       "      <td>1</td>\n",
       "      <td>0</td>\n",
       "      <td>1</td>\n",
       "      <td>0</td>\n",
       "      <td>0</td>\n",
       "      <td>0</td>\n",
       "      <td>0</td>\n",
       "      <td>1</td>\n",
       "      <td>0</td>\n",
       "      <td>0</td>\n",
       "    </tr>\n",
       "    <tr>\n",
       "      <th>1</th>\n",
       "      <td>0.0</td>\n",
       "      <td>0.0</td>\n",
       "      <td>0.0</td>\n",
       "      <td>0.0</td>\n",
       "      <td>0.00</td>\n",
       "      <td>0.0</td>\n",
       "      <td>0.0</td>\n",
       "      <td>0</td>\n",
       "      <td>0</td>\n",
       "      <td>0</td>\n",
       "      <td>...</td>\n",
       "      <td>1</td>\n",
       "      <td>0</td>\n",
       "      <td>0</td>\n",
       "      <td>1</td>\n",
       "      <td>0</td>\n",
       "      <td>0</td>\n",
       "      <td>1</td>\n",
       "      <td>0</td>\n",
       "      <td>0</td>\n",
       "      <td>0</td>\n",
       "    </tr>\n",
       "    <tr>\n",
       "      <th>2</th>\n",
       "      <td>100.0</td>\n",
       "      <td>0.0</td>\n",
       "      <td>100.0</td>\n",
       "      <td>0.0</td>\n",
       "      <td>0.00</td>\n",
       "      <td>0.0</td>\n",
       "      <td>100.0</td>\n",
       "      <td>0</td>\n",
       "      <td>0</td>\n",
       "      <td>0</td>\n",
       "      <td>...</td>\n",
       "      <td>0</td>\n",
       "      <td>0</td>\n",
       "      <td>1</td>\n",
       "      <td>0</td>\n",
       "      <td>0</td>\n",
       "      <td>0</td>\n",
       "      <td>1</td>\n",
       "      <td>0</td>\n",
       "      <td>0</td>\n",
       "      <td>0</td>\n",
       "    </tr>\n",
       "    <tr>\n",
       "      <th>3</th>\n",
       "      <td>100.0</td>\n",
       "      <td>75.0</td>\n",
       "      <td>100.0</td>\n",
       "      <td>100.0</td>\n",
       "      <td>0.00</td>\n",
       "      <td>0.0</td>\n",
       "      <td>100.0</td>\n",
       "      <td>0</td>\n",
       "      <td>0</td>\n",
       "      <td>0</td>\n",
       "      <td>...</td>\n",
       "      <td>0</td>\n",
       "      <td>1</td>\n",
       "      <td>0</td>\n",
       "      <td>0</td>\n",
       "      <td>1</td>\n",
       "      <td>0</td>\n",
       "      <td>1</td>\n",
       "      <td>0</td>\n",
       "      <td>0</td>\n",
       "      <td>0</td>\n",
       "    </tr>\n",
       "    <tr>\n",
       "      <th>4</th>\n",
       "      <td>60.0</td>\n",
       "      <td>0.0</td>\n",
       "      <td>0.0</td>\n",
       "      <td>0.0</td>\n",
       "      <td>66.67</td>\n",
       "      <td>0.0</td>\n",
       "      <td>50.0</td>\n",
       "      <td>0</td>\n",
       "      <td>0</td>\n",
       "      <td>0</td>\n",
       "      <td>...</td>\n",
       "      <td>0</td>\n",
       "      <td>0</td>\n",
       "      <td>1</td>\n",
       "      <td>0</td>\n",
       "      <td>0</td>\n",
       "      <td>0</td>\n",
       "      <td>1</td>\n",
       "      <td>0</td>\n",
       "      <td>0</td>\n",
       "      <td>0</td>\n",
       "    </tr>\n",
       "  </tbody>\n",
       "</table>\n",
       "<p>5 rows × 52 columns</p>\n",
       "</div>"
      ],
      "text/plain": [
       "   offers_rr  offers_cvr  bogo_rr  bogo_cvr  discount_rr  discount_cvr  \\\n",
       "0      100.0        40.0      0.0       0.0       100.00          40.0   \n",
       "1        0.0         0.0      0.0       0.0         0.00           0.0   \n",
       "2      100.0         0.0    100.0       0.0         0.00           0.0   \n",
       "3      100.0        75.0    100.0     100.0         0.00           0.0   \n",
       "4       60.0         0.0      0.0       0.0        66.67           0.0   \n",
       "\n",
       "   informational_rr  became_member_on_2013  became_member_on_2014  \\\n",
       "0               0.0                      0                      0   \n",
       "1               0.0                      0                      0   \n",
       "2             100.0                      0                      0   \n",
       "3             100.0                      0                      0   \n",
       "4              50.0                      0                      0   \n",
       "\n",
       "   became_member_on_2015  ...  avg_reward_size_binned_medium  \\\n",
       "0                      0  ...                              1   \n",
       "1                      0  ...                              1   \n",
       "2                      0  ...                              0   \n",
       "3                      0  ...                              0   \n",
       "4                      0  ...                              0   \n",
       "\n",
       "   avg_reward_size_binned_large  total_bogo_binned_no_total_bogo  \\\n",
       "0                             0                                1   \n",
       "1                             0                                0   \n",
       "2                             0                                1   \n",
       "3                             1                                0   \n",
       "4                             0                                1   \n",
       "\n",
       "   total_bogo_binned_small  total_bogo_binned_medium  total_bogo_binned_large  \\\n",
       "0                        0                         0                        0   \n",
       "1                        1                         0                        0   \n",
       "2                        0                         0                        0   \n",
       "3                        0                         1                        0   \n",
       "4                        0                         0                        0   \n",
       "\n",
       "   total_discount_binned_no_total_discount  total_discount_binned_small  \\\n",
       "0                                        0                            1   \n",
       "1                                        1                            0   \n",
       "2                                        1                            0   \n",
       "3                                        1                            0   \n",
       "4                                        1                            0   \n",
       "\n",
       "   total_discount_binned_medium  total_discount_binned_large  \n",
       "0                             0                            0  \n",
       "1                             0                            0  \n",
       "2                             0                            0  \n",
       "3                             0                            0  \n",
       "4                             0                            0  \n",
       "\n",
       "[5 rows x 52 columns]"
      ]
     },
     "execution_count": 444,
     "metadata": {},
     "output_type": "execute_result"
    }
   ],
   "source": [
    "starbucks_ohe.head()"
   ]
  },
  {
   "cell_type": "code",
   "execution_count": 445,
   "metadata": {},
   "outputs": [
    {
     "data": {
      "text/plain": [
       "(17000, 52)"
      ]
     },
     "execution_count": 445,
     "metadata": {},
     "output_type": "execute_result"
    }
   ],
   "source": [
    "starbucks_ohe.shape"
   ]
  },
  {
   "cell_type": "markdown",
   "metadata": {},
   "source": [
    "### Feature Scaling"
   ]
  },
  {
   "cell_type": "code",
   "execution_count": 482,
   "metadata": {},
   "outputs": [],
   "source": [
    "scaler = StandardScaler().fit(starbucks_ohe) \n",
    "starbucks_scaled = scaler.transform(starbucks_ohe)"
   ]
  },
  {
   "cell_type": "code",
   "execution_count": 483,
   "metadata": {},
   "outputs": [
    {
     "data": {
      "text/plain": [
       "(array([1., 1., 1., 1., 1.]),\n",
       " array([-2.39494699e-16,  1.14940737e-18, -8.15034315e-17,  2.95711168e-17,\n",
       "        -1.95399252e-16]))"
      ]
     },
     "execution_count": 483,
     "metadata": {},
     "output_type": "execute_result"
    }
   ],
   "source": [
    "#checking scaling results on first 5 features\n",
    "starbucks_scaled.std(axis=0)[:5], starbucks_scaled.mean(axis=0)[:5]"
   ]
  },
  {
   "cell_type": "markdown",
   "metadata": {},
   "source": [
    "Note: scaler works as expected - all features were transformed correctly and have mean around 0 and std 1."
   ]
  },
  {
   "cell_type": "code",
   "execution_count": 116,
   "metadata": {},
   "outputs": [],
   "source": [
    "# from sklearn.preprocessing import MinMaxScaler\n",
    "\n",
    "# scaler = MinMaxScaler().fit(starbucks_ohe) \n",
    "# starbucks_scaled = scaler.transform(starbucks_ohe)"
   ]
  },
  {
   "cell_type": "markdown",
   "metadata": {},
   "source": [
    "# Dimensionality Reduction"
   ]
  },
  {
   "cell_type": "code",
   "execution_count": 564,
   "metadata": {},
   "outputs": [],
   "source": [
    "# Apply PCA to the data.\n",
    "pca = PCA()\n",
    "X_pca = pca.fit_transform(starbucks_scaled)"
   ]
  },
  {
   "cell_type": "code",
   "execution_count": 565,
   "metadata": {},
   "outputs": [],
   "source": [
    "# Investigate the variance accounted for by each principal component.\n",
    "def scree_plot(pca):\n",
    "    '''\n",
    "    Creates a scree plot associated with the principal components \n",
    "    \n",
    "    INPUT: pca - the result of instantian of PCA in scikit learn\n",
    "            \n",
    "    OUTPUT:\n",
    "            None\n",
    "    '''\n",
    "    num_components=len(pca.explained_variance_ratio_)\n",
    "    ind = np.arange(num_components)\n",
    "    vals = pca.explained_variance_ratio_\n",
    " \n",
    "    plt.figure(figsize=(6, 6))\n",
    "    ax = plt.subplot(111)\n",
    "    cumvals = np.cumsum(vals)\n",
    "    ax.bar(ind, vals)\n",
    "    ax.plot(ind, cumvals)\n",
    " \n",
    "    ax.set_xlabel(\"Principal Component\")\n",
    "    ax.set_ylabel(\"Variance Explained (%)\")\n",
    "    plt.title('Explained Variance Per Principal Component')"
   ]
  },
  {
   "cell_type": "code",
   "execution_count": 566,
   "metadata": {},
   "outputs": [
    {
     "data": {
      "image/png": "[encoded data removed]",
      "text/plain": [
       "<Figure size 432x432 with 1 Axes>"
      ]
     },
     "metadata": {
      "needs_background": "light"
     },
     "output_type": "display_data"
    }
   ],
   "source": [
    "scree_plot(pca)"
   ]
  },
  {
   "cell_type": "code",
   "execution_count": 567,
   "metadata": {},
   "outputs": [
    {
     "data": {
      "text/plain": [
       "19"
      ]
     },
     "execution_count": 567,
     "metadata": {},
     "output_type": "execute_result"
    }
   ],
   "source": [
    "# how many components together explain about 80% of variance?\n",
    "cum_expl_var_ratio = np.cumsum(pca.explained_variance_ratio_)\n",
    "components_num = len(cum_expl_var_ratio[cum_expl_var_ratio <= 0.805])\n",
    "components_num"
   ]
  },
  {
   "cell_type": "code",
   "execution_count": 568,
   "metadata": {},
   "outputs": [],
   "source": [
    "# Re-apply PCA to the data while selecting for number of components to retain.\n",
    "pca = PCA(components_num).fit(starbucks_scaled)\n",
    "starbucks_pca = pca.transform(starbucks_scaled)"
   ]
  },
  {
   "cell_type": "code",
   "execution_count": 569,
   "metadata": {},
   "outputs": [
    {
     "data": {
      "text/plain": [
       "array([0.17058273, 0.24438252, 0.30166646, 0.35280001, 0.40251733,\n",
       "       0.44427706, 0.48499902, 0.51633291, 0.54620453, 0.57548395,\n",
       "       0.6036656 , 0.63066666, 0.65527541, 0.67931317, 0.70293145,\n",
       "       0.72549418, 0.74665265, 0.76735258, 0.78739296])"
      ]
     },
     "execution_count": 569,
     "metadata": {},
     "output_type": "execute_result"
    }
   ],
   "source": [
    "np.cumsum(pca.explained_variance_ratio_)"
   ]
  },
  {
   "cell_type": "markdown",
   "metadata": {},
   "source": [
    "Note: Note: As a rule of thumb, one should keep as many components that together they would explain about 80% of variance. From the scree plot we can conclude that about 19 components explain 80% of variance. So I decided to keep 19 PCA components for the clustering part of the project. <br>"
   ]
  },
  {
   "cell_type": "markdown",
   "metadata": {},
   "source": [
    "## Interpret Principal Components"
   ]
  },
  {
   "cell_type": "code",
   "execution_count": 570,
   "metadata": {},
   "outputs": [],
   "source": [
    "def map_pca(i, df):\n",
    "    '''\n",
    "    Map weights for the principal components to corresponding feature names \n",
    "    and then print the linked values, sorted by weight.\n",
    "    \n",
    "    Input: \n",
    "        i = which principal component to map\n",
    "        df = Data Frame for feature names mapping\n",
    "    Output: \n",
    "        none\n",
    "    '''\n",
    "    weights = pd.DataFrame(pca.components_[i-1], columns=[\"PCA_\"+str(i)], index = df.columns)\n",
    "    weights = weights.sort_values(by=[\"PCA_\"+str(i)])\n",
    "    print(f\"explained variance by component #{i} - {pca.explained_variance_ratio_[i-1]*100:.1f}%\")\n",
    "    print(\"positive top5 weights:\\n\", weights.tail(6))\n",
    "    print(\"\\n-----------------------------\\n\")\n",
    "    print(\"negative top5 weights:\\n\", weights.head(6))"
   ]
  },
  {
   "cell_type": "code",
   "execution_count": 571,
   "metadata": {},
   "outputs": [
    {
     "name": "stdout",
     "output_type": "stream",
     "text": [
      "explained variance by component #1 - 17.1%\n",
      "positive top5 weights:\n",
      "                                             PCA_1\n",
      "avg_order_size_binned_small              0.227839\n",
      "total_discount_binned_no_total_discount  0.235005\n",
      "total_amount_binned_small                0.252645\n",
      "total_bogo_binned_no_total_bogo          0.259551\n",
      "avg_reward_size_binned_not_rewarded      0.285375\n",
      "total_rewarded_binned_not_rewarded       0.285375\n",
      "\n",
      "-----------------------------\n",
      "\n",
      "negative top5 weights:\n",
      "                                 PCA_1\n",
      "offers_cvr                  -0.261950\n",
      "bogo_cvr                    -0.240789\n",
      "total_amount_binned_large   -0.219111\n",
      "total_rewarded_binned_large -0.215512\n",
      "discount_cvr                -0.207696\n",
      "avg_order_size_binned_large -0.188382\n"
     ]
    }
   ],
   "source": [
    "# map weights for the first principal component\n",
    "map_pca(1, starbucks_ohe)"
   ]
  },
  {
   "cell_type": "code",
   "execution_count": 572,
   "metadata": {},
   "outputs": [
    {
     "name": "stdout",
     "output_type": "stream",
     "text": [
      "explained variance by component #2 - 7.4%\n",
      "positive top5 weights:\n",
      "                                             PCA_2\n",
      "total_rewarded_binned_large              0.205434\n",
      "total_discount_binned_no_total_discount  0.205802\n",
      "avg_reward_size_binned_large             0.219630\n",
      "avg_order_size_binned_no_transactions    0.275121\n",
      "transactions_num_binned_no_transactions  0.275121\n",
      "total_amount_binned_no_transactions      0.275121\n",
      "\n",
      "-----------------------------\n",
      "\n",
      "negative top5 weights:\n",
      "                                   PCA_2\n",
      "total_rewarded_binned_small   -0.229492\n",
      "avg_reward_size_binned_medium -0.228110\n",
      "total_rewarded_binned_medium  -0.211918\n",
      "total_discount_binned_small   -0.204358\n",
      "avg_reward_size_binned_small  -0.202483\n",
      "total_amount_binned_medium    -0.164727\n"
     ]
    }
   ],
   "source": [
    "map_pca(2, starbucks_ohe)"
   ]
  },
  {
   "cell_type": "code",
   "execution_count": 573,
   "metadata": {},
   "outputs": [
    {
     "name": "stdout",
     "output_type": "stream",
     "text": [
      "explained variance by component #3 - 5.7%\n",
      "positive top5 weights:\n",
      "                                             PCA_3\n",
      "total_rewarded_binned_medium             0.147149\n",
      "avg_reward_size_binned_medium            0.164658\n",
      "discount_rr                              0.174267\n",
      "avg_order_size_binned_no_transactions    0.420387\n",
      "transactions_num_binned_no_transactions  0.420387\n",
      "total_amount_binned_no_transactions      0.420387\n",
      "\n",
      "-----------------------------\n",
      "\n",
      "negative top5 weights:\n",
      "                                             PCA_3\n",
      "avg_reward_size_binned_large            -0.215794\n",
      "total_amount_binned_small               -0.186274\n",
      "total_bogo_binned_medium                -0.180062\n",
      "total_rewarded_binned_large             -0.178603\n",
      "total_discount_binned_no_total_discount -0.169366\n",
      "bogo_cvr                                -0.151792\n"
     ]
    }
   ],
   "source": [
    "map_pca(3, starbucks_ohe)"
   ]
  },
  {
   "cell_type": "markdown",
   "metadata": {},
   "source": [
    "# Clustering"
   ]
  },
  {
   "cell_type": "code",
   "execution_count": 574,
   "metadata": {},
   "outputs": [
    {
     "name": "stdout",
     "output_type": "stream",
     "text": [
      "calculating 2 clusters\n",
      "sum of squared distances: 576119.2167113004\n",
      "time for this cluster: 0.18802213668823242\n",
      "calculating 3 clusters\n",
      "sum of squared distances: 520899.8425833686\n",
      "time for this cluster: 0.22343707084655762\n",
      "calculating 5 clusters\n",
      "sum of squared distances: 433914.7420024312\n",
      "time for this cluster: 0.3209259510040283\n",
      "calculating 8 clusters\n",
      "sum of squared distances: 383021.7888944087\n",
      "time for this cluster: 0.6407711505889893\n",
      "calculating 10 clusters\n",
      "sum of squared distances: 363196.31670156313\n",
      "time for this cluster: 0.7123901844024658\n",
      "calculating 15 clusters\n",
      "sum of squared distances: 328834.5719916264\n",
      "time for this cluster: 0.96150803565979\n",
      "Clustering complete in 0m 3s\n"
     ]
    }
   ],
   "source": [
    "import time\n",
    "\n",
    "# Over a number of different cluster counts...\n",
    "range_n_clusters = [2, 3, 5, 8, 10, 15]\n",
    "sum_of_squared_distances = []\n",
    "since = time.time()\n",
    "\n",
    "for n_clusters in range_n_clusters:\n",
    "    cluster_start = time.time()\n",
    "    print(\"calculating {} clusters\".format(n_clusters))\n",
    "    # run k-means clustering on the data and...\n",
    "    clusterer = KMeans(n_clusters=n_clusters, random_state=120).fit(starbucks_pca)\n",
    "\n",
    "    # ... compute the average within-cluster distances.\n",
    "    sum_of_squared_distances.append(clusterer.inertia_)\n",
    "    print(\"sum of squared distances:\", clusterer.inertia_)\n",
    "    print(\"time for this cluster:\", time.time() - cluster_start)\n",
    "\n",
    "time_elapsed = time.time() - since\n",
    "print('Clustering complete in {:.0f}m {:.0f}s'.format(time_elapsed // 60, time_elapsed % 60))"
   ]
  },
  {
   "cell_type": "code",
   "execution_count": 575,
   "metadata": {},
   "outputs": [
    {
     "data": {
      "image/png": "[encoded data removed]",
      "text/plain": [
       "<Figure size 432x288 with 1 Axes>"
      ]
     },
     "metadata": {
      "needs_background": "light"
     },
     "output_type": "display_data"
    }
   ],
   "source": [
    "plt.plot(range_n_clusters, sum_of_squared_distances)\n",
    "plt.xlabel('Number of Clusters')\n",
    "plt.xticks(range_n_clusters, range_n_clusters)\n",
    "plt.ylabel('Sum of Squared Distances')\n",
    "plt.title('Elbow Method for Optimal k')\n",
    "plt.grid();"
   ]
  },
  {
   "cell_type": "code",
   "execution_count": 576,
   "metadata": {},
   "outputs": [],
   "source": [
    "# Re-fit the k-means model with the selected number of clusters and obtain\n",
    "# cluster predictions for the general population demographics data.\n",
    "clusterer = KMeans(n_clusters=5, random_state = 123).fit(starbucks_pca)\n",
    "starbucks_preds = clusterer.predict(starbucks_pca)"
   ]
  },
  {
   "cell_type": "code",
   "execution_count": 577,
   "metadata": {},
   "outputs": [],
   "source": [
    "def interpret_cluster(cluster_num, df):\n",
    "    pca_inversed = pca.inverse_transform(clusterer.cluster_centers_[cluster_num, :])\n",
    "    scaler_inversed = np.around(scaler.inverse_transform(pca_inversed), decimals=2)\n",
    "    results_df = pd.DataFrame(scaler_inversed, df.columns)\n",
    "    return results_df"
   ]
  },
  {
   "cell_type": "code",
   "execution_count": 578,
   "metadata": {},
   "outputs": [],
   "source": [
    "def create_cluster_df(cluster_num, df):\n",
    "    cluster_df = pd.DataFrame(interpret_cluster(0, df))\n",
    "    cluster_df.drop(0, axis=1, inplace=True)\n",
    "\n",
    "    for i in range(cluster_num):\n",
    "        cluster_df['cluster_'+str(i+1)] = interpret_cluster(i, df)\n",
    "    return cluster_df"
   ]
  },
  {
   "cell_type": "code",
   "execution_count": 586,
   "metadata": {},
   "outputs": [
    {
     "data": {
      "text/html": [
       "<div>\n",
       "<style scoped>\n",
       "    .dataframe tbody tr th:only-of-type {\n",
       "        vertical-align: middle;\n",
       "    }\n",
       "\n",
       "    .dataframe tbody tr th {\n",
       "        vertical-align: top;\n",
       "    }\n",
       "\n",
       "    .dataframe thead th {\n",
       "        text-align: right;\n",
       "    }\n",
       "</style>\n",
       "<table border=\"1\" class=\"dataframe\">\n",
       "  <thead>\n",
       "    <tr style=\"text-align: right;\">\n",
       "      <th></th>\n",
       "      <th>cluster_1</th>\n",
       "      <th>cluster_2</th>\n",
       "      <th>cluster_3</th>\n",
       "      <th>cluster_4</th>\n",
       "      <th>cluster_5</th>\n",
       "      <th>means</th>\n",
       "    </tr>\n",
       "    <tr>\n",
       "      <th>key_0</th>\n",
       "      <th></th>\n",
       "      <th></th>\n",
       "      <th></th>\n",
       "      <th></th>\n",
       "      <th></th>\n",
       "      <th></th>\n",
       "    </tr>\n",
       "  </thead>\n",
       "  <tbody>\n",
       "    <tr>\n",
       "      <th>offers_rr</th>\n",
       "      <td>72.67</td>\n",
       "      <td>71.69</td>\n",
       "      <td>80.42</td>\n",
       "      <td>78.31</td>\n",
       "      <td>76.14</td>\n",
       "      <td>76.01</td>\n",
       "    </tr>\n",
       "    <tr>\n",
       "      <th>offers_cvr</th>\n",
       "      <td>48.00</td>\n",
       "      <td>-2.42</td>\n",
       "      <td>106.22</td>\n",
       "      <td>-1.18</td>\n",
       "      <td>73.46</td>\n",
       "      <td>61.01</td>\n",
       "    </tr>\n",
       "    <tr>\n",
       "      <th>bogo_rr</th>\n",
       "      <td>48.13</td>\n",
       "      <td>70.86</td>\n",
       "      <td>88.64</td>\n",
       "      <td>73.35</td>\n",
       "      <td>72.61</td>\n",
       "      <td>73.87</td>\n",
       "    </tr>\n",
       "    <tr>\n",
       "      <th>bogo_cvr</th>\n",
       "      <td>-3.84</td>\n",
       "      <td>-2.62</td>\n",
       "      <td>108.11</td>\n",
       "      <td>-1.90</td>\n",
       "      <td>59.74</td>\n",
       "      <td>50.45</td>\n",
       "    </tr>\n",
       "    <tr>\n",
       "      <th>discount_rr</th>\n",
       "      <td>84.62</td>\n",
       "      <td>44.11</td>\n",
       "      <td>64.85</td>\n",
       "      <td>69.31</td>\n",
       "      <td>62.47</td>\n",
       "      <td>61.97</td>\n",
       "    </tr>\n",
       "    <tr>\n",
       "      <th>discount_cvr</th>\n",
       "      <td>88.19</td>\n",
       "      <td>-5.87</td>\n",
       "      <td>90.05</td>\n",
       "      <td>-2.61</td>\n",
       "      <td>75.11</td>\n",
       "      <td>61.03</td>\n",
       "    </tr>\n",
       "    <tr>\n",
       "      <th>informational_rr</th>\n",
       "      <td>41.52</td>\n",
       "      <td>47.35</td>\n",
       "      <td>35.45</td>\n",
       "      <td>36.08</td>\n",
       "      <td>51.12</td>\n",
       "      <td>44.14</td>\n",
       "    </tr>\n",
       "    <tr>\n",
       "      <th>became_member_on_2013</th>\n",
       "      <td>0.03</td>\n",
       "      <td>0.01</td>\n",
       "      <td>0.00</td>\n",
       "      <td>0.00</td>\n",
       "      <td>0.03</td>\n",
       "      <td>0.02</td>\n",
       "    </tr>\n",
       "    <tr>\n",
       "      <th>became_member_on_2014</th>\n",
       "      <td>0.05</td>\n",
       "      <td>0.03</td>\n",
       "      <td>0.02</td>\n",
       "      <td>0.00</td>\n",
       "      <td>0.06</td>\n",
       "      <td>0.04</td>\n",
       "    </tr>\n",
       "    <tr>\n",
       "      <th>became_member_on_2015</th>\n",
       "      <td>0.11</td>\n",
       "      <td>0.05</td>\n",
       "      <td>0.14</td>\n",
       "      <td>0.00</td>\n",
       "      <td>0.12</td>\n",
       "      <td>0.11</td>\n",
       "    </tr>\n",
       "    <tr>\n",
       "      <th>became_member_on_2016</th>\n",
       "      <td>0.19</td>\n",
       "      <td>0.08</td>\n",
       "      <td>0.33</td>\n",
       "      <td>0.02</td>\n",
       "      <td>0.21</td>\n",
       "      <td>0.21</td>\n",
       "    </tr>\n",
       "    <tr>\n",
       "      <th>became_member_on_2017</th>\n",
       "      <td>0.37</td>\n",
       "      <td>0.40</td>\n",
       "      <td>0.38</td>\n",
       "      <td>0.41</td>\n",
       "      <td>0.36</td>\n",
       "      <td>0.38</td>\n",
       "    </tr>\n",
       "    <tr>\n",
       "      <th>became_member_on_2018</th>\n",
       "      <td>0.24</td>\n",
       "      <td>0.43</td>\n",
       "      <td>0.12</td>\n",
       "      <td>0.56</td>\n",
       "      <td>0.21</td>\n",
       "      <td>0.25</td>\n",
       "    </tr>\n",
       "    <tr>\n",
       "      <th>gender_F</th>\n",
       "      <td>0.26</td>\n",
       "      <td>0.17</td>\n",
       "      <td>0.54</td>\n",
       "      <td>0.31</td>\n",
       "      <td>0.38</td>\n",
       "      <td>0.36</td>\n",
       "    </tr>\n",
       "    <tr>\n",
       "      <th>gender_M</th>\n",
       "      <td>0.74</td>\n",
       "      <td>0.83</td>\n",
       "      <td>0.44</td>\n",
       "      <td>0.67</td>\n",
       "      <td>0.61</td>\n",
       "      <td>0.63</td>\n",
       "    </tr>\n",
       "    <tr>\n",
       "      <th>gender_O</th>\n",
       "      <td>0.00</td>\n",
       "      <td>0.01</td>\n",
       "      <td>0.02</td>\n",
       "      <td>0.02</td>\n",
       "      <td>0.01</td>\n",
       "      <td>0.01</td>\n",
       "    </tr>\n",
       "    <tr>\n",
       "      <th>age_binned_young</th>\n",
       "      <td>0.31</td>\n",
       "      <td>0.26</td>\n",
       "      <td>0.21</td>\n",
       "      <td>0.17</td>\n",
       "      <td>0.29</td>\n",
       "      <td>0.26</td>\n",
       "    </tr>\n",
       "    <tr>\n",
       "      <th>age_binned_middle-aged</th>\n",
       "      <td>0.35</td>\n",
       "      <td>0.46</td>\n",
       "      <td>0.22</td>\n",
       "      <td>0.42</td>\n",
       "      <td>0.27</td>\n",
       "      <td>0.31</td>\n",
       "    </tr>\n",
       "    <tr>\n",
       "      <th>age_binned_senior</th>\n",
       "      <td>0.16</td>\n",
       "      <td>0.12</td>\n",
       "      <td>0.27</td>\n",
       "      <td>0.19</td>\n",
       "      <td>0.19</td>\n",
       "      <td>0.20</td>\n",
       "    </tr>\n",
       "    <tr>\n",
       "      <th>age_binned_old</th>\n",
       "      <td>0.18</td>\n",
       "      <td>0.16</td>\n",
       "      <td>0.30</td>\n",
       "      <td>0.22</td>\n",
       "      <td>0.25</td>\n",
       "      <td>0.23</td>\n",
       "    </tr>\n",
       "    <tr>\n",
       "      <th>income_binned_low_income</th>\n",
       "      <td>0.32</td>\n",
       "      <td>0.35</td>\n",
       "      <td>0.14</td>\n",
       "      <td>0.08</td>\n",
       "      <td>0.27</td>\n",
       "      <td>0.25</td>\n",
       "    </tr>\n",
       "    <tr>\n",
       "      <th>income_binned_middle_low_income</th>\n",
       "      <td>0.38</td>\n",
       "      <td>0.52</td>\n",
       "      <td>0.19</td>\n",
       "      <td>0.41</td>\n",
       "      <td>0.28</td>\n",
       "      <td>0.32</td>\n",
       "    </tr>\n",
       "    <tr>\n",
       "      <th>income_binned_middle_high_income</th>\n",
       "      <td>0.16</td>\n",
       "      <td>0.11</td>\n",
       "      <td>0.22</td>\n",
       "      <td>0.13</td>\n",
       "      <td>0.19</td>\n",
       "      <td>0.18</td>\n",
       "    </tr>\n",
       "    <tr>\n",
       "      <th>income_binned_high_income</th>\n",
       "      <td>0.14</td>\n",
       "      <td>0.02</td>\n",
       "      <td>0.44</td>\n",
       "      <td>0.38</td>\n",
       "      <td>0.25</td>\n",
       "      <td>0.25</td>\n",
       "    </tr>\n",
       "    <tr>\n",
       "      <th>total_amount_binned_no_transactions</th>\n",
       "      <td>-0.00</td>\n",
       "      <td>0.01</td>\n",
       "      <td>-0.00</td>\n",
       "      <td>0.99</td>\n",
       "      <td>-0.00</td>\n",
       "      <td>0.02</td>\n",
       "    </tr>\n",
       "    <tr>\n",
       "      <th>total_amount_binned_small</th>\n",
       "      <td>0.43</td>\n",
       "      <td>0.93</td>\n",
       "      <td>0.01</td>\n",
       "      <td>-0.07</td>\n",
       "      <td>0.14</td>\n",
       "      <td>0.31</td>\n",
       "    </tr>\n",
       "    <tr>\n",
       "      <th>total_amount_binned_medium</th>\n",
       "      <td>0.48</td>\n",
       "      <td>0.06</td>\n",
       "      <td>0.20</td>\n",
       "      <td>0.05</td>\n",
       "      <td>0.60</td>\n",
       "      <td>0.33</td>\n",
       "    </tr>\n",
       "    <tr>\n",
       "      <th>total_amount_binned_large</th>\n",
       "      <td>0.09</td>\n",
       "      <td>0.01</td>\n",
       "      <td>0.79</td>\n",
       "      <td>0.03</td>\n",
       "      <td>0.27</td>\n",
       "      <td>0.33</td>\n",
       "    </tr>\n",
       "    <tr>\n",
       "      <th>total_rewarded_binned_not_rewarded</th>\n",
       "      <td>0.07</td>\n",
       "      <td>0.91</td>\n",
       "      <td>0.01</td>\n",
       "      <td>1.04</td>\n",
       "      <td>0.02</td>\n",
       "      <td>0.25</td>\n",
       "    </tr>\n",
       "    <tr>\n",
       "      <th>total_rewarded_binned_small</th>\n",
       "      <td>0.67</td>\n",
       "      <td>0.04</td>\n",
       "      <td>-0.00</td>\n",
       "      <td>-0.02</td>\n",
       "      <td>0.02</td>\n",
       "      <td>0.10</td>\n",
       "    </tr>\n",
       "    <tr>\n",
       "      <th>total_rewarded_binned_medium</th>\n",
       "      <td>0.28</td>\n",
       "      <td>0.04</td>\n",
       "      <td>0.08</td>\n",
       "      <td>-0.01</td>\n",
       "      <td>0.81</td>\n",
       "      <td>0.34</td>\n",
       "    </tr>\n",
       "    <tr>\n",
       "      <th>total_rewarded_binned_large</th>\n",
       "      <td>-0.02</td>\n",
       "      <td>0.01</td>\n",
       "      <td>0.91</td>\n",
       "      <td>-0.01</td>\n",
       "      <td>0.15</td>\n",
       "      <td>0.31</td>\n",
       "    </tr>\n",
       "    <tr>\n",
       "      <th>transactions_num_binned_no_transactions</th>\n",
       "      <td>-0.00</td>\n",
       "      <td>0.01</td>\n",
       "      <td>-0.00</td>\n",
       "      <td>0.99</td>\n",
       "      <td>-0.00</td>\n",
       "      <td>0.02</td>\n",
       "    </tr>\n",
       "    <tr>\n",
       "      <th>transactions_num_binned_small</th>\n",
       "      <td>0.30</td>\n",
       "      <td>0.62</td>\n",
       "      <td>0.15</td>\n",
       "      <td>-0.05</td>\n",
       "      <td>0.33</td>\n",
       "      <td>0.33</td>\n",
       "    </tr>\n",
       "    <tr>\n",
       "      <th>transactions_num_binned_medium</th>\n",
       "      <td>0.40</td>\n",
       "      <td>0.29</td>\n",
       "      <td>0.45</td>\n",
       "      <td>0.02</td>\n",
       "      <td>0.35</td>\n",
       "      <td>0.36</td>\n",
       "    </tr>\n",
       "    <tr>\n",
       "      <th>transactions_num_binned_large</th>\n",
       "      <td>0.31</td>\n",
       "      <td>0.09</td>\n",
       "      <td>0.40</td>\n",
       "      <td>0.04</td>\n",
       "      <td>0.32</td>\n",
       "      <td>0.28</td>\n",
       "    </tr>\n",
       "    <tr>\n",
       "      <th>avg_order_size_binned_no_transactions</th>\n",
       "      <td>-0.00</td>\n",
       "      <td>0.01</td>\n",
       "      <td>-0.00</td>\n",
       "      <td>0.99</td>\n",
       "      <td>-0.00</td>\n",
       "      <td>0.02</td>\n",
       "    </tr>\n",
       "    <tr>\n",
       "      <th>avg_order_size_binned_small</th>\n",
       "      <td>0.55</td>\n",
       "      <td>0.85</td>\n",
       "      <td>-0.01</td>\n",
       "      <td>-0.05</td>\n",
       "      <td>0.22</td>\n",
       "      <td>0.33</td>\n",
       "    </tr>\n",
       "    <tr>\n",
       "      <th>avg_order_size_binned_medium</th>\n",
       "      <td>0.25</td>\n",
       "      <td>0.11</td>\n",
       "      <td>0.36</td>\n",
       "      <td>0.04</td>\n",
       "      <td>0.41</td>\n",
       "      <td>0.30</td>\n",
       "    </tr>\n",
       "    <tr>\n",
       "      <th>avg_order_size_binned_large</th>\n",
       "      <td>0.21</td>\n",
       "      <td>0.04</td>\n",
       "      <td>0.65</td>\n",
       "      <td>0.03</td>\n",
       "      <td>0.36</td>\n",
       "      <td>0.35</td>\n",
       "    </tr>\n",
       "    <tr>\n",
       "      <th>avg_reward_size_binned_not_rewarded</th>\n",
       "      <td>0.07</td>\n",
       "      <td>0.91</td>\n",
       "      <td>0.01</td>\n",
       "      <td>1.04</td>\n",
       "      <td>0.02</td>\n",
       "      <td>0.25</td>\n",
       "    </tr>\n",
       "    <tr>\n",
       "      <th>avg_reward_size_binned_small</th>\n",
       "      <td>0.58</td>\n",
       "      <td>0.01</td>\n",
       "      <td>-0.00</td>\n",
       "      <td>-0.00</td>\n",
       "      <td>0.02</td>\n",
       "      <td>0.08</td>\n",
       "    </tr>\n",
       "    <tr>\n",
       "      <th>avg_reward_size_binned_medium</th>\n",
       "      <td>0.33</td>\n",
       "      <td>0.04</td>\n",
       "      <td>0.30</td>\n",
       "      <td>-0.01</td>\n",
       "      <td>0.86</td>\n",
       "      <td>0.43</td>\n",
       "    </tr>\n",
       "    <tr>\n",
       "      <th>avg_reward_size_binned_large</th>\n",
       "      <td>0.02</td>\n",
       "      <td>0.04</td>\n",
       "      <td>0.70</td>\n",
       "      <td>-0.03</td>\n",
       "      <td>0.10</td>\n",
       "      <td>0.25</td>\n",
       "    </tr>\n",
       "    <tr>\n",
       "      <th>total_bogo_binned_no_total_bogo</th>\n",
       "      <td>1.02</td>\n",
       "      <td>0.99</td>\n",
       "      <td>0.01</td>\n",
       "      <td>1.03</td>\n",
       "      <td>0.24</td>\n",
       "      <td>0.46</td>\n",
       "    </tr>\n",
       "    <tr>\n",
       "      <th>total_bogo_binned_small</th>\n",
       "      <td>-0.06</td>\n",
       "      <td>-0.02</td>\n",
       "      <td>0.55</td>\n",
       "      <td>-0.01</td>\n",
       "      <td>0.83</td>\n",
       "      <td>0.43</td>\n",
       "    </tr>\n",
       "    <tr>\n",
       "      <th>total_bogo_binned_medium</th>\n",
       "      <td>0.04</td>\n",
       "      <td>0.03</td>\n",
       "      <td>0.41</td>\n",
       "      <td>-0.02</td>\n",
       "      <td>-0.06</td>\n",
       "      <td>0.11</td>\n",
       "    </tr>\n",
       "    <tr>\n",
       "      <th>total_bogo_binned_large</th>\n",
       "      <td>0.01</td>\n",
       "      <td>0.00</td>\n",
       "      <td>0.03</td>\n",
       "      <td>0.00</td>\n",
       "      <td>-0.00</td>\n",
       "      <td>0.01</td>\n",
       "    </tr>\n",
       "    <tr>\n",
       "      <th>total_discount_binned_no_total_discount</th>\n",
       "      <td>-0.08</td>\n",
       "      <td>1.04</td>\n",
       "      <td>0.18</td>\n",
       "      <td>1.01</td>\n",
       "      <td>0.28</td>\n",
       "      <td>0.39</td>\n",
       "    </tr>\n",
       "    <tr>\n",
       "      <th>total_discount_binned_small</th>\n",
       "      <td>1.14</td>\n",
       "      <td>-0.08</td>\n",
       "      <td>0.51</td>\n",
       "      <td>0.03</td>\n",
       "      <td>0.49</td>\n",
       "      <td>0.44</td>\n",
       "    </tr>\n",
       "    <tr>\n",
       "      <th>total_discount_binned_medium</th>\n",
       "      <td>-0.06</td>\n",
       "      <td>0.03</td>\n",
       "      <td>0.28</td>\n",
       "      <td>-0.04</td>\n",
       "      <td>0.24</td>\n",
       "      <td>0.16</td>\n",
       "    </tr>\n",
       "    <tr>\n",
       "      <th>total_discount_binned_large</th>\n",
       "      <td>-0.00</td>\n",
       "      <td>0.01</td>\n",
       "      <td>0.02</td>\n",
       "      <td>0.00</td>\n",
       "      <td>-0.00</td>\n",
       "      <td>0.01</td>\n",
       "    </tr>\n",
       "  </tbody>\n",
       "</table>\n",
       "</div>"
      ],
      "text/plain": [
       "                                         cluster_1  cluster_2  cluster_3  \\\n",
       "key_0                                                                      \n",
       "offers_rr                                    72.67      71.69      80.42   \n",
       "offers_cvr                                   48.00      -2.42     106.22   \n",
       "bogo_rr                                      48.13      70.86      88.64   \n",
       "bogo_cvr                                     -3.84      -2.62     108.11   \n",
       "discount_rr                                  84.62      44.11      64.85   \n",
       "discount_cvr                                 88.19      -5.87      90.05   \n",
       "informational_rr                             41.52      47.35      35.45   \n",
       "became_member_on_2013                         0.03       0.01       0.00   \n",
       "became_member_on_2014                         0.05       0.03       0.02   \n",
       "became_member_on_2015                         0.11       0.05       0.14   \n",
       "became_member_on_2016                         0.19       0.08       0.33   \n",
       "became_member_on_2017                         0.37       0.40       0.38   \n",
       "became_member_on_2018                         0.24       0.43       0.12   \n",
       "gender_F                                      0.26       0.17       0.54   \n",
       "gender_M                                      0.74       0.83       0.44   \n",
       "gender_O                                      0.00       0.01       0.02   \n",
       "age_binned_young                              0.31       0.26       0.21   \n",
       "age_binned_middle-aged                        0.35       0.46       0.22   \n",
       "age_binned_senior                             0.16       0.12       0.27   \n",
       "age_binned_old                                0.18       0.16       0.30   \n",
       "income_binned_low_income                      0.32       0.35       0.14   \n",
       "income_binned_middle_low_income               0.38       0.52       0.19   \n",
       "income_binned_middle_high_income              0.16       0.11       0.22   \n",
       "income_binned_high_income                     0.14       0.02       0.44   \n",
       "total_amount_binned_no_transactions          -0.00       0.01      -0.00   \n",
       "total_amount_binned_small                     0.43       0.93       0.01   \n",
       "total_amount_binned_medium                    0.48       0.06       0.20   \n",
       "total_amount_binned_large                     0.09       0.01       0.79   \n",
       "total_rewarded_binned_not_rewarded            0.07       0.91       0.01   \n",
       "total_rewarded_binned_small                   0.67       0.04      -0.00   \n",
       "total_rewarded_binned_medium                  0.28       0.04       0.08   \n",
       "total_rewarded_binned_large                  -0.02       0.01       0.91   \n",
       "transactions_num_binned_no_transactions      -0.00       0.01      -0.00   \n",
       "transactions_num_binned_small                 0.30       0.62       0.15   \n",
       "transactions_num_binned_medium                0.40       0.29       0.45   \n",
       "transactions_num_binned_large                 0.31       0.09       0.40   \n",
       "avg_order_size_binned_no_transactions        -0.00       0.01      -0.00   \n",
       "avg_order_size_binned_small                   0.55       0.85      -0.01   \n",
       "avg_order_size_binned_medium                  0.25       0.11       0.36   \n",
       "avg_order_size_binned_large                   0.21       0.04       0.65   \n",
       "avg_reward_size_binned_not_rewarded           0.07       0.91       0.01   \n",
       "avg_reward_size_binned_small                  0.58       0.01      -0.00   \n",
       "avg_reward_size_binned_medium                 0.33       0.04       0.30   \n",
       "avg_reward_size_binned_large                  0.02       0.04       0.70   \n",
       "total_bogo_binned_no_total_bogo               1.02       0.99       0.01   \n",
       "total_bogo_binned_small                      -0.06      -0.02       0.55   \n",
       "total_bogo_binned_medium                      0.04       0.03       0.41   \n",
       "total_bogo_binned_large                       0.01       0.00       0.03   \n",
       "total_discount_binned_no_total_discount      -0.08       1.04       0.18   \n",
       "total_discount_binned_small                   1.14      -0.08       0.51   \n",
       "total_discount_binned_medium                 -0.06       0.03       0.28   \n",
       "total_discount_binned_large                  -0.00       0.01       0.02   \n",
       "\n",
       "                                         cluster_4  cluster_5  means  \n",
       "key_0                                                                 \n",
       "offers_rr                                    78.31      76.14  76.01  \n",
       "offers_cvr                                   -1.18      73.46  61.01  \n",
       "bogo_rr                                      73.35      72.61  73.87  \n",
       "bogo_cvr                                     -1.90      59.74  50.45  \n",
       "discount_rr                                  69.31      62.47  61.97  \n",
       "discount_cvr                                 -2.61      75.11  61.03  \n",
       "informational_rr                             36.08      51.12  44.14  \n",
       "became_member_on_2013                         0.00       0.03   0.02  \n",
       "became_member_on_2014                         0.00       0.06   0.04  \n",
       "became_member_on_2015                         0.00       0.12   0.11  \n",
       "became_member_on_2016                         0.02       0.21   0.21  \n",
       "became_member_on_2017                         0.41       0.36   0.38  \n",
       "became_member_on_2018                         0.56       0.21   0.25  \n",
       "gender_F                                      0.31       0.38   0.36  \n",
       "gender_M                                      0.67       0.61   0.63  \n",
       "gender_O                                      0.02       0.01   0.01  \n",
       "age_binned_young                              0.17       0.29   0.26  \n",
       "age_binned_middle-aged                        0.42       0.27   0.31  \n",
       "age_binned_senior                             0.19       0.19   0.20  \n",
       "age_binned_old                                0.22       0.25   0.23  \n",
       "income_binned_low_income                      0.08       0.27   0.25  \n",
       "income_binned_middle_low_income               0.41       0.28   0.32  \n",
       "income_binned_middle_high_income              0.13       0.19   0.18  \n",
       "income_binned_high_income                     0.38       0.25   0.25  \n",
       "total_amount_binned_no_transactions           0.99      -0.00   0.02  \n",
       "total_amount_binned_small                    -0.07       0.14   0.31  \n",
       "total_amount_binned_medium                    0.05       0.60   0.33  \n",
       "total_amount_binned_large                     0.03       0.27   0.33  \n",
       "total_rewarded_binned_not_rewarded            1.04       0.02   0.25  \n",
       "total_rewarded_binned_small                  -0.02       0.02   0.10  \n",
       "total_rewarded_binned_medium                 -0.01       0.81   0.34  \n",
       "total_rewarded_binned_large                  -0.01       0.15   0.31  \n",
       "transactions_num_binned_no_transactions       0.99      -0.00   0.02  \n",
       "transactions_num_binned_small                -0.05       0.33   0.33  \n",
       "transactions_num_binned_medium                0.02       0.35   0.36  \n",
       "transactions_num_binned_large                 0.04       0.32   0.28  \n",
       "avg_order_size_binned_no_transactions         0.99      -0.00   0.02  \n",
       "avg_order_size_binned_small                  -0.05       0.22   0.33  \n",
       "avg_order_size_binned_medium                  0.04       0.41   0.30  \n",
       "avg_order_size_binned_large                   0.03       0.36   0.35  \n",
       "avg_reward_size_binned_not_rewarded           1.04       0.02   0.25  \n",
       "avg_reward_size_binned_small                 -0.00       0.02   0.08  \n",
       "avg_reward_size_binned_medium                -0.01       0.86   0.43  \n",
       "avg_reward_size_binned_large                 -0.03       0.10   0.25  \n",
       "total_bogo_binned_no_total_bogo               1.03       0.24   0.46  \n",
       "total_bogo_binned_small                      -0.01       0.83   0.43  \n",
       "total_bogo_binned_medium                     -0.02      -0.06   0.11  \n",
       "total_bogo_binned_large                       0.00      -0.00   0.01  \n",
       "total_discount_binned_no_total_discount       1.01       0.28   0.39  \n",
       "total_discount_binned_small                   0.03       0.49   0.44  \n",
       "total_discount_binned_medium                 -0.04       0.24   0.16  \n",
       "total_discount_binned_large                   0.00      -0.00   0.01  "
      ]
     },
     "execution_count": 586,
     "metadata": {},
     "output_type": "execute_result"
    }
   ],
   "source": [
    "cluster_df = create_cluster_df(5, starbucks_ohe) \n",
    "means = []\n",
    "for each in starbucks_ohe.columns:\n",
    "    mean = round(starbucks_ohe[each].mean(), 2)\n",
    "    means.append(mean)\n",
    "means_df = pd.DataFrame(means, index=cluster_df.index, columns=['means'])\n",
    "cluster_df_fin = cluster_df.merge(means_df, on=cluster_df.index)\n",
    "cluster_df_fin.index = cluster_df_fin.key_0\n",
    "cluster_df_fin.drop('key_0', axis=1, inplace=True)\n",
    "cluster_df_fin"
   ]
  },
  {
   "cell_type": "markdown",
   "metadata": {},
   "source": [
    "Note: <br>\n",
    "**Cluster #1** - young/middle-aged men with low income - relatively young member and normally spend less than average (~$10 avg order size) - react well to discount, less so to bogo and to informational\n",
    "\n",
    "**Cluster #2** - \n",
    "\n",
    "**Cluster #3** - young/middle-aged, gender irrespective, middle class (middle-low/middle-high) with about 2 year  membership (relative to the most recent member in experiment) and average spending amount (~$13) react good to bogo and discount, less so to informational.\n",
    "\n",
    "\n",
    "\n",
    "**Cluster #4** - senior women with high income and relatively long membership and spend a lot (~$36 avg order size) -\n",
    "\n",
    "**Cluster #5** - middle-aged med with low income - recent members (no longer than 1 year) - not interested in promotions (neither bogo, nor discount) + view every second infromational offer - "
   ]
  },
  {
   "cell_type": "code",
   "execution_count": 588,
   "metadata": {},
   "outputs": [
    {
     "data": {
      "image/png": "[encoded data removed]",
      "text/plain": [
       "<Figure size 432x288 with 1 Axes>"
      ]
     },
     "metadata": {
      "needs_background": "light"
     },
     "output_type": "display_data"
    }
   ],
   "source": [
    "cluster_df_fin.T.gender_F.plot.bar();"
   ]
  },
  {
   "cell_type": "code",
   "execution_count": 631,
   "metadata": {},
   "outputs": [
    {
     "data": {
      "image/png": "[encoded data removed]",
      "text/plain": [
       "<Figure size 432x288 with 1 Axes>"
      ]
     },
     "metadata": {
      "needs_background": "light"
     },
     "output_type": "display_data"
    }
   ],
   "source": [
    "base_color = sns.color_palette()[0]\n",
    "fig, ax = plt.subplots()\n",
    "sns.barplot(y='gender_F', x=['1', '2', '3', '4', '5'], data=cluster_df_fin.T.iloc[:-1, :], color=base_color);\n",
    "plt.xlabel(\"Clusters\");\n",
    "ax.axhline(y=cluster_df_fin.T['gender_F'][-1], linewidth=2, color='r');"
   ]
  },
  {
   "cell_type": "code",
   "execution_count": 663,
   "metadata": {},
   "outputs": [
    {
     "data": {
      "image/png": "[encoded data removed]",
      "text/plain": [
       "<Figure size 1440x3600 with 52 Axes>"
      ]
     },
     "metadata": {
      "needs_background": "light"
     },
     "output_type": "display_data"
    }
   ],
   "source": [
    "number_subplot = len(cluster_df_fin.T.columns)\n",
    "plt.figure(figsize=(20, 50));\n",
    "\n",
    "for i, each in enumerate(cluster_df_fin.T.columns):\n",
    "    ax = plt.subplot(number_subplot/4,4,i+1)\n",
    "    sns.barplot(y=each, x=['1', '2', '3', '4', '5'], data=cluster_df_fin.T.iloc[:-1, :], color=base_color);\n",
    "    plt.title(f\"{each}\");\n",
    "    ax.axhline(y=cluster_df_fin.T[each][-1], linewidth=2, color='r');\n",
    "    #plt.xlabel(\"Clusters\");\n",
    "    #plt.tight_layout();"
   ]
  },
  {
   "cell_type": "code",
   "execution_count": null,
   "metadata": {},
   "outputs": [],
   "source": []
  }
 ],
 "metadata": {
  "kernelspec": {
   "display_name": "Python 3",
   "language": "python",
   "name": "python3"
  },
  "language_info": {
   "codemirror_mode": {
    "name": "ipython",
    "version": 3
   },
   "file_extension": ".py",
   "mimetype": "text/x-python",
   "name": "python",
   "nbconvert_exporter": "python",
   "pygments_lexer": "ipython3",
   "version": "3.7.3"
  }
 },
 "nbformat": 4,
 "nbformat_minor": 2
}
