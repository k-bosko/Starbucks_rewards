{
 "cells": [
  {
   "cell_type": "code",
   "execution_count": 1,
   "metadata": {},
   "outputs": [],
   "source": [
    "import pandas as pd\n",
    "import numpy as np\n",
    "import math\n",
    "import json\n",
    "import matplotlib.pyplot as plt\n",
    "import seaborn as sns\n",
    "\n",
    "from pandas.io.json import json_normalize\n",
    "\n",
    "from sklearn.impute import SimpleImputer\n",
    "from sklearn.preprocessing import StandardScaler\n",
    "from sklearn.decomposition import PCA\n",
    "from sklearn.cluster import KMeans\n",
    "\n",
    "%matplotlib inline\n",
    "\n",
    "# read in the json files\n",
    "portfolio = pd.read_json('data/portfolio.json', orient='records', lines=True)\n",
    "profile = pd.read_json('data/profile.json', orient='records', lines=True)\n",
    "transcript = pd.read_json('data/transcript.json', orient='records', lines=True)"
   ]
  },
  {
   "cell_type": "markdown",
   "metadata": {},
   "source": [
    "## 1.1. Portfolio"
   ]
  },
  {
   "cell_type": "code",
   "execution_count": 2,
   "metadata": {},
   "outputs": [
    {
     "data": {
      "text/html": [
       "<div>\n",
       "<style scoped>\n",
       "    .dataframe tbody tr th:only-of-type {\n",
       "        vertical-align: middle;\n",
       "    }\n",
       "\n",
       "    .dataframe tbody tr th {\n",
       "        vertical-align: top;\n",
       "    }\n",
       "\n",
       "    .dataframe thead th {\n",
       "        text-align: right;\n",
       "    }\n",
       "</style>\n",
       "<table border=\"1\" class=\"dataframe\">\n",
       "  <thead>\n",
       "    <tr style=\"text-align: right;\">\n",
       "      <th></th>\n",
       "      <th>reward</th>\n",
       "      <th>channels</th>\n",
       "      <th>difficulty</th>\n",
       "      <th>duration</th>\n",
       "      <th>offer_type</th>\n",
       "      <th>id</th>\n",
       "    </tr>\n",
       "  </thead>\n",
       "  <tbody>\n",
       "    <tr>\n",
       "      <th>0</th>\n",
       "      <td>10</td>\n",
       "      <td>[email, mobile, social]</td>\n",
       "      <td>10</td>\n",
       "      <td>7</td>\n",
       "      <td>bogo</td>\n",
       "      <td>ae264e3637204a6fb9bb56bc8210ddfd</td>\n",
       "    </tr>\n",
       "    <tr>\n",
       "      <th>1</th>\n",
       "      <td>10</td>\n",
       "      <td>[web, email, mobile, social]</td>\n",
       "      <td>10</td>\n",
       "      <td>5</td>\n",
       "      <td>bogo</td>\n",
       "      <td>4d5c57ea9a6940dd891ad53e9dbe8da0</td>\n",
       "    </tr>\n",
       "    <tr>\n",
       "      <th>2</th>\n",
       "      <td>0</td>\n",
       "      <td>[web, email, mobile]</td>\n",
       "      <td>0</td>\n",
       "      <td>4</td>\n",
       "      <td>informational</td>\n",
       "      <td>3f207df678b143eea3cee63160fa8bed</td>\n",
       "    </tr>\n",
       "    <tr>\n",
       "      <th>3</th>\n",
       "      <td>5</td>\n",
       "      <td>[web, email, mobile]</td>\n",
       "      <td>5</td>\n",
       "      <td>7</td>\n",
       "      <td>bogo</td>\n",
       "      <td>9b98b8c7a33c4b65b9aebfe6a799e6d9</td>\n",
       "    </tr>\n",
       "    <tr>\n",
       "      <th>4</th>\n",
       "      <td>5</td>\n",
       "      <td>[web, email]</td>\n",
       "      <td>20</td>\n",
       "      <td>10</td>\n",
       "      <td>discount</td>\n",
       "      <td>0b1e1539f2cc45b7b9fa7c272da2e1d7</td>\n",
       "    </tr>\n",
       "    <tr>\n",
       "      <th>5</th>\n",
       "      <td>3</td>\n",
       "      <td>[web, email, mobile, social]</td>\n",
       "      <td>7</td>\n",
       "      <td>7</td>\n",
       "      <td>discount</td>\n",
       "      <td>2298d6c36e964ae4a3e7e9706d1fb8c2</td>\n",
       "    </tr>\n",
       "    <tr>\n",
       "      <th>6</th>\n",
       "      <td>2</td>\n",
       "      <td>[web, email, mobile, social]</td>\n",
       "      <td>10</td>\n",
       "      <td>10</td>\n",
       "      <td>discount</td>\n",
       "      <td>fafdcd668e3743c1bb461111dcafc2a4</td>\n",
       "    </tr>\n",
       "    <tr>\n",
       "      <th>7</th>\n",
       "      <td>0</td>\n",
       "      <td>[email, mobile, social]</td>\n",
       "      <td>0</td>\n",
       "      <td>3</td>\n",
       "      <td>informational</td>\n",
       "      <td>5a8bc65990b245e5a138643cd4eb9837</td>\n",
       "    </tr>\n",
       "    <tr>\n",
       "      <th>8</th>\n",
       "      <td>5</td>\n",
       "      <td>[web, email, mobile, social]</td>\n",
       "      <td>5</td>\n",
       "      <td>5</td>\n",
       "      <td>bogo</td>\n",
       "      <td>f19421c1d4aa40978ebb69ca19b0e20d</td>\n",
       "    </tr>\n",
       "    <tr>\n",
       "      <th>9</th>\n",
       "      <td>2</td>\n",
       "      <td>[web, email, mobile]</td>\n",
       "      <td>10</td>\n",
       "      <td>7</td>\n",
       "      <td>discount</td>\n",
       "      <td>2906b810c7d4411798c6938adc9daaa5</td>\n",
       "    </tr>\n",
       "  </tbody>\n",
       "</table>\n",
       "</div>"
      ],
      "text/plain": [
       "   reward                      channels  difficulty  duration     offer_type  \\\n",
       "0      10       [email, mobile, social]          10         7           bogo   \n",
       "1      10  [web, email, mobile, social]          10         5           bogo   \n",
       "2       0          [web, email, mobile]           0         4  informational   \n",
       "3       5          [web, email, mobile]           5         7           bogo   \n",
       "4       5                  [web, email]          20        10       discount   \n",
       "5       3  [web, email, mobile, social]           7         7       discount   \n",
       "6       2  [web, email, mobile, social]          10        10       discount   \n",
       "7       0       [email, mobile, social]           0         3  informational   \n",
       "8       5  [web, email, mobile, social]           5         5           bogo   \n",
       "9       2          [web, email, mobile]          10         7       discount   \n",
       "\n",
       "                                 id  \n",
       "0  ae264e3637204a6fb9bb56bc8210ddfd  \n",
       "1  4d5c57ea9a6940dd891ad53e9dbe8da0  \n",
       "2  3f207df678b143eea3cee63160fa8bed  \n",
       "3  9b98b8c7a33c4b65b9aebfe6a799e6d9  \n",
       "4  0b1e1539f2cc45b7b9fa7c272da2e1d7  \n",
       "5  2298d6c36e964ae4a3e7e9706d1fb8c2  \n",
       "6  fafdcd668e3743c1bb461111dcafc2a4  \n",
       "7  5a8bc65990b245e5a138643cd4eb9837  \n",
       "8  f19421c1d4aa40978ebb69ca19b0e20d  \n",
       "9  2906b810c7d4411798c6938adc9daaa5  "
      ]
     },
     "execution_count": 2,
     "metadata": {},
     "output_type": "execute_result"
    }
   ],
   "source": [
    "portfolio"
   ]
  },
  {
   "cell_type": "markdown",
   "metadata": {},
   "source": [
    "OFFER TYPES: \n",
    "- 2 Informational offers - provide no rewards, last either 3 (+social channel) or 4 days (+web channel). \n",
    "- 4 BOGO types (difficulty=reward) - 2 lasting for 5 days (one easier - \\\\$5, one more difficult - \\\\$10) and 2 lasting for 7 days (one easier - \\\\$5, one more difficult - \\\\$10) \n",
    "- 4 discounts - 2 lasting for 7 days (one easier - \\\\$7d / \\\\$3r, one more difficult - \\\\$10d / \\\\$2r) + 2 lasting for 10 days (one easier - \\\\$10d / \\\\$2r, one more difficult - \\\\$20d / \\\\$5r). Both difficult versions of duration types differ in channels - shorter--> no social, longer--> no social+no mobile). So the longest, the most difficult offer is distributed only via web/email. Difficulty correlates with instancy of channels.\n",
    "\n",
    "#TODO - maybe add viz of offer_subtypes"
   ]
  },
  {
   "cell_type": "code",
   "execution_count": 3,
   "metadata": {},
   "outputs": [],
   "source": [
    "# give names to offer types\n",
    "portfolio['offer_subtype'] = ['bogo_long_difficult', 'bogo_short_difficult', \n",
    "                                     'informational_long', 'bogo_long_easy', \n",
    "                                     'discount_long_difficult', 'discount_short_easy',\n",
    "                                     'discount_long_easy', 'informational_short',\n",
    "                                    'bogo_short_easy', 'discount_short_difficult']"
   ]
  },
  {
   "cell_type": "code",
   "execution_count": 4,
   "metadata": {},
   "outputs": [],
   "source": [
    "portfolio = portfolio[['id', 'offer_type', 'offer_subtype']]"
   ]
  },
  {
   "cell_type": "code",
   "execution_count": 5,
   "metadata": {},
   "outputs": [
    {
     "data": {
      "text/html": [
       "<div>\n",
       "<style scoped>\n",
       "    .dataframe tbody tr th:only-of-type {\n",
       "        vertical-align: middle;\n",
       "    }\n",
       "\n",
       "    .dataframe tbody tr th {\n",
       "        vertical-align: top;\n",
       "    }\n",
       "\n",
       "    .dataframe thead th {\n",
       "        text-align: right;\n",
       "    }\n",
       "</style>\n",
       "<table border=\"1\" class=\"dataframe\">\n",
       "  <thead>\n",
       "    <tr style=\"text-align: right;\">\n",
       "      <th></th>\n",
       "      <th>id</th>\n",
       "      <th>offer_type</th>\n",
       "      <th>offer_subtype</th>\n",
       "    </tr>\n",
       "  </thead>\n",
       "  <tbody>\n",
       "    <tr>\n",
       "      <th>0</th>\n",
       "      <td>ae264e3637204a6fb9bb56bc8210ddfd</td>\n",
       "      <td>bogo</td>\n",
       "      <td>bogo_long_difficult</td>\n",
       "    </tr>\n",
       "    <tr>\n",
       "      <th>1</th>\n",
       "      <td>4d5c57ea9a6940dd891ad53e9dbe8da0</td>\n",
       "      <td>bogo</td>\n",
       "      <td>bogo_short_difficult</td>\n",
       "    </tr>\n",
       "    <tr>\n",
       "      <th>2</th>\n",
       "      <td>3f207df678b143eea3cee63160fa8bed</td>\n",
       "      <td>informational</td>\n",
       "      <td>informational_long</td>\n",
       "    </tr>\n",
       "    <tr>\n",
       "      <th>3</th>\n",
       "      <td>9b98b8c7a33c4b65b9aebfe6a799e6d9</td>\n",
       "      <td>bogo</td>\n",
       "      <td>bogo_long_easy</td>\n",
       "    </tr>\n",
       "    <tr>\n",
       "      <th>4</th>\n",
       "      <td>0b1e1539f2cc45b7b9fa7c272da2e1d7</td>\n",
       "      <td>discount</td>\n",
       "      <td>discount_long_difficult</td>\n",
       "    </tr>\n",
       "    <tr>\n",
       "      <th>5</th>\n",
       "      <td>2298d6c36e964ae4a3e7e9706d1fb8c2</td>\n",
       "      <td>discount</td>\n",
       "      <td>discount_short_easy</td>\n",
       "    </tr>\n",
       "    <tr>\n",
       "      <th>6</th>\n",
       "      <td>fafdcd668e3743c1bb461111dcafc2a4</td>\n",
       "      <td>discount</td>\n",
       "      <td>discount_long_easy</td>\n",
       "    </tr>\n",
       "    <tr>\n",
       "      <th>7</th>\n",
       "      <td>5a8bc65990b245e5a138643cd4eb9837</td>\n",
       "      <td>informational</td>\n",
       "      <td>informational_short</td>\n",
       "    </tr>\n",
       "    <tr>\n",
       "      <th>8</th>\n",
       "      <td>f19421c1d4aa40978ebb69ca19b0e20d</td>\n",
       "      <td>bogo</td>\n",
       "      <td>bogo_short_easy</td>\n",
       "    </tr>\n",
       "    <tr>\n",
       "      <th>9</th>\n",
       "      <td>2906b810c7d4411798c6938adc9daaa5</td>\n",
       "      <td>discount</td>\n",
       "      <td>discount_short_difficult</td>\n",
       "    </tr>\n",
       "  </tbody>\n",
       "</table>\n",
       "</div>"
      ],
      "text/plain": [
       "                                 id     offer_type             offer_subtype\n",
       "0  ae264e3637204a6fb9bb56bc8210ddfd           bogo       bogo_long_difficult\n",
       "1  4d5c57ea9a6940dd891ad53e9dbe8da0           bogo      bogo_short_difficult\n",
       "2  3f207df678b143eea3cee63160fa8bed  informational        informational_long\n",
       "3  9b98b8c7a33c4b65b9aebfe6a799e6d9           bogo            bogo_long_easy\n",
       "4  0b1e1539f2cc45b7b9fa7c272da2e1d7       discount   discount_long_difficult\n",
       "5  2298d6c36e964ae4a3e7e9706d1fb8c2       discount       discount_short_easy\n",
       "6  fafdcd668e3743c1bb461111dcafc2a4       discount        discount_long_easy\n",
       "7  5a8bc65990b245e5a138643cd4eb9837  informational       informational_short\n",
       "8  f19421c1d4aa40978ebb69ca19b0e20d           bogo           bogo_short_easy\n",
       "9  2906b810c7d4411798c6938adc9daaa5       discount  discount_short_difficult"
      ]
     },
     "execution_count": 5,
     "metadata": {},
     "output_type": "execute_result"
    }
   ],
   "source": [
    "portfolio"
   ]
  },
  {
   "cell_type": "markdown",
   "metadata": {},
   "source": [
    "## 1.2. Profile"
   ]
  },
  {
   "cell_type": "code",
   "execution_count": 6,
   "metadata": {},
   "outputs": [
    {
     "data": {
      "text/html": [
       "<div>\n",
       "<style scoped>\n",
       "    .dataframe tbody tr th:only-of-type {\n",
       "        vertical-align: middle;\n",
       "    }\n",
       "\n",
       "    .dataframe tbody tr th {\n",
       "        vertical-align: top;\n",
       "    }\n",
       "\n",
       "    .dataframe thead th {\n",
       "        text-align: right;\n",
       "    }\n",
       "</style>\n",
       "<table border=\"1\" class=\"dataframe\">\n",
       "  <thead>\n",
       "    <tr style=\"text-align: right;\">\n",
       "      <th></th>\n",
       "      <th>gender</th>\n",
       "      <th>age</th>\n",
       "      <th>id</th>\n",
       "      <th>became_member_on</th>\n",
       "      <th>income</th>\n",
       "    </tr>\n",
       "  </thead>\n",
       "  <tbody>\n",
       "    <tr>\n",
       "      <th>0</th>\n",
       "      <td>None</td>\n",
       "      <td>118</td>\n",
       "      <td>68be06ca386d4c31939f3a4f0e3dd783</td>\n",
       "      <td>20170212</td>\n",
       "      <td>NaN</td>\n",
       "    </tr>\n",
       "    <tr>\n",
       "      <th>1</th>\n",
       "      <td>F</td>\n",
       "      <td>55</td>\n",
       "      <td>0610b486422d4921ae7d2bf64640c50b</td>\n",
       "      <td>20170715</td>\n",
       "      <td>112000.0</td>\n",
       "    </tr>\n",
       "    <tr>\n",
       "      <th>2</th>\n",
       "      <td>None</td>\n",
       "      <td>118</td>\n",
       "      <td>38fe809add3b4fcf9315a9694bb96ff5</td>\n",
       "      <td>20180712</td>\n",
       "      <td>NaN</td>\n",
       "    </tr>\n",
       "    <tr>\n",
       "      <th>3</th>\n",
       "      <td>F</td>\n",
       "      <td>75</td>\n",
       "      <td>78afa995795e4d85b5d9ceeca43f5fef</td>\n",
       "      <td>20170509</td>\n",
       "      <td>100000.0</td>\n",
       "    </tr>\n",
       "    <tr>\n",
       "      <th>4</th>\n",
       "      <td>None</td>\n",
       "      <td>118</td>\n",
       "      <td>a03223e636434f42ac4c3df47e8bac43</td>\n",
       "      <td>20170804</td>\n",
       "      <td>NaN</td>\n",
       "    </tr>\n",
       "  </tbody>\n",
       "</table>\n",
       "</div>"
      ],
      "text/plain": [
       "  gender  age                                id  became_member_on    income\n",
       "0   None  118  68be06ca386d4c31939f3a4f0e3dd783          20170212       NaN\n",
       "1      F   55  0610b486422d4921ae7d2bf64640c50b          20170715  112000.0\n",
       "2   None  118  38fe809add3b4fcf9315a9694bb96ff5          20180712       NaN\n",
       "3      F   75  78afa995795e4d85b5d9ceeca43f5fef          20170509  100000.0\n",
       "4   None  118  a03223e636434f42ac4c3df47e8bac43          20170804       NaN"
      ]
     },
     "execution_count": 6,
     "metadata": {},
     "output_type": "execute_result"
    }
   ],
   "source": [
    "profile.head()"
   ]
  },
  {
   "cell_type": "code",
   "execution_count": 7,
   "metadata": {},
   "outputs": [
    {
     "name": "stdout",
     "output_type": "stream",
     "text": [
      "profile's ids are all unique\n"
     ]
    }
   ],
   "source": [
    "if (profile.id.value_counts() > 1).sum() == 0:\n",
    "    print(\"profile's ids are all unique\")"
   ]
  },
  {
   "cell_type": "code",
   "execution_count": 8,
   "metadata": {},
   "outputs": [
    {
     "name": "stdout",
     "output_type": "stream",
     "text": [
      "there are 17000 customers in profile\n"
     ]
    }
   ],
   "source": [
    "print(f\"there are {profile.shape[0]} customers in profile\")"
   ]
  },
  {
   "cell_type": "code",
   "execution_count": 9,
   "metadata": {},
   "outputs": [],
   "source": [
    "# renaming 'id' column to 'person' in profile dataset so that we can later merge it with transcript dataset\n",
    "profile.rename(columns={profile.columns[2]:'person'}, inplace=True)"
   ]
  },
  {
   "cell_type": "code",
   "execution_count": 10,
   "metadata": {},
   "outputs": [
    {
     "data": {
      "text/html": [
       "<div>\n",
       "<style scoped>\n",
       "    .dataframe tbody tr th:only-of-type {\n",
       "        vertical-align: middle;\n",
       "    }\n",
       "\n",
       "    .dataframe tbody tr th {\n",
       "        vertical-align: top;\n",
       "    }\n",
       "\n",
       "    .dataframe thead th {\n",
       "        text-align: right;\n",
       "    }\n",
       "</style>\n",
       "<table border=\"1\" class=\"dataframe\">\n",
       "  <thead>\n",
       "    <tr style=\"text-align: right;\">\n",
       "      <th></th>\n",
       "      <th>gender</th>\n",
       "      <th>age</th>\n",
       "      <th>person</th>\n",
       "      <th>became_member_on</th>\n",
       "      <th>income</th>\n",
       "    </tr>\n",
       "  </thead>\n",
       "  <tbody>\n",
       "    <tr>\n",
       "      <th>0</th>\n",
       "      <td>None</td>\n",
       "      <td>118</td>\n",
       "      <td>68be06ca386d4c31939f3a4f0e3dd783</td>\n",
       "      <td>20170212</td>\n",
       "      <td>NaN</td>\n",
       "    </tr>\n",
       "    <tr>\n",
       "      <th>1</th>\n",
       "      <td>F</td>\n",
       "      <td>55</td>\n",
       "      <td>0610b486422d4921ae7d2bf64640c50b</td>\n",
       "      <td>20170715</td>\n",
       "      <td>112000.0</td>\n",
       "    </tr>\n",
       "    <tr>\n",
       "      <th>2</th>\n",
       "      <td>None</td>\n",
       "      <td>118</td>\n",
       "      <td>38fe809add3b4fcf9315a9694bb96ff5</td>\n",
       "      <td>20180712</td>\n",
       "      <td>NaN</td>\n",
       "    </tr>\n",
       "    <tr>\n",
       "      <th>3</th>\n",
       "      <td>F</td>\n",
       "      <td>75</td>\n",
       "      <td>78afa995795e4d85b5d9ceeca43f5fef</td>\n",
       "      <td>20170509</td>\n",
       "      <td>100000.0</td>\n",
       "    </tr>\n",
       "    <tr>\n",
       "      <th>4</th>\n",
       "      <td>None</td>\n",
       "      <td>118</td>\n",
       "      <td>a03223e636434f42ac4c3df47e8bac43</td>\n",
       "      <td>20170804</td>\n",
       "      <td>NaN</td>\n",
       "    </tr>\n",
       "  </tbody>\n",
       "</table>\n",
       "</div>"
      ],
      "text/plain": [
       "  gender  age                            person  became_member_on    income\n",
       "0   None  118  68be06ca386d4c31939f3a4f0e3dd783          20170212       NaN\n",
       "1      F   55  0610b486422d4921ae7d2bf64640c50b          20170715  112000.0\n",
       "2   None  118  38fe809add3b4fcf9315a9694bb96ff5          20180712       NaN\n",
       "3      F   75  78afa995795e4d85b5d9ceeca43f5fef          20170509  100000.0\n",
       "4   None  118  a03223e636434f42ac4c3df47e8bac43          20170804       NaN"
      ]
     },
     "execution_count": 10,
     "metadata": {},
     "output_type": "execute_result"
    }
   ],
   "source": [
    "profile.head()"
   ]
  },
  {
   "cell_type": "code",
   "execution_count": 11,
   "metadata": {},
   "outputs": [],
   "source": [
    "#Change type of 'became_member_on' column from int to time:\n",
    "profile.became_member_on = pd.to_datetime(profile.became_member_on.astype(str), format=\"%Y/%m/%d\")"
   ]
  },
  {
   "cell_type": "markdown",
   "metadata": {},
   "source": [
    "### Dealing with missing values in Profile"
   ]
  },
  {
   "cell_type": "code",
   "execution_count": 12,
   "metadata": {},
   "outputs": [
    {
     "name": "stdout",
     "output_type": "stream",
     "text": [
      "<class 'pandas.core.frame.DataFrame'>\n",
      "RangeIndex: 17000 entries, 0 to 16999\n",
      "Data columns (total 5 columns):\n",
      "gender              14825 non-null object\n",
      "age                 17000 non-null int64\n",
      "person              17000 non-null object\n",
      "became_member_on    17000 non-null datetime64[ns]\n",
      "income              14825 non-null float64\n",
      "dtypes: datetime64[ns](1), float64(1), int64(1), object(2)\n",
      "memory usage: 664.2+ KB\n"
     ]
    }
   ],
   "source": [
    "profile.info()"
   ]
  },
  {
   "cell_type": "markdown",
   "metadata": {},
   "source": [
    "Note: There are missing values in gender, age and income. Age missing values are encoded 118. "
   ]
  },
  {
   "cell_type": "code",
   "execution_count": 13,
   "metadata": {},
   "outputs": [
    {
     "data": {
      "text/plain": [
       "(NoneType, numpy.float64)"
      ]
     },
     "execution_count": 13,
     "metadata": {},
     "output_type": "execute_result"
    }
   ],
   "source": [
    "# Missing values in 'gender' column are recorded as NoneType, in 'income' column - as NaNs. \n",
    "type(profile.gender[0]), type(profile.income[0])"
   ]
  },
  {
   "cell_type": "code",
   "execution_count": 14,
   "metadata": {},
   "outputs": [],
   "source": [
    "# Replace NoneType with Nans in gender column\n",
    "profile.gender.fillna(value=np.nan, inplace=True)"
   ]
  },
  {
   "cell_type": "code",
   "execution_count": 15,
   "metadata": {},
   "outputs": [
    {
     "data": {
      "text/plain": [
       "(float, numpy.float64)"
      ]
     },
     "execution_count": 15,
     "metadata": {},
     "output_type": "execute_result"
    }
   ],
   "source": [
    "#checking the result of transformation\n",
    "type(profile.gender[0]), type(profile.income[0])"
   ]
  },
  {
   "cell_type": "code",
   "execution_count": 16,
   "metadata": {},
   "outputs": [],
   "source": [
    "# Replace 118 with Nans in age column:\n",
    "profile.age.replace(118, np.nan, inplace=True)"
   ]
  },
  {
   "cell_type": "code",
   "execution_count": 17,
   "metadata": {},
   "outputs": [],
   "source": [
    "#reorganize the columns order\n",
    "profile = profile[['person', 'became_member_on', 'gender', 'age', 'income']]"
   ]
  },
  {
   "cell_type": "code",
   "execution_count": 18,
   "metadata": {},
   "outputs": [
    {
     "data": {
      "text/html": [
       "<div>\n",
       "<style scoped>\n",
       "    .dataframe tbody tr th:only-of-type {\n",
       "        vertical-align: middle;\n",
       "    }\n",
       "\n",
       "    .dataframe tbody tr th {\n",
       "        vertical-align: top;\n",
       "    }\n",
       "\n",
       "    .dataframe thead th {\n",
       "        text-align: right;\n",
       "    }\n",
       "</style>\n",
       "<table border=\"1\" class=\"dataframe\">\n",
       "  <thead>\n",
       "    <tr style=\"text-align: right;\">\n",
       "      <th></th>\n",
       "      <th>person</th>\n",
       "      <th>became_member_on</th>\n",
       "      <th>gender</th>\n",
       "      <th>age</th>\n",
       "      <th>income</th>\n",
       "    </tr>\n",
       "  </thead>\n",
       "  <tbody>\n",
       "    <tr>\n",
       "      <th>0</th>\n",
       "      <td>68be06ca386d4c31939f3a4f0e3dd783</td>\n",
       "      <td>2017-02-12</td>\n",
       "      <td>NaN</td>\n",
       "      <td>NaN</td>\n",
       "      <td>NaN</td>\n",
       "    </tr>\n",
       "    <tr>\n",
       "      <th>1</th>\n",
       "      <td>0610b486422d4921ae7d2bf64640c50b</td>\n",
       "      <td>2017-07-15</td>\n",
       "      <td>F</td>\n",
       "      <td>55.0</td>\n",
       "      <td>112000.0</td>\n",
       "    </tr>\n",
       "    <tr>\n",
       "      <th>2</th>\n",
       "      <td>38fe809add3b4fcf9315a9694bb96ff5</td>\n",
       "      <td>2018-07-12</td>\n",
       "      <td>NaN</td>\n",
       "      <td>NaN</td>\n",
       "      <td>NaN</td>\n",
       "    </tr>\n",
       "    <tr>\n",
       "      <th>3</th>\n",
       "      <td>78afa995795e4d85b5d9ceeca43f5fef</td>\n",
       "      <td>2017-05-09</td>\n",
       "      <td>F</td>\n",
       "      <td>75.0</td>\n",
       "      <td>100000.0</td>\n",
       "    </tr>\n",
       "    <tr>\n",
       "      <th>4</th>\n",
       "      <td>a03223e636434f42ac4c3df47e8bac43</td>\n",
       "      <td>2017-08-04</td>\n",
       "      <td>NaN</td>\n",
       "      <td>NaN</td>\n",
       "      <td>NaN</td>\n",
       "    </tr>\n",
       "  </tbody>\n",
       "</table>\n",
       "</div>"
      ],
      "text/plain": [
       "                             person became_member_on gender   age    income\n",
       "0  68be06ca386d4c31939f3a4f0e3dd783       2017-02-12    NaN   NaN       NaN\n",
       "1  0610b486422d4921ae7d2bf64640c50b       2017-07-15      F  55.0  112000.0\n",
       "2  38fe809add3b4fcf9315a9694bb96ff5       2018-07-12    NaN   NaN       NaN\n",
       "3  78afa995795e4d85b5d9ceeca43f5fef       2017-05-09      F  75.0  100000.0\n",
       "4  a03223e636434f42ac4c3df47e8bac43       2017-08-04    NaN   NaN       NaN"
      ]
     },
     "execution_count": 18,
     "metadata": {},
     "output_type": "execute_result"
    }
   ],
   "source": [
    "profile.head()"
   ]
  },
  {
   "cell_type": "markdown",
   "metadata": {},
   "source": [
    "## 1.3 Transcript"
   ]
  },
  {
   "cell_type": "code",
   "execution_count": 19,
   "metadata": {},
   "outputs": [
    {
     "data": {
      "text/html": [
       "<div>\n",
       "<style scoped>\n",
       "    .dataframe tbody tr th:only-of-type {\n",
       "        vertical-align: middle;\n",
       "    }\n",
       "\n",
       "    .dataframe tbody tr th {\n",
       "        vertical-align: top;\n",
       "    }\n",
       "\n",
       "    .dataframe thead th {\n",
       "        text-align: right;\n",
       "    }\n",
       "</style>\n",
       "<table border=\"1\" class=\"dataframe\">\n",
       "  <thead>\n",
       "    <tr style=\"text-align: right;\">\n",
       "      <th></th>\n",
       "      <th>person</th>\n",
       "      <th>event</th>\n",
       "      <th>value</th>\n",
       "      <th>time</th>\n",
       "    </tr>\n",
       "  </thead>\n",
       "  <tbody>\n",
       "    <tr>\n",
       "      <th>0</th>\n",
       "      <td>78afa995795e4d85b5d9ceeca43f5fef</td>\n",
       "      <td>offer received</td>\n",
       "      <td>{'offer id': '9b98b8c7a33c4b65b9aebfe6a799e6d9'}</td>\n",
       "      <td>0</td>\n",
       "    </tr>\n",
       "    <tr>\n",
       "      <th>1</th>\n",
       "      <td>a03223e636434f42ac4c3df47e8bac43</td>\n",
       "      <td>offer received</td>\n",
       "      <td>{'offer id': '0b1e1539f2cc45b7b9fa7c272da2e1d7'}</td>\n",
       "      <td>0</td>\n",
       "    </tr>\n",
       "    <tr>\n",
       "      <th>2</th>\n",
       "      <td>e2127556f4f64592b11af22de27a7932</td>\n",
       "      <td>offer received</td>\n",
       "      <td>{'offer id': '2906b810c7d4411798c6938adc9daaa5'}</td>\n",
       "      <td>0</td>\n",
       "    </tr>\n",
       "    <tr>\n",
       "      <th>3</th>\n",
       "      <td>8ec6ce2a7e7949b1bf142def7d0e0586</td>\n",
       "      <td>offer received</td>\n",
       "      <td>{'offer id': 'fafdcd668e3743c1bb461111dcafc2a4'}</td>\n",
       "      <td>0</td>\n",
       "    </tr>\n",
       "    <tr>\n",
       "      <th>4</th>\n",
       "      <td>68617ca6246f4fbc85e91a2a49552598</td>\n",
       "      <td>offer received</td>\n",
       "      <td>{'offer id': '4d5c57ea9a6940dd891ad53e9dbe8da0'}</td>\n",
       "      <td>0</td>\n",
       "    </tr>\n",
       "  </tbody>\n",
       "</table>\n",
       "</div>"
      ],
      "text/plain": [
       "                             person           event  \\\n",
       "0  78afa995795e4d85b5d9ceeca43f5fef  offer received   \n",
       "1  a03223e636434f42ac4c3df47e8bac43  offer received   \n",
       "2  e2127556f4f64592b11af22de27a7932  offer received   \n",
       "3  8ec6ce2a7e7949b1bf142def7d0e0586  offer received   \n",
       "4  68617ca6246f4fbc85e91a2a49552598  offer received   \n",
       "\n",
       "                                              value  time  \n",
       "0  {'offer id': '9b98b8c7a33c4b65b9aebfe6a799e6d9'}     0  \n",
       "1  {'offer id': '0b1e1539f2cc45b7b9fa7c272da2e1d7'}     0  \n",
       "2  {'offer id': '2906b810c7d4411798c6938adc9daaa5'}     0  \n",
       "3  {'offer id': 'fafdcd668e3743c1bb461111dcafc2a4'}     0  \n",
       "4  {'offer id': '4d5c57ea9a6940dd891ad53e9dbe8da0'}     0  "
      ]
     },
     "execution_count": 19,
     "metadata": {},
     "output_type": "execute_result"
    }
   ],
   "source": [
    "transcript.head()"
   ]
  },
  {
   "cell_type": "code",
   "execution_count": 20,
   "metadata": {},
   "outputs": [
    {
     "data": {
      "text/plain": [
       "(306534, 4)"
      ]
     },
     "execution_count": 20,
     "metadata": {},
     "output_type": "execute_result"
    }
   ],
   "source": [
    "transcript.shape"
   ]
  },
  {
   "cell_type": "code",
   "execution_count": 21,
   "metadata": {},
   "outputs": [
    {
     "name": "stdout",
     "output_type": "stream",
     "text": [
      "experiment lasted for max 29.75 days\n"
     ]
    }
   ],
   "source": [
    "print(f\"experiment lasted for max {transcript.time.max()/24} days\")"
   ]
  },
  {
   "cell_type": "markdown",
   "metadata": {},
   "source": [
    "Let's see the typical transaction record for one person:"
   ]
  },
  {
   "cell_type": "code",
   "execution_count": 22,
   "metadata": {},
   "outputs": [
    {
     "data": {
      "text/html": [
       "<div>\n",
       "<style scoped>\n",
       "    .dataframe tbody tr th:only-of-type {\n",
       "        vertical-align: middle;\n",
       "    }\n",
       "\n",
       "    .dataframe tbody tr th {\n",
       "        vertical-align: top;\n",
       "    }\n",
       "\n",
       "    .dataframe thead th {\n",
       "        text-align: right;\n",
       "    }\n",
       "</style>\n",
       "<table border=\"1\" class=\"dataframe\">\n",
       "  <thead>\n",
       "    <tr style=\"text-align: right;\">\n",
       "      <th></th>\n",
       "      <th>person</th>\n",
       "      <th>event</th>\n",
       "      <th>value</th>\n",
       "      <th>time</th>\n",
       "    </tr>\n",
       "  </thead>\n",
       "  <tbody>\n",
       "    <tr>\n",
       "      <th>0</th>\n",
       "      <td>78afa995795e4d85b5d9ceeca43f5fef</td>\n",
       "      <td>offer received</td>\n",
       "      <td>{'offer id': '9b98b8c7a33c4b65b9aebfe6a799e6d9'}</td>\n",
       "      <td>0</td>\n",
       "    </tr>\n",
       "    <tr>\n",
       "      <th>15561</th>\n",
       "      <td>78afa995795e4d85b5d9ceeca43f5fef</td>\n",
       "      <td>offer viewed</td>\n",
       "      <td>{'offer id': '9b98b8c7a33c4b65b9aebfe6a799e6d9'}</td>\n",
       "      <td>6</td>\n",
       "    </tr>\n",
       "    <tr>\n",
       "      <th>47582</th>\n",
       "      <td>78afa995795e4d85b5d9ceeca43f5fef</td>\n",
       "      <td>transaction</td>\n",
       "      <td>{'amount': 19.89}</td>\n",
       "      <td>132</td>\n",
       "    </tr>\n",
       "    <tr>\n",
       "      <th>47583</th>\n",
       "      <td>78afa995795e4d85b5d9ceeca43f5fef</td>\n",
       "      <td>offer completed</td>\n",
       "      <td>{'offer_id': '9b98b8c7a33c4b65b9aebfe6a799e6d9...</td>\n",
       "      <td>132</td>\n",
       "    </tr>\n",
       "    <tr>\n",
       "      <th>49502</th>\n",
       "      <td>78afa995795e4d85b5d9ceeca43f5fef</td>\n",
       "      <td>transaction</td>\n",
       "      <td>{'amount': 17.78}</td>\n",
       "      <td>144</td>\n",
       "    </tr>\n",
       "    <tr>\n",
       "      <th>53176</th>\n",
       "      <td>78afa995795e4d85b5d9ceeca43f5fef</td>\n",
       "      <td>offer received</td>\n",
       "      <td>{'offer id': '5a8bc65990b245e5a138643cd4eb9837'}</td>\n",
       "      <td>168</td>\n",
       "    </tr>\n",
       "    <tr>\n",
       "      <th>85291</th>\n",
       "      <td>78afa995795e4d85b5d9ceeca43f5fef</td>\n",
       "      <td>offer viewed</td>\n",
       "      <td>{'offer id': '5a8bc65990b245e5a138643cd4eb9837'}</td>\n",
       "      <td>216</td>\n",
       "    </tr>\n",
       "    <tr>\n",
       "      <th>87134</th>\n",
       "      <td>78afa995795e4d85b5d9ceeca43f5fef</td>\n",
       "      <td>transaction</td>\n",
       "      <td>{'amount': 19.67}</td>\n",
       "      <td>222</td>\n",
       "    </tr>\n",
       "    <tr>\n",
       "      <th>92104</th>\n",
       "      <td>78afa995795e4d85b5d9ceeca43f5fef</td>\n",
       "      <td>transaction</td>\n",
       "      <td>{'amount': 29.72}</td>\n",
       "      <td>240</td>\n",
       "    </tr>\n",
       "    <tr>\n",
       "      <th>141566</th>\n",
       "      <td>78afa995795e4d85b5d9ceeca43f5fef</td>\n",
       "      <td>transaction</td>\n",
       "      <td>{'amount': 23.93}</td>\n",
       "      <td>378</td>\n",
       "    </tr>\n",
       "    <tr>\n",
       "      <th>150598</th>\n",
       "      <td>78afa995795e4d85b5d9ceeca43f5fef</td>\n",
       "      <td>offer received</td>\n",
       "      <td>{'offer id': 'ae264e3637204a6fb9bb56bc8210ddfd'}</td>\n",
       "      <td>408</td>\n",
       "    </tr>\n",
       "    <tr>\n",
       "      <th>163375</th>\n",
       "      <td>78afa995795e4d85b5d9ceeca43f5fef</td>\n",
       "      <td>offer viewed</td>\n",
       "      <td>{'offer id': 'ae264e3637204a6fb9bb56bc8210ddfd'}</td>\n",
       "      <td>408</td>\n",
       "    </tr>\n",
       "    <tr>\n",
       "      <th>201572</th>\n",
       "      <td>78afa995795e4d85b5d9ceeca43f5fef</td>\n",
       "      <td>offer received</td>\n",
       "      <td>{'offer id': 'f19421c1d4aa40978ebb69ca19b0e20d'}</td>\n",
       "      <td>504</td>\n",
       "    </tr>\n",
       "    <tr>\n",
       "      <th>218393</th>\n",
       "      <td>78afa995795e4d85b5d9ceeca43f5fef</td>\n",
       "      <td>transaction</td>\n",
       "      <td>{'amount': 21.72}</td>\n",
       "      <td>510</td>\n",
       "    </tr>\n",
       "    <tr>\n",
       "      <th>218394</th>\n",
       "      <td>78afa995795e4d85b5d9ceeca43f5fef</td>\n",
       "      <td>offer completed</td>\n",
       "      <td>{'offer_id': 'ae264e3637204a6fb9bb56bc8210ddfd...</td>\n",
       "      <td>510</td>\n",
       "    </tr>\n",
       "    <tr>\n",
       "      <th>218395</th>\n",
       "      <td>78afa995795e4d85b5d9ceeca43f5fef</td>\n",
       "      <td>offer completed</td>\n",
       "      <td>{'offer_id': 'f19421c1d4aa40978ebb69ca19b0e20d...</td>\n",
       "      <td>510</td>\n",
       "    </tr>\n",
       "    <tr>\n",
       "      <th>230412</th>\n",
       "      <td>78afa995795e4d85b5d9ceeca43f5fef</td>\n",
       "      <td>transaction</td>\n",
       "      <td>{'amount': 26.56}</td>\n",
       "      <td>534</td>\n",
       "    </tr>\n",
       "    <tr>\n",
       "      <th>262138</th>\n",
       "      <td>78afa995795e4d85b5d9ceeca43f5fef</td>\n",
       "      <td>offer viewed</td>\n",
       "      <td>{'offer id': 'f19421c1d4aa40978ebb69ca19b0e20d'}</td>\n",
       "      <td>582</td>\n",
       "    </tr>\n",
       "  </tbody>\n",
       "</table>\n",
       "</div>"
      ],
      "text/plain": [
       "                                  person            event  \\\n",
       "0       78afa995795e4d85b5d9ceeca43f5fef   offer received   \n",
       "15561   78afa995795e4d85b5d9ceeca43f5fef     offer viewed   \n",
       "47582   78afa995795e4d85b5d9ceeca43f5fef      transaction   \n",
       "47583   78afa995795e4d85b5d9ceeca43f5fef  offer completed   \n",
       "49502   78afa995795e4d85b5d9ceeca43f5fef      transaction   \n",
       "53176   78afa995795e4d85b5d9ceeca43f5fef   offer received   \n",
       "85291   78afa995795e4d85b5d9ceeca43f5fef     offer viewed   \n",
       "87134   78afa995795e4d85b5d9ceeca43f5fef      transaction   \n",
       "92104   78afa995795e4d85b5d9ceeca43f5fef      transaction   \n",
       "141566  78afa995795e4d85b5d9ceeca43f5fef      transaction   \n",
       "150598  78afa995795e4d85b5d9ceeca43f5fef   offer received   \n",
       "163375  78afa995795e4d85b5d9ceeca43f5fef     offer viewed   \n",
       "201572  78afa995795e4d85b5d9ceeca43f5fef   offer received   \n",
       "218393  78afa995795e4d85b5d9ceeca43f5fef      transaction   \n",
       "218394  78afa995795e4d85b5d9ceeca43f5fef  offer completed   \n",
       "218395  78afa995795e4d85b5d9ceeca43f5fef  offer completed   \n",
       "230412  78afa995795e4d85b5d9ceeca43f5fef      transaction   \n",
       "262138  78afa995795e4d85b5d9ceeca43f5fef     offer viewed   \n",
       "\n",
       "                                                    value  time  \n",
       "0        {'offer id': '9b98b8c7a33c4b65b9aebfe6a799e6d9'}     0  \n",
       "15561    {'offer id': '9b98b8c7a33c4b65b9aebfe6a799e6d9'}     6  \n",
       "47582                                   {'amount': 19.89}   132  \n",
       "47583   {'offer_id': '9b98b8c7a33c4b65b9aebfe6a799e6d9...   132  \n",
       "49502                                   {'amount': 17.78}   144  \n",
       "53176    {'offer id': '5a8bc65990b245e5a138643cd4eb9837'}   168  \n",
       "85291    {'offer id': '5a8bc65990b245e5a138643cd4eb9837'}   216  \n",
       "87134                                   {'amount': 19.67}   222  \n",
       "92104                                   {'amount': 29.72}   240  \n",
       "141566                                  {'amount': 23.93}   378  \n",
       "150598   {'offer id': 'ae264e3637204a6fb9bb56bc8210ddfd'}   408  \n",
       "163375   {'offer id': 'ae264e3637204a6fb9bb56bc8210ddfd'}   408  \n",
       "201572   {'offer id': 'f19421c1d4aa40978ebb69ca19b0e20d'}   504  \n",
       "218393                                  {'amount': 21.72}   510  \n",
       "218394  {'offer_id': 'ae264e3637204a6fb9bb56bc8210ddfd...   510  \n",
       "218395  {'offer_id': 'f19421c1d4aa40978ebb69ca19b0e20d...   510  \n",
       "230412                                  {'amount': 26.56}   534  \n",
       "262138   {'offer id': 'f19421c1d4aa40978ebb69ca19b0e20d'}   582  "
      ]
     },
     "execution_count": 22,
     "metadata": {},
     "output_type": "execute_result"
    }
   ],
   "source": [
    "transcript[transcript.person == '78afa995795e4d85b5d9ceeca43f5fef']"
   ]
  },
  {
   "cell_type": "markdown",
   "metadata": {},
   "source": [
    "Note: We have many records for one person that are organized chronologically. 'Value' column is currently a json format with either 'offer_id' for offers completed, 'amount' of transactions and 'offer id' for offers received and offers viewed."
   ]
  },
  {
   "cell_type": "code",
   "execution_count": 23,
   "metadata": {},
   "outputs": [],
   "source": [
    "# normalize json in value column\n",
    "value_normalized = json_normalize(transcript['value'])"
   ]
  },
  {
   "cell_type": "code",
   "execution_count": 24,
   "metadata": {},
   "outputs": [
    {
     "data": {
      "text/html": [
       "<div>\n",
       "<style scoped>\n",
       "    .dataframe tbody tr th:only-of-type {\n",
       "        vertical-align: middle;\n",
       "    }\n",
       "\n",
       "    .dataframe tbody tr th {\n",
       "        vertical-align: top;\n",
       "    }\n",
       "\n",
       "    .dataframe thead th {\n",
       "        text-align: right;\n",
       "    }\n",
       "</style>\n",
       "<table border=\"1\" class=\"dataframe\">\n",
       "  <thead>\n",
       "    <tr style=\"text-align: right;\">\n",
       "      <th></th>\n",
       "      <th>offer id</th>\n",
       "      <th>amount</th>\n",
       "      <th>offer_id</th>\n",
       "      <th>reward</th>\n",
       "    </tr>\n",
       "  </thead>\n",
       "  <tbody>\n",
       "    <tr>\n",
       "      <th>0</th>\n",
       "      <td>9b98b8c7a33c4b65b9aebfe6a799e6d9</td>\n",
       "      <td>NaN</td>\n",
       "      <td>NaN</td>\n",
       "      <td>NaN</td>\n",
       "    </tr>\n",
       "    <tr>\n",
       "      <th>1</th>\n",
       "      <td>0b1e1539f2cc45b7b9fa7c272da2e1d7</td>\n",
       "      <td>NaN</td>\n",
       "      <td>NaN</td>\n",
       "      <td>NaN</td>\n",
       "    </tr>\n",
       "    <tr>\n",
       "      <th>2</th>\n",
       "      <td>2906b810c7d4411798c6938adc9daaa5</td>\n",
       "      <td>NaN</td>\n",
       "      <td>NaN</td>\n",
       "      <td>NaN</td>\n",
       "    </tr>\n",
       "    <tr>\n",
       "      <th>3</th>\n",
       "      <td>fafdcd668e3743c1bb461111dcafc2a4</td>\n",
       "      <td>NaN</td>\n",
       "      <td>NaN</td>\n",
       "      <td>NaN</td>\n",
       "    </tr>\n",
       "    <tr>\n",
       "      <th>4</th>\n",
       "      <td>4d5c57ea9a6940dd891ad53e9dbe8da0</td>\n",
       "      <td>NaN</td>\n",
       "      <td>NaN</td>\n",
       "      <td>NaN</td>\n",
       "    </tr>\n",
       "  </tbody>\n",
       "</table>\n",
       "</div>"
      ],
      "text/plain": [
       "                           offer id  amount offer_id  reward\n",
       "0  9b98b8c7a33c4b65b9aebfe6a799e6d9     NaN      NaN     NaN\n",
       "1  0b1e1539f2cc45b7b9fa7c272da2e1d7     NaN      NaN     NaN\n",
       "2  2906b810c7d4411798c6938adc9daaa5     NaN      NaN     NaN\n",
       "3  fafdcd668e3743c1bb461111dcafc2a4     NaN      NaN     NaN\n",
       "4  4d5c57ea9a6940dd891ad53e9dbe8da0     NaN      NaN     NaN"
      ]
     },
     "execution_count": 24,
     "metadata": {},
     "output_type": "execute_result"
    }
   ],
   "source": [
    "value_normalized.head()"
   ]
  },
  {
   "cell_type": "code",
   "execution_count": 25,
   "metadata": {},
   "outputs": [],
   "source": [
    "# merging the two columns 'offer id' and 'offer_id' into new one 'id'\n",
    "value_normalized['id'] = value_normalized['offer id'].fillna(value_normalized['offer_id'])"
   ]
  },
  {
   "cell_type": "code",
   "execution_count": 26,
   "metadata": {},
   "outputs": [],
   "source": [
    "# dropping the redundant columns 'offer id', 'offer_id'\n",
    "value_normalized = value_normalized.drop(['offer id', 'offer_id'], axis=1)"
   ]
  },
  {
   "cell_type": "code",
   "execution_count": 27,
   "metadata": {},
   "outputs": [],
   "source": [
    "#rename the column 'reward' to 'rewarded'\n",
    "value_normalized.rename(columns={value_normalized.columns[1]:'rewarded'}, inplace=True)"
   ]
  },
  {
   "cell_type": "code",
   "execution_count": 28,
   "metadata": {},
   "outputs": [
    {
     "data": {
      "text/html": [
       "<div>\n",
       "<style scoped>\n",
       "    .dataframe tbody tr th:only-of-type {\n",
       "        vertical-align: middle;\n",
       "    }\n",
       "\n",
       "    .dataframe tbody tr th {\n",
       "        vertical-align: top;\n",
       "    }\n",
       "\n",
       "    .dataframe thead th {\n",
       "        text-align: right;\n",
       "    }\n",
       "</style>\n",
       "<table border=\"1\" class=\"dataframe\">\n",
       "  <thead>\n",
       "    <tr style=\"text-align: right;\">\n",
       "      <th></th>\n",
       "      <th>amount</th>\n",
       "      <th>rewarded</th>\n",
       "      <th>id</th>\n",
       "    </tr>\n",
       "  </thead>\n",
       "  <tbody>\n",
       "    <tr>\n",
       "      <th>0</th>\n",
       "      <td>NaN</td>\n",
       "      <td>NaN</td>\n",
       "      <td>9b98b8c7a33c4b65b9aebfe6a799e6d9</td>\n",
       "    </tr>\n",
       "    <tr>\n",
       "      <th>1</th>\n",
       "      <td>NaN</td>\n",
       "      <td>NaN</td>\n",
       "      <td>0b1e1539f2cc45b7b9fa7c272da2e1d7</td>\n",
       "    </tr>\n",
       "    <tr>\n",
       "      <th>2</th>\n",
       "      <td>NaN</td>\n",
       "      <td>NaN</td>\n",
       "      <td>2906b810c7d4411798c6938adc9daaa5</td>\n",
       "    </tr>\n",
       "    <tr>\n",
       "      <th>3</th>\n",
       "      <td>NaN</td>\n",
       "      <td>NaN</td>\n",
       "      <td>fafdcd668e3743c1bb461111dcafc2a4</td>\n",
       "    </tr>\n",
       "    <tr>\n",
       "      <th>4</th>\n",
       "      <td>NaN</td>\n",
       "      <td>NaN</td>\n",
       "      <td>4d5c57ea9a6940dd891ad53e9dbe8da0</td>\n",
       "    </tr>\n",
       "  </tbody>\n",
       "</table>\n",
       "</div>"
      ],
      "text/plain": [
       "   amount  rewarded                                id\n",
       "0     NaN       NaN  9b98b8c7a33c4b65b9aebfe6a799e6d9\n",
       "1     NaN       NaN  0b1e1539f2cc45b7b9fa7c272da2e1d7\n",
       "2     NaN       NaN  2906b810c7d4411798c6938adc9daaa5\n",
       "3     NaN       NaN  fafdcd668e3743c1bb461111dcafc2a4\n",
       "4     NaN       NaN  4d5c57ea9a6940dd891ad53e9dbe8da0"
      ]
     },
     "execution_count": 28,
     "metadata": {},
     "output_type": "execute_result"
    }
   ],
   "source": [
    "value_normalized.head()"
   ]
  },
  {
   "cell_type": "code",
   "execution_count": 29,
   "metadata": {},
   "outputs": [],
   "source": [
    "# join value_normalized with transcript \n",
    "transcript_clean = transcript.join(value_normalized)"
   ]
  },
  {
   "cell_type": "code",
   "execution_count": 30,
   "metadata": {},
   "outputs": [],
   "source": [
    "# dropping 'value', 'event' columns\n",
    "transcript_clean = transcript_clean.drop(['value'], axis=1)"
   ]
  },
  {
   "cell_type": "code",
   "execution_count": 31,
   "metadata": {},
   "outputs": [],
   "source": [
    "# reorganize the order of columns\n",
    "transcript_clean = transcript_clean[['person', 'id', 'event', 'amount', 'rewarded', 'time']]"
   ]
  },
  {
   "cell_type": "code",
   "execution_count": 32,
   "metadata": {},
   "outputs": [
    {
     "data": {
      "text/html": [
       "<div>\n",
       "<style scoped>\n",
       "    .dataframe tbody tr th:only-of-type {\n",
       "        vertical-align: middle;\n",
       "    }\n",
       "\n",
       "    .dataframe tbody tr th {\n",
       "        vertical-align: top;\n",
       "    }\n",
       "\n",
       "    .dataframe thead th {\n",
       "        text-align: right;\n",
       "    }\n",
       "</style>\n",
       "<table border=\"1\" class=\"dataframe\">\n",
       "  <thead>\n",
       "    <tr style=\"text-align: right;\">\n",
       "      <th></th>\n",
       "      <th>person</th>\n",
       "      <th>id</th>\n",
       "      <th>event</th>\n",
       "      <th>amount</th>\n",
       "      <th>rewarded</th>\n",
       "      <th>time</th>\n",
       "    </tr>\n",
       "  </thead>\n",
       "  <tbody>\n",
       "    <tr>\n",
       "      <th>0</th>\n",
       "      <td>78afa995795e4d85b5d9ceeca43f5fef</td>\n",
       "      <td>9b98b8c7a33c4b65b9aebfe6a799e6d9</td>\n",
       "      <td>offer received</td>\n",
       "      <td>NaN</td>\n",
       "      <td>NaN</td>\n",
       "      <td>0</td>\n",
       "    </tr>\n",
       "    <tr>\n",
       "      <th>1</th>\n",
       "      <td>a03223e636434f42ac4c3df47e8bac43</td>\n",
       "      <td>0b1e1539f2cc45b7b9fa7c272da2e1d7</td>\n",
       "      <td>offer received</td>\n",
       "      <td>NaN</td>\n",
       "      <td>NaN</td>\n",
       "      <td>0</td>\n",
       "    </tr>\n",
       "    <tr>\n",
       "      <th>2</th>\n",
       "      <td>e2127556f4f64592b11af22de27a7932</td>\n",
       "      <td>2906b810c7d4411798c6938adc9daaa5</td>\n",
       "      <td>offer received</td>\n",
       "      <td>NaN</td>\n",
       "      <td>NaN</td>\n",
       "      <td>0</td>\n",
       "    </tr>\n",
       "    <tr>\n",
       "      <th>3</th>\n",
       "      <td>8ec6ce2a7e7949b1bf142def7d0e0586</td>\n",
       "      <td>fafdcd668e3743c1bb461111dcafc2a4</td>\n",
       "      <td>offer received</td>\n",
       "      <td>NaN</td>\n",
       "      <td>NaN</td>\n",
       "      <td>0</td>\n",
       "    </tr>\n",
       "    <tr>\n",
       "      <th>4</th>\n",
       "      <td>68617ca6246f4fbc85e91a2a49552598</td>\n",
       "      <td>4d5c57ea9a6940dd891ad53e9dbe8da0</td>\n",
       "      <td>offer received</td>\n",
       "      <td>NaN</td>\n",
       "      <td>NaN</td>\n",
       "      <td>0</td>\n",
       "    </tr>\n",
       "  </tbody>\n",
       "</table>\n",
       "</div>"
      ],
      "text/plain": [
       "                             person                                id  \\\n",
       "0  78afa995795e4d85b5d9ceeca43f5fef  9b98b8c7a33c4b65b9aebfe6a799e6d9   \n",
       "1  a03223e636434f42ac4c3df47e8bac43  0b1e1539f2cc45b7b9fa7c272da2e1d7   \n",
       "2  e2127556f4f64592b11af22de27a7932  2906b810c7d4411798c6938adc9daaa5   \n",
       "3  8ec6ce2a7e7949b1bf142def7d0e0586  fafdcd668e3743c1bb461111dcafc2a4   \n",
       "4  68617ca6246f4fbc85e91a2a49552598  4d5c57ea9a6940dd891ad53e9dbe8da0   \n",
       "\n",
       "            event  amount  rewarded  time  \n",
       "0  offer received     NaN       NaN     0  \n",
       "1  offer received     NaN       NaN     0  \n",
       "2  offer received     NaN       NaN     0  \n",
       "3  offer received     NaN       NaN     0  \n",
       "4  offer received     NaN       NaN     0  "
      ]
     },
     "execution_count": 32,
     "metadata": {},
     "output_type": "execute_result"
    }
   ],
   "source": [
    "transcript_clean.head()"
   ]
  },
  {
   "cell_type": "markdown",
   "metadata": {},
   "source": [
    "## Combining datasets\n",
    "\n",
    "1.1. Merging Profile and Transcript datasets on customer ids:"
   ]
  },
  {
   "cell_type": "code",
   "execution_count": 33,
   "metadata": {},
   "outputs": [
    {
     "data": {
      "text/plain": [
       "((17000, 5), (306534, 4))"
      ]
     },
     "execution_count": 33,
     "metadata": {},
     "output_type": "execute_result"
    }
   ],
   "source": [
    "# checking the number of rows in the datasets\n",
    "profile.shape, transcript.shape"
   ]
  },
  {
   "cell_type": "code",
   "execution_count": 34,
   "metadata": {},
   "outputs": [],
   "source": [
    "# because transcipt has more rows, we will do the right join\n",
    "df = profile.merge(transcript_clean, on='person', how='right')"
   ]
  },
  {
   "cell_type": "code",
   "execution_count": 35,
   "metadata": {},
   "outputs": [
    {
     "data": {
      "text/plain": [
       "(306534, 10)"
      ]
     },
     "execution_count": 35,
     "metadata": {},
     "output_type": "execute_result"
    }
   ],
   "source": [
    "df.shape"
   ]
  },
  {
   "cell_type": "markdown",
   "metadata": {},
   "source": [
    "1.2. Merging with Portfolio dataset"
   ]
  },
  {
   "cell_type": "code",
   "execution_count": 36,
   "metadata": {},
   "outputs": [],
   "source": [
    "starbucks = df.merge(portfolio, on='id', how='left')"
   ]
  },
  {
   "cell_type": "code",
   "execution_count": 37,
   "metadata": {},
   "outputs": [
    {
     "data": {
      "text/html": [
       "<div>\n",
       "<style scoped>\n",
       "    .dataframe tbody tr th:only-of-type {\n",
       "        vertical-align: middle;\n",
       "    }\n",
       "\n",
       "    .dataframe tbody tr th {\n",
       "        vertical-align: top;\n",
       "    }\n",
       "\n",
       "    .dataframe thead th {\n",
       "        text-align: right;\n",
       "    }\n",
       "</style>\n",
       "<table border=\"1\" class=\"dataframe\">\n",
       "  <thead>\n",
       "    <tr style=\"text-align: right;\">\n",
       "      <th></th>\n",
       "      <th>person</th>\n",
       "      <th>became_member_on</th>\n",
       "      <th>gender</th>\n",
       "      <th>age</th>\n",
       "      <th>income</th>\n",
       "      <th>id</th>\n",
       "      <th>event</th>\n",
       "      <th>amount</th>\n",
       "      <th>rewarded</th>\n",
       "      <th>time</th>\n",
       "      <th>offer_type</th>\n",
       "      <th>offer_subtype</th>\n",
       "    </tr>\n",
       "  </thead>\n",
       "  <tbody>\n",
       "    <tr>\n",
       "      <th>0</th>\n",
       "      <td>68be06ca386d4c31939f3a4f0e3dd783</td>\n",
       "      <td>2017-02-12</td>\n",
       "      <td>NaN</td>\n",
       "      <td>NaN</td>\n",
       "      <td>NaN</td>\n",
       "      <td>2906b810c7d4411798c6938adc9daaa5</td>\n",
       "      <td>offer received</td>\n",
       "      <td>NaN</td>\n",
       "      <td>NaN</td>\n",
       "      <td>168</td>\n",
       "      <td>discount</td>\n",
       "      <td>discount_short_difficult</td>\n",
       "    </tr>\n",
       "    <tr>\n",
       "      <th>1</th>\n",
       "      <td>68be06ca386d4c31939f3a4f0e3dd783</td>\n",
       "      <td>2017-02-12</td>\n",
       "      <td>NaN</td>\n",
       "      <td>NaN</td>\n",
       "      <td>NaN</td>\n",
       "      <td>2906b810c7d4411798c6938adc9daaa5</td>\n",
       "      <td>offer viewed</td>\n",
       "      <td>NaN</td>\n",
       "      <td>NaN</td>\n",
       "      <td>216</td>\n",
       "      <td>discount</td>\n",
       "      <td>discount_short_difficult</td>\n",
       "    </tr>\n",
       "    <tr>\n",
       "      <th>2</th>\n",
       "      <td>68be06ca386d4c31939f3a4f0e3dd783</td>\n",
       "      <td>2017-02-12</td>\n",
       "      <td>NaN</td>\n",
       "      <td>NaN</td>\n",
       "      <td>NaN</td>\n",
       "      <td>0b1e1539f2cc45b7b9fa7c272da2e1d7</td>\n",
       "      <td>offer received</td>\n",
       "      <td>NaN</td>\n",
       "      <td>NaN</td>\n",
       "      <td>336</td>\n",
       "      <td>discount</td>\n",
       "      <td>discount_long_difficult</td>\n",
       "    </tr>\n",
       "    <tr>\n",
       "      <th>3</th>\n",
       "      <td>68be06ca386d4c31939f3a4f0e3dd783</td>\n",
       "      <td>2017-02-12</td>\n",
       "      <td>NaN</td>\n",
       "      <td>NaN</td>\n",
       "      <td>NaN</td>\n",
       "      <td>0b1e1539f2cc45b7b9fa7c272da2e1d7</td>\n",
       "      <td>offer viewed</td>\n",
       "      <td>NaN</td>\n",
       "      <td>NaN</td>\n",
       "      <td>348</td>\n",
       "      <td>discount</td>\n",
       "      <td>discount_long_difficult</td>\n",
       "    </tr>\n",
       "    <tr>\n",
       "      <th>4</th>\n",
       "      <td>68be06ca386d4c31939f3a4f0e3dd783</td>\n",
       "      <td>2017-02-12</td>\n",
       "      <td>NaN</td>\n",
       "      <td>NaN</td>\n",
       "      <td>NaN</td>\n",
       "      <td>NaN</td>\n",
       "      <td>transaction</td>\n",
       "      <td>0.35</td>\n",
       "      <td>NaN</td>\n",
       "      <td>360</td>\n",
       "      <td>NaN</td>\n",
       "      <td>NaN</td>\n",
       "    </tr>\n",
       "  </tbody>\n",
       "</table>\n",
       "</div>"
      ],
      "text/plain": [
       "                             person became_member_on gender  age  income  \\\n",
       "0  68be06ca386d4c31939f3a4f0e3dd783       2017-02-12    NaN  NaN     NaN   \n",
       "1  68be06ca386d4c31939f3a4f0e3dd783       2017-02-12    NaN  NaN     NaN   \n",
       "2  68be06ca386d4c31939f3a4f0e3dd783       2017-02-12    NaN  NaN     NaN   \n",
       "3  68be06ca386d4c31939f3a4f0e3dd783       2017-02-12    NaN  NaN     NaN   \n",
       "4  68be06ca386d4c31939f3a4f0e3dd783       2017-02-12    NaN  NaN     NaN   \n",
       "\n",
       "                                 id           event  amount  rewarded  time  \\\n",
       "0  2906b810c7d4411798c6938adc9daaa5  offer received     NaN       NaN   168   \n",
       "1  2906b810c7d4411798c6938adc9daaa5    offer viewed     NaN       NaN   216   \n",
       "2  0b1e1539f2cc45b7b9fa7c272da2e1d7  offer received     NaN       NaN   336   \n",
       "3  0b1e1539f2cc45b7b9fa7c272da2e1d7    offer viewed     NaN       NaN   348   \n",
       "4                               NaN     transaction    0.35       NaN   360   \n",
       "\n",
       "  offer_type             offer_subtype  \n",
       "0   discount  discount_short_difficult  \n",
       "1   discount  discount_short_difficult  \n",
       "2   discount   discount_long_difficult  \n",
       "3   discount   discount_long_difficult  \n",
       "4        NaN                       NaN  "
      ]
     },
     "execution_count": 37,
     "metadata": {},
     "output_type": "execute_result"
    }
   ],
   "source": [
    "starbucks.head()"
   ]
  },
  {
   "cell_type": "code",
   "execution_count": 38,
   "metadata": {},
   "outputs": [
    {
     "data": {
      "text/plain": [
       "(306534, 12)"
      ]
     },
     "execution_count": 38,
     "metadata": {},
     "output_type": "execute_result"
    }
   ],
   "source": [
    "starbucks.shape"
   ]
  },
  {
   "cell_type": "markdown",
   "metadata": {},
   "source": [
    "## One-hot encoding"
   ]
  },
  {
   "cell_type": "code",
   "execution_count": 39,
   "metadata": {},
   "outputs": [
    {
     "name": "stdout",
     "output_type": "stream",
     "text": [
      "<class 'pandas.core.frame.DataFrame'>\n",
      "Int64Index: 306534 entries, 0 to 306533\n",
      "Data columns (total 12 columns):\n",
      "person              306534 non-null object\n",
      "became_member_on    306534 non-null datetime64[ns]\n",
      "gender              272762 non-null object\n",
      "age                 272762 non-null float64\n",
      "income              272762 non-null float64\n",
      "id                  167581 non-null object\n",
      "event               306534 non-null object\n",
      "amount              138953 non-null float64\n",
      "rewarded            33579 non-null float64\n",
      "time                306534 non-null int64\n",
      "offer_type          167581 non-null object\n",
      "offer_subtype       167581 non-null object\n",
      "dtypes: datetime64[ns](1), float64(4), int64(1), object(6)\n",
      "memory usage: 30.4+ MB\n"
     ]
    }
   ],
   "source": [
    "starbucks.info()"
   ]
  },
  {
   "cell_type": "markdown",
   "metadata": {},
   "source": [
    "Note: there are few columns that are categorical and need to be reencoded as dummies - event, offer_type, offer_subtype"
   ]
  },
  {
   "cell_type": "code",
   "execution_count": 40,
   "metadata": {},
   "outputs": [],
   "source": [
    "starbucks_fin = pd.get_dummies(starbucks, columns=['event', 'offer_type', 'offer_subtype'])"
   ]
  },
  {
   "cell_type": "code",
   "execution_count": 41,
   "metadata": {},
   "outputs": [
    {
     "data": {
      "text/plain": [
       "Index(['person', 'became_member_on', 'gender', 'age', 'income', 'id', 'amount',\n",
       "       'rewarded', 'time', 'event_offer completed', 'event_offer received',\n",
       "       'event_offer viewed', 'event_transaction', 'offer_type_bogo',\n",
       "       'offer_type_discount', 'offer_type_informational',\n",
       "       'offer_subtype_bogo_long_difficult', 'offer_subtype_bogo_long_easy',\n",
       "       'offer_subtype_bogo_short_difficult', 'offer_subtype_bogo_short_easy',\n",
       "       'offer_subtype_discount_long_difficult',\n",
       "       'offer_subtype_discount_long_easy',\n",
       "       'offer_subtype_discount_short_difficult',\n",
       "       'offer_subtype_discount_short_easy', 'offer_subtype_informational_long',\n",
       "       'offer_subtype_informational_short'],\n",
       "      dtype='object')"
      ]
     },
     "execution_count": 41,
     "metadata": {},
     "output_type": "execute_result"
    }
   ],
   "source": [
    "starbucks_fin.columns"
   ]
  },
  {
   "cell_type": "code",
   "execution_count": 42,
   "metadata": {},
   "outputs": [],
   "source": [
    "# reordering the columns\n",
    "starbucks_fin = starbucks_fin[['person', 'became_member_on', 'age', 'income',\n",
    "                               'id', 'amount','rewarded', 'time', \n",
    "                               'event_offer completed', 'event_offer received', 'event_offer viewed',\n",
    "                               'event_transaction', 'offer_type_bogo', 'offer_type_discount',\n",
    "                               'offer_type_informational', 'offer_subtype_bogo_long_difficult',\n",
    "                               'offer_subtype_bogo_long_easy', 'offer_subtype_bogo_short_difficult',\n",
    "                               'offer_subtype_bogo_short_easy',\n",
    "                               'offer_subtype_discount_long_difficult',\n",
    "                               'offer_subtype_discount_long_easy',\n",
    "                               'offer_subtype_discount_short_difficult',\n",
    "                               'offer_subtype_discount_short_easy', 'offer_subtype_informational_long',\n",
    "                               'offer_subtype_informational_short']]"
   ]
  },
  {
   "cell_type": "code",
   "execution_count": 43,
   "metadata": {},
   "outputs": [],
   "source": [
    "# renaming the columns\n",
    "starbucks_fin.columns = ['person', 'became_member_on', 'age', 'income', \n",
    "                         'id', 'amount','rewarded', 'time',\n",
    "                         'offer_completed', 'offer_received', 'offer_viewed',\n",
    "                         'transaction', 'bogo', 'discount', 'informational', \n",
    "                         'bogo_long_difficult', 'bogo_long_easy', \n",
    "                         'bogo_short_difficult', 'bogo_short_easy',\n",
    "                         'discount_long_difficult', 'discount_long_easy',\n",
    "                         'discount_short_difficult', 'discount_short_easy', \n",
    "                         'informational_long', 'informational_short']"
   ]
  },
  {
   "cell_type": "code",
   "execution_count": 44,
   "metadata": {},
   "outputs": [
    {
     "data": {
      "text/html": [
       "<div>\n",
       "<style scoped>\n",
       "    .dataframe tbody tr th:only-of-type {\n",
       "        vertical-align: middle;\n",
       "    }\n",
       "\n",
       "    .dataframe tbody tr th {\n",
       "        vertical-align: top;\n",
       "    }\n",
       "\n",
       "    .dataframe thead th {\n",
       "        text-align: right;\n",
       "    }\n",
       "</style>\n",
       "<table border=\"1\" class=\"dataframe\">\n",
       "  <thead>\n",
       "    <tr style=\"text-align: right;\">\n",
       "      <th></th>\n",
       "      <th>person</th>\n",
       "      <th>became_member_on</th>\n",
       "      <th>age</th>\n",
       "      <th>income</th>\n",
       "      <th>id</th>\n",
       "      <th>amount</th>\n",
       "      <th>rewarded</th>\n",
       "      <th>time</th>\n",
       "      <th>offer_completed</th>\n",
       "      <th>offer_received</th>\n",
       "      <th>...</th>\n",
       "      <th>bogo_long_difficult</th>\n",
       "      <th>bogo_long_easy</th>\n",
       "      <th>bogo_short_difficult</th>\n",
       "      <th>bogo_short_easy</th>\n",
       "      <th>discount_long_difficult</th>\n",
       "      <th>discount_long_easy</th>\n",
       "      <th>discount_short_difficult</th>\n",
       "      <th>discount_short_easy</th>\n",
       "      <th>informational_long</th>\n",
       "      <th>informational_short</th>\n",
       "    </tr>\n",
       "  </thead>\n",
       "  <tbody>\n",
       "    <tr>\n",
       "      <th>0</th>\n",
       "      <td>68be06ca386d4c31939f3a4f0e3dd783</td>\n",
       "      <td>2017-02-12</td>\n",
       "      <td>NaN</td>\n",
       "      <td>NaN</td>\n",
       "      <td>2906b810c7d4411798c6938adc9daaa5</td>\n",
       "      <td>NaN</td>\n",
       "      <td>NaN</td>\n",
       "      <td>168</td>\n",
       "      <td>0</td>\n",
       "      <td>1</td>\n",
       "      <td>...</td>\n",
       "      <td>0</td>\n",
       "      <td>0</td>\n",
       "      <td>0</td>\n",
       "      <td>0</td>\n",
       "      <td>0</td>\n",
       "      <td>0</td>\n",
       "      <td>1</td>\n",
       "      <td>0</td>\n",
       "      <td>0</td>\n",
       "      <td>0</td>\n",
       "    </tr>\n",
       "    <tr>\n",
       "      <th>1</th>\n",
       "      <td>68be06ca386d4c31939f3a4f0e3dd783</td>\n",
       "      <td>2017-02-12</td>\n",
       "      <td>NaN</td>\n",
       "      <td>NaN</td>\n",
       "      <td>2906b810c7d4411798c6938adc9daaa5</td>\n",
       "      <td>NaN</td>\n",
       "      <td>NaN</td>\n",
       "      <td>216</td>\n",
       "      <td>0</td>\n",
       "      <td>0</td>\n",
       "      <td>...</td>\n",
       "      <td>0</td>\n",
       "      <td>0</td>\n",
       "      <td>0</td>\n",
       "      <td>0</td>\n",
       "      <td>0</td>\n",
       "      <td>0</td>\n",
       "      <td>1</td>\n",
       "      <td>0</td>\n",
       "      <td>0</td>\n",
       "      <td>0</td>\n",
       "    </tr>\n",
       "    <tr>\n",
       "      <th>2</th>\n",
       "      <td>68be06ca386d4c31939f3a4f0e3dd783</td>\n",
       "      <td>2017-02-12</td>\n",
       "      <td>NaN</td>\n",
       "      <td>NaN</td>\n",
       "      <td>0b1e1539f2cc45b7b9fa7c272da2e1d7</td>\n",
       "      <td>NaN</td>\n",
       "      <td>NaN</td>\n",
       "      <td>336</td>\n",
       "      <td>0</td>\n",
       "      <td>1</td>\n",
       "      <td>...</td>\n",
       "      <td>0</td>\n",
       "      <td>0</td>\n",
       "      <td>0</td>\n",
       "      <td>0</td>\n",
       "      <td>1</td>\n",
       "      <td>0</td>\n",
       "      <td>0</td>\n",
       "      <td>0</td>\n",
       "      <td>0</td>\n",
       "      <td>0</td>\n",
       "    </tr>\n",
       "    <tr>\n",
       "      <th>3</th>\n",
       "      <td>68be06ca386d4c31939f3a4f0e3dd783</td>\n",
       "      <td>2017-02-12</td>\n",
       "      <td>NaN</td>\n",
       "      <td>NaN</td>\n",
       "      <td>0b1e1539f2cc45b7b9fa7c272da2e1d7</td>\n",
       "      <td>NaN</td>\n",
       "      <td>NaN</td>\n",
       "      <td>348</td>\n",
       "      <td>0</td>\n",
       "      <td>0</td>\n",
       "      <td>...</td>\n",
       "      <td>0</td>\n",
       "      <td>0</td>\n",
       "      <td>0</td>\n",
       "      <td>0</td>\n",
       "      <td>1</td>\n",
       "      <td>0</td>\n",
       "      <td>0</td>\n",
       "      <td>0</td>\n",
       "      <td>0</td>\n",
       "      <td>0</td>\n",
       "    </tr>\n",
       "    <tr>\n",
       "      <th>4</th>\n",
       "      <td>68be06ca386d4c31939f3a4f0e3dd783</td>\n",
       "      <td>2017-02-12</td>\n",
       "      <td>NaN</td>\n",
       "      <td>NaN</td>\n",
       "      <td>NaN</td>\n",
       "      <td>0.35</td>\n",
       "      <td>NaN</td>\n",
       "      <td>360</td>\n",
       "      <td>0</td>\n",
       "      <td>0</td>\n",
       "      <td>...</td>\n",
       "      <td>0</td>\n",
       "      <td>0</td>\n",
       "      <td>0</td>\n",
       "      <td>0</td>\n",
       "      <td>0</td>\n",
       "      <td>0</td>\n",
       "      <td>0</td>\n",
       "      <td>0</td>\n",
       "      <td>0</td>\n",
       "      <td>0</td>\n",
       "    </tr>\n",
       "  </tbody>\n",
       "</table>\n",
       "<p>5 rows × 25 columns</p>\n",
       "</div>"
      ],
      "text/plain": [
       "                             person became_member_on  age  income  \\\n",
       "0  68be06ca386d4c31939f3a4f0e3dd783       2017-02-12  NaN     NaN   \n",
       "1  68be06ca386d4c31939f3a4f0e3dd783       2017-02-12  NaN     NaN   \n",
       "2  68be06ca386d4c31939f3a4f0e3dd783       2017-02-12  NaN     NaN   \n",
       "3  68be06ca386d4c31939f3a4f0e3dd783       2017-02-12  NaN     NaN   \n",
       "4  68be06ca386d4c31939f3a4f0e3dd783       2017-02-12  NaN     NaN   \n",
       "\n",
       "                                 id  amount  rewarded  time  offer_completed  \\\n",
       "0  2906b810c7d4411798c6938adc9daaa5     NaN       NaN   168                0   \n",
       "1  2906b810c7d4411798c6938adc9daaa5     NaN       NaN   216                0   \n",
       "2  0b1e1539f2cc45b7b9fa7c272da2e1d7     NaN       NaN   336                0   \n",
       "3  0b1e1539f2cc45b7b9fa7c272da2e1d7     NaN       NaN   348                0   \n",
       "4                               NaN    0.35       NaN   360                0   \n",
       "\n",
       "   offer_received  ...  bogo_long_difficult  bogo_long_easy  \\\n",
       "0               1  ...                    0               0   \n",
       "1               0  ...                    0               0   \n",
       "2               1  ...                    0               0   \n",
       "3               0  ...                    0               0   \n",
       "4               0  ...                    0               0   \n",
       "\n",
       "   bogo_short_difficult  bogo_short_easy  discount_long_difficult  \\\n",
       "0                     0                0                        0   \n",
       "1                     0                0                        0   \n",
       "2                     0                0                        1   \n",
       "3                     0                0                        1   \n",
       "4                     0                0                        0   \n",
       "\n",
       "   discount_long_easy  discount_short_difficult  discount_short_easy  \\\n",
       "0                   0                         1                    0   \n",
       "1                   0                         1                    0   \n",
       "2                   0                         0                    0   \n",
       "3                   0                         0                    0   \n",
       "4                   0                         0                    0   \n",
       "\n",
       "   informational_long  informational_short  \n",
       "0                   0                    0  \n",
       "1                   0                    0  \n",
       "2                   0                    0  \n",
       "3                   0                    0  \n",
       "4                   0                    0  \n",
       "\n",
       "[5 rows x 25 columns]"
      ]
     },
     "execution_count": 44,
     "metadata": {},
     "output_type": "execute_result"
    }
   ],
   "source": [
    "starbucks_fin.head()"
   ]
  },
  {
   "cell_type": "code",
   "execution_count": 45,
   "metadata": {},
   "outputs": [
    {
     "data": {
      "text/plain": [
       "(306534, 25)"
      ]
     },
     "execution_count": 45,
     "metadata": {},
     "output_type": "execute_result"
    }
   ],
   "source": [
    "starbucks_fin.shape"
   ]
  },
  {
   "cell_type": "markdown",
   "metadata": {},
   "source": [
    "## Aggregation\n",
    "\n",
    "1.  at person level - total_amount, total_rewarded, offers_received, offers_viewed, offers_completed\n"
   ]
  },
  {
   "cell_type": "code",
   "execution_count": 46,
   "metadata": {},
   "outputs": [],
   "source": [
    "aggr_by_person = pd.DataFrame(starbucks_fin.groupby('person')['amount', 'rewarded', 'transaction', 'offer_received', 'offer_viewed', 'offer_completed'].sum()).reset_index()"
   ]
  },
  {
   "cell_type": "code",
   "execution_count": 47,
   "metadata": {},
   "outputs": [],
   "source": [
    "#rename columns\n",
    "aggr_by_person.columns = ['person','total_amount', 'total_rewarded', 'transactions_num', 'offers_received', 'offers_viewed', 'offers_completed']"
   ]
  },
  {
   "cell_type": "code",
   "execution_count": 48,
   "metadata": {},
   "outputs": [
    {
     "data": {
      "text/html": [
       "<div>\n",
       "<style scoped>\n",
       "    .dataframe tbody tr th:only-of-type {\n",
       "        vertical-align: middle;\n",
       "    }\n",
       "\n",
       "    .dataframe tbody tr th {\n",
       "        vertical-align: top;\n",
       "    }\n",
       "\n",
       "    .dataframe thead th {\n",
       "        text-align: right;\n",
       "    }\n",
       "</style>\n",
       "<table border=\"1\" class=\"dataframe\">\n",
       "  <thead>\n",
       "    <tr style=\"text-align: right;\">\n",
       "      <th></th>\n",
       "      <th>person</th>\n",
       "      <th>total_amount</th>\n",
       "      <th>total_rewarded</th>\n",
       "      <th>transactions_num</th>\n",
       "      <th>offers_received</th>\n",
       "      <th>offers_viewed</th>\n",
       "      <th>offers_completed</th>\n",
       "    </tr>\n",
       "  </thead>\n",
       "  <tbody>\n",
       "    <tr>\n",
       "      <th>0</th>\n",
       "      <td>0009655768c64bdeb2e877511632db8f</td>\n",
       "      <td>127.60</td>\n",
       "      <td>9.0</td>\n",
       "      <td>8</td>\n",
       "      <td>5</td>\n",
       "      <td>4</td>\n",
       "      <td>3</td>\n",
       "    </tr>\n",
       "    <tr>\n",
       "      <th>1</th>\n",
       "      <td>00116118485d4dfda04fdbaba9a87b5c</td>\n",
       "      <td>4.09</td>\n",
       "      <td>0.0</td>\n",
       "      <td>3</td>\n",
       "      <td>2</td>\n",
       "      <td>2</td>\n",
       "      <td>0</td>\n",
       "    </tr>\n",
       "    <tr>\n",
       "      <th>2</th>\n",
       "      <td>0011e0d4e6b944f998e987f904e8c1e5</td>\n",
       "      <td>79.46</td>\n",
       "      <td>13.0</td>\n",
       "      <td>5</td>\n",
       "      <td>5</td>\n",
       "      <td>5</td>\n",
       "      <td>3</td>\n",
       "    </tr>\n",
       "    <tr>\n",
       "      <th>3</th>\n",
       "      <td>0020c2b971eb4e9188eac86d93036a77</td>\n",
       "      <td>196.86</td>\n",
       "      <td>14.0</td>\n",
       "      <td>8</td>\n",
       "      <td>5</td>\n",
       "      <td>3</td>\n",
       "      <td>3</td>\n",
       "    </tr>\n",
       "    <tr>\n",
       "      <th>4</th>\n",
       "      <td>0020ccbbb6d84e358d3414a3ff76cffd</td>\n",
       "      <td>154.05</td>\n",
       "      <td>13.0</td>\n",
       "      <td>12</td>\n",
       "      <td>4</td>\n",
       "      <td>4</td>\n",
       "      <td>3</td>\n",
       "    </tr>\n",
       "  </tbody>\n",
       "</table>\n",
       "</div>"
      ],
      "text/plain": [
       "                             person  total_amount  total_rewarded  \\\n",
       "0  0009655768c64bdeb2e877511632db8f        127.60             9.0   \n",
       "1  00116118485d4dfda04fdbaba9a87b5c          4.09             0.0   \n",
       "2  0011e0d4e6b944f998e987f904e8c1e5         79.46            13.0   \n",
       "3  0020c2b971eb4e9188eac86d93036a77        196.86            14.0   \n",
       "4  0020ccbbb6d84e358d3414a3ff76cffd        154.05            13.0   \n",
       "\n",
       "   transactions_num  offers_received  offers_viewed  offers_completed  \n",
       "0                 8                5              4                 3  \n",
       "1                 3                2              2                 0  \n",
       "2                 5                5              5                 3  \n",
       "3                 8                5              3                 3  \n",
       "4                12                4              4                 3  "
      ]
     },
     "execution_count": 48,
     "metadata": {},
     "output_type": "execute_result"
    }
   ],
   "source": [
    "aggr_by_person.head()"
   ]
  },
  {
   "cell_type": "code",
   "execution_count": 49,
   "metadata": {},
   "outputs": [
    {
     "data": {
      "text/plain": [
       "(17000, 7)"
      ]
     },
     "execution_count": 49,
     "metadata": {},
     "output_type": "execute_result"
    }
   ],
   "source": [
    "aggr_by_person.shape"
   ]
  },
  {
   "cell_type": "markdown",
   "metadata": {},
   "source": [
    "2. at personal level - number of offer types "
   ]
  },
  {
   "cell_type": "code",
   "execution_count": 50,
   "metadata": {},
   "outputs": [],
   "source": [
    "aggr = aggr_by_person.copy()\n",
    "for offer_type in ['bogo', 'discount', 'informational']:\n",
    "    for event in ['offer_received', 'offer_viewed', 'offer_completed']:\n",
    "        total = pd.DataFrame(starbucks_fin.groupby(['person', offer_type])[event].sum()).reset_index()\n",
    "        total = total[total[offer_type] == 1]\n",
    "        total = total.drop(offer_type, axis=1)\n",
    "        new_col_title = offer_type + '_' + event.split('_')[1]\n",
    "        total.columns = ['person', new_col_title]\n",
    "        aggr = aggr.merge(total, on='person', how='left')\n",
    "        \n",
    "aggr.drop(['informational_completed'], axis=1, inplace=True)"
   ]
  },
  {
   "cell_type": "code",
   "execution_count": 51,
   "metadata": {},
   "outputs": [
    {
     "data": {
      "text/html": [
       "<div>\n",
       "<style scoped>\n",
       "    .dataframe tbody tr th:only-of-type {\n",
       "        vertical-align: middle;\n",
       "    }\n",
       "\n",
       "    .dataframe tbody tr th {\n",
       "        vertical-align: top;\n",
       "    }\n",
       "\n",
       "    .dataframe thead th {\n",
       "        text-align: right;\n",
       "    }\n",
       "</style>\n",
       "<table border=\"1\" class=\"dataframe\">\n",
       "  <thead>\n",
       "    <tr style=\"text-align: right;\">\n",
       "      <th></th>\n",
       "      <th>person</th>\n",
       "      <th>total_amount</th>\n",
       "      <th>total_rewarded</th>\n",
       "      <th>transactions_num</th>\n",
       "      <th>offers_received</th>\n",
       "      <th>offers_viewed</th>\n",
       "      <th>offers_completed</th>\n",
       "      <th>bogo_received</th>\n",
       "      <th>bogo_viewed</th>\n",
       "      <th>bogo_completed</th>\n",
       "      <th>discount_received</th>\n",
       "      <th>discount_viewed</th>\n",
       "      <th>discount_completed</th>\n",
       "      <th>informational_received</th>\n",
       "      <th>informational_viewed</th>\n",
       "    </tr>\n",
       "  </thead>\n",
       "  <tbody>\n",
       "    <tr>\n",
       "      <th>0</th>\n",
       "      <td>0009655768c64bdeb2e877511632db8f</td>\n",
       "      <td>127.60</td>\n",
       "      <td>9.0</td>\n",
       "      <td>8</td>\n",
       "      <td>5</td>\n",
       "      <td>4</td>\n",
       "      <td>3</td>\n",
       "      <td>1.0</td>\n",
       "      <td>1.0</td>\n",
       "      <td>1.0</td>\n",
       "      <td>2.0</td>\n",
       "      <td>1.0</td>\n",
       "      <td>2.0</td>\n",
       "      <td>2.0</td>\n",
       "      <td>2.0</td>\n",
       "    </tr>\n",
       "    <tr>\n",
       "      <th>1</th>\n",
       "      <td>00116118485d4dfda04fdbaba9a87b5c</td>\n",
       "      <td>4.09</td>\n",
       "      <td>0.0</td>\n",
       "      <td>3</td>\n",
       "      <td>2</td>\n",
       "      <td>2</td>\n",
       "      <td>0</td>\n",
       "      <td>2.0</td>\n",
       "      <td>2.0</td>\n",
       "      <td>0.0</td>\n",
       "      <td>NaN</td>\n",
       "      <td>NaN</td>\n",
       "      <td>NaN</td>\n",
       "      <td>NaN</td>\n",
       "      <td>NaN</td>\n",
       "    </tr>\n",
       "    <tr>\n",
       "      <th>2</th>\n",
       "      <td>0011e0d4e6b944f998e987f904e8c1e5</td>\n",
       "      <td>79.46</td>\n",
       "      <td>13.0</td>\n",
       "      <td>5</td>\n",
       "      <td>5</td>\n",
       "      <td>5</td>\n",
       "      <td>3</td>\n",
       "      <td>1.0</td>\n",
       "      <td>1.0</td>\n",
       "      <td>1.0</td>\n",
       "      <td>2.0</td>\n",
       "      <td>2.0</td>\n",
       "      <td>2.0</td>\n",
       "      <td>2.0</td>\n",
       "      <td>2.0</td>\n",
       "    </tr>\n",
       "    <tr>\n",
       "      <th>3</th>\n",
       "      <td>0020c2b971eb4e9188eac86d93036a77</td>\n",
       "      <td>196.86</td>\n",
       "      <td>14.0</td>\n",
       "      <td>8</td>\n",
       "      <td>5</td>\n",
       "      <td>3</td>\n",
       "      <td>3</td>\n",
       "      <td>2.0</td>\n",
       "      <td>1.0</td>\n",
       "      <td>1.0</td>\n",
       "      <td>2.0</td>\n",
       "      <td>1.0</td>\n",
       "      <td>2.0</td>\n",
       "      <td>1.0</td>\n",
       "      <td>1.0</td>\n",
       "    </tr>\n",
       "    <tr>\n",
       "      <th>4</th>\n",
       "      <td>0020ccbbb6d84e358d3414a3ff76cffd</td>\n",
       "      <td>154.05</td>\n",
       "      <td>13.0</td>\n",
       "      <td>12</td>\n",
       "      <td>4</td>\n",
       "      <td>4</td>\n",
       "      <td>3</td>\n",
       "      <td>2.0</td>\n",
       "      <td>2.0</td>\n",
       "      <td>2.0</td>\n",
       "      <td>1.0</td>\n",
       "      <td>1.0</td>\n",
       "      <td>1.0</td>\n",
       "      <td>1.0</td>\n",
       "      <td>1.0</td>\n",
       "    </tr>\n",
       "  </tbody>\n",
       "</table>\n",
       "</div>"
      ],
      "text/plain": [
       "                             person  total_amount  total_rewarded  \\\n",
       "0  0009655768c64bdeb2e877511632db8f        127.60             9.0   \n",
       "1  00116118485d4dfda04fdbaba9a87b5c          4.09             0.0   \n",
       "2  0011e0d4e6b944f998e987f904e8c1e5         79.46            13.0   \n",
       "3  0020c2b971eb4e9188eac86d93036a77        196.86            14.0   \n",
       "4  0020ccbbb6d84e358d3414a3ff76cffd        154.05            13.0   \n",
       "\n",
       "   transactions_num  offers_received  offers_viewed  offers_completed  \\\n",
       "0                 8                5              4                 3   \n",
       "1                 3                2              2                 0   \n",
       "2                 5                5              5                 3   \n",
       "3                 8                5              3                 3   \n",
       "4                12                4              4                 3   \n",
       "\n",
       "   bogo_received  bogo_viewed  bogo_completed  discount_received  \\\n",
       "0            1.0          1.0             1.0                2.0   \n",
       "1            2.0          2.0             0.0                NaN   \n",
       "2            1.0          1.0             1.0                2.0   \n",
       "3            2.0          1.0             1.0                2.0   \n",
       "4            2.0          2.0             2.0                1.0   \n",
       "\n",
       "   discount_viewed  discount_completed  informational_received  \\\n",
       "0              1.0                 2.0                     2.0   \n",
       "1              NaN                 NaN                     NaN   \n",
       "2              2.0                 2.0                     2.0   \n",
       "3              1.0                 2.0                     1.0   \n",
       "4              1.0                 1.0                     1.0   \n",
       "\n",
       "   informational_viewed  \n",
       "0                   2.0  \n",
       "1                   NaN  \n",
       "2                   2.0  \n",
       "3                   1.0  \n",
       "4                   1.0  "
      ]
     },
     "execution_count": 51,
     "metadata": {},
     "output_type": "execute_result"
    }
   ],
   "source": [
    "aggr.head()"
   ]
  },
  {
   "cell_type": "markdown",
   "metadata": {},
   "source": [
    "Note: NaNs in bogo_received, bogo_viewed, bogo_completed mean that no bogos were received.\n",
    "the same is true about other offer types."
   ]
  },
  {
   "cell_type": "code",
   "execution_count": 52,
   "metadata": {},
   "outputs": [
    {
     "data": {
      "text/plain": [
       "(17000, 15)"
      ]
     },
     "execution_count": 52,
     "metadata": {},
     "output_type": "execute_result"
    }
   ],
   "source": [
    "aggr.shape"
   ]
  },
  {
   "cell_type": "code",
   "execution_count": 53,
   "metadata": {},
   "outputs": [],
   "source": [
    "#merge with demographic info\n",
    "starbucks_aggr = profile.merge(aggr, on='person')"
   ]
  },
  {
   "cell_type": "code",
   "execution_count": 54,
   "metadata": {},
   "outputs": [
    {
     "data": {
      "text/plain": [
       "(17000, 19)"
      ]
     },
     "execution_count": 54,
     "metadata": {},
     "output_type": "execute_result"
    }
   ],
   "source": [
    "starbucks_aggr.shape"
   ]
  },
  {
   "cell_type": "code",
   "execution_count": 55,
   "metadata": {},
   "outputs": [
    {
     "data": {
      "text/html": [
       "<div>\n",
       "<style scoped>\n",
       "    .dataframe tbody tr th:only-of-type {\n",
       "        vertical-align: middle;\n",
       "    }\n",
       "\n",
       "    .dataframe tbody tr th {\n",
       "        vertical-align: top;\n",
       "    }\n",
       "\n",
       "    .dataframe thead th {\n",
       "        text-align: right;\n",
       "    }\n",
       "</style>\n",
       "<table border=\"1\" class=\"dataframe\">\n",
       "  <thead>\n",
       "    <tr style=\"text-align: right;\">\n",
       "      <th></th>\n",
       "      <th>person</th>\n",
       "      <th>became_member_on</th>\n",
       "      <th>gender</th>\n",
       "      <th>age</th>\n",
       "      <th>income</th>\n",
       "      <th>total_amount</th>\n",
       "      <th>total_rewarded</th>\n",
       "      <th>transactions_num</th>\n",
       "      <th>offers_received</th>\n",
       "      <th>offers_viewed</th>\n",
       "      <th>offers_completed</th>\n",
       "      <th>bogo_received</th>\n",
       "      <th>bogo_viewed</th>\n",
       "      <th>bogo_completed</th>\n",
       "      <th>discount_received</th>\n",
       "      <th>discount_viewed</th>\n",
       "      <th>discount_completed</th>\n",
       "      <th>informational_received</th>\n",
       "      <th>informational_viewed</th>\n",
       "    </tr>\n",
       "  </thead>\n",
       "  <tbody>\n",
       "    <tr>\n",
       "      <th>0</th>\n",
       "      <td>68be06ca386d4c31939f3a4f0e3dd783</td>\n",
       "      <td>2017-02-12</td>\n",
       "      <td>NaN</td>\n",
       "      <td>NaN</td>\n",
       "      <td>NaN</td>\n",
       "      <td>20.40</td>\n",
       "      <td>5.0</td>\n",
       "      <td>9</td>\n",
       "      <td>5</td>\n",
       "      <td>5</td>\n",
       "      <td>2</td>\n",
       "      <td>NaN</td>\n",
       "      <td>NaN</td>\n",
       "      <td>NaN</td>\n",
       "      <td>5.0</td>\n",
       "      <td>5.0</td>\n",
       "      <td>2.0</td>\n",
       "      <td>NaN</td>\n",
       "      <td>NaN</td>\n",
       "    </tr>\n",
       "    <tr>\n",
       "      <th>1</th>\n",
       "      <td>0610b486422d4921ae7d2bf64640c50b</td>\n",
       "      <td>2017-07-15</td>\n",
       "      <td>F</td>\n",
       "      <td>55.0</td>\n",
       "      <td>112000.0</td>\n",
       "      <td>77.01</td>\n",
       "      <td>5.0</td>\n",
       "      <td>3</td>\n",
       "      <td>2</td>\n",
       "      <td>0</td>\n",
       "      <td>1</td>\n",
       "      <td>1.0</td>\n",
       "      <td>0.0</td>\n",
       "      <td>1.0</td>\n",
       "      <td>NaN</td>\n",
       "      <td>NaN</td>\n",
       "      <td>NaN</td>\n",
       "      <td>1.0</td>\n",
       "      <td>0.0</td>\n",
       "    </tr>\n",
       "    <tr>\n",
       "      <th>2</th>\n",
       "      <td>38fe809add3b4fcf9315a9694bb96ff5</td>\n",
       "      <td>2018-07-12</td>\n",
       "      <td>NaN</td>\n",
       "      <td>NaN</td>\n",
       "      <td>NaN</td>\n",
       "      <td>14.30</td>\n",
       "      <td>0.0</td>\n",
       "      <td>6</td>\n",
       "      <td>2</td>\n",
       "      <td>2</td>\n",
       "      <td>0</td>\n",
       "      <td>1.0</td>\n",
       "      <td>1.0</td>\n",
       "      <td>0.0</td>\n",
       "      <td>NaN</td>\n",
       "      <td>NaN</td>\n",
       "      <td>NaN</td>\n",
       "      <td>1.0</td>\n",
       "      <td>1.0</td>\n",
       "    </tr>\n",
       "    <tr>\n",
       "      <th>3</th>\n",
       "      <td>78afa995795e4d85b5d9ceeca43f5fef</td>\n",
       "      <td>2017-05-09</td>\n",
       "      <td>F</td>\n",
       "      <td>75.0</td>\n",
       "      <td>100000.0</td>\n",
       "      <td>159.27</td>\n",
       "      <td>20.0</td>\n",
       "      <td>7</td>\n",
       "      <td>4</td>\n",
       "      <td>4</td>\n",
       "      <td>3</td>\n",
       "      <td>3.0</td>\n",
       "      <td>3.0</td>\n",
       "      <td>3.0</td>\n",
       "      <td>NaN</td>\n",
       "      <td>NaN</td>\n",
       "      <td>NaN</td>\n",
       "      <td>1.0</td>\n",
       "      <td>1.0</td>\n",
       "    </tr>\n",
       "    <tr>\n",
       "      <th>4</th>\n",
       "      <td>a03223e636434f42ac4c3df47e8bac43</td>\n",
       "      <td>2017-08-04</td>\n",
       "      <td>NaN</td>\n",
       "      <td>NaN</td>\n",
       "      <td>NaN</td>\n",
       "      <td>4.65</td>\n",
       "      <td>0.0</td>\n",
       "      <td>3</td>\n",
       "      <td>5</td>\n",
       "      <td>3</td>\n",
       "      <td>0</td>\n",
       "      <td>NaN</td>\n",
       "      <td>NaN</td>\n",
       "      <td>NaN</td>\n",
       "      <td>3.0</td>\n",
       "      <td>2.0</td>\n",
       "      <td>0.0</td>\n",
       "      <td>2.0</td>\n",
       "      <td>1.0</td>\n",
       "    </tr>\n",
       "    <tr>\n",
       "      <th>5</th>\n",
       "      <td>e2127556f4f64592b11af22de27a7932</td>\n",
       "      <td>2018-04-26</td>\n",
       "      <td>M</td>\n",
       "      <td>68.0</td>\n",
       "      <td>70000.0</td>\n",
       "      <td>57.73</td>\n",
       "      <td>7.0</td>\n",
       "      <td>3</td>\n",
       "      <td>4</td>\n",
       "      <td>3</td>\n",
       "      <td>2</td>\n",
       "      <td>1.0</td>\n",
       "      <td>1.0</td>\n",
       "      <td>1.0</td>\n",
       "      <td>2.0</td>\n",
       "      <td>2.0</td>\n",
       "      <td>1.0</td>\n",
       "      <td>1.0</td>\n",
       "      <td>0.0</td>\n",
       "    </tr>\n",
       "    <tr>\n",
       "      <th>6</th>\n",
       "      <td>8ec6ce2a7e7949b1bf142def7d0e0586</td>\n",
       "      <td>2017-09-25</td>\n",
       "      <td>NaN</td>\n",
       "      <td>NaN</td>\n",
       "      <td>NaN</td>\n",
       "      <td>0.00</td>\n",
       "      <td>0.0</td>\n",
       "      <td>0</td>\n",
       "      <td>5</td>\n",
       "      <td>5</td>\n",
       "      <td>0</td>\n",
       "      <td>1.0</td>\n",
       "      <td>1.0</td>\n",
       "      <td>0.0</td>\n",
       "      <td>3.0</td>\n",
       "      <td>3.0</td>\n",
       "      <td>0.0</td>\n",
       "      <td>1.0</td>\n",
       "      <td>1.0</td>\n",
       "    </tr>\n",
       "    <tr>\n",
       "      <th>7</th>\n",
       "      <td>68617ca6246f4fbc85e91a2a49552598</td>\n",
       "      <td>2017-10-02</td>\n",
       "      <td>NaN</td>\n",
       "      <td>NaN</td>\n",
       "      <td>NaN</td>\n",
       "      <td>0.24</td>\n",
       "      <td>0.0</td>\n",
       "      <td>2</td>\n",
       "      <td>5</td>\n",
       "      <td>4</td>\n",
       "      <td>0</td>\n",
       "      <td>3.0</td>\n",
       "      <td>2.0</td>\n",
       "      <td>0.0</td>\n",
       "      <td>2.0</td>\n",
       "      <td>2.0</td>\n",
       "      <td>0.0</td>\n",
       "      <td>NaN</td>\n",
       "      <td>NaN</td>\n",
       "    </tr>\n",
       "    <tr>\n",
       "      <th>8</th>\n",
       "      <td>389bc3fa690240e798340f5a15918d5c</td>\n",
       "      <td>2018-02-09</td>\n",
       "      <td>M</td>\n",
       "      <td>65.0</td>\n",
       "      <td>53000.0</td>\n",
       "      <td>36.43</td>\n",
       "      <td>19.0</td>\n",
       "      <td>3</td>\n",
       "      <td>6</td>\n",
       "      <td>6</td>\n",
       "      <td>5</td>\n",
       "      <td>4.0</td>\n",
       "      <td>4.0</td>\n",
       "      <td>3.0</td>\n",
       "      <td>2.0</td>\n",
       "      <td>2.0</td>\n",
       "      <td>2.0</td>\n",
       "      <td>NaN</td>\n",
       "      <td>NaN</td>\n",
       "    </tr>\n",
       "    <tr>\n",
       "      <th>9</th>\n",
       "      <td>8974fc5686fe429db53ddde067b88302</td>\n",
       "      <td>2016-11-22</td>\n",
       "      <td>NaN</td>\n",
       "      <td>NaN</td>\n",
       "      <td>NaN</td>\n",
       "      <td>15.62</td>\n",
       "      <td>5.0</td>\n",
       "      <td>6</td>\n",
       "      <td>4</td>\n",
       "      <td>3</td>\n",
       "      <td>1</td>\n",
       "      <td>3.0</td>\n",
       "      <td>2.0</td>\n",
       "      <td>1.0</td>\n",
       "      <td>NaN</td>\n",
       "      <td>NaN</td>\n",
       "      <td>NaN</td>\n",
       "      <td>1.0</td>\n",
       "      <td>1.0</td>\n",
       "    </tr>\n",
       "  </tbody>\n",
       "</table>\n",
       "</div>"
      ],
      "text/plain": [
       "                             person became_member_on gender   age    income  \\\n",
       "0  68be06ca386d4c31939f3a4f0e3dd783       2017-02-12    NaN   NaN       NaN   \n",
       "1  0610b486422d4921ae7d2bf64640c50b       2017-07-15      F  55.0  112000.0   \n",
       "2  38fe809add3b4fcf9315a9694bb96ff5       2018-07-12    NaN   NaN       NaN   \n",
       "3  78afa995795e4d85b5d9ceeca43f5fef       2017-05-09      F  75.0  100000.0   \n",
       "4  a03223e636434f42ac4c3df47e8bac43       2017-08-04    NaN   NaN       NaN   \n",
       "5  e2127556f4f64592b11af22de27a7932       2018-04-26      M  68.0   70000.0   \n",
       "6  8ec6ce2a7e7949b1bf142def7d0e0586       2017-09-25    NaN   NaN       NaN   \n",
       "7  68617ca6246f4fbc85e91a2a49552598       2017-10-02    NaN   NaN       NaN   \n",
       "8  389bc3fa690240e798340f5a15918d5c       2018-02-09      M  65.0   53000.0   \n",
       "9  8974fc5686fe429db53ddde067b88302       2016-11-22    NaN   NaN       NaN   \n",
       "\n",
       "   total_amount  total_rewarded  transactions_num  offers_received  \\\n",
       "0         20.40             5.0                 9                5   \n",
       "1         77.01             5.0                 3                2   \n",
       "2         14.30             0.0                 6                2   \n",
       "3        159.27            20.0                 7                4   \n",
       "4          4.65             0.0                 3                5   \n",
       "5         57.73             7.0                 3                4   \n",
       "6          0.00             0.0                 0                5   \n",
       "7          0.24             0.0                 2                5   \n",
       "8         36.43            19.0                 3                6   \n",
       "9         15.62             5.0                 6                4   \n",
       "\n",
       "   offers_viewed  offers_completed  bogo_received  bogo_viewed  \\\n",
       "0              5                 2            NaN          NaN   \n",
       "1              0                 1            1.0          0.0   \n",
       "2              2                 0            1.0          1.0   \n",
       "3              4                 3            3.0          3.0   \n",
       "4              3                 0            NaN          NaN   \n",
       "5              3                 2            1.0          1.0   \n",
       "6              5                 0            1.0          1.0   \n",
       "7              4                 0            3.0          2.0   \n",
       "8              6                 5            4.0          4.0   \n",
       "9              3                 1            3.0          2.0   \n",
       "\n",
       "   bogo_completed  discount_received  discount_viewed  discount_completed  \\\n",
       "0             NaN                5.0              5.0                 2.0   \n",
       "1             1.0                NaN              NaN                 NaN   \n",
       "2             0.0                NaN              NaN                 NaN   \n",
       "3             3.0                NaN              NaN                 NaN   \n",
       "4             NaN                3.0              2.0                 0.0   \n",
       "5             1.0                2.0              2.0                 1.0   \n",
       "6             0.0                3.0              3.0                 0.0   \n",
       "7             0.0                2.0              2.0                 0.0   \n",
       "8             3.0                2.0              2.0                 2.0   \n",
       "9             1.0                NaN              NaN                 NaN   \n",
       "\n",
       "   informational_received  informational_viewed  \n",
       "0                     NaN                   NaN  \n",
       "1                     1.0                   0.0  \n",
       "2                     1.0                   1.0  \n",
       "3                     1.0                   1.0  \n",
       "4                     2.0                   1.0  \n",
       "5                     1.0                   0.0  \n",
       "6                     1.0                   1.0  \n",
       "7                     NaN                   NaN  \n",
       "8                     NaN                   NaN  \n",
       "9                     1.0                   1.0  "
      ]
     },
     "execution_count": 55,
     "metadata": {},
     "output_type": "execute_result"
    }
   ],
   "source": [
    "starbucks_aggr.head(10)"
   ]
  },
  {
   "cell_type": "markdown",
   "metadata": {},
   "source": [
    "3. at personal level - total_bogo, total_discount in \\\\$"
   ]
  },
  {
   "cell_type": "code",
   "execution_count": 56,
   "metadata": {},
   "outputs": [],
   "source": [
    "aggr2 = aggr_by_person.copy()[['person']]\n",
    "for offer_type in ['bogo', 'discount']:\n",
    "    total = pd.DataFrame(starbucks_fin.groupby(['person', offer_type, 'offer_completed'])['rewarded'].sum()).reset_index()\n",
    "    total = total[(total[offer_type] == 1) & (total['offer_completed'] == 1)]\n",
    "    total = total.drop([offer_type, 'offer_completed'], axis=1)\n",
    "    new_col_title = 'total_'+ offer_type\n",
    "    total.columns = ['person', new_col_title]\n",
    "    aggr2 = aggr2.merge(total, on='person', how='left')"
   ]
  },
  {
   "cell_type": "code",
   "execution_count": 57,
   "metadata": {},
   "outputs": [
    {
     "data": {
      "text/html": [
       "<div>\n",
       "<style scoped>\n",
       "    .dataframe tbody tr th:only-of-type {\n",
       "        vertical-align: middle;\n",
       "    }\n",
       "\n",
       "    .dataframe tbody tr th {\n",
       "        vertical-align: top;\n",
       "    }\n",
       "\n",
       "    .dataframe thead th {\n",
       "        text-align: right;\n",
       "    }\n",
       "</style>\n",
       "<table border=\"1\" class=\"dataframe\">\n",
       "  <thead>\n",
       "    <tr style=\"text-align: right;\">\n",
       "      <th></th>\n",
       "      <th>person</th>\n",
       "      <th>total_bogo</th>\n",
       "      <th>total_discount</th>\n",
       "    </tr>\n",
       "  </thead>\n",
       "  <tbody>\n",
       "    <tr>\n",
       "      <th>0</th>\n",
       "      <td>0009655768c64bdeb2e877511632db8f</td>\n",
       "      <td>5.0</td>\n",
       "      <td>4.0</td>\n",
       "    </tr>\n",
       "    <tr>\n",
       "      <th>1</th>\n",
       "      <td>00116118485d4dfda04fdbaba9a87b5c</td>\n",
       "      <td>NaN</td>\n",
       "      <td>NaN</td>\n",
       "    </tr>\n",
       "    <tr>\n",
       "      <th>2</th>\n",
       "      <td>0011e0d4e6b944f998e987f904e8c1e5</td>\n",
       "      <td>5.0</td>\n",
       "      <td>8.0</td>\n",
       "    </tr>\n",
       "    <tr>\n",
       "      <th>3</th>\n",
       "      <td>0020c2b971eb4e9188eac86d93036a77</td>\n",
       "      <td>10.0</td>\n",
       "      <td>4.0</td>\n",
       "    </tr>\n",
       "    <tr>\n",
       "      <th>4</th>\n",
       "      <td>0020ccbbb6d84e358d3414a3ff76cffd</td>\n",
       "      <td>10.0</td>\n",
       "      <td>3.0</td>\n",
       "    </tr>\n",
       "  </tbody>\n",
       "</table>\n",
       "</div>"
      ],
      "text/plain": [
       "                             person  total_bogo  total_discount\n",
       "0  0009655768c64bdeb2e877511632db8f         5.0             4.0\n",
       "1  00116118485d4dfda04fdbaba9a87b5c         NaN             NaN\n",
       "2  0011e0d4e6b944f998e987f904e8c1e5         5.0             8.0\n",
       "3  0020c2b971eb4e9188eac86d93036a77        10.0             4.0\n",
       "4  0020ccbbb6d84e358d3414a3ff76cffd        10.0             3.0"
      ]
     },
     "execution_count": 57,
     "metadata": {},
     "output_type": "execute_result"
    }
   ],
   "source": [
    "aggr2.head()"
   ]
  },
  {
   "cell_type": "code",
   "execution_count": 58,
   "metadata": {},
   "outputs": [
    {
     "data": {
      "text/plain": [
       "(17000, 3)"
      ]
     },
     "execution_count": 58,
     "metadata": {},
     "output_type": "execute_result"
    }
   ],
   "source": [
    "aggr2.shape"
   ]
  },
  {
   "cell_type": "code",
   "execution_count": 59,
   "metadata": {},
   "outputs": [],
   "source": [
    "#merge with demographic info\n",
    "starbucks_aggr = starbucks_aggr.merge(aggr2, on='person')"
   ]
  },
  {
   "cell_type": "code",
   "execution_count": 60,
   "metadata": {},
   "outputs": [
    {
     "data": {
      "text/html": [
       "<div>\n",
       "<style scoped>\n",
       "    .dataframe tbody tr th:only-of-type {\n",
       "        vertical-align: middle;\n",
       "    }\n",
       "\n",
       "    .dataframe tbody tr th {\n",
       "        vertical-align: top;\n",
       "    }\n",
       "\n",
       "    .dataframe thead th {\n",
       "        text-align: right;\n",
       "    }\n",
       "</style>\n",
       "<table border=\"1\" class=\"dataframe\">\n",
       "  <thead>\n",
       "    <tr style=\"text-align: right;\">\n",
       "      <th></th>\n",
       "      <th>person</th>\n",
       "      <th>became_member_on</th>\n",
       "      <th>gender</th>\n",
       "      <th>age</th>\n",
       "      <th>income</th>\n",
       "      <th>total_amount</th>\n",
       "      <th>total_rewarded</th>\n",
       "      <th>transactions_num</th>\n",
       "      <th>offers_received</th>\n",
       "      <th>offers_viewed</th>\n",
       "      <th>...</th>\n",
       "      <th>bogo_received</th>\n",
       "      <th>bogo_viewed</th>\n",
       "      <th>bogo_completed</th>\n",
       "      <th>discount_received</th>\n",
       "      <th>discount_viewed</th>\n",
       "      <th>discount_completed</th>\n",
       "      <th>informational_received</th>\n",
       "      <th>informational_viewed</th>\n",
       "      <th>total_bogo</th>\n",
       "      <th>total_discount</th>\n",
       "    </tr>\n",
       "  </thead>\n",
       "  <tbody>\n",
       "    <tr>\n",
       "      <th>0</th>\n",
       "      <td>68be06ca386d4c31939f3a4f0e3dd783</td>\n",
       "      <td>2017-02-12</td>\n",
       "      <td>NaN</td>\n",
       "      <td>NaN</td>\n",
       "      <td>NaN</td>\n",
       "      <td>20.40</td>\n",
       "      <td>5.0</td>\n",
       "      <td>9</td>\n",
       "      <td>5</td>\n",
       "      <td>5</td>\n",
       "      <td>...</td>\n",
       "      <td>NaN</td>\n",
       "      <td>NaN</td>\n",
       "      <td>NaN</td>\n",
       "      <td>5.0</td>\n",
       "      <td>5.0</td>\n",
       "      <td>2.0</td>\n",
       "      <td>NaN</td>\n",
       "      <td>NaN</td>\n",
       "      <td>NaN</td>\n",
       "      <td>5.0</td>\n",
       "    </tr>\n",
       "    <tr>\n",
       "      <th>1</th>\n",
       "      <td>0610b486422d4921ae7d2bf64640c50b</td>\n",
       "      <td>2017-07-15</td>\n",
       "      <td>F</td>\n",
       "      <td>55.0</td>\n",
       "      <td>112000.0</td>\n",
       "      <td>77.01</td>\n",
       "      <td>5.0</td>\n",
       "      <td>3</td>\n",
       "      <td>2</td>\n",
       "      <td>0</td>\n",
       "      <td>...</td>\n",
       "      <td>1.0</td>\n",
       "      <td>0.0</td>\n",
       "      <td>1.0</td>\n",
       "      <td>NaN</td>\n",
       "      <td>NaN</td>\n",
       "      <td>NaN</td>\n",
       "      <td>1.0</td>\n",
       "      <td>0.0</td>\n",
       "      <td>5.0</td>\n",
       "      <td>NaN</td>\n",
       "    </tr>\n",
       "    <tr>\n",
       "      <th>2</th>\n",
       "      <td>38fe809add3b4fcf9315a9694bb96ff5</td>\n",
       "      <td>2018-07-12</td>\n",
       "      <td>NaN</td>\n",
       "      <td>NaN</td>\n",
       "      <td>NaN</td>\n",
       "      <td>14.30</td>\n",
       "      <td>0.0</td>\n",
       "      <td>6</td>\n",
       "      <td>2</td>\n",
       "      <td>2</td>\n",
       "      <td>...</td>\n",
       "      <td>1.0</td>\n",
       "      <td>1.0</td>\n",
       "      <td>0.0</td>\n",
       "      <td>NaN</td>\n",
       "      <td>NaN</td>\n",
       "      <td>NaN</td>\n",
       "      <td>1.0</td>\n",
       "      <td>1.0</td>\n",
       "      <td>NaN</td>\n",
       "      <td>NaN</td>\n",
       "    </tr>\n",
       "    <tr>\n",
       "      <th>3</th>\n",
       "      <td>78afa995795e4d85b5d9ceeca43f5fef</td>\n",
       "      <td>2017-05-09</td>\n",
       "      <td>F</td>\n",
       "      <td>75.0</td>\n",
       "      <td>100000.0</td>\n",
       "      <td>159.27</td>\n",
       "      <td>20.0</td>\n",
       "      <td>7</td>\n",
       "      <td>4</td>\n",
       "      <td>4</td>\n",
       "      <td>...</td>\n",
       "      <td>3.0</td>\n",
       "      <td>3.0</td>\n",
       "      <td>3.0</td>\n",
       "      <td>NaN</td>\n",
       "      <td>NaN</td>\n",
       "      <td>NaN</td>\n",
       "      <td>1.0</td>\n",
       "      <td>1.0</td>\n",
       "      <td>20.0</td>\n",
       "      <td>NaN</td>\n",
       "    </tr>\n",
       "    <tr>\n",
       "      <th>4</th>\n",
       "      <td>a03223e636434f42ac4c3df47e8bac43</td>\n",
       "      <td>2017-08-04</td>\n",
       "      <td>NaN</td>\n",
       "      <td>NaN</td>\n",
       "      <td>NaN</td>\n",
       "      <td>4.65</td>\n",
       "      <td>0.0</td>\n",
       "      <td>3</td>\n",
       "      <td>5</td>\n",
       "      <td>3</td>\n",
       "      <td>...</td>\n",
       "      <td>NaN</td>\n",
       "      <td>NaN</td>\n",
       "      <td>NaN</td>\n",
       "      <td>3.0</td>\n",
       "      <td>2.0</td>\n",
       "      <td>0.0</td>\n",
       "      <td>2.0</td>\n",
       "      <td>1.0</td>\n",
       "      <td>NaN</td>\n",
       "      <td>NaN</td>\n",
       "    </tr>\n",
       "  </tbody>\n",
       "</table>\n",
       "<p>5 rows × 21 columns</p>\n",
       "</div>"
      ],
      "text/plain": [
       "                             person became_member_on gender   age    income  \\\n",
       "0  68be06ca386d4c31939f3a4f0e3dd783       2017-02-12    NaN   NaN       NaN   \n",
       "1  0610b486422d4921ae7d2bf64640c50b       2017-07-15      F  55.0  112000.0   \n",
       "2  38fe809add3b4fcf9315a9694bb96ff5       2018-07-12    NaN   NaN       NaN   \n",
       "3  78afa995795e4d85b5d9ceeca43f5fef       2017-05-09      F  75.0  100000.0   \n",
       "4  a03223e636434f42ac4c3df47e8bac43       2017-08-04    NaN   NaN       NaN   \n",
       "\n",
       "   total_amount  total_rewarded  transactions_num  offers_received  \\\n",
       "0         20.40             5.0                 9                5   \n",
       "1         77.01             5.0                 3                2   \n",
       "2         14.30             0.0                 6                2   \n",
       "3        159.27            20.0                 7                4   \n",
       "4          4.65             0.0                 3                5   \n",
       "\n",
       "   offers_viewed  ...  bogo_received  bogo_viewed  bogo_completed  \\\n",
       "0              5  ...            NaN          NaN             NaN   \n",
       "1              0  ...            1.0          0.0             1.0   \n",
       "2              2  ...            1.0          1.0             0.0   \n",
       "3              4  ...            3.0          3.0             3.0   \n",
       "4              3  ...            NaN          NaN             NaN   \n",
       "\n",
       "   discount_received  discount_viewed  discount_completed  \\\n",
       "0                5.0              5.0                 2.0   \n",
       "1                NaN              NaN                 NaN   \n",
       "2                NaN              NaN                 NaN   \n",
       "3                NaN              NaN                 NaN   \n",
       "4                3.0              2.0                 0.0   \n",
       "\n",
       "   informational_received  informational_viewed  total_bogo  total_discount  \n",
       "0                     NaN                   NaN         NaN             5.0  \n",
       "1                     1.0                   0.0         5.0             NaN  \n",
       "2                     1.0                   1.0         NaN             NaN  \n",
       "3                     1.0                   1.0        20.0             NaN  \n",
       "4                     2.0                   1.0         NaN             NaN  \n",
       "\n",
       "[5 rows x 21 columns]"
      ]
     },
     "execution_count": 60,
     "metadata": {},
     "output_type": "execute_result"
    }
   ],
   "source": [
    "starbucks_aggr.head()"
   ]
  },
  {
   "cell_type": "markdown",
   "metadata": {},
   "source": [
    "## Feature Engineering"
   ]
  },
  {
   "cell_type": "code",
   "execution_count": 61,
   "metadata": {},
   "outputs": [],
   "source": [
    "starbucks_aggr['avg_order_size'] = round(starbucks_aggr['total_amount']/starbucks_aggr['transactions_num'], 2)"
   ]
  },
  {
   "cell_type": "code",
   "execution_count": 62,
   "metadata": {},
   "outputs": [],
   "source": [
    "starbucks_aggr['avg_reward_size'] = round(starbucks_aggr['total_rewarded']/starbucks_aggr['offers_completed'], 2)"
   ]
  },
  {
   "cell_type": "code",
   "execution_count": 63,
   "metadata": {},
   "outputs": [],
   "source": [
    "# average bogo size and average discount size\n",
    "for each in ['bogo', 'discount']:\n",
    "    starbucks_aggr['avg_'+each+'_size'] = round(starbucks_aggr['total_'+each]/starbucks_aggr[each+'_completed'], 2)"
   ]
  },
  {
   "cell_type": "code",
   "execution_count": 64,
   "metadata": {},
   "outputs": [],
   "source": [
    "for each in ['offers', 'bogo', 'discount', 'informational']:\n",
    "    # reponse rate, % offers viewed to offers received (note: no div by 0 because NaNs)\n",
    "    starbucks_aggr[each+'_rr'] = round(starbucks_aggr[each+'_viewed']/starbucks_aggr[each+'_received'] * 100, 2)\n",
    "    # conversion rate, % offers completed to offers viewed\n",
    "    if each != 'informational':\n",
    "        starbucks_aggr[each+'_cvr'] = round(starbucks_aggr[each+'_completed']/starbucks_aggr[each+'_viewed'] * 100, 2)\n",
    "        # replace div by 0 - if no offers viewed, than cvr = 0\n",
    "        starbucks_aggr[each+'_cvr'] = starbucks_aggr[each+'_cvr'].replace(np.inf, 0)"
   ]
  },
  {
   "cell_type": "code",
   "execution_count": 65,
   "metadata": {},
   "outputs": [
    {
     "data": {
      "text/html": [
       "<div>\n",
       "<style scoped>\n",
       "    .dataframe tbody tr th:only-of-type {\n",
       "        vertical-align: middle;\n",
       "    }\n",
       "\n",
       "    .dataframe tbody tr th {\n",
       "        vertical-align: top;\n",
       "    }\n",
       "\n",
       "    .dataframe thead th {\n",
       "        text-align: right;\n",
       "    }\n",
       "</style>\n",
       "<table border=\"1\" class=\"dataframe\">\n",
       "  <thead>\n",
       "    <tr style=\"text-align: right;\">\n",
       "      <th></th>\n",
       "      <th>person</th>\n",
       "      <th>became_member_on</th>\n",
       "      <th>gender</th>\n",
       "      <th>age</th>\n",
       "      <th>income</th>\n",
       "      <th>total_amount</th>\n",
       "      <th>total_rewarded</th>\n",
       "      <th>transactions_num</th>\n",
       "      <th>offers_received</th>\n",
       "      <th>offers_viewed</th>\n",
       "      <th>...</th>\n",
       "      <th>avg_reward_size</th>\n",
       "      <th>avg_bogo_size</th>\n",
       "      <th>avg_discount_size</th>\n",
       "      <th>offers_rr</th>\n",
       "      <th>offers_cvr</th>\n",
       "      <th>bogo_rr</th>\n",
       "      <th>bogo_cvr</th>\n",
       "      <th>discount_rr</th>\n",
       "      <th>discount_cvr</th>\n",
       "      <th>informational_rr</th>\n",
       "    </tr>\n",
       "  </thead>\n",
       "  <tbody>\n",
       "    <tr>\n",
       "      <th>0</th>\n",
       "      <td>68be06ca386d4c31939f3a4f0e3dd783</td>\n",
       "      <td>2017-02-12</td>\n",
       "      <td>NaN</td>\n",
       "      <td>NaN</td>\n",
       "      <td>NaN</td>\n",
       "      <td>20.40</td>\n",
       "      <td>5.0</td>\n",
       "      <td>9</td>\n",
       "      <td>5</td>\n",
       "      <td>5</td>\n",
       "      <td>...</td>\n",
       "      <td>2.50</td>\n",
       "      <td>NaN</td>\n",
       "      <td>2.5</td>\n",
       "      <td>100.0</td>\n",
       "      <td>40.0</td>\n",
       "      <td>NaN</td>\n",
       "      <td>NaN</td>\n",
       "      <td>100.00</td>\n",
       "      <td>40.0</td>\n",
       "      <td>NaN</td>\n",
       "    </tr>\n",
       "    <tr>\n",
       "      <th>1</th>\n",
       "      <td>0610b486422d4921ae7d2bf64640c50b</td>\n",
       "      <td>2017-07-15</td>\n",
       "      <td>F</td>\n",
       "      <td>55.0</td>\n",
       "      <td>112000.0</td>\n",
       "      <td>77.01</td>\n",
       "      <td>5.0</td>\n",
       "      <td>3</td>\n",
       "      <td>2</td>\n",
       "      <td>0</td>\n",
       "      <td>...</td>\n",
       "      <td>5.00</td>\n",
       "      <td>5.00</td>\n",
       "      <td>NaN</td>\n",
       "      <td>0.0</td>\n",
       "      <td>0.0</td>\n",
       "      <td>0.0</td>\n",
       "      <td>0.0</td>\n",
       "      <td>NaN</td>\n",
       "      <td>NaN</td>\n",
       "      <td>0.0</td>\n",
       "    </tr>\n",
       "    <tr>\n",
       "      <th>2</th>\n",
       "      <td>38fe809add3b4fcf9315a9694bb96ff5</td>\n",
       "      <td>2018-07-12</td>\n",
       "      <td>NaN</td>\n",
       "      <td>NaN</td>\n",
       "      <td>NaN</td>\n",
       "      <td>14.30</td>\n",
       "      <td>0.0</td>\n",
       "      <td>6</td>\n",
       "      <td>2</td>\n",
       "      <td>2</td>\n",
       "      <td>...</td>\n",
       "      <td>NaN</td>\n",
       "      <td>NaN</td>\n",
       "      <td>NaN</td>\n",
       "      <td>100.0</td>\n",
       "      <td>0.0</td>\n",
       "      <td>100.0</td>\n",
       "      <td>0.0</td>\n",
       "      <td>NaN</td>\n",
       "      <td>NaN</td>\n",
       "      <td>100.0</td>\n",
       "    </tr>\n",
       "    <tr>\n",
       "      <th>3</th>\n",
       "      <td>78afa995795e4d85b5d9ceeca43f5fef</td>\n",
       "      <td>2017-05-09</td>\n",
       "      <td>F</td>\n",
       "      <td>75.0</td>\n",
       "      <td>100000.0</td>\n",
       "      <td>159.27</td>\n",
       "      <td>20.0</td>\n",
       "      <td>7</td>\n",
       "      <td>4</td>\n",
       "      <td>4</td>\n",
       "      <td>...</td>\n",
       "      <td>6.67</td>\n",
       "      <td>6.67</td>\n",
       "      <td>NaN</td>\n",
       "      <td>100.0</td>\n",
       "      <td>75.0</td>\n",
       "      <td>100.0</td>\n",
       "      <td>100.0</td>\n",
       "      <td>NaN</td>\n",
       "      <td>NaN</td>\n",
       "      <td>100.0</td>\n",
       "    </tr>\n",
       "    <tr>\n",
       "      <th>4</th>\n",
       "      <td>a03223e636434f42ac4c3df47e8bac43</td>\n",
       "      <td>2017-08-04</td>\n",
       "      <td>NaN</td>\n",
       "      <td>NaN</td>\n",
       "      <td>NaN</td>\n",
       "      <td>4.65</td>\n",
       "      <td>0.0</td>\n",
       "      <td>3</td>\n",
       "      <td>5</td>\n",
       "      <td>3</td>\n",
       "      <td>...</td>\n",
       "      <td>NaN</td>\n",
       "      <td>NaN</td>\n",
       "      <td>NaN</td>\n",
       "      <td>60.0</td>\n",
       "      <td>0.0</td>\n",
       "      <td>NaN</td>\n",
       "      <td>NaN</td>\n",
       "      <td>66.67</td>\n",
       "      <td>0.0</td>\n",
       "      <td>50.0</td>\n",
       "    </tr>\n",
       "  </tbody>\n",
       "</table>\n",
       "<p>5 rows × 32 columns</p>\n",
       "</div>"
      ],
      "text/plain": [
       "                             person became_member_on gender   age    income  \\\n",
       "0  68be06ca386d4c31939f3a4f0e3dd783       2017-02-12    NaN   NaN       NaN   \n",
       "1  0610b486422d4921ae7d2bf64640c50b       2017-07-15      F  55.0  112000.0   \n",
       "2  38fe809add3b4fcf9315a9694bb96ff5       2018-07-12    NaN   NaN       NaN   \n",
       "3  78afa995795e4d85b5d9ceeca43f5fef       2017-05-09      F  75.0  100000.0   \n",
       "4  a03223e636434f42ac4c3df47e8bac43       2017-08-04    NaN   NaN       NaN   \n",
       "\n",
       "   total_amount  total_rewarded  transactions_num  offers_received  \\\n",
       "0         20.40             5.0                 9                5   \n",
       "1         77.01             5.0                 3                2   \n",
       "2         14.30             0.0                 6                2   \n",
       "3        159.27            20.0                 7                4   \n",
       "4          4.65             0.0                 3                5   \n",
       "\n",
       "   offers_viewed  ...  avg_reward_size  avg_bogo_size  avg_discount_size  \\\n",
       "0              5  ...             2.50            NaN                2.5   \n",
       "1              0  ...             5.00           5.00                NaN   \n",
       "2              2  ...              NaN            NaN                NaN   \n",
       "3              4  ...             6.67           6.67                NaN   \n",
       "4              3  ...              NaN            NaN                NaN   \n",
       "\n",
       "   offers_rr  offers_cvr  bogo_rr  bogo_cvr  discount_rr  discount_cvr  \\\n",
       "0      100.0        40.0      NaN       NaN       100.00          40.0   \n",
       "1        0.0         0.0      0.0       0.0          NaN           NaN   \n",
       "2      100.0         0.0    100.0       0.0          NaN           NaN   \n",
       "3      100.0        75.0    100.0     100.0          NaN           NaN   \n",
       "4       60.0         0.0      NaN       NaN        66.67           0.0   \n",
       "\n",
       "   informational_rr  \n",
       "0               NaN  \n",
       "1               0.0  \n",
       "2             100.0  \n",
       "3             100.0  \n",
       "4              50.0  \n",
       "\n",
       "[5 rows x 32 columns]"
      ]
     },
     "execution_count": 65,
     "metadata": {},
     "output_type": "execute_result"
    }
   ],
   "source": [
    "starbucks_aggr.head()"
   ]
  },
  {
   "cell_type": "code",
   "execution_count": 66,
   "metadata": {},
   "outputs": [],
   "source": [
    "#calculate membership days relative to the most recent member in the dataset\n",
    "starbucks_aggr['membership_days'] = starbucks_aggr.became_member_on.max()-starbucks_aggr.became_member_on\n",
    "starbucks_aggr['membership_days'] = starbucks_aggr['membership_days'].apply(lambda x: x.days)"
   ]
  },
  {
   "cell_type": "code",
   "execution_count": 67,
   "metadata": {},
   "outputs": [],
   "source": [
    "#drop original membership column\n",
    "starbucks_aggr.drop('became_member_on', axis=1, inplace=True)"
   ]
  },
  {
   "cell_type": "code",
   "execution_count": 68,
   "metadata": {},
   "outputs": [
    {
     "data": {
      "text/html": [
       "<div>\n",
       "<style scoped>\n",
       "    .dataframe tbody tr th:only-of-type {\n",
       "        vertical-align: middle;\n",
       "    }\n",
       "\n",
       "    .dataframe tbody tr th {\n",
       "        vertical-align: top;\n",
       "    }\n",
       "\n",
       "    .dataframe thead th {\n",
       "        text-align: right;\n",
       "    }\n",
       "</style>\n",
       "<table border=\"1\" class=\"dataframe\">\n",
       "  <thead>\n",
       "    <tr style=\"text-align: right;\">\n",
       "      <th></th>\n",
       "      <th>count</th>\n",
       "      <th>min</th>\n",
       "      <th>max</th>\n",
       "    </tr>\n",
       "    <tr>\n",
       "      <th>income</th>\n",
       "      <th></th>\n",
       "      <th></th>\n",
       "      <th></th>\n",
       "    </tr>\n",
       "  </thead>\n",
       "  <tbody>\n",
       "    <tr>\n",
       "      <th>Q1</th>\n",
       "      <td>3781</td>\n",
       "      <td>30000.0</td>\n",
       "      <td>49000.0</td>\n",
       "    </tr>\n",
       "    <tr>\n",
       "      <th>Q2</th>\n",
       "      <td>3863</td>\n",
       "      <td>50000.0</td>\n",
       "      <td>64000.0</td>\n",
       "    </tr>\n",
       "    <tr>\n",
       "      <th>Q3</th>\n",
       "      <td>3616</td>\n",
       "      <td>65000.0</td>\n",
       "      <td>80000.0</td>\n",
       "    </tr>\n",
       "    <tr>\n",
       "      <th>Q4</th>\n",
       "      <td>3565</td>\n",
       "      <td>81000.0</td>\n",
       "      <td>120000.0</td>\n",
       "    </tr>\n",
       "  </tbody>\n",
       "</table>\n",
       "</div>"
      ],
      "text/plain": [
       "        count      min       max\n",
       "income                          \n",
       "Q1       3781  30000.0   49000.0\n",
       "Q2       3863  50000.0   64000.0\n",
       "Q3       3616  65000.0   80000.0\n",
       "Q4       3565  81000.0  120000.0"
      ]
     },
     "execution_count": 68,
     "metadata": {},
     "output_type": "execute_result"
    }
   ],
   "source": [
    "# create new column with income binned into quartiles\n",
    "bins = pd.qcut(starbucks_aggr.income, 4, labels=['Q1', 'Q2', 'Q3', 'Q4'])  #qcut -> bins into quartiles if 4 or quantiles if 10\n",
    "starbucks_aggr.income.groupby(bins).agg(['count', 'min', 'max'])"
   ]
  },
  {
   "cell_type": "code",
   "execution_count": 69,
   "metadata": {},
   "outputs": [
    {
     "data": {
      "text/html": [
       "<div>\n",
       "<style scoped>\n",
       "    .dataframe tbody tr th:only-of-type {\n",
       "        vertical-align: middle;\n",
       "    }\n",
       "\n",
       "    .dataframe tbody tr th {\n",
       "        vertical-align: top;\n",
       "    }\n",
       "\n",
       "    .dataframe thead th {\n",
       "        text-align: right;\n",
       "    }\n",
       "</style>\n",
       "<table border=\"1\" class=\"dataframe\">\n",
       "  <thead>\n",
       "    <tr style=\"text-align: right;\">\n",
       "      <th></th>\n",
       "      <th>income</th>\n",
       "      <th>income_binned</th>\n",
       "    </tr>\n",
       "  </thead>\n",
       "  <tbody>\n",
       "    <tr>\n",
       "      <th>0</th>\n",
       "      <td>NaN</td>\n",
       "      <td>NaN</td>\n",
       "    </tr>\n",
       "    <tr>\n",
       "      <th>1</th>\n",
       "      <td>112000.0</td>\n",
       "      <td>high_income</td>\n",
       "    </tr>\n",
       "    <tr>\n",
       "      <th>2</th>\n",
       "      <td>NaN</td>\n",
       "      <td>NaN</td>\n",
       "    </tr>\n",
       "    <tr>\n",
       "      <th>3</th>\n",
       "      <td>100000.0</td>\n",
       "      <td>high_income</td>\n",
       "    </tr>\n",
       "    <tr>\n",
       "      <th>4</th>\n",
       "      <td>NaN</td>\n",
       "      <td>NaN</td>\n",
       "    </tr>\n",
       "    <tr>\n",
       "      <th>5</th>\n",
       "      <td>70000.0</td>\n",
       "      <td>middle_high_income</td>\n",
       "    </tr>\n",
       "    <tr>\n",
       "      <th>6</th>\n",
       "      <td>NaN</td>\n",
       "      <td>NaN</td>\n",
       "    </tr>\n",
       "    <tr>\n",
       "      <th>7</th>\n",
       "      <td>NaN</td>\n",
       "      <td>NaN</td>\n",
       "    </tr>\n",
       "    <tr>\n",
       "      <th>8</th>\n",
       "      <td>53000.0</td>\n",
       "      <td>middle_low_income</td>\n",
       "    </tr>\n",
       "    <tr>\n",
       "      <th>9</th>\n",
       "      <td>NaN</td>\n",
       "      <td>NaN</td>\n",
       "    </tr>\n",
       "  </tbody>\n",
       "</table>\n",
       "</div>"
      ],
      "text/plain": [
       "     income       income_binned\n",
       "0       NaN                 NaN\n",
       "1  112000.0         high_income\n",
       "2       NaN                 NaN\n",
       "3  100000.0         high_income\n",
       "4       NaN                 NaN\n",
       "5   70000.0  middle_high_income\n",
       "6       NaN                 NaN\n",
       "7       NaN                 NaN\n",
       "8   53000.0   middle_low_income\n",
       "9       NaN                 NaN"
      ]
     },
     "execution_count": 69,
     "metadata": {},
     "output_type": "execute_result"
    }
   ],
   "source": [
    "bins2 = [30000, 50000, 65000, 81000, 120000]\n",
    "labels = ['low_income','middle_low_income', 'middle_high_income', 'high_income']\n",
    "starbucks_aggr['income_binned'] = pd.cut(starbucks_aggr['income'], bins2, labels=labels)\n",
    "starbucks_aggr[['income','income_binned']].head(10)"
   ]
  },
  {
   "cell_type": "code",
   "execution_count": 70,
   "metadata": {},
   "outputs": [
    {
     "data": {
      "text/html": [
       "<div>\n",
       "<style scoped>\n",
       "    .dataframe tbody tr th:only-of-type {\n",
       "        vertical-align: middle;\n",
       "    }\n",
       "\n",
       "    .dataframe tbody tr th {\n",
       "        vertical-align: top;\n",
       "    }\n",
       "\n",
       "    .dataframe thead th {\n",
       "        text-align: right;\n",
       "    }\n",
       "</style>\n",
       "<table border=\"1\" class=\"dataframe\">\n",
       "  <thead>\n",
       "    <tr style=\"text-align: right;\">\n",
       "      <th></th>\n",
       "      <th>count</th>\n",
       "      <th>min</th>\n",
       "      <th>max</th>\n",
       "    </tr>\n",
       "    <tr>\n",
       "      <th>age</th>\n",
       "      <th></th>\n",
       "      <th></th>\n",
       "      <th></th>\n",
       "    </tr>\n",
       "  </thead>\n",
       "  <tbody>\n",
       "    <tr>\n",
       "      <th>Q1</th>\n",
       "      <td>3718</td>\n",
       "      <td>18.0</td>\n",
       "      <td>42.0</td>\n",
       "    </tr>\n",
       "    <tr>\n",
       "      <th>Q2</th>\n",
       "      <td>3770</td>\n",
       "      <td>43.0</td>\n",
       "      <td>55.0</td>\n",
       "    </tr>\n",
       "    <tr>\n",
       "      <th>Q3</th>\n",
       "      <td>3635</td>\n",
       "      <td>56.0</td>\n",
       "      <td>66.0</td>\n",
       "    </tr>\n",
       "    <tr>\n",
       "      <th>Q4</th>\n",
       "      <td>3702</td>\n",
       "      <td>67.0</td>\n",
       "      <td>101.0</td>\n",
       "    </tr>\n",
       "  </tbody>\n",
       "</table>\n",
       "</div>"
      ],
      "text/plain": [
       "     count   min    max\n",
       "age                    \n",
       "Q1    3718  18.0   42.0\n",
       "Q2    3770  43.0   55.0\n",
       "Q3    3635  56.0   66.0\n",
       "Q4    3702  67.0  101.0"
      ]
     },
     "execution_count": 70,
     "metadata": {},
     "output_type": "execute_result"
    }
   ],
   "source": [
    "bins = pd.qcut(starbucks_aggr.age, 4, labels=['Q1', 'Q2', 'Q3', 'Q4'])  #qcut -> bins into quartiles\n",
    "starbucks_aggr.age.groupby(bins).agg(['count', 'min', 'max'])"
   ]
  },
  {
   "cell_type": "code",
   "execution_count": 71,
   "metadata": {},
   "outputs": [
    {
     "data": {
      "text/html": [
       "<div>\n",
       "<style scoped>\n",
       "    .dataframe tbody tr th:only-of-type {\n",
       "        vertical-align: middle;\n",
       "    }\n",
       "\n",
       "    .dataframe tbody tr th {\n",
       "        vertical-align: top;\n",
       "    }\n",
       "\n",
       "    .dataframe thead th {\n",
       "        text-align: right;\n",
       "    }\n",
       "</style>\n",
       "<table border=\"1\" class=\"dataframe\">\n",
       "  <thead>\n",
       "    <tr style=\"text-align: right;\">\n",
       "      <th></th>\n",
       "      <th>age</th>\n",
       "      <th>age_binned</th>\n",
       "    </tr>\n",
       "  </thead>\n",
       "  <tbody>\n",
       "    <tr>\n",
       "      <th>0</th>\n",
       "      <td>NaN</td>\n",
       "      <td>NaN</td>\n",
       "    </tr>\n",
       "    <tr>\n",
       "      <th>1</th>\n",
       "      <td>55.0</td>\n",
       "      <td>middle-aged</td>\n",
       "    </tr>\n",
       "    <tr>\n",
       "      <th>2</th>\n",
       "      <td>NaN</td>\n",
       "      <td>NaN</td>\n",
       "    </tr>\n",
       "    <tr>\n",
       "      <th>3</th>\n",
       "      <td>75.0</td>\n",
       "      <td>old</td>\n",
       "    </tr>\n",
       "    <tr>\n",
       "      <th>4</th>\n",
       "      <td>NaN</td>\n",
       "      <td>NaN</td>\n",
       "    </tr>\n",
       "    <tr>\n",
       "      <th>5</th>\n",
       "      <td>68.0</td>\n",
       "      <td>old</td>\n",
       "    </tr>\n",
       "    <tr>\n",
       "      <th>6</th>\n",
       "      <td>NaN</td>\n",
       "      <td>NaN</td>\n",
       "    </tr>\n",
       "    <tr>\n",
       "      <th>7</th>\n",
       "      <td>NaN</td>\n",
       "      <td>NaN</td>\n",
       "    </tr>\n",
       "    <tr>\n",
       "      <th>8</th>\n",
       "      <td>65.0</td>\n",
       "      <td>senior</td>\n",
       "    </tr>\n",
       "    <tr>\n",
       "      <th>9</th>\n",
       "      <td>NaN</td>\n",
       "      <td>NaN</td>\n",
       "    </tr>\n",
       "  </tbody>\n",
       "</table>\n",
       "</div>"
      ],
      "text/plain": [
       "    age   age_binned\n",
       "0   NaN          NaN\n",
       "1  55.0  middle-aged\n",
       "2   NaN          NaN\n",
       "3  75.0          old\n",
       "4   NaN          NaN\n",
       "5  68.0          old\n",
       "6   NaN          NaN\n",
       "7   NaN          NaN\n",
       "8  65.0       senior\n",
       "9   NaN          NaN"
      ]
     },
     "execution_count": 71,
     "metadata": {},
     "output_type": "execute_result"
    }
   ],
   "source": [
    "# create new column with age binned\n",
    "bins_age = [18, 43, 56, 67, 110]\n",
    "labels = ['young', 'middle-aged', 'senior', 'old']\n",
    "starbucks_aggr['age_binned'] = pd.cut(starbucks_aggr.age, bins_age, labels=labels)\n",
    "starbucks_aggr[['age','age_binned']].head(10)"
   ]
  },
  {
   "cell_type": "code",
   "execution_count": 72,
   "metadata": {},
   "outputs": [],
   "source": [
    "#reorder columns\n",
    "starbucks_aggr = starbucks_aggr[['person', 'membership_days', 'gender', 'age', 'age_binned', 'income', 'income_binned', 'total_amount', 'total_rewarded',\n",
    "       'transactions_num', 'offers_received', 'offers_viewed',\n",
    "       'offers_completed', 'bogo_received', 'bogo_viewed', 'bogo_completed',\n",
    "       'discount_received', 'discount_viewed', 'discount_completed',\n",
    "       'informational_received', 'informational_viewed', 'total_bogo',\n",
    "       'total_discount', 'avg_order_size', 'avg_reward_size', 'avg_bogo_size',\n",
    "       'avg_discount_size', 'offers_rr', 'offers_cvr', 'bogo_rr', 'bogo_cvr',\n",
    "       'discount_rr', 'discount_cvr', 'informational_rr']]"
   ]
  },
  {
   "cell_type": "code",
   "execution_count": 73,
   "metadata": {},
   "outputs": [
    {
     "data": {
      "text/html": [
       "<div>\n",
       "<style scoped>\n",
       "    .dataframe tbody tr th:only-of-type {\n",
       "        vertical-align: middle;\n",
       "    }\n",
       "\n",
       "    .dataframe tbody tr th {\n",
       "        vertical-align: top;\n",
       "    }\n",
       "\n",
       "    .dataframe thead th {\n",
       "        text-align: right;\n",
       "    }\n",
       "</style>\n",
       "<table border=\"1\" class=\"dataframe\">\n",
       "  <thead>\n",
       "    <tr style=\"text-align: right;\">\n",
       "      <th></th>\n",
       "      <th>person</th>\n",
       "      <th>membership_days</th>\n",
       "      <th>gender</th>\n",
       "      <th>age</th>\n",
       "      <th>age_binned</th>\n",
       "      <th>income</th>\n",
       "      <th>income_binned</th>\n",
       "      <th>total_amount</th>\n",
       "      <th>total_rewarded</th>\n",
       "      <th>transactions_num</th>\n",
       "      <th>...</th>\n",
       "      <th>avg_reward_size</th>\n",
       "      <th>avg_bogo_size</th>\n",
       "      <th>avg_discount_size</th>\n",
       "      <th>offers_rr</th>\n",
       "      <th>offers_cvr</th>\n",
       "      <th>bogo_rr</th>\n",
       "      <th>bogo_cvr</th>\n",
       "      <th>discount_rr</th>\n",
       "      <th>discount_cvr</th>\n",
       "      <th>informational_rr</th>\n",
       "    </tr>\n",
       "  </thead>\n",
       "  <tbody>\n",
       "    <tr>\n",
       "      <th>0</th>\n",
       "      <td>68be06ca386d4c31939f3a4f0e3dd783</td>\n",
       "      <td>529</td>\n",
       "      <td>NaN</td>\n",
       "      <td>NaN</td>\n",
       "      <td>NaN</td>\n",
       "      <td>NaN</td>\n",
       "      <td>NaN</td>\n",
       "      <td>20.40</td>\n",
       "      <td>5.0</td>\n",
       "      <td>9</td>\n",
       "      <td>...</td>\n",
       "      <td>2.50</td>\n",
       "      <td>NaN</td>\n",
       "      <td>2.5</td>\n",
       "      <td>100.0</td>\n",
       "      <td>40.0</td>\n",
       "      <td>NaN</td>\n",
       "      <td>NaN</td>\n",
       "      <td>100.00</td>\n",
       "      <td>40.0</td>\n",
       "      <td>NaN</td>\n",
       "    </tr>\n",
       "    <tr>\n",
       "      <th>1</th>\n",
       "      <td>0610b486422d4921ae7d2bf64640c50b</td>\n",
       "      <td>376</td>\n",
       "      <td>F</td>\n",
       "      <td>55.0</td>\n",
       "      <td>middle-aged</td>\n",
       "      <td>112000.0</td>\n",
       "      <td>high_income</td>\n",
       "      <td>77.01</td>\n",
       "      <td>5.0</td>\n",
       "      <td>3</td>\n",
       "      <td>...</td>\n",
       "      <td>5.00</td>\n",
       "      <td>5.00</td>\n",
       "      <td>NaN</td>\n",
       "      <td>0.0</td>\n",
       "      <td>0.0</td>\n",
       "      <td>0.0</td>\n",
       "      <td>0.0</td>\n",
       "      <td>NaN</td>\n",
       "      <td>NaN</td>\n",
       "      <td>0.0</td>\n",
       "    </tr>\n",
       "    <tr>\n",
       "      <th>2</th>\n",
       "      <td>38fe809add3b4fcf9315a9694bb96ff5</td>\n",
       "      <td>14</td>\n",
       "      <td>NaN</td>\n",
       "      <td>NaN</td>\n",
       "      <td>NaN</td>\n",
       "      <td>NaN</td>\n",
       "      <td>NaN</td>\n",
       "      <td>14.30</td>\n",
       "      <td>0.0</td>\n",
       "      <td>6</td>\n",
       "      <td>...</td>\n",
       "      <td>NaN</td>\n",
       "      <td>NaN</td>\n",
       "      <td>NaN</td>\n",
       "      <td>100.0</td>\n",
       "      <td>0.0</td>\n",
       "      <td>100.0</td>\n",
       "      <td>0.0</td>\n",
       "      <td>NaN</td>\n",
       "      <td>NaN</td>\n",
       "      <td>100.0</td>\n",
       "    </tr>\n",
       "    <tr>\n",
       "      <th>3</th>\n",
       "      <td>78afa995795e4d85b5d9ceeca43f5fef</td>\n",
       "      <td>443</td>\n",
       "      <td>F</td>\n",
       "      <td>75.0</td>\n",
       "      <td>old</td>\n",
       "      <td>100000.0</td>\n",
       "      <td>high_income</td>\n",
       "      <td>159.27</td>\n",
       "      <td>20.0</td>\n",
       "      <td>7</td>\n",
       "      <td>...</td>\n",
       "      <td>6.67</td>\n",
       "      <td>6.67</td>\n",
       "      <td>NaN</td>\n",
       "      <td>100.0</td>\n",
       "      <td>75.0</td>\n",
       "      <td>100.0</td>\n",
       "      <td>100.0</td>\n",
       "      <td>NaN</td>\n",
       "      <td>NaN</td>\n",
       "      <td>100.0</td>\n",
       "    </tr>\n",
       "    <tr>\n",
       "      <th>4</th>\n",
       "      <td>a03223e636434f42ac4c3df47e8bac43</td>\n",
       "      <td>356</td>\n",
       "      <td>NaN</td>\n",
       "      <td>NaN</td>\n",
       "      <td>NaN</td>\n",
       "      <td>NaN</td>\n",
       "      <td>NaN</td>\n",
       "      <td>4.65</td>\n",
       "      <td>0.0</td>\n",
       "      <td>3</td>\n",
       "      <td>...</td>\n",
       "      <td>NaN</td>\n",
       "      <td>NaN</td>\n",
       "      <td>NaN</td>\n",
       "      <td>60.0</td>\n",
       "      <td>0.0</td>\n",
       "      <td>NaN</td>\n",
       "      <td>NaN</td>\n",
       "      <td>66.67</td>\n",
       "      <td>0.0</td>\n",
       "      <td>50.0</td>\n",
       "    </tr>\n",
       "  </tbody>\n",
       "</table>\n",
       "<p>5 rows × 34 columns</p>\n",
       "</div>"
      ],
      "text/plain": [
       "                             person  membership_days gender   age  \\\n",
       "0  68be06ca386d4c31939f3a4f0e3dd783              529    NaN   NaN   \n",
       "1  0610b486422d4921ae7d2bf64640c50b              376      F  55.0   \n",
       "2  38fe809add3b4fcf9315a9694bb96ff5               14    NaN   NaN   \n",
       "3  78afa995795e4d85b5d9ceeca43f5fef              443      F  75.0   \n",
       "4  a03223e636434f42ac4c3df47e8bac43              356    NaN   NaN   \n",
       "\n",
       "    age_binned    income income_binned  total_amount  total_rewarded  \\\n",
       "0          NaN       NaN           NaN         20.40             5.0   \n",
       "1  middle-aged  112000.0   high_income         77.01             5.0   \n",
       "2          NaN       NaN           NaN         14.30             0.0   \n",
       "3          old  100000.0   high_income        159.27            20.0   \n",
       "4          NaN       NaN           NaN          4.65             0.0   \n",
       "\n",
       "   transactions_num  ...  avg_reward_size  avg_bogo_size  avg_discount_size  \\\n",
       "0                 9  ...             2.50            NaN                2.5   \n",
       "1                 3  ...             5.00           5.00                NaN   \n",
       "2                 6  ...              NaN            NaN                NaN   \n",
       "3                 7  ...             6.67           6.67                NaN   \n",
       "4                 3  ...              NaN            NaN                NaN   \n",
       "\n",
       "   offers_rr  offers_cvr  bogo_rr  bogo_cvr  discount_rr  discount_cvr  \\\n",
       "0      100.0        40.0      NaN       NaN       100.00          40.0   \n",
       "1        0.0         0.0      0.0       0.0          NaN           NaN   \n",
       "2      100.0         0.0    100.0       0.0          NaN           NaN   \n",
       "3      100.0        75.0    100.0     100.0          NaN           NaN   \n",
       "4       60.0         0.0      NaN       NaN        66.67           0.0   \n",
       "\n",
       "   informational_rr  \n",
       "0               NaN  \n",
       "1               0.0  \n",
       "2             100.0  \n",
       "3             100.0  \n",
       "4              50.0  \n",
       "\n",
       "[5 rows x 34 columns]"
      ]
     },
     "execution_count": 73,
     "metadata": {},
     "output_type": "execute_result"
    }
   ],
   "source": [
    "starbucks_aggr.head()"
   ]
  },
  {
   "cell_type": "code",
   "execution_count": 74,
   "metadata": {},
   "outputs": [
    {
     "data": {
      "text/plain": [
       "(17000, 34)"
      ]
     },
     "execution_count": 74,
     "metadata": {},
     "output_type": "execute_result"
    }
   ],
   "source": [
    "starbucks_aggr.shape"
   ]
  },
  {
   "cell_type": "markdown",
   "metadata": {},
   "source": [
    "## EDA"
   ]
  },
  {
   "cell_type": "code",
   "execution_count": 75,
   "metadata": {},
   "outputs": [
    {
     "data": {
      "text/html": [
       "<div>\n",
       "<style scoped>\n",
       "    .dataframe tbody tr th:only-of-type {\n",
       "        vertical-align: middle;\n",
       "    }\n",
       "\n",
       "    .dataframe tbody tr th {\n",
       "        vertical-align: top;\n",
       "    }\n",
       "\n",
       "    .dataframe thead th {\n",
       "        text-align: right;\n",
       "    }\n",
       "</style>\n",
       "<table border=\"1\" class=\"dataframe\">\n",
       "  <thead>\n",
       "    <tr style=\"text-align: right;\">\n",
       "      <th></th>\n",
       "      <th>count</th>\n",
       "      <th>mean</th>\n",
       "      <th>std</th>\n",
       "      <th>min</th>\n",
       "      <th>25%</th>\n",
       "      <th>50%</th>\n",
       "      <th>75%</th>\n",
       "      <th>max</th>\n",
       "    </tr>\n",
       "  </thead>\n",
       "  <tbody>\n",
       "    <tr>\n",
       "      <th>membership_days</th>\n",
       "      <td>17000.0</td>\n",
       "      <td>517.449882</td>\n",
       "      <td>411.223904</td>\n",
       "      <td>0.00</td>\n",
       "      <td>208.00</td>\n",
       "      <td>358.000</td>\n",
       "      <td>791.0000</td>\n",
       "      <td>1823.00</td>\n",
       "    </tr>\n",
       "    <tr>\n",
       "      <th>age</th>\n",
       "      <td>14825.0</td>\n",
       "      <td>54.393524</td>\n",
       "      <td>17.383705</td>\n",
       "      <td>18.00</td>\n",
       "      <td>42.00</td>\n",
       "      <td>55.000</td>\n",
       "      <td>66.0000</td>\n",
       "      <td>101.00</td>\n",
       "    </tr>\n",
       "    <tr>\n",
       "      <th>income</th>\n",
       "      <td>14825.0</td>\n",
       "      <td>65404.991568</td>\n",
       "      <td>21598.299410</td>\n",
       "      <td>30000.00</td>\n",
       "      <td>49000.00</td>\n",
       "      <td>64000.000</td>\n",
       "      <td>80000.0000</td>\n",
       "      <td>120000.00</td>\n",
       "    </tr>\n",
       "    <tr>\n",
       "      <th>total_amount</th>\n",
       "      <td>17000.0</td>\n",
       "      <td>104.438351</td>\n",
       "      <td>125.922619</td>\n",
       "      <td>0.00</td>\n",
       "      <td>21.82</td>\n",
       "      <td>69.405</td>\n",
       "      <td>148.7825</td>\n",
       "      <td>1608.69</td>\n",
       "    </tr>\n",
       "    <tr>\n",
       "      <th>total_rewarded</th>\n",
       "      <td>17000.0</td>\n",
       "      <td>9.686824</td>\n",
       "      <td>9.243217</td>\n",
       "      <td>0.00</td>\n",
       "      <td>2.00</td>\n",
       "      <td>7.000</td>\n",
       "      <td>15.0000</td>\n",
       "      <td>55.00</td>\n",
       "    </tr>\n",
       "    <tr>\n",
       "      <th>transactions_num</th>\n",
       "      <td>17000.0</td>\n",
       "      <td>8.173706</td>\n",
       "      <td>5.116250</td>\n",
       "      <td>0.00</td>\n",
       "      <td>4.00</td>\n",
       "      <td>7.000</td>\n",
       "      <td>11.0000</td>\n",
       "      <td>36.00</td>\n",
       "    </tr>\n",
       "    <tr>\n",
       "      <th>offers_received</th>\n",
       "      <td>17000.0</td>\n",
       "      <td>4.486882</td>\n",
       "      <td>1.076165</td>\n",
       "      <td>0.00</td>\n",
       "      <td>4.00</td>\n",
       "      <td>5.000</td>\n",
       "      <td>5.0000</td>\n",
       "      <td>6.00</td>\n",
       "    </tr>\n",
       "    <tr>\n",
       "      <th>offers_viewed</th>\n",
       "      <td>17000.0</td>\n",
       "      <td>3.395588</td>\n",
       "      <td>1.297653</td>\n",
       "      <td>0.00</td>\n",
       "      <td>2.75</td>\n",
       "      <td>3.000</td>\n",
       "      <td>4.0000</td>\n",
       "      <td>6.00</td>\n",
       "    </tr>\n",
       "    <tr>\n",
       "      <th>offers_completed</th>\n",
       "      <td>17000.0</td>\n",
       "      <td>1.975235</td>\n",
       "      <td>1.605563</td>\n",
       "      <td>0.00</td>\n",
       "      <td>1.00</td>\n",
       "      <td>2.000</td>\n",
       "      <td>3.0000</td>\n",
       "      <td>6.00</td>\n",
       "    </tr>\n",
       "    <tr>\n",
       "      <th>bogo_received</th>\n",
       "      <td>14992.0</td>\n",
       "      <td>2.034352</td>\n",
       "      <td>0.966841</td>\n",
       "      <td>1.00</td>\n",
       "      <td>1.00</td>\n",
       "      <td>2.000</td>\n",
       "      <td>3.0000</td>\n",
       "      <td>6.00</td>\n",
       "    </tr>\n",
       "    <tr>\n",
       "      <th>bogo_viewed</th>\n",
       "      <td>14992.0</td>\n",
       "      <td>1.697505</td>\n",
       "      <td>0.962965</td>\n",
       "      <td>0.00</td>\n",
       "      <td>1.00</td>\n",
       "      <td>2.000</td>\n",
       "      <td>2.0000</td>\n",
       "      <td>6.00</td>\n",
       "    </tr>\n",
       "    <tr>\n",
       "      <th>bogo_completed</th>\n",
       "      <td>14992.0</td>\n",
       "      <td>1.045157</td>\n",
       "      <td>1.063096</td>\n",
       "      <td>0.00</td>\n",
       "      <td>0.00</td>\n",
       "      <td>1.000</td>\n",
       "      <td>2.0000</td>\n",
       "      <td>6.00</td>\n",
       "    </tr>\n",
       "    <tr>\n",
       "      <th>discount_received</th>\n",
       "      <td>14945.0</td>\n",
       "      <td>2.043694</td>\n",
       "      <td>0.975080</td>\n",
       "      <td>1.00</td>\n",
       "      <td>1.00</td>\n",
       "      <td>2.000</td>\n",
       "      <td>3.0000</td>\n",
       "      <td>6.00</td>\n",
       "    </tr>\n",
       "    <tr>\n",
       "      <th>discount_viewed</th>\n",
       "      <td>14945.0</td>\n",
       "      <td>1.434928</td>\n",
       "      <td>0.976537</td>\n",
       "      <td>0.00</td>\n",
       "      <td>1.00</td>\n",
       "      <td>1.000</td>\n",
       "      <td>2.0000</td>\n",
       "      <td>6.00</td>\n",
       "    </tr>\n",
       "    <tr>\n",
       "      <th>discount_completed</th>\n",
       "      <td>14945.0</td>\n",
       "      <td>1.198394</td>\n",
       "      <td>1.085873</td>\n",
       "      <td>0.00</td>\n",
       "      <td>0.00</td>\n",
       "      <td>1.000</td>\n",
       "      <td>2.0000</td>\n",
       "      <td>6.00</td>\n",
       "    </tr>\n",
       "    <tr>\n",
       "      <th>informational_received</th>\n",
       "      <td>10547.0</td>\n",
       "      <td>1.444487</td>\n",
       "      <td>0.664753</td>\n",
       "      <td>1.00</td>\n",
       "      <td>1.00</td>\n",
       "      <td>1.000</td>\n",
       "      <td>2.0000</td>\n",
       "      <td>5.00</td>\n",
       "    </tr>\n",
       "    <tr>\n",
       "      <th>informational_viewed</th>\n",
       "      <td>10547.0</td>\n",
       "      <td>1.026927</td>\n",
       "      <td>0.737906</td>\n",
       "      <td>0.00</td>\n",
       "      <td>1.00</td>\n",
       "      <td>1.000</td>\n",
       "      <td>1.0000</td>\n",
       "      <td>5.00</td>\n",
       "    </tr>\n",
       "    <tr>\n",
       "      <th>total_bogo</th>\n",
       "      <td>9263.0</td>\n",
       "      <td>12.246572</td>\n",
       "      <td>7.353983</td>\n",
       "      <td>5.00</td>\n",
       "      <td>5.00</td>\n",
       "      <td>10.000</td>\n",
       "      <td>15.0000</td>\n",
       "      <td>50.00</td>\n",
       "    </tr>\n",
       "    <tr>\n",
       "      <th>total_discount</th>\n",
       "      <td>10289.0</td>\n",
       "      <td>4.979687</td>\n",
       "      <td>2.994012</td>\n",
       "      <td>2.00</td>\n",
       "      <td>2.00</td>\n",
       "      <td>4.000</td>\n",
       "      <td>7.0000</td>\n",
       "      <td>20.00</td>\n",
       "    </tr>\n",
       "    <tr>\n",
       "      <th>avg_order_size</th>\n",
       "      <td>16578.0</td>\n",
       "      <td>13.680241</td>\n",
       "      <td>16.056782</td>\n",
       "      <td>0.05</td>\n",
       "      <td>3.18</td>\n",
       "      <td>12.000</td>\n",
       "      <td>20.4700</td>\n",
       "      <td>451.47</td>\n",
       "    </tr>\n",
       "    <tr>\n",
       "      <th>avg_reward_size</th>\n",
       "      <td>12774.0</td>\n",
       "      <td>4.753853</td>\n",
       "      <td>1.995303</td>\n",
       "      <td>2.00</td>\n",
       "      <td>3.20</td>\n",
       "      <td>4.750</td>\n",
       "      <td>6.0000</td>\n",
       "      <td>10.00</td>\n",
       "    </tr>\n",
       "    <tr>\n",
       "      <th>avg_bogo_size</th>\n",
       "      <td>9263.0</td>\n",
       "      <td>7.140634</td>\n",
       "      <td>2.120732</td>\n",
       "      <td>5.00</td>\n",
       "      <td>5.00</td>\n",
       "      <td>7.500</td>\n",
       "      <td>10.0000</td>\n",
       "      <td>10.00</td>\n",
       "    </tr>\n",
       "    <tr>\n",
       "      <th>avg_discount_size</th>\n",
       "      <td>10289.0</td>\n",
       "      <td>2.833777</td>\n",
       "      <td>0.910944</td>\n",
       "      <td>2.00</td>\n",
       "      <td>2.00</td>\n",
       "      <td>2.500</td>\n",
       "      <td>3.2500</td>\n",
       "      <td>5.00</td>\n",
       "    </tr>\n",
       "    <tr>\n",
       "      <th>offers_rr</th>\n",
       "      <td>16994.0</td>\n",
       "      <td>76.038366</td>\n",
       "      <td>23.578437</td>\n",
       "      <td>0.00</td>\n",
       "      <td>60.00</td>\n",
       "      <td>80.000</td>\n",
       "      <td>100.0000</td>\n",
       "      <td>100.00</td>\n",
       "    </tr>\n",
       "    <tr>\n",
       "      <th>offers_cvr</th>\n",
       "      <td>16907.0</td>\n",
       "      <td>61.341327</td>\n",
       "      <td>54.608928</td>\n",
       "      <td>0.00</td>\n",
       "      <td>16.67</td>\n",
       "      <td>60.000</td>\n",
       "      <td>100.0000</td>\n",
       "      <td>500.00</td>\n",
       "    </tr>\n",
       "    <tr>\n",
       "      <th>bogo_rr</th>\n",
       "      <td>14992.0</td>\n",
       "      <td>83.766953</td>\n",
       "      <td>29.060164</td>\n",
       "      <td>0.00</td>\n",
       "      <td>66.67</td>\n",
       "      <td>100.000</td>\n",
       "      <td>100.0000</td>\n",
       "      <td>100.00</td>\n",
       "    </tr>\n",
       "    <tr>\n",
       "      <th>bogo_cvr</th>\n",
       "      <td>14467.0</td>\n",
       "      <td>59.288713</td>\n",
       "      <td>57.360431</td>\n",
       "      <td>0.00</td>\n",
       "      <td>0.00</td>\n",
       "      <td>50.000</td>\n",
       "      <td>100.0000</td>\n",
       "      <td>400.00</td>\n",
       "    </tr>\n",
       "    <tr>\n",
       "      <th>discount_rr</th>\n",
       "      <td>14945.0</td>\n",
       "      <td>70.496128</td>\n",
       "      <td>37.064170</td>\n",
       "      <td>0.00</td>\n",
       "      <td>50.00</td>\n",
       "      <td>100.000</td>\n",
       "      <td>100.0000</td>\n",
       "      <td>100.00</td>\n",
       "    </tr>\n",
       "    <tr>\n",
       "      <th>discount_cvr</th>\n",
       "      <td>13561.0</td>\n",
       "      <td>76.504056</td>\n",
       "      <td>64.950770</td>\n",
       "      <td>0.00</td>\n",
       "      <td>0.00</td>\n",
       "      <td>100.000</td>\n",
       "      <td>100.0000</td>\n",
       "      <td>500.00</td>\n",
       "    </tr>\n",
       "    <tr>\n",
       "      <th>informational_rr</th>\n",
       "      <td>10547.0</td>\n",
       "      <td>71.143645</td>\n",
       "      <td>41.245619</td>\n",
       "      <td>0.00</td>\n",
       "      <td>50.00</td>\n",
       "      <td>100.000</td>\n",
       "      <td>100.0000</td>\n",
       "      <td>100.00</td>\n",
       "    </tr>\n",
       "  </tbody>\n",
       "</table>\n",
       "</div>"
      ],
      "text/plain": [
       "                          count          mean           std       min  \\\n",
       "membership_days         17000.0    517.449882    411.223904      0.00   \n",
       "age                     14825.0     54.393524     17.383705     18.00   \n",
       "income                  14825.0  65404.991568  21598.299410  30000.00   \n",
       "total_amount            17000.0    104.438351    125.922619      0.00   \n",
       "total_rewarded          17000.0      9.686824      9.243217      0.00   \n",
       "transactions_num        17000.0      8.173706      5.116250      0.00   \n",
       "offers_received         17000.0      4.486882      1.076165      0.00   \n",
       "offers_viewed           17000.0      3.395588      1.297653      0.00   \n",
       "offers_completed        17000.0      1.975235      1.605563      0.00   \n",
       "bogo_received           14992.0      2.034352      0.966841      1.00   \n",
       "bogo_viewed             14992.0      1.697505      0.962965      0.00   \n",
       "bogo_completed          14992.0      1.045157      1.063096      0.00   \n",
       "discount_received       14945.0      2.043694      0.975080      1.00   \n",
       "discount_viewed         14945.0      1.434928      0.976537      0.00   \n",
       "discount_completed      14945.0      1.198394      1.085873      0.00   \n",
       "informational_received  10547.0      1.444487      0.664753      1.00   \n",
       "informational_viewed    10547.0      1.026927      0.737906      0.00   \n",
       "total_bogo               9263.0     12.246572      7.353983      5.00   \n",
       "total_discount          10289.0      4.979687      2.994012      2.00   \n",
       "avg_order_size          16578.0     13.680241     16.056782      0.05   \n",
       "avg_reward_size         12774.0      4.753853      1.995303      2.00   \n",
       "avg_bogo_size            9263.0      7.140634      2.120732      5.00   \n",
       "avg_discount_size       10289.0      2.833777      0.910944      2.00   \n",
       "offers_rr               16994.0     76.038366     23.578437      0.00   \n",
       "offers_cvr              16907.0     61.341327     54.608928      0.00   \n",
       "bogo_rr                 14992.0     83.766953     29.060164      0.00   \n",
       "bogo_cvr                14467.0     59.288713     57.360431      0.00   \n",
       "discount_rr             14945.0     70.496128     37.064170      0.00   \n",
       "discount_cvr            13561.0     76.504056     64.950770      0.00   \n",
       "informational_rr        10547.0     71.143645     41.245619      0.00   \n",
       "\n",
       "                             25%        50%         75%        max  \n",
       "membership_days           208.00    358.000    791.0000    1823.00  \n",
       "age                        42.00     55.000     66.0000     101.00  \n",
       "income                  49000.00  64000.000  80000.0000  120000.00  \n",
       "total_amount               21.82     69.405    148.7825    1608.69  \n",
       "total_rewarded              2.00      7.000     15.0000      55.00  \n",
       "transactions_num            4.00      7.000     11.0000      36.00  \n",
       "offers_received             4.00      5.000      5.0000       6.00  \n",
       "offers_viewed               2.75      3.000      4.0000       6.00  \n",
       "offers_completed            1.00      2.000      3.0000       6.00  \n",
       "bogo_received               1.00      2.000      3.0000       6.00  \n",
       "bogo_viewed                 1.00      2.000      2.0000       6.00  \n",
       "bogo_completed              0.00      1.000      2.0000       6.00  \n",
       "discount_received           1.00      2.000      3.0000       6.00  \n",
       "discount_viewed             1.00      1.000      2.0000       6.00  \n",
       "discount_completed          0.00      1.000      2.0000       6.00  \n",
       "informational_received      1.00      1.000      2.0000       5.00  \n",
       "informational_viewed        1.00      1.000      1.0000       5.00  \n",
       "total_bogo                  5.00     10.000     15.0000      50.00  \n",
       "total_discount              2.00      4.000      7.0000      20.00  \n",
       "avg_order_size              3.18     12.000     20.4700     451.47  \n",
       "avg_reward_size             3.20      4.750      6.0000      10.00  \n",
       "avg_bogo_size               5.00      7.500     10.0000      10.00  \n",
       "avg_discount_size           2.00      2.500      3.2500       5.00  \n",
       "offers_rr                  60.00     80.000    100.0000     100.00  \n",
       "offers_cvr                 16.67     60.000    100.0000     500.00  \n",
       "bogo_rr                    66.67    100.000    100.0000     100.00  \n",
       "bogo_cvr                    0.00     50.000    100.0000     400.00  \n",
       "discount_rr                50.00    100.000    100.0000     100.00  \n",
       "discount_cvr                0.00    100.000    100.0000     500.00  \n",
       "informational_rr           50.00    100.000    100.0000     100.00  "
      ]
     },
     "execution_count": 75,
     "metadata": {},
     "output_type": "execute_result"
    }
   ],
   "source": [
    "starbucks_aggr.describe().T"
   ]
  },
  {
   "cell_type": "markdown",
   "metadata": {},
   "source": [
    "**Note:** \n",
    " - **Customers**: the typical Stabucks mobile app customer is middle-aged (median - 55 years), has middle-high income (median - \\\\$64000) and has been a member for about a year (median - 358 days). During the experiment, the customers spent on average \\\\$104.44 (min - \\\\$0, max - \\\\$1608.7) and got \\\\$9.68 (min - \\\\$0, max - \\\\$55) rewarded. Furthermore, customers would make on average 8 transactions with the average order size being \\\\$13.65.\n",
    " \n",
    " \n",
    " - **Offers**: Customers would receive on average 4-5 offers, would view about 3 offers and would complete about 2 offers. The average return on bogo offers is higher than on discount offers - \\\\$12 vs $5. Each customer viewed on average 76% of offers he/she received (Response Rate), with bogo offers being viewed more often (83%) than discounts (70%) or informational offers (71%). Each customer reacted upon (CVR) about 61% of offers he/she viewed, with CVR for discounts being higher (76.5%) than for bogo (60%). It should be noted, however, that the actual CVR per customer should be lower because as it is now it also includes customers that didn't interact with the offer, but got rewarded.\n"
   ]
  },
  {
   "cell_type": "code",
   "execution_count": 76,
   "metadata": {},
   "outputs": [
    {
     "data": {
      "image/png": "[encoded data removed]",
      "text/plain": [
       "<Figure size 720x720 with 7 Axes>"
      ]
     },
     "metadata": {
      "needs_background": "light"
     },
     "output_type": "display_data"
    }
   ],
   "source": [
    "# if cvr > 100, it means more offers completed than offers viewed - waste of money\n",
    "cols = ['offers_rr', 'offers_cvr','bogo_rr', 'bogo_cvr', 'discount_rr', 'discount_cvr','informational_rr']\n",
    "plt.figure(figsize=(10, 10));\n",
    "\n",
    "for i, each in enumerate(starbucks_aggr[cols]):\n",
    "    plt.subplot(4,2,i+1)\n",
    "    starbucks_aggr[each].hist();\n",
    "    plt.title(f\"{each}, %\");\n",
    "    plt.tight_layout();"
   ]
  },
  {
   "cell_type": "code",
   "execution_count": 77,
   "metadata": {},
   "outputs": [
    {
     "data": {
      "image/png": "[encoded data removed]",
      "text/plain": [
       "<Figure size 720x504 with 7 Axes>"
      ]
     },
     "metadata": {
      "needs_background": "light"
     },
     "output_type": "display_data"
    }
   ],
   "source": [
    "# if cvr > 100, it means more offers completed than offers viewed - waste of money\n",
    "cols = ['offers_rr', 'offers_cvr','bogo_rr', 'bogo_cvr', 'discount_rr', 'discount_cvr','informational_rr']\n",
    "plt.figure(figsize=(10, 7));\n",
    "\n",
    "for i, each in enumerate(starbucks_aggr[cols]):\n",
    "    plt.subplot(4,2,i+1)\n",
    "    sns.boxplot(starbucks_aggr[each]);\n",
    "    plt.title(f\"{each}, %\");\n",
    "    plt.tight_layout();"
   ]
  },
  {
   "cell_type": "code",
   "execution_count": 78,
   "metadata": {},
   "outputs": [
    {
     "data": {
      "image/png": "[encoded data removed]",
      "text/plain": [
       "<Figure size 720x360 with 4 Axes>"
      ]
     },
     "metadata": {
      "needs_background": "light"
     },
     "output_type": "display_data"
    }
   ],
   "source": [
    "plt.figure(figsize=(10, 5));\n",
    "\n",
    "for i, each in enumerate(starbucks_aggr[['total_bogo', 'total_amount', 'total_amount', 'total_rewarded']]):\n",
    "    plt.subplot(2,2,i+1)\n",
    "    sns.boxplot(starbucks_aggr[each]);\n",
    "    plt.title(f\"{each}, $\");\n",
    "    plt.tight_layout();"
   ]
  },
  {
   "cell_type": "code",
   "execution_count": 79,
   "metadata": {},
   "outputs": [
    {
     "data": {
      "image/png": "[encoded data removed]",
      "text/plain": [
       "<Figure size 720x360 with 4 Axes>"
      ]
     },
     "metadata": {
      "needs_background": "light"
     },
     "output_type": "display_data"
    }
   ],
   "source": [
    "plt.figure(figsize=(10, 5));\n",
    "\n",
    "for i, each in enumerate(starbucks_aggr[['avg_order_size', 'avg_reward_size','avg_bogo_size', 'avg_discount_size']]):\n",
    "    plt.subplot(2,2,i+1)\n",
    "    sns.boxplot(starbucks_aggr[each]);\n",
    "    plt.title(f\"{each}, $\");\n",
    "    plt.tight_layout();"
   ]
  },
  {
   "cell_type": "code",
   "execution_count": 80,
   "metadata": {},
   "outputs": [
    {
     "data": {
      "image/png": "[encoded data removed]",
      "text/plain": [
       "<Figure size 720x720 with 12 Axes>"
      ]
     },
     "metadata": {
      "needs_background": "light"
     },
     "output_type": "display_data"
    }
   ],
   "source": [
    "cols = ['offers_received','offers_viewed', 'offers_completed', \n",
    "        'bogo_received', 'bogo_viewed','bogo_completed', \n",
    "        'discount_received', 'discount_viewed','discount_completed', \n",
    "        'informational_received', 'informational_viewed', 'transactions_num']\n",
    "    \n",
    "plt.figure(figsize=(10, 10));\n",
    "\n",
    "for i, each in enumerate(starbucks_aggr[cols]):\n",
    "    plt.subplot(4,3,i+1)\n",
    "    sns.boxplot(y=starbucks_aggr[each]);\n",
    "    plt.title(f\"{each}\");\n",
    "    plt.tight_layout();"
   ]
  },
  {
   "cell_type": "code",
   "execution_count": 81,
   "metadata": {},
   "outputs": [
    {
     "data": {
      "image/png": "[encoded data removed]",
      "text/plain": [
       "<Figure size 720x720 with 7 Axes>"
      ]
     },
     "metadata": {
      "needs_background": "light"
     },
     "output_type": "display_data"
    }
   ],
   "source": [
    "cols = ['offers_rr', 'offers_cvr','bogo_rr', 'bogo_cvr','discount_rr', 'discount_cvr','informational_rr']\n",
    "\n",
    "\n",
    "plt.figure(figsize=(10, 10));\n",
    "\n",
    "for i, each in enumerate(starbucks_aggr[cols]):\n",
    "    plt.subplot(4,3,i+1)\n",
    "    sns.boxplot(y=each, x='gender', data=starbucks_aggr);\n",
    "    plt.title(f\"{each}\");\n",
    "    plt.tight_layout();"
   ]
  },
  {
   "cell_type": "code",
   "execution_count": 82,
   "metadata": {},
   "outputs": [
    {
     "data": {
      "image/png": "[encoded data removed]",
      "text/plain": [
       "<Figure size 720x720 with 7 Axes>"
      ]
     },
     "metadata": {
      "needs_background": "light"
     },
     "output_type": "display_data"
    }
   ],
   "source": [
    "cols = ['offers_rr', 'offers_cvr','bogo_rr', 'bogo_cvr','discount_rr', 'discount_cvr','informational_rr']\n",
    "\n",
    "\n",
    "plt.figure(figsize=(10, 10));\n",
    "\n",
    "for i, each in enumerate(starbucks_aggr[cols]):\n",
    "    plt.subplot(4,3,i+1)\n",
    "    sns.boxplot(y=each, x='age_binned', data=starbucks_aggr);\n",
    "    plt.title(f\"{each}\");\n",
    "    plt.tight_layout();"
   ]
  },
  {
   "cell_type": "code",
   "execution_count": 83,
   "metadata": {},
   "outputs": [
    {
     "data": {
      "image/png": "[encoded data removed]",
      "text/plain": [
       "<Figure size 432x288 with 2 Axes>"
      ]
     },
     "metadata": {
      "needs_background": "light"
     },
     "output_type": "display_data"
    }
   ],
   "source": [
    "cols = ['membership_days', 'age', 'income', 'total_amount', 'avg_order_size', 'offers_cvr']\n",
    "sns.heatmap(starbucks_aggr[cols].corr(), cmap = 'rocket_r', annot = True, fmt = '.2f');"
   ]
  },
  {
   "cell_type": "markdown",
   "metadata": {},
   "source": [
    "## Metrics"
   ]
  },
  {
   "cell_type": "markdown",
   "metadata": {},
   "source": [
    "Promotional Effectiveness Metrics & Email Capture Benchmarks Across 10 Ecommerce Industries [2019 Report], https://www.bigcommerce.com/blog/promotional-marketing/#what-is-promotional-marketing"
   ]
  },
  {
   "cell_type": "code",
   "execution_count": 84,
   "metadata": {},
   "outputs": [
    {
     "name": "stdout",
     "output_type": "stream",
     "text": [
      "16994 customers received offers, while 6 did not\n"
     ]
    }
   ],
   "source": [
    "print(f\"{(starbucks_aggr.offers_received != 0).sum()} customers received offers, while {(starbucks_aggr.offers_received == 0).sum()} did not\")"
   ]
  },
  {
   "cell_type": "code",
   "execution_count": 85,
   "metadata": {},
   "outputs": [
    {
     "name": "stdout",
     "output_type": "stream",
     "text": [
      "Out of those who received, 16834 customers viewed offers, while 160 did not\n"
     ]
    }
   ],
   "source": [
    "print(f\"Out of those who received, {((starbucks_aggr.offers_received != 0) & (starbucks_aggr.offers_viewed != 0)).sum()} customers viewed offers, while {((starbucks_aggr.offers_received != 0) & (starbucks_aggr.offers_viewed == 0)).sum()} did not\")"
   ]
  },
  {
   "cell_type": "code",
   "execution_count": 86,
   "metadata": {},
   "outputs": [
    {
     "name": "stdout",
     "output_type": "stream",
     "text": [
      "Out of those who received & viewed, 12701 customers completed the offers, while 4133 did not\n"
     ]
    }
   ],
   "source": [
    "print(f\"Out of those who received & viewed, {((starbucks_aggr.offers_received != 0) & (starbucks_aggr.offers_viewed != 0) & (starbucks_aggr.offers_completed != 0)).sum()} customers completed the offers, while {((starbucks_aggr.offers_received != 0) & (starbucks_aggr.offers_viewed != 0) & (starbucks_aggr.offers_completed == 0)).sum()} did not\")"
   ]
  },
  {
   "cell_type": "markdown",
   "metadata": {},
   "source": [
    " ### Viewing Rate"
   ]
  },
  {
   "cell_type": "code",
   "execution_count": 87,
   "metadata": {},
   "outputs": [
    {
     "data": {
      "text/plain": [
       "99.02"
      ]
     },
     "execution_count": 87,
     "metadata": {},
     "output_type": "execute_result"
    }
   ],
   "source": [
    "# total viewing rate - % customers who viewed the offers\n",
    "viewing_rate = (starbucks_aggr.offers_viewed > 0).sum()\n",
    "round(viewing_rate/starbucks_aggr.shape[0]*100, 2)"
   ]
  },
  {
   "cell_type": "markdown",
   "metadata": {},
   "source": [
    "### Rewarded Rate"
   ]
  },
  {
   "cell_type": "code",
   "execution_count": 88,
   "metadata": {},
   "outputs": [
    {
     "name": "stdout",
     "output_type": "stream",
     "text": [
      "rewarded rate is 75.14%. Right now this number also includes customers that did not interact with the offers but got rewarded.\n"
     ]
    }
   ],
   "source": [
    "# total rewarded rate - % customers who completed the offers \n",
    "rewarded_rate = (starbucks_aggr.offers_completed > 0).sum()\n",
    "print(f\"rewarded rate is {rewarded_rate/starbucks_aggr.shape[0]*100:.2f}%. Right now this number also includes customers that did not interact with the offers but got rewarded.\")"
   ]
  },
  {
   "cell_type": "markdown",
   "metadata": {},
   "source": [
    "Let's find misattributed customers who should not have been rewarded (those that did not interact with offers but completed offers) and calculate the waisted sum. I do it in two steps:\n",
    "- first, I find those that did not interact with any of the offers and still got rewarded; \n",
    "- second, I find those that got more offers completed than they actually viewed."
   ]
  },
  {
   "cell_type": "markdown",
   "metadata": {},
   "source": [
    "**not engaged Conversion rate (CVR)** - % who DID NOT interact with the offers and still got rewarded."
   ]
  },
  {
   "cell_type": "code",
   "execution_count": 89,
   "metadata": {},
   "outputs": [
    {
     "name": "stdout",
     "output_type": "stream",
     "text": [
      "there are 0.43% of customers who did not interact with the offers, but still got rewarded in total of $718.0\n",
      "Starbucks could have saved $362.5 on bogos and $355.5 on discounts\n"
     ]
    }
   ],
   "source": [
    "no_views_cvr = starbucks_aggr[(starbucks_aggr.offers_viewed == 0) & (starbucks_aggr.offers_completed > 0)]\n",
    "cvr_noviews_num = no_views_cvr.shape[0]\n",
    "cvr_noviews_bogo_total = (no_views_cvr.bogo_received * no_views_cvr.avg_bogo_size).sum()\n",
    "cvg_noviews_discount_total = (no_views_cvr.discount_received * no_views_cvr.avg_discount_size).sum()\n",
    "cvr_noviews_total = cvr_noviews_bogo_total + cvg_noviews_discount_total\n",
    "\n",
    "print(f\"there are {round(cvr_noviews_num/starbucks_aggr.shape[0]*100, 2)}% of customers who did not interact with the offers, but still got rewarded in total of ${cvr_noviews_total}\")\n",
    "print(f\"Starbucks could have saved ${cvr_noviews_bogo_total} on bogos and ${cvg_noviews_discount_total} on discounts\")"
   ]
  },
  {
   "cell_type": "markdown",
   "metadata": {},
   "source": [
    "**bad CVR** - more offers completed than viewed"
   ]
  },
  {
   "cell_type": "code",
   "execution_count": 90,
   "metadata": {},
   "outputs": [
    {
     "name": "stdout",
     "output_type": "stream",
     "text": [
      "there are 11.44% who got more offers completed than actually viewed\n",
      "This means that these customers made transactions regardless of offers they received and thus Starbucks overpaid about $15515.01 or 9.42% of its total marketing cost\n",
      "More specifically, Starbucks could have saved on bogos: $8444.45 and on discounts: $ 7070.56\n"
     ]
    }
   ],
   "source": [
    "morethanviewed_cvr = starbucks_aggr[starbucks_aggr.offers_cvr > 100]\n",
    "cvr_morethanviewed_num = morethanviewed_cvr.shape[0]\n",
    "\n",
    "#calculating the overpaid amount - num incorrectly attributed offers (bogo or discount) * average offer size\n",
    "bogo_overpaid = (morethanviewed_cvr.bogo_received - morethanviewed_cvr.bogo_viewed)*morethanviewed_cvr.avg_bogo_size\n",
    "bogo_overpaid_total = bogo_overpaid.sum()\n",
    "discount_overpaid = (morethanviewed_cvr.discount_received - morethanviewed_cvr.discount_viewed)*morethanviewed_cvr.avg_discount_size\n",
    "discount_overpaid_total = discount_overpaid.sum()\n",
    "morethanviewed_cvr_amount = bogo_overpaid_total + discount_overpaid_total\n",
    "\n",
    "print(f\"there are {round(cvr_morethanviewed_num/starbucks_aggr.shape[0]*100, 2)}% who got more offers completed than actually viewed\")\n",
    "print(f\"This means that these customers made transactions regardless of offers they received and thus Starbucks overpaid about ${morethanviewed_cvr_amount} or {morethanviewed_cvr_amount/starbucks_aggr.total_rewarded.sum()*100:.2f}% of its total marketing cost\")\n",
    "print(f\"More specifically, Starbucks could have saved on bogos: ${bogo_overpaid_total} and on discounts: ${discount_overpaid_total: .2f}\")"
   ]
  },
  {
   "cell_type": "markdown",
   "metadata": {},
   "source": [
    "**Note:** About 12% of all customers completed offers even though they did not interact with them. As a result, about \\\\$16233 or almost 10% of the marketing cost got waisted.\n",
    "\n",
    "Only correctly secured campaigns should be a source of relevant data. "
   ]
  },
  {
   "cell_type": "code",
   "execution_count": 91,
   "metadata": {},
   "outputs": [],
   "source": [
    "# TODO: maybe replace those with cvr>100 with cvr=100 \n",
    "# --> replace bogo_completed with bogo_viewed + discount_completed with discount_viewed"
   ]
  },
  {
   "cell_type": "markdown",
   "metadata": {},
   "source": [
    "**Engaged conversion rate (CVR)** - number of those who interacted with the offers and got rewarded."
   ]
  },
  {
   "cell_type": "code",
   "execution_count": 92,
   "metadata": {},
   "outputs": [
    {
     "name": "stdout",
     "output_type": "stream",
     "text": [
      "there are 74.71% of customers received and viewed the offers and got rewarded in total of $164137.0\n"
     ]
    }
   ],
   "source": [
    "engaged_cvr = ((starbucks_aggr.offers_received != 0) & (starbucks_aggr.offers_viewed > 0) & (starbucks_aggr.offers_completed > 0)).sum()\n",
    "print(f\"there are {round(engaged_cvr/starbucks_aggr.shape[0]*100, 2)}% of customers received and viewed the offers and got rewarded in total of ${starbucks_aggr[((starbucks_aggr.offers_received != 0) & (starbucks_aggr.offers_viewed > 0) & (starbucks_aggr.offers_completed > 0))].total_rewarded.sum()}\")"
   ]
  },
  {
   "cell_type": "markdown",
   "metadata": {},
   "source": [
    "## Predict engaged CVR"
   ]
  },
  {
   "cell_type": "code",
   "execution_count": 93,
   "metadata": {},
   "outputs": [],
   "source": [
    "starbucks_engaged = starbucks_aggr.copy().iloc[:, 1:11]"
   ]
  },
  {
   "cell_type": "code",
   "execution_count": 94,
   "metadata": {},
   "outputs": [
    {
     "data": {
      "text/html": [
       "<div>\n",
       "<style scoped>\n",
       "    .dataframe tbody tr th:only-of-type {\n",
       "        vertical-align: middle;\n",
       "    }\n",
       "\n",
       "    .dataframe tbody tr th {\n",
       "        vertical-align: top;\n",
       "    }\n",
       "\n",
       "    .dataframe thead th {\n",
       "        text-align: right;\n",
       "    }\n",
       "</style>\n",
       "<table border=\"1\" class=\"dataframe\">\n",
       "  <thead>\n",
       "    <tr style=\"text-align: right;\">\n",
       "      <th></th>\n",
       "      <th>membership_days</th>\n",
       "      <th>gender</th>\n",
       "      <th>age</th>\n",
       "      <th>age_binned</th>\n",
       "      <th>income</th>\n",
       "      <th>income_binned</th>\n",
       "      <th>total_amount</th>\n",
       "      <th>total_rewarded</th>\n",
       "      <th>transactions_num</th>\n",
       "      <th>offers_received</th>\n",
       "    </tr>\n",
       "  </thead>\n",
       "  <tbody>\n",
       "    <tr>\n",
       "      <th>0</th>\n",
       "      <td>529</td>\n",
       "      <td>NaN</td>\n",
       "      <td>NaN</td>\n",
       "      <td>NaN</td>\n",
       "      <td>NaN</td>\n",
       "      <td>NaN</td>\n",
       "      <td>20.40</td>\n",
       "      <td>5.0</td>\n",
       "      <td>9</td>\n",
       "      <td>5</td>\n",
       "    </tr>\n",
       "    <tr>\n",
       "      <th>1</th>\n",
       "      <td>376</td>\n",
       "      <td>F</td>\n",
       "      <td>55.0</td>\n",
       "      <td>middle-aged</td>\n",
       "      <td>112000.0</td>\n",
       "      <td>high_income</td>\n",
       "      <td>77.01</td>\n",
       "      <td>5.0</td>\n",
       "      <td>3</td>\n",
       "      <td>2</td>\n",
       "    </tr>\n",
       "    <tr>\n",
       "      <th>2</th>\n",
       "      <td>14</td>\n",
       "      <td>NaN</td>\n",
       "      <td>NaN</td>\n",
       "      <td>NaN</td>\n",
       "      <td>NaN</td>\n",
       "      <td>NaN</td>\n",
       "      <td>14.30</td>\n",
       "      <td>0.0</td>\n",
       "      <td>6</td>\n",
       "      <td>2</td>\n",
       "    </tr>\n",
       "    <tr>\n",
       "      <th>3</th>\n",
       "      <td>443</td>\n",
       "      <td>F</td>\n",
       "      <td>75.0</td>\n",
       "      <td>old</td>\n",
       "      <td>100000.0</td>\n",
       "      <td>high_income</td>\n",
       "      <td>159.27</td>\n",
       "      <td>20.0</td>\n",
       "      <td>7</td>\n",
       "      <td>4</td>\n",
       "    </tr>\n",
       "    <tr>\n",
       "      <th>4</th>\n",
       "      <td>356</td>\n",
       "      <td>NaN</td>\n",
       "      <td>NaN</td>\n",
       "      <td>NaN</td>\n",
       "      <td>NaN</td>\n",
       "      <td>NaN</td>\n",
       "      <td>4.65</td>\n",
       "      <td>0.0</td>\n",
       "      <td>3</td>\n",
       "      <td>5</td>\n",
       "    </tr>\n",
       "  </tbody>\n",
       "</table>\n",
       "</div>"
      ],
      "text/plain": [
       "   membership_days gender   age   age_binned    income income_binned  \\\n",
       "0              529    NaN   NaN          NaN       NaN           NaN   \n",
       "1              376      F  55.0  middle-aged  112000.0   high_income   \n",
       "2               14    NaN   NaN          NaN       NaN           NaN   \n",
       "3              443      F  75.0          old  100000.0   high_income   \n",
       "4              356    NaN   NaN          NaN       NaN           NaN   \n",
       "\n",
       "   total_amount  total_rewarded  transactions_num  offers_received  \n",
       "0         20.40             5.0                 9                5  \n",
       "1         77.01             5.0                 3                2  \n",
       "2         14.30             0.0                 6                2  \n",
       "3        159.27            20.0                 7                4  \n",
       "4          4.65             0.0                 3                5  "
      ]
     },
     "execution_count": 94,
     "metadata": {},
     "output_type": "execute_result"
    }
   ],
   "source": [
    "starbucks_engaged.head()"
   ]
  },
  {
   "cell_type": "code",
   "execution_count": 95,
   "metadata": {},
   "outputs": [],
   "source": [
    "# create a column 'conversion' => 1 if received & viewed & completed, 0 if not\n",
    "starbucks_engaged['conversion'] = ((starbucks_aggr.offers_received != 0) & (starbucks_aggr.offers_viewed > 0) & (starbucks_aggr.offers_completed > 0))\n",
    "starbucks_engaged['conversion'] = starbucks_engaged['conversion'].apply(lambda x: 1 if x == True else 0)"
   ]
  },
  {
   "cell_type": "code",
   "execution_count": 96,
   "metadata": {},
   "outputs": [
    {
     "data": {
      "text/html": [
       "<div>\n",
       "<style scoped>\n",
       "    .dataframe tbody tr th:only-of-type {\n",
       "        vertical-align: middle;\n",
       "    }\n",
       "\n",
       "    .dataframe tbody tr th {\n",
       "        vertical-align: top;\n",
       "    }\n",
       "\n",
       "    .dataframe thead th {\n",
       "        text-align: right;\n",
       "    }\n",
       "</style>\n",
       "<table border=\"1\" class=\"dataframe\">\n",
       "  <thead>\n",
       "    <tr style=\"text-align: right;\">\n",
       "      <th></th>\n",
       "      <th>membership_days</th>\n",
       "      <th>gender</th>\n",
       "      <th>age</th>\n",
       "      <th>age_binned</th>\n",
       "      <th>income</th>\n",
       "      <th>income_binned</th>\n",
       "      <th>total_amount</th>\n",
       "      <th>total_rewarded</th>\n",
       "      <th>transactions_num</th>\n",
       "      <th>offers_received</th>\n",
       "      <th>conversion</th>\n",
       "    </tr>\n",
       "  </thead>\n",
       "  <tbody>\n",
       "    <tr>\n",
       "      <th>0</th>\n",
       "      <td>529</td>\n",
       "      <td>NaN</td>\n",
       "      <td>NaN</td>\n",
       "      <td>NaN</td>\n",
       "      <td>NaN</td>\n",
       "      <td>NaN</td>\n",
       "      <td>20.40</td>\n",
       "      <td>5.0</td>\n",
       "      <td>9</td>\n",
       "      <td>5</td>\n",
       "      <td>1</td>\n",
       "    </tr>\n",
       "    <tr>\n",
       "      <th>1</th>\n",
       "      <td>376</td>\n",
       "      <td>F</td>\n",
       "      <td>55.0</td>\n",
       "      <td>middle-aged</td>\n",
       "      <td>112000.0</td>\n",
       "      <td>high_income</td>\n",
       "      <td>77.01</td>\n",
       "      <td>5.0</td>\n",
       "      <td>3</td>\n",
       "      <td>2</td>\n",
       "      <td>0</td>\n",
       "    </tr>\n",
       "    <tr>\n",
       "      <th>2</th>\n",
       "      <td>14</td>\n",
       "      <td>NaN</td>\n",
       "      <td>NaN</td>\n",
       "      <td>NaN</td>\n",
       "      <td>NaN</td>\n",
       "      <td>NaN</td>\n",
       "      <td>14.30</td>\n",
       "      <td>0.0</td>\n",
       "      <td>6</td>\n",
       "      <td>2</td>\n",
       "      <td>0</td>\n",
       "    </tr>\n",
       "    <tr>\n",
       "      <th>3</th>\n",
       "      <td>443</td>\n",
       "      <td>F</td>\n",
       "      <td>75.0</td>\n",
       "      <td>old</td>\n",
       "      <td>100000.0</td>\n",
       "      <td>high_income</td>\n",
       "      <td>159.27</td>\n",
       "      <td>20.0</td>\n",
       "      <td>7</td>\n",
       "      <td>4</td>\n",
       "      <td>1</td>\n",
       "    </tr>\n",
       "    <tr>\n",
       "      <th>4</th>\n",
       "      <td>356</td>\n",
       "      <td>NaN</td>\n",
       "      <td>NaN</td>\n",
       "      <td>NaN</td>\n",
       "      <td>NaN</td>\n",
       "      <td>NaN</td>\n",
       "      <td>4.65</td>\n",
       "      <td>0.0</td>\n",
       "      <td>3</td>\n",
       "      <td>5</td>\n",
       "      <td>0</td>\n",
       "    </tr>\n",
       "  </tbody>\n",
       "</table>\n",
       "</div>"
      ],
      "text/plain": [
       "   membership_days gender   age   age_binned    income income_binned  \\\n",
       "0              529    NaN   NaN          NaN       NaN           NaN   \n",
       "1              376      F  55.0  middle-aged  112000.0   high_income   \n",
       "2               14    NaN   NaN          NaN       NaN           NaN   \n",
       "3              443      F  75.0          old  100000.0   high_income   \n",
       "4              356    NaN   NaN          NaN       NaN           NaN   \n",
       "\n",
       "   total_amount  total_rewarded  transactions_num  offers_received  conversion  \n",
       "0         20.40             5.0                 9                5           1  \n",
       "1         77.01             5.0                 3                2           0  \n",
       "2         14.30             0.0                 6                2           0  \n",
       "3        159.27            20.0                 7                4           1  \n",
       "4          4.65             0.0                 3                5           0  "
      ]
     },
     "execution_count": 96,
     "metadata": {},
     "output_type": "execute_result"
    }
   ],
   "source": [
    "starbucks_engaged.head()"
   ]
  },
  {
   "cell_type": "markdown",
   "metadata": {},
   "source": [
    "https://www.themailshark.com/resources/guides/how-to-track-measure-direct-mail/\n",
    "https://nscpolteksby.ac.id/ebook/files/Ebook/Business%20Administration/Marketing%20Metrics%20(2006)/10.%20Chapter%208%20-%20PROMOTION.pdf"
   ]
  },
  {
   "cell_type": "markdown",
   "metadata": {},
   "source": [
    "Revenue "
   ]
  },
  {
   "cell_type": "code",
   "execution_count": 97,
   "metadata": {},
   "outputs": [
    {
     "data": {
      "text/plain": [
       "1775451.9699999997"
      ]
     },
     "execution_count": 97,
     "metadata": {},
     "output_type": "execute_result"
    }
   ],
   "source": [
    "revenue = starbucks_aggr.total_amount.sum()\n",
    "revenue"
   ]
  },
  {
   "cell_type": "markdown",
   "metadata": {},
   "source": [
    "Campaign cost"
   ]
  },
  {
   "cell_type": "code",
   "execution_count": 98,
   "metadata": {},
   "outputs": [
    {
     "data": {
      "text/plain": [
       "164676.0"
      ]
     },
     "execution_count": 98,
     "metadata": {},
     "output_type": "execute_result"
    }
   ],
   "source": [
    "campaign_cost = starbucks_aggr.total_rewarded.sum()\n",
    "campaign_cost"
   ]
  },
  {
   "cell_type": "markdown",
   "metadata": {},
   "source": [
    "Cost per Acquisition (CPA) -  \"also known as cost per order or lead – tells you how much each new customer cost to obtain.\""
   ]
  },
  {
   "cell_type": "code",
   "execution_count": 99,
   "metadata": {},
   "outputs": [
    {
     "data": {
      "text/plain": [
       "1.1851201485394343"
      ]
     },
     "execution_count": 99,
     "metadata": {},
     "output_type": "execute_result"
    }
   ],
   "source": [
    "# campaign cost per transaction\n",
    "cost_per_acquisition = campaign_cost/starbucks_aggr.transactions_num.sum()\n",
    "cost_per_acquisition"
   ]
  },
  {
   "cell_type": "markdown",
   "metadata": {},
   "source": [
    "Average Order Size "
   ]
  },
  {
   "cell_type": "code",
   "execution_count": 100,
   "metadata": {},
   "outputs": [
    {
     "data": {
      "text/plain": [
       "12.777356156398204"
      ]
     },
     "execution_count": 100,
     "metadata": {},
     "output_type": "execute_result"
    }
   ],
   "source": [
    "# revenue per transaction\n",
    "average_order_size = revenue/starbucks_aggr.transactions_num.sum()\n",
    "average_order_size"
   ]
  },
  {
   "cell_type": "markdown",
   "metadata": {},
   "source": [
    "Revenue per Order - how much profit you made from each order on average"
   ]
  },
  {
   "cell_type": "code",
   "execution_count": 101,
   "metadata": {},
   "outputs": [
    {
     "data": {
      "text/plain": [
       "11.59223600785877"
      ]
     },
     "execution_count": 101,
     "metadata": {},
     "output_type": "execute_result"
    }
   ],
   "source": [
    "revenue_per_order = average_order_size-cost_per_acquisition\n",
    "revenue_per_order"
   ]
  },
  {
   "cell_type": "markdown",
   "metadata": {},
   "source": [
    "Return on Investment (ROI), %"
   ]
  },
  {
   "cell_type": "code",
   "execution_count": 102,
   "metadata": {},
   "outputs": [
    {
     "data": {
      "text/plain": [
       "978.1485887439576"
      ]
     },
     "execution_count": 102,
     "metadata": {},
     "output_type": "execute_result"
    }
   ],
   "source": [
    "roi = (revenue-campaign_cost)/campaign_cost * 100\n",
    "roi"
   ]
  },
  {
   "cell_type": "markdown",
   "metadata": {},
   "source": [
    "# Data Preprocessing"
   ]
  },
  {
   "cell_type": "markdown",
   "metadata": {},
   "source": [
    "### Dealing with Missing values"
   ]
  },
  {
   "cell_type": "code",
   "execution_count": 103,
   "metadata": {},
   "outputs": [
    {
     "data": {
      "text/plain": [
       "(2175, 2175, 2175)"
      ]
     },
     "execution_count": 103,
     "metadata": {},
     "output_type": "execute_result"
    }
   ],
   "source": [
    "# checking how many missing values are in gender and age columns\n",
    "starbucks_aggr.gender.isna().sum(), starbucks_aggr.age.isna().sum(), starbucks_aggr.income.isna().sum()"
   ]
  },
  {
   "cell_type": "code",
   "execution_count": 104,
   "metadata": {},
   "outputs": [
    {
     "name": "stdout",
     "output_type": "stream",
     "text": [
      "there are 2175 customers that have missing values in gender, age and income columns\n"
     ]
    }
   ],
   "source": [
    "# checking if missing values are in both columns\n",
    "assert starbucks_aggr[(starbucks_aggr.gender.isna()) & (starbucks_aggr.age.isna()) & (starbucks_aggr.income.isna())].shape[0] == starbucks_aggr.gender.isna().sum()\n",
    "print(f\"there are {starbucks_aggr.gender.isna().sum()} customers that have missing values in gender, age and income columns\")"
   ]
  },
  {
   "cell_type": "code",
   "execution_count": 105,
   "metadata": {},
   "outputs": [
    {
     "name": "stdout",
     "output_type": "stream",
     "text": [
      "<class 'pandas.core.frame.DataFrame'>\n",
      "Int64Index: 17000 entries, 0 to 16999\n",
      "Data columns (total 34 columns):\n",
      "person                    17000 non-null object\n",
      "membership_days           17000 non-null int64\n",
      "gender                    14825 non-null object\n",
      "age                       14825 non-null float64\n",
      "age_binned                14755 non-null category\n",
      "income                    14825 non-null float64\n",
      "income_binned             14737 non-null category\n",
      "total_amount              17000 non-null float64\n",
      "total_rewarded            17000 non-null float64\n",
      "transactions_num          17000 non-null uint8\n",
      "offers_received           17000 non-null uint8\n",
      "offers_viewed             17000 non-null uint8\n",
      "offers_completed          17000 non-null uint8\n",
      "bogo_received             14992 non-null float64\n",
      "bogo_viewed               14992 non-null float64\n",
      "bogo_completed            14992 non-null float64\n",
      "discount_received         14945 non-null float64\n",
      "discount_viewed           14945 non-null float64\n",
      "discount_completed        14945 non-null float64\n",
      "informational_received    10547 non-null float64\n",
      "informational_viewed      10547 non-null float64\n",
      "total_bogo                9263 non-null float64\n",
      "total_discount            10289 non-null float64\n",
      "avg_order_size            16578 non-null float64\n",
      "avg_reward_size           12774 non-null float64\n",
      "avg_bogo_size             9263 non-null float64\n",
      "avg_discount_size         10289 non-null float64\n",
      "offers_rr                 16994 non-null float64\n",
      "offers_cvr                16907 non-null float64\n",
      "bogo_rr                   14992 non-null float64\n",
      "bogo_cvr                  14467 non-null float64\n",
      "discount_rr               14945 non-null float64\n",
      "discount_cvr              13561 non-null float64\n",
      "informational_rr          10547 non-null float64\n",
      "dtypes: category(2), float64(25), int64(1), object(2), uint8(4)\n",
      "memory usage: 4.5+ MB\n"
     ]
    }
   ],
   "source": [
    "starbucks_aggr.info()"
   ]
  },
  {
   "cell_type": "markdown",
   "metadata": {},
   "source": [
    "Impute missing values with median values (to avoid impact of outliers if we took mean values + most_frequent values are usually used for ordinal data, our data is ratio."
   ]
  },
  {
   "cell_type": "code",
   "execution_count": 106,
   "metadata": {},
   "outputs": [
    {
     "data": {
      "text/html": [
       "<div>\n",
       "<style scoped>\n",
       "    .dataframe tbody tr th:only-of-type {\n",
       "        vertical-align: middle;\n",
       "    }\n",
       "\n",
       "    .dataframe tbody tr th {\n",
       "        vertical-align: top;\n",
       "    }\n",
       "\n",
       "    .dataframe thead th {\n",
       "        text-align: right;\n",
       "    }\n",
       "</style>\n",
       "<table border=\"1\" class=\"dataframe\">\n",
       "  <thead>\n",
       "    <tr style=\"text-align: right;\">\n",
       "      <th></th>\n",
       "      <th>age</th>\n",
       "      <th>income</th>\n",
       "    </tr>\n",
       "  </thead>\n",
       "  <tbody>\n",
       "    <tr>\n",
       "      <th>0</th>\n",
       "      <td>55.0</td>\n",
       "      <td>64000.0</td>\n",
       "    </tr>\n",
       "  </tbody>\n",
       "</table>\n",
       "</div>"
      ],
      "text/plain": [
       "    age   income\n",
       "0  55.0  64000.0"
      ]
     },
     "execution_count": 106,
     "metadata": {},
     "output_type": "execute_result"
    }
   ],
   "source": [
    "starbucks_imputed = starbucks_aggr.copy()\n",
    "\n",
    "imputer = SimpleImputer(strategy='median')\n",
    "imputed = imputer.fit_transform(starbucks_aggr[['age', 'income']])\n",
    "\n",
    "starbucks_imputed[['age', 'income']] = pd.DataFrame(imputed, columns=['age', 'income'])\n",
    "\n",
    "#checking results of imputation for age and income columns\n",
    "starbucks_imputed[starbucks_aggr.gender.isna()][['age','income']].head(1)"
   ]
  },
  {
   "cell_type": "markdown",
   "metadata": {},
   "source": [
    "Impute missing values for categorical data - gender, age_binned, income_binned - with most frequent data:"
   ]
  },
  {
   "cell_type": "code",
   "execution_count": 107,
   "metadata": {},
   "outputs": [],
   "source": [
    "values = {'gender': starbucks_aggr.gender.mode()[0], 'age_binned': starbucks_aggr.age_binned.mode()[0], 'income_binned': starbucks_aggr.income_binned.mode()[0]}\n",
    "starbucks_imputed.fillna(value=values, inplace=True)"
   ]
  },
  {
   "cell_type": "code",
   "execution_count": 108,
   "metadata": {},
   "outputs": [
    {
     "data": {
      "text/html": [
       "<div>\n",
       "<style scoped>\n",
       "    .dataframe tbody tr th:only-of-type {\n",
       "        vertical-align: middle;\n",
       "    }\n",
       "\n",
       "    .dataframe tbody tr th {\n",
       "        vertical-align: top;\n",
       "    }\n",
       "\n",
       "    .dataframe thead th {\n",
       "        text-align: right;\n",
       "    }\n",
       "</style>\n",
       "<table border=\"1\" class=\"dataframe\">\n",
       "  <thead>\n",
       "    <tr style=\"text-align: right;\">\n",
       "      <th></th>\n",
       "      <th>gender</th>\n",
       "      <th>age_binned</th>\n",
       "      <th>income_binned</th>\n",
       "    </tr>\n",
       "  </thead>\n",
       "  <tbody>\n",
       "    <tr>\n",
       "      <th>0</th>\n",
       "      <td>M</td>\n",
       "      <td>middle-aged</td>\n",
       "      <td>low_income</td>\n",
       "    </tr>\n",
       "  </tbody>\n",
       "</table>\n",
       "</div>"
      ],
      "text/plain": [
       "  gender   age_binned income_binned\n",
       "0      M  middle-aged    low_income"
      ]
     },
     "execution_count": 108,
     "metadata": {},
     "output_type": "execute_result"
    }
   ],
   "source": [
    "#checking results of imputation of categorical data\n",
    "starbucks_imputed[starbucks_aggr.gender.isna()][['gender','age_binned', 'income_binned']].head(1)"
   ]
  },
  {
   "cell_type": "markdown",
   "metadata": {},
   "source": [
    "Replace NaNs with 0s for these columns:\n",
    "- not all customers received particular offer type. These were filled with NaNs when columns 'bogo_received', 'discount_received' or 'infromational_received' were created. Then the missing values were propagated to 'bogo_viewed', discount_viewed', 'informational_viewed' and to 'bogo_completed', 'discount_completed' columns.\n",
    "- if no discount or no bogo were completed, then 'total_bogo', 'total_discount', 'avg_bogo_size', 'avg_discount_size' could be calculated and were filled with NaNs.\n",
    "- if customer made no transactions or had no offers completed, then columns 'avg_order_size' and 'avg_reward_size' were filled with NaNs.\n",
    "- if customer didn't view any offers, then these produced NaNs for all CVR columns (div by 'viewed' metrics)\n",
    "- if customer didn't receive particular offer type, then these produced NaNs in all response rate columns  (div by 'received' metrics)"
   ]
  },
  {
   "cell_type": "code",
   "execution_count": 109,
   "metadata": {},
   "outputs": [],
   "source": [
    "cols = ['bogo_received', 'bogo_viewed', 'bogo_completed', \n",
    "        'discount_received', 'discount_viewed', 'discount_completed', \n",
    "        'informational_received', 'informational_viewed',\n",
    "        'total_bogo', 'total_discount', 'avg_bogo_size', 'avg_discount_size',\n",
    "        'avg_order_size', 'avg_reward_size',\n",
    "        'offers_rr', 'offers_cvr', 'bogo_rr', 'bogo_cvr', 'discount_rr', 'discount_cvr','informational_rr']\n",
    "\n",
    "starbucks_imputed[cols] = starbucks_imputed[cols].replace(np.nan, 0)"
   ]
  },
  {
   "cell_type": "code",
   "execution_count": 110,
   "metadata": {},
   "outputs": [
    {
     "name": "stdout",
     "output_type": "stream",
     "text": [
      "<class 'pandas.core.frame.DataFrame'>\n",
      "Int64Index: 17000 entries, 0 to 16999\n",
      "Data columns (total 34 columns):\n",
      "person                    17000 non-null object\n",
      "membership_days           17000 non-null int64\n",
      "gender                    17000 non-null object\n",
      "age                       17000 non-null float64\n",
      "age_binned                17000 non-null category\n",
      "income                    17000 non-null float64\n",
      "income_binned             17000 non-null category\n",
      "total_amount              17000 non-null float64\n",
      "total_rewarded            17000 non-null float64\n",
      "transactions_num          17000 non-null uint8\n",
      "offers_received           17000 non-null uint8\n",
      "offers_viewed             17000 non-null uint8\n",
      "offers_completed          17000 non-null uint8\n",
      "bogo_received             17000 non-null float64\n",
      "bogo_viewed               17000 non-null float64\n",
      "bogo_completed            17000 non-null float64\n",
      "discount_received         17000 non-null float64\n",
      "discount_viewed           17000 non-null float64\n",
      "discount_completed        17000 non-null float64\n",
      "informational_received    17000 non-null float64\n",
      "informational_viewed      17000 non-null float64\n",
      "total_bogo                17000 non-null float64\n",
      "total_discount            17000 non-null float64\n",
      "avg_order_size            17000 non-null float64\n",
      "avg_reward_size           17000 non-null float64\n",
      "avg_bogo_size             17000 non-null float64\n",
      "avg_discount_size         17000 non-null float64\n",
      "offers_rr                 17000 non-null float64\n",
      "offers_cvr                17000 non-null float64\n",
      "bogo_rr                   17000 non-null float64\n",
      "bogo_cvr                  17000 non-null float64\n",
      "discount_rr               17000 non-null float64\n",
      "discount_cvr              17000 non-null float64\n",
      "informational_rr          17000 non-null float64\n",
      "dtypes: category(2), float64(25), int64(1), object(2), uint8(4)\n",
      "memory usage: 3.9+ MB\n"
     ]
    }
   ],
   "source": [
    "starbucks_imputed.info()"
   ]
  },
  {
   "cell_type": "markdown",
   "metadata": {},
   "source": [
    "### One-Hot Encoding categorical data"
   ]
  },
  {
   "cell_type": "code",
   "execution_count": 111,
   "metadata": {},
   "outputs": [
    {
     "data": {
      "text/plain": [
       "Index(['person', 'gender', 'age_binned', 'income_binned'], dtype='object')"
      ]
     },
     "execution_count": 111,
     "metadata": {},
     "output_type": "execute_result"
    }
   ],
   "source": [
    "categorical_col = starbucks_imputed.columns[(starbucks_imputed.dtypes == 'category') | (starbucks_imputed.dtypes == 'object')]\n",
    "categorical_col"
   ]
  },
  {
   "cell_type": "code",
   "execution_count": 112,
   "metadata": {},
   "outputs": [],
   "source": [
    "# drop person id from further analysis\n",
    "starbucks_ohe = starbucks_imputed.copy()\n",
    "\n",
    "starbucks_ohe.drop('person', axis=1, inplace=True)"
   ]
  },
  {
   "cell_type": "code",
   "execution_count": 113,
   "metadata": {},
   "outputs": [],
   "source": [
    "# TODO: try OneHotEncoder \n",
    "starbucks_ohe = pd.get_dummies(starbucks_ohe, columns=['gender', 'age_binned', 'income_binned'])"
   ]
  },
  {
   "cell_type": "code",
   "execution_count": 114,
   "metadata": {},
   "outputs": [
    {
     "data": {
      "text/html": [
       "<div>\n",
       "<style scoped>\n",
       "    .dataframe tbody tr th:only-of-type {\n",
       "        vertical-align: middle;\n",
       "    }\n",
       "\n",
       "    .dataframe tbody tr th {\n",
       "        vertical-align: top;\n",
       "    }\n",
       "\n",
       "    .dataframe thead th {\n",
       "        text-align: right;\n",
       "    }\n",
       "</style>\n",
       "<table border=\"1\" class=\"dataframe\">\n",
       "  <thead>\n",
       "    <tr style=\"text-align: right;\">\n",
       "      <th></th>\n",
       "      <th>membership_days</th>\n",
       "      <th>age</th>\n",
       "      <th>income</th>\n",
       "      <th>total_amount</th>\n",
       "      <th>total_rewarded</th>\n",
       "      <th>transactions_num</th>\n",
       "      <th>offers_received</th>\n",
       "      <th>offers_viewed</th>\n",
       "      <th>offers_completed</th>\n",
       "      <th>bogo_received</th>\n",
       "      <th>...</th>\n",
       "      <th>gender_M</th>\n",
       "      <th>gender_O</th>\n",
       "      <th>age_binned_young</th>\n",
       "      <th>age_binned_middle-aged</th>\n",
       "      <th>age_binned_senior</th>\n",
       "      <th>age_binned_old</th>\n",
       "      <th>income_binned_low_income</th>\n",
       "      <th>income_binned_middle_low_income</th>\n",
       "      <th>income_binned_middle_high_income</th>\n",
       "      <th>income_binned_high_income</th>\n",
       "    </tr>\n",
       "  </thead>\n",
       "  <tbody>\n",
       "    <tr>\n",
       "      <th>0</th>\n",
       "      <td>529</td>\n",
       "      <td>55.0</td>\n",
       "      <td>64000.0</td>\n",
       "      <td>20.40</td>\n",
       "      <td>5.0</td>\n",
       "      <td>9</td>\n",
       "      <td>5</td>\n",
       "      <td>5</td>\n",
       "      <td>2</td>\n",
       "      <td>0.0</td>\n",
       "      <td>...</td>\n",
       "      <td>1</td>\n",
       "      <td>0</td>\n",
       "      <td>0</td>\n",
       "      <td>1</td>\n",
       "      <td>0</td>\n",
       "      <td>0</td>\n",
       "      <td>1</td>\n",
       "      <td>0</td>\n",
       "      <td>0</td>\n",
       "      <td>0</td>\n",
       "    </tr>\n",
       "    <tr>\n",
       "      <th>1</th>\n",
       "      <td>376</td>\n",
       "      <td>55.0</td>\n",
       "      <td>112000.0</td>\n",
       "      <td>77.01</td>\n",
       "      <td>5.0</td>\n",
       "      <td>3</td>\n",
       "      <td>2</td>\n",
       "      <td>0</td>\n",
       "      <td>1</td>\n",
       "      <td>1.0</td>\n",
       "      <td>...</td>\n",
       "      <td>0</td>\n",
       "      <td>0</td>\n",
       "      <td>0</td>\n",
       "      <td>1</td>\n",
       "      <td>0</td>\n",
       "      <td>0</td>\n",
       "      <td>0</td>\n",
       "      <td>0</td>\n",
       "      <td>0</td>\n",
       "      <td>1</td>\n",
       "    </tr>\n",
       "    <tr>\n",
       "      <th>2</th>\n",
       "      <td>14</td>\n",
       "      <td>55.0</td>\n",
       "      <td>64000.0</td>\n",
       "      <td>14.30</td>\n",
       "      <td>0.0</td>\n",
       "      <td>6</td>\n",
       "      <td>2</td>\n",
       "      <td>2</td>\n",
       "      <td>0</td>\n",
       "      <td>1.0</td>\n",
       "      <td>...</td>\n",
       "      <td>1</td>\n",
       "      <td>0</td>\n",
       "      <td>0</td>\n",
       "      <td>1</td>\n",
       "      <td>0</td>\n",
       "      <td>0</td>\n",
       "      <td>1</td>\n",
       "      <td>0</td>\n",
       "      <td>0</td>\n",
       "      <td>0</td>\n",
       "    </tr>\n",
       "    <tr>\n",
       "      <th>3</th>\n",
       "      <td>443</td>\n",
       "      <td>75.0</td>\n",
       "      <td>100000.0</td>\n",
       "      <td>159.27</td>\n",
       "      <td>20.0</td>\n",
       "      <td>7</td>\n",
       "      <td>4</td>\n",
       "      <td>4</td>\n",
       "      <td>3</td>\n",
       "      <td>3.0</td>\n",
       "      <td>...</td>\n",
       "      <td>0</td>\n",
       "      <td>0</td>\n",
       "      <td>0</td>\n",
       "      <td>0</td>\n",
       "      <td>0</td>\n",
       "      <td>1</td>\n",
       "      <td>0</td>\n",
       "      <td>0</td>\n",
       "      <td>0</td>\n",
       "      <td>1</td>\n",
       "    </tr>\n",
       "    <tr>\n",
       "      <th>4</th>\n",
       "      <td>356</td>\n",
       "      <td>55.0</td>\n",
       "      <td>64000.0</td>\n",
       "      <td>4.65</td>\n",
       "      <td>0.0</td>\n",
       "      <td>3</td>\n",
       "      <td>5</td>\n",
       "      <td>3</td>\n",
       "      <td>0</td>\n",
       "      <td>0.0</td>\n",
       "      <td>...</td>\n",
       "      <td>1</td>\n",
       "      <td>0</td>\n",
       "      <td>0</td>\n",
       "      <td>1</td>\n",
       "      <td>0</td>\n",
       "      <td>0</td>\n",
       "      <td>1</td>\n",
       "      <td>0</td>\n",
       "      <td>0</td>\n",
       "      <td>0</td>\n",
       "    </tr>\n",
       "  </tbody>\n",
       "</table>\n",
       "<p>5 rows × 41 columns</p>\n",
       "</div>"
      ],
      "text/plain": [
       "   membership_days   age    income  total_amount  total_rewarded  \\\n",
       "0              529  55.0   64000.0         20.40             5.0   \n",
       "1              376  55.0  112000.0         77.01             5.0   \n",
       "2               14  55.0   64000.0         14.30             0.0   \n",
       "3              443  75.0  100000.0        159.27            20.0   \n",
       "4              356  55.0   64000.0          4.65             0.0   \n",
       "\n",
       "   transactions_num  offers_received  offers_viewed  offers_completed  \\\n",
       "0                 9                5              5                 2   \n",
       "1                 3                2              0                 1   \n",
       "2                 6                2              2                 0   \n",
       "3                 7                4              4                 3   \n",
       "4                 3                5              3                 0   \n",
       "\n",
       "   bogo_received  ...  gender_M  gender_O  age_binned_young  \\\n",
       "0            0.0  ...         1         0                 0   \n",
       "1            1.0  ...         0         0                 0   \n",
       "2            1.0  ...         1         0                 0   \n",
       "3            3.0  ...         0         0                 0   \n",
       "4            0.0  ...         1         0                 0   \n",
       "\n",
       "   age_binned_middle-aged  age_binned_senior  age_binned_old  \\\n",
       "0                       1                  0               0   \n",
       "1                       1                  0               0   \n",
       "2                       1                  0               0   \n",
       "3                       0                  0               1   \n",
       "4                       1                  0               0   \n",
       "\n",
       "   income_binned_low_income  income_binned_middle_low_income  \\\n",
       "0                         1                                0   \n",
       "1                         0                                0   \n",
       "2                         1                                0   \n",
       "3                         0                                0   \n",
       "4                         1                                0   \n",
       "\n",
       "   income_binned_middle_high_income  income_binned_high_income  \n",
       "0                                 0                          0  \n",
       "1                                 0                          1  \n",
       "2                                 0                          0  \n",
       "3                                 0                          1  \n",
       "4                                 0                          0  \n",
       "\n",
       "[5 rows x 41 columns]"
      ]
     },
     "execution_count": 114,
     "metadata": {},
     "output_type": "execute_result"
    }
   ],
   "source": [
    "starbucks_ohe.head()"
   ]
  },
  {
   "cell_type": "code",
   "execution_count": 137,
   "metadata": {},
   "outputs": [
    {
     "data": {
      "text/plain": [
       "(17000, 41)"
      ]
     },
     "execution_count": 137,
     "metadata": {},
     "output_type": "execute_result"
    }
   ],
   "source": [
    "starbucks_ohe.shape"
   ]
  },
  {
   "cell_type": "markdown",
   "metadata": {},
   "source": [
    "### Feature Scaling"
   ]
  },
  {
   "cell_type": "code",
   "execution_count": 116,
   "metadata": {},
   "outputs": [],
   "source": [
    "cols = ['membership_days', 'total_amount', 'total_rewarded',\n",
    "       'transactions_num', 'total_bogo','total_discount', 'avg_order_size', 'avg_reward_size', 'avg_bogo_size',\n",
    "       'avg_discount_size', 'offers_rr', 'offers_cvr', 'bogo_rr', 'bogo_cvr',\n",
    "       'discount_rr', 'discount_cvr', 'informational_rr', 'gender_F',\n",
    "       'gender_M', 'gender_O', 'age_binned_young', 'age_binned_middle-aged',\n",
    "       'age_binned_senior', 'income_binned_low_income',\n",
    "       'income_binned_middle_low_income', 'income_binned_middle_high_income',\n",
    "       'income_binned_high_income']\n",
    "scaler = StandardScaler().fit(starbucks_ohe[cols]) \n",
    "starbucks_scaled = scaler.transform(starbucks_ohe[cols])"
   ]
  },
  {
   "cell_type": "code",
   "execution_count": 117,
   "metadata": {},
   "outputs": [
    {
     "data": {
      "text/plain": [
       "(array([1., 1., 1., 1., 1.]),\n",
       " array([1.11701498e-16, 9.52963199e-17, 2.63318779e-17, 5.18278231e-17,\n",
       "        3.09295073e-17]))"
      ]
     },
     "execution_count": 117,
     "metadata": {},
     "output_type": "execute_result"
    }
   ],
   "source": [
    "#checking scaling results on first 5 features\n",
    "starbucks_scaled.std(axis=0)[:5], starbucks_scaled.mean(axis=0)[:5]"
   ]
  },
  {
   "cell_type": "markdown",
   "metadata": {},
   "source": [
    "Note: scaler works as expected - all features were transformed correctly and have mean around 0 and std 1."
   ]
  },
  {
   "cell_type": "code",
   "execution_count": 118,
   "metadata": {},
   "outputs": [],
   "source": [
    "# from sklearn.preprocessing import MinMaxScaler\n",
    "\n",
    "# scaler = MinMaxScaler().fit(starbucks_ohe) \n",
    "# starbucks_scaled = scaler.transform(starbucks_ohe)"
   ]
  },
  {
   "cell_type": "markdown",
   "metadata": {},
   "source": [
    "# Dimensionality Reduction"
   ]
  },
  {
   "cell_type": "code",
   "execution_count": 119,
   "metadata": {},
   "outputs": [],
   "source": [
    "# Apply PCA to the data.\n",
    "pca = PCA()\n",
    "X_pca = pca.fit_transform(starbucks_scaled)"
   ]
  },
  {
   "cell_type": "code",
   "execution_count": 120,
   "metadata": {},
   "outputs": [],
   "source": [
    "# Investigate the variance accounted for by each principal component.\n",
    "def scree_plot(pca):\n",
    "    '''\n",
    "    Creates a scree plot associated with the principal components \n",
    "    \n",
    "    INPUT: pca - the result of instantian of PCA in scikit learn\n",
    "            \n",
    "    OUTPUT:\n",
    "            None\n",
    "    '''\n",
    "    num_components=len(pca.explained_variance_ratio_)\n",
    "    ind = np.arange(num_components)\n",
    "    vals = pca.explained_variance_ratio_\n",
    " \n",
    "    plt.figure(figsize=(6, 6))\n",
    "    ax = plt.subplot(111)\n",
    "    cumvals = np.cumsum(vals)\n",
    "    ax.bar(ind, vals)\n",
    "    ax.plot(ind, cumvals)\n",
    " \n",
    "    ax.set_xlabel(\"Principal Component\")\n",
    "    ax.set_ylabel(\"Variance Explained (%)\")\n",
    "    plt.title('Explained Variance Per Principal Component')"
   ]
  },
  {
   "cell_type": "code",
   "execution_count": 121,
   "metadata": {},
   "outputs": [
    {
     "data": {
      "image/png": "[encoded data removed]",
      "text/plain": [
       "<Figure size 432x432 with 1 Axes>"
      ]
     },
     "metadata": {
      "needs_background": "light"
     },
     "output_type": "display_data"
    }
   ],
   "source": [
    "scree_plot(pca)"
   ]
  },
  {
   "cell_type": "code",
   "execution_count": 122,
   "metadata": {},
   "outputs": [
    {
     "data": {
      "text/plain": [
       "10"
      ]
     },
     "execution_count": 122,
     "metadata": {},
     "output_type": "execute_result"
    }
   ],
   "source": [
    "# how many components together explain about 80% of variance?\n",
    "cum_expl_var_ratio = np.cumsum(pca.explained_variance_ratio_)\n",
    "components_num = len(cum_expl_var_ratio[cum_expl_var_ratio <= 0.805])\n",
    "components_num"
   ]
  },
  {
   "cell_type": "code",
   "execution_count": 123,
   "metadata": {},
   "outputs": [],
   "source": [
    "# Re-apply PCA to the data while selecting for number of components to retain.\n",
    "pca = PCA(components_num).fit(starbucks_scaled)\n",
    "starbucks_pca = pca.transform(starbucks_scaled)"
   ]
  },
  {
   "cell_type": "code",
   "execution_count": 124,
   "metadata": {},
   "outputs": [
    {
     "data": {
      "text/plain": [
       "array([0.25224979, 0.34019193, 0.42186566, 0.49128163, 0.55178857,\n",
       "       0.60346799, 0.6505245 , 0.69443057, 0.7368995 , 0.77764519])"
      ]
     },
     "execution_count": 124,
     "metadata": {},
     "output_type": "execute_result"
    }
   ],
   "source": [
    "np.cumsum(pca.explained_variance_ratio_)"
   ]
  },
  {
   "cell_type": "markdown",
   "metadata": {},
   "source": [
    "Note: Note: As a rule of thumb, one should keep as many components that together they would explain about 80% of variance. From the scree plot we can conclude that about 11 components explain 80% of variance. So I decided to keep 11 PCA components for the clustering part of the project. <br>\n",
    "Moreover, the first 6 components add the most to the explanation of the variance (together explain about 62.6%), while the rest of the components' weights are rather small (~2-3%). "
   ]
  },
  {
   "cell_type": "markdown",
   "metadata": {},
   "source": [
    "## Interpret Principal Components"
   ]
  },
  {
   "cell_type": "code",
   "execution_count": 125,
   "metadata": {},
   "outputs": [],
   "source": [
    "def map_pca(i, df):\n",
    "    '''\n",
    "    Map weights for the principal components to corresponding feature names \n",
    "    and then print the linked values, sorted by weight.\n",
    "    \n",
    "    Input: \n",
    "        i = which principal component to map\n",
    "        df = Data Frame for feature names mapping\n",
    "    Output: \n",
    "        none\n",
    "    '''\n",
    "    weights = pd.DataFrame(pca.components_[i-1], columns=[\"PCA_\"+str(i)], index = df.columns)\n",
    "    weights = weights.sort_values(by=[\"PCA_\"+str(i)])\n",
    "    print(f\"explained variance by component #{i} - {pca.explained_variance_ratio_[i-1]*100:.1f}%\")\n",
    "    print(\"positive top5 weights:\\n\", weights.tail(6))\n",
    "    print(\"\\n-----------------------------\\n\")\n",
    "    print(\"negative top5 weights:\\n\", weights.head(6))"
   ]
  },
  {
   "cell_type": "code",
   "execution_count": 126,
   "metadata": {},
   "outputs": [
    {
     "name": "stdout",
     "output_type": "stream",
     "text": [
      "explained variance by component #1 - 25.2%\n",
      "positive top5 weights:\n",
      "                     PCA_1\n",
      "bogo_cvr         0.287826\n",
      "offers_cvr       0.294172\n",
      "total_bogo       0.297389\n",
      "avg_reward_size  0.301135\n",
      "avg_bogo_size    0.305714\n",
      "total_rewarded   0.346212\n",
      "\n",
      "-----------------------------\n",
      "\n",
      "negative top5 weights:\n",
      "                              PCA_1\n",
      "income_binned_low_income -0.191134\n",
      "gender_M                 -0.161944\n",
      "age_binned_middle-aged   -0.089969\n",
      "age_binned_young         -0.025639\n",
      "informational_rr         -0.020153\n",
      "gender_O                  0.014263\n"
     ]
    }
   ],
   "source": [
    "# map weights for the first principal component\n",
    "map_pca(1, starbucks_ohe[cols])"
   ]
  },
  {
   "cell_type": "code",
   "execution_count": 127,
   "metadata": {},
   "outputs": [
    {
     "name": "stdout",
     "output_type": "stream",
     "text": [
      "explained variance by component #2 - 8.8%\n",
      "positive top5 weights:\n",
      "                       PCA_2\n",
      "offers_cvr         0.149754\n",
      "discount_rr        0.236714\n",
      "transactions_num   0.237900\n",
      "avg_discount_size  0.376536\n",
      "discount_cvr       0.415916\n",
      "total_discount     0.431036\n",
      "\n",
      "-----------------------------\n",
      "\n",
      "negative top5 weights:\n",
      "                     PCA_2\n",
      "total_bogo      -0.284911\n",
      "avg_bogo_size   -0.250403\n",
      "bogo_rr         -0.241721\n",
      "avg_reward_size -0.215542\n",
      "bogo_cvr        -0.203660\n",
      "total_rewarded  -0.094558\n"
     ]
    }
   ],
   "source": [
    "map_pca(2, starbucks_ohe[cols])"
   ]
  },
  {
   "cell_type": "code",
   "execution_count": 128,
   "metadata": {},
   "outputs": [
    {
     "name": "stdout",
     "output_type": "stream",
     "text": [
      "explained variance by component #3 - 8.2%\n",
      "positive top5 weights:\n",
      "                                      PCA_3\n",
      "total_amount                      0.041197\n",
      "income_binned_middle_high_income  0.066223\n",
      "age_binned_senior                 0.190180\n",
      "avg_order_size                    0.227855\n",
      "income_binned_high_income         0.304750\n",
      "gender_F                          0.403734\n",
      "\n",
      "-----------------------------\n",
      "\n",
      "negative top5 weights:\n",
      "                              PCA_3\n",
      "gender_M                 -0.401785\n",
      "transactions_num         -0.352423\n",
      "bogo_rr                  -0.261883\n",
      "income_binned_low_income -0.235202\n",
      "offers_rr                -0.209496\n",
      "membership_days          -0.182106\n"
     ]
    }
   ],
   "source": [
    "map_pca(3, starbucks_ohe[cols])"
   ]
  },
  {
   "cell_type": "code",
   "execution_count": 129,
   "metadata": {},
   "outputs": [
    {
     "name": "stdout",
     "output_type": "stream",
     "text": [
      "explained variance by component #4 - 6.9%\n",
      "positive top5 weights:\n",
      "                            PCA_4\n",
      "avg_order_size          0.135350\n",
      "age_binned_middle-aged  0.181830\n",
      "bogo_rr                 0.241602\n",
      "informational_rr        0.310904\n",
      "discount_rr             0.472005\n",
      "offers_rr               0.602807\n",
      "\n",
      "-----------------------------\n",
      "\n",
      "negative top5 weights:\n",
      "                              PCA_4\n",
      "offers_cvr               -0.261951\n",
      "age_binned_young         -0.233656\n",
      "income_binned_low_income -0.124600\n",
      "bogo_cvr                 -0.095327\n",
      "transactions_num         -0.084636\n",
      "membership_days          -0.080850\n"
     ]
    }
   ],
   "source": [
    "map_pca(4, starbucks_ohe[cols])"
   ]
  },
  {
   "cell_type": "code",
   "execution_count": 130,
   "metadata": {},
   "outputs": [
    {
     "name": "stdout",
     "output_type": "stream",
     "text": [
      "explained variance by component #5 - 6.1%\n",
      "positive top5 weights:\n",
      "                               PCA_5\n",
      "offers_cvr                 0.113814\n",
      "avg_order_size             0.187030\n",
      "income_binned_low_income   0.206602\n",
      "gender_M                   0.285384\n",
      "income_binned_high_income  0.310650\n",
      "age_binned_middle-aged     0.435224\n",
      "\n",
      "-----------------------------\n",
      "\n",
      "negative top5 weights:\n",
      "                                     PCA_5\n",
      "income_binned_middle_low_income -0.445321\n",
      "age_binned_young                -0.428983\n",
      "gender_F                        -0.270877\n",
      "offers_rr                       -0.128931\n",
      "informational_rr                -0.114788\n",
      "transactions_num                -0.112034\n"
     ]
    }
   ],
   "source": [
    "map_pca(5, starbucks_ohe[cols])"
   ]
  },
  {
   "cell_type": "code",
   "execution_count": 131,
   "metadata": {},
   "outputs": [
    {
     "name": "stdout",
     "output_type": "stream",
     "text": [
      "explained variance by component #6 - 5.2%\n",
      "positive top5 weights:\n",
      "                                      PCA_6\n",
      "total_amount                      0.118992\n",
      "income_binned_middle_high_income  0.158930\n",
      "income_binned_middle_low_income   0.190780\n",
      "avg_order_size                    0.214808\n",
      "age_binned_senior                 0.390681\n",
      "gender_M                          0.461183\n",
      "\n",
      "-----------------------------\n",
      "\n",
      "negative top5 weights:\n",
      "                              PCA_6\n",
      "gender_F                 -0.460842\n",
      "income_binned_low_income -0.356418\n",
      "age_binned_middle-aged   -0.350668\n",
      "transactions_num         -0.169575\n",
      "membership_days          -0.080744\n",
      "bogo_rr                  -0.072988\n"
     ]
    }
   ],
   "source": [
    "map_pca(6, starbucks_ohe[cols])"
   ]
  },
  {
   "cell_type": "markdown",
   "metadata": {},
   "source": [
    "# Clustering"
   ]
  },
  {
   "cell_type": "code",
   "execution_count": 150,
   "metadata": {},
   "outputs": [
    {
     "name": "stdout",
     "output_type": "stream",
     "text": [
      "calculating 2 clusters\n",
      "sum of squared distances: 270765.19984957064\n",
      "time for this cluster: 0.11001825332641602\n",
      "calculating 3 clusters\n",
      "sum of squared distances: 246980.35613822448\n",
      "time for this cluster: 0.1472020149230957\n",
      "calculating 4 clusters\n",
      "sum of squared distances: 230852.43545361876\n",
      "time for this cluster: 0.32489609718322754\n",
      "calculating 5 clusters\n",
      "sum of squared distances: 218382.63088193457\n",
      "time for this cluster: 0.35951995849609375\n",
      "calculating 6 clusters\n",
      "sum of squared distances: 207515.3926871892\n",
      "time for this cluster: 0.3608860969543457\n",
      "calculating 7 clusters\n",
      "sum of squared distances: 198280.9464763166\n",
      "time for this cluster: 0.5617849826812744\n",
      "calculating 8 clusters\n",
      "sum of squared distances: 190195.54254835282\n",
      "time for this cluster: 0.48044896125793457\n",
      "calculating 9 clusters\n",
      "sum of squared distances: 183565.94534694467\n",
      "time for this cluster: 0.8004319667816162\n",
      "calculating 10 clusters\n",
      "sum of squared distances: 178728.70699744023\n",
      "time for this cluster: 0.7384161949157715\n",
      "Clustering complete in 0m 4s\n"
     ]
    }
   ],
   "source": [
    "import time\n",
    "\n",
    "# Over a number of different cluster counts...\n",
    "range_n_clusters = range(2, 11)\n",
    "sum_of_squared_distances = []\n",
    "since = time.time()\n",
    "\n",
    "for n_clusters in range_n_clusters:\n",
    "    cluster_start = time.time()\n",
    "    print(\"calculating {} clusters\".format(n_clusters))\n",
    "    # run k-means clustering on the data and...\n",
    "    clusterer = KMeans(n_clusters=n_clusters, random_state=120).fit(starbucks_pca)\n",
    "\n",
    "    # ... compute the average within-cluster distances.\n",
    "    sum_of_squared_distances.append(clusterer.inertia_)\n",
    "    print(\"sum of squared distances:\", clusterer.inertia_)\n",
    "    print(\"time for this cluster:\", time.time() - cluster_start)\n",
    "\n",
    "time_elapsed = time.time() - since\n",
    "print('Clustering complete in {:.0f}m {:.0f}s'.format(time_elapsed // 60, time_elapsed % 60))"
   ]
  },
  {
   "cell_type": "code",
   "execution_count": 151,
   "metadata": {},
   "outputs": [
    {
     "data": {
      "image/png": "[encoded data removed]",
      "text/plain": [
       "<Figure size 432x288 with 1 Axes>"
      ]
     },
     "metadata": {
      "needs_background": "light"
     },
     "output_type": "display_data"
    }
   ],
   "source": [
    "plt.plot(range_n_clusters, sum_of_squared_distances)\n",
    "plt.xlabel('Number of Clusters')\n",
    "plt.xticks(range_n_clusters, range_n_clusters)\n",
    "plt.ylabel('Sum of Squared Distances')\n",
    "plt.title('Elbow Method for Optimal k')\n",
    "plt.grid();"
   ]
  },
  {
   "cell_type": "code",
   "execution_count": 152,
   "metadata": {},
   "outputs": [],
   "source": [
    "# Re-fit the k-means model with the selected number of clusters and obtain\n",
    "# cluster predictions for the general population demographics data.\n",
    "clusterer = KMeans(n_clusters=5, random_state = 123).fit(starbucks_pca)\n",
    "starbucks_preds = clusterer.predict(starbucks_pca)"
   ]
  },
  {
   "cell_type": "code",
   "execution_count": 191,
   "metadata": {},
   "outputs": [],
   "source": [
    "def interpret_cluster(cluster_num, df):\n",
    "    pca_inversed = pca.inverse_transform(clusterer.cluster_centers_[cluster_num, :])\n",
    "    scaler_inversed = np.around(scaler.inverse_transform(pca_inversed), decimals=2)\n",
    "    results_df = pd.DataFrame(scaler_inversed, df.columns)\n",
    "    return results_df"
   ]
  },
  {
   "cell_type": "code",
   "execution_count": 192,
   "metadata": {},
   "outputs": [],
   "source": [
    "def create_cluster_df(cluster_num, df):\n",
    "    cluster_df = pd.DataFrame(interpret_cluster(0, df))\n",
    "    cluster_df.drop(0, axis=1, inplace=True)\n",
    "\n",
    "    for i in range(cluster_num):\n",
    "        cluster_df['cluster_'+str(i)] = interpret_cluster(i, df)\n",
    "    return cluster_df"
   ]
  },
  {
   "cell_type": "code",
   "execution_count": 194,
   "metadata": {},
   "outputs": [
    {
     "data": {
      "text/html": [
       "<div>\n",
       "<style scoped>\n",
       "    .dataframe tbody tr th:only-of-type {\n",
       "        vertical-align: middle;\n",
       "    }\n",
       "\n",
       "    .dataframe tbody tr th {\n",
       "        vertical-align: top;\n",
       "    }\n",
       "\n",
       "    .dataframe thead th {\n",
       "        text-align: right;\n",
       "    }\n",
       "</style>\n",
       "<table border=\"1\" class=\"dataframe\">\n",
       "  <thead>\n",
       "    <tr style=\"text-align: right;\">\n",
       "      <th></th>\n",
       "      <th>cluster_0</th>\n",
       "      <th>cluster_1</th>\n",
       "      <th>cluster_2</th>\n",
       "      <th>cluster_3</th>\n",
       "      <th>cluster_4</th>\n",
       "    </tr>\n",
       "  </thead>\n",
       "  <tbody>\n",
       "    <tr>\n",
       "      <th>membership_days</th>\n",
       "      <td>559.27</td>\n",
       "      <td>622.33</td>\n",
       "      <td>617.89</td>\n",
       "      <td>504.54</td>\n",
       "      <td>357.63</td>\n",
       "    </tr>\n",
       "    <tr>\n",
       "      <th>total_amount</th>\n",
       "      <td>123.37</td>\n",
       "      <td>147.99</td>\n",
       "      <td>95.07</td>\n",
       "      <td>256.62</td>\n",
       "      <td>4.17</td>\n",
       "    </tr>\n",
       "    <tr>\n",
       "      <th>total_rewarded</th>\n",
       "      <td>15.12</td>\n",
       "      <td>18.70</td>\n",
       "      <td>6.13</td>\n",
       "      <td>17.81</td>\n",
       "      <td>-0.08</td>\n",
       "    </tr>\n",
       "    <tr>\n",
       "      <th>transactions_num</th>\n",
       "      <td>7.38</td>\n",
       "      <td>11.45</td>\n",
       "      <td>9.84</td>\n",
       "      <td>7.48</td>\n",
       "      <td>5.31</td>\n",
       "    </tr>\n",
       "    <tr>\n",
       "      <th>total_bogo</th>\n",
       "      <td>15.21</td>\n",
       "      <td>13.26</td>\n",
       "      <td>1.08</td>\n",
       "      <td>12.18</td>\n",
       "      <td>-0.08</td>\n",
       "    </tr>\n",
       "    <tr>\n",
       "      <th>total_discount</th>\n",
       "      <td>-0.09</td>\n",
       "      <td>5.44</td>\n",
       "      <td>5.05</td>\n",
       "      <td>5.63</td>\n",
       "      <td>-0.01</td>\n",
       "    </tr>\n",
       "    <tr>\n",
       "      <th>avg_order_size</th>\n",
       "      <td>16.58</td>\n",
       "      <td>13.67</td>\n",
       "      <td>10.16</td>\n",
       "      <td>35.87</td>\n",
       "      <td>3.93</td>\n",
       "    </tr>\n",
       "    <tr>\n",
       "      <th>avg_reward_size</th>\n",
       "      <td>5.96</td>\n",
       "      <td>5.73</td>\n",
       "      <td>2.09</td>\n",
       "      <td>5.48</td>\n",
       "      <td>1.24</td>\n",
       "    </tr>\n",
       "    <tr>\n",
       "      <th>avg_bogo_size</th>\n",
       "      <td>7.49</td>\n",
       "      <td>7.18</td>\n",
       "      <td>1.45</td>\n",
       "      <td>6.70</td>\n",
       "      <td>0.52</td>\n",
       "    </tr>\n",
       "    <tr>\n",
       "      <th>avg_discount_size</th>\n",
       "      <td>0.47</td>\n",
       "      <td>2.91</td>\n",
       "      <td>2.50</td>\n",
       "      <td>2.91</td>\n",
       "      <td>0.30</td>\n",
       "    </tr>\n",
       "    <tr>\n",
       "      <th>offers_rr</th>\n",
       "      <td>71.02</td>\n",
       "      <td>86.47</td>\n",
       "      <td>73.01</td>\n",
       "      <td>77.86</td>\n",
       "      <td>72.18</td>\n",
       "    </tr>\n",
       "    <tr>\n",
       "      <th>offers_cvr</th>\n",
       "      <td>64.17</td>\n",
       "      <td>100.20</td>\n",
       "      <td>64.65</td>\n",
       "      <td>110.04</td>\n",
       "      <td>7.37</td>\n",
       "    </tr>\n",
       "    <tr>\n",
       "      <th>bogo_rr</th>\n",
       "      <td>91.14</td>\n",
       "      <td>90.64</td>\n",
       "      <td>55.38</td>\n",
       "      <td>72.06</td>\n",
       "      <td>68.85</td>\n",
       "    </tr>\n",
       "    <tr>\n",
       "      <th>bogo_cvr</th>\n",
       "      <td>98.35</td>\n",
       "      <td>94.15</td>\n",
       "      <td>19.78</td>\n",
       "      <td>90.33</td>\n",
       "      <td>3.32</td>\n",
       "    </tr>\n",
       "    <tr>\n",
       "      <th>discount_rr</th>\n",
       "      <td>20.44</td>\n",
       "      <td>80.71</td>\n",
       "      <td>77.18</td>\n",
       "      <td>74.43</td>\n",
       "      <td>50.21</td>\n",
       "    </tr>\n",
       "    <tr>\n",
       "      <th>discount_cvr</th>\n",
       "      <td>2.50</td>\n",
       "      <td>108.21</td>\n",
       "      <td>99.43</td>\n",
       "      <td>106.79</td>\n",
       "      <td>4.75</td>\n",
       "    </tr>\n",
       "    <tr>\n",
       "      <th>informational_rr</th>\n",
       "      <td>48.49</td>\n",
       "      <td>39.91</td>\n",
       "      <td>43.44</td>\n",
       "      <td>39.70</td>\n",
       "      <td>47.71</td>\n",
       "    </tr>\n",
       "    <tr>\n",
       "      <th>gender_F</th>\n",
       "      <td>0.48</td>\n",
       "      <td>0.48</td>\n",
       "      <td>0.32</td>\n",
       "      <td>0.62</td>\n",
       "      <td>0.14</td>\n",
       "    </tr>\n",
       "    <tr>\n",
       "      <th>gender_M</th>\n",
       "      <td>0.52</td>\n",
       "      <td>0.50</td>\n",
       "      <td>0.67</td>\n",
       "      <td>0.36</td>\n",
       "      <td>0.85</td>\n",
       "    </tr>\n",
       "    <tr>\n",
       "      <th>gender_O</th>\n",
       "      <td>0.01</td>\n",
       "      <td>0.02</td>\n",
       "      <td>0.01</td>\n",
       "      <td>0.02</td>\n",
       "      <td>0.01</td>\n",
       "    </tr>\n",
       "    <tr>\n",
       "      <th>age_binned_young</th>\n",
       "      <td>0.20</td>\n",
       "      <td>0.29</td>\n",
       "      <td>0.28</td>\n",
       "      <td>0.02</td>\n",
       "      <td>0.24</td>\n",
       "    </tr>\n",
       "    <tr>\n",
       "      <th>age_binned_middle-aged</th>\n",
       "      <td>0.31</td>\n",
       "      <td>0.27</td>\n",
       "      <td>0.33</td>\n",
       "      <td>0.28</td>\n",
       "      <td>0.51</td>\n",
       "    </tr>\n",
       "    <tr>\n",
       "      <th>age_binned_senior</th>\n",
       "      <td>0.26</td>\n",
       "      <td>0.22</td>\n",
       "      <td>0.21</td>\n",
       "      <td>0.38</td>\n",
       "      <td>0.12</td>\n",
       "    </tr>\n",
       "    <tr>\n",
       "      <th>income_binned_low_income</th>\n",
       "      <td>0.23</td>\n",
       "      <td>0.16</td>\n",
       "      <td>0.41</td>\n",
       "      <td>0.11</td>\n",
       "      <td>0.65</td>\n",
       "    </tr>\n",
       "    <tr>\n",
       "      <th>income_binned_middle_low_income</th>\n",
       "      <td>0.27</td>\n",
       "      <td>0.34</td>\n",
       "      <td>0.28</td>\n",
       "      <td>0.05</td>\n",
       "      <td>0.17</td>\n",
       "    </tr>\n",
       "    <tr>\n",
       "      <th>income_binned_middle_high_income</th>\n",
       "      <td>0.27</td>\n",
       "      <td>0.43</td>\n",
       "      <td>0.21</td>\n",
       "      <td>0.01</td>\n",
       "      <td>0.11</td>\n",
       "    </tr>\n",
       "    <tr>\n",
       "      <th>income_binned_high_income</th>\n",
       "      <td>0.24</td>\n",
       "      <td>0.07</td>\n",
       "      <td>0.10</td>\n",
       "      <td>0.83</td>\n",
       "      <td>0.07</td>\n",
       "    </tr>\n",
       "  </tbody>\n",
       "</table>\n",
       "</div>"
      ],
      "text/plain": [
       "                                  cluster_0  cluster_1  cluster_2  cluster_3  \\\n",
       "membership_days                      559.27     622.33     617.89     504.54   \n",
       "total_amount                         123.37     147.99      95.07     256.62   \n",
       "total_rewarded                        15.12      18.70       6.13      17.81   \n",
       "transactions_num                       7.38      11.45       9.84       7.48   \n",
       "total_bogo                            15.21      13.26       1.08      12.18   \n",
       "total_discount                        -0.09       5.44       5.05       5.63   \n",
       "avg_order_size                        16.58      13.67      10.16      35.87   \n",
       "avg_reward_size                        5.96       5.73       2.09       5.48   \n",
       "avg_bogo_size                          7.49       7.18       1.45       6.70   \n",
       "avg_discount_size                      0.47       2.91       2.50       2.91   \n",
       "offers_rr                             71.02      86.47      73.01      77.86   \n",
       "offers_cvr                            64.17     100.20      64.65     110.04   \n",
       "bogo_rr                               91.14      90.64      55.38      72.06   \n",
       "bogo_cvr                              98.35      94.15      19.78      90.33   \n",
       "discount_rr                           20.44      80.71      77.18      74.43   \n",
       "discount_cvr                           2.50     108.21      99.43     106.79   \n",
       "informational_rr                      48.49      39.91      43.44      39.70   \n",
       "gender_F                               0.48       0.48       0.32       0.62   \n",
       "gender_M                               0.52       0.50       0.67       0.36   \n",
       "gender_O                               0.01       0.02       0.01       0.02   \n",
       "age_binned_young                       0.20       0.29       0.28       0.02   \n",
       "age_binned_middle-aged                 0.31       0.27       0.33       0.28   \n",
       "age_binned_senior                      0.26       0.22       0.21       0.38   \n",
       "income_binned_low_income               0.23       0.16       0.41       0.11   \n",
       "income_binned_middle_low_income        0.27       0.34       0.28       0.05   \n",
       "income_binned_middle_high_income       0.27       0.43       0.21       0.01   \n",
       "income_binned_high_income              0.24       0.07       0.10       0.83   \n",
       "\n",
       "                                  cluster_4  \n",
       "membership_days                      357.63  \n",
       "total_amount                           4.17  \n",
       "total_rewarded                        -0.08  \n",
       "transactions_num                       5.31  \n",
       "total_bogo                            -0.08  \n",
       "total_discount                        -0.01  \n",
       "avg_order_size                         3.93  \n",
       "avg_reward_size                        1.24  \n",
       "avg_bogo_size                          0.52  \n",
       "avg_discount_size                      0.30  \n",
       "offers_rr                             72.18  \n",
       "offers_cvr                             7.37  \n",
       "bogo_rr                               68.85  \n",
       "bogo_cvr                               3.32  \n",
       "discount_rr                           50.21  \n",
       "discount_cvr                           4.75  \n",
       "informational_rr                      47.71  \n",
       "gender_F                               0.14  \n",
       "gender_M                               0.85  \n",
       "gender_O                               0.01  \n",
       "age_binned_young                       0.24  \n",
       "age_binned_middle-aged                 0.51  \n",
       "age_binned_senior                      0.12  \n",
       "income_binned_low_income               0.65  \n",
       "income_binned_middle_low_income        0.17  \n",
       "income_binned_middle_high_income       0.11  \n",
       "income_binned_high_income              0.07  "
      ]
     },
     "execution_count": 194,
     "metadata": {},
     "output_type": "execute_result"
    }
   ],
   "source": [
    "cluster_df = create_cluster_df(5, starbucks_ohe[cols])\n",
    "cluster_df"
   ]
  },
  {
   "cell_type": "code",
   "execution_count": null,
   "metadata": {},
   "outputs": [],
   "source": []
  },
  {
   "cell_type": "markdown",
   "metadata": {},
   "source": [
    "Note: <br>\n",
    "**Cluster #1** - young/middle-aged, gender irrespective, middle class (middle-low/middle-high) with about 2 year  membership (relative to the most recent member in experiment) and average spending amount (~$13) react good to bogo and discount, less so to informational.\n",
    "\n",
    "**Cluster #2** - young/middle-aged men with low income - relatively long member and normally spend less than average (~$10 avg order size) - react well to discount, less so to bogo and to informational\n",
    "\n",
    "**Cluster #3** - \n",
    "\n",
    "**Cluster #4** - senior women with high income and relatively long membership and spend a lot (~$36 avg order size) -\n",
    "\n",
    "**Cluster #5** - middle-aged med with low income - recent members (no longer than 1 year) - not interested in promotions (neither bogo, nor discount) + view every second infromational offer - "
   ]
  },
  {
   "cell_type": "code",
   "execution_count": 196,
   "metadata": {},
   "outputs": [
    {
     "data": {
      "text/plain": [
       "0"
      ]
     },
     "execution_count": 196,
     "metadata": {},
     "output_type": "execute_result"
    }
   ],
   "source": [
    "(starbucks_ohe.total_bogo <0).sum()"
   ]
  },
  {
   "cell_type": "code",
   "execution_count": null,
   "metadata": {},
   "outputs": [],
   "source": []
  }
 ],
 "metadata": {
  "kernelspec": {
   "display_name": "Python 3",
   "language": "python",
   "name": "python3"
  },
  "language_info": {
   "codemirror_mode": {
    "name": "ipython",
    "version": 3
   },
   "file_extension": ".py",
   "mimetype": "text/x-python",
   "name": "python",
   "nbconvert_exporter": "python",
   "pygments_lexer": "ipython3",
   "version": "3.7.3"
  }
 },
 "nbformat": 4,
 "nbformat_minor": 2
}
